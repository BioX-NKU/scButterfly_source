{
 "cells": [
  {
   "cell_type": "code",
   "execution_count": 1,
   "id": "b5aa5dd7",
   "metadata": {
    "ExecuteTime": {
     "end_time": "2022-12-29T00:05:50.942205Z",
     "start_time": "2022-12-29T00:05:48.797991Z"
    }
   },
   "outputs": [],
   "source": [
    "import getopt\n",
    "import sys\n",
    "import gc\n",
    "import os\n",
    "sys.path.append('/home/atac2rna/program/atac2rna/Model/butterfly/Butterfly/')\n",
    "from data_processing import RNA_data_preprocessing, ATAC_data_preprocessing\n",
    "import scanpy as sc\n",
    "import anndata as ad\n",
    "import random\n",
    "import time\n",
    "import numpy as np\n",
    "import pandas as pd\n",
    "import torch\n",
    "import torch.nn as nn\n",
    "import torch.nn.functional as F\n",
    "from torch.utils.data import Dataset, DataLoader\n",
    "from tqdm import tqdm\n",
    "from model_component import *\n",
    "from model_utlis import *\n",
    "from calculate_cluster import *\n",
    "from draw_cluster import *\n",
    "from data_processing import *\n",
    "from logger import *"
   ]
  },
  {
   "cell_type": "code",
   "execution_count": 2,
   "id": "3e3db8a2",
   "metadata": {
    "ExecuteTime": {
     "end_time": "2022-12-29T00:05:51.816836Z",
     "start_time": "2022-12-29T00:05:50.944195Z"
    }
   },
   "outputs": [],
   "source": [
    "import getopt\n",
    "import sys\n",
    "import gc\n",
    "import os\n",
    "sys.path.append('/home/atac2rna/program/atac2rna/Model/butterfly/Butterfly/')\n",
    "from data_processing import RNA_data_preprocessing, ATAC_data_preprocessing\n",
    "import scanpy as sc\n",
    "import anndata as ad\n",
    "\n",
    "data = 'MB'\n",
    "RNA_data = sc.read_h5ad('/home/atac2rna/data/atac2rna/data/scCAS_220601/SHAREseq_mm10_brain/SHAREseq_mm10_brain_RNA.h5ad')\n",
    "ATAC_data = sc.read_h5ad('/home/atac2rna/data/atac2rna/data/scCAS_220601/SHAREseq_mm10_brain/SHAREseq_mm10_brain_ATAC.h5ad')"
   ]
  },
  {
   "cell_type": "markdown",
   "id": "9d1e5a9b",
   "metadata": {},
   "source": [
    "# basic multiVI"
   ]
  },
  {
   "cell_type": "code",
   "execution_count": 3,
   "id": "54d8b9af",
   "metadata": {
    "ExecuteTime": {
     "end_time": "2022-12-29T00:05:52.700453Z",
     "start_time": "2022-12-29T00:05:51.818621Z"
    }
   },
   "outputs": [
    {
     "name": "stderr",
     "output_type": "stream",
     "text": [
      " UserWarning:/home/atac2rna/anaconda3/envs/atac2rna/lib/python3.9/site-packages/scvi_colab/_core.py:41: \n",
      "                Not currently in Google Colab environment.\n",
      "\n",
      "                Please run with `run_outside_colab=True` to override.\n",
      "\n",
      "                Returning with no further action.\n",
      "                \n",
      "Global seed set to 0\n",
      " LightningDeprecationWarning:/home/atac2rna/anaconda3/envs/atac2rna/lib/python3.9/site-packages/pytorch_lightning/utilities/warnings.py:53: pytorch_lightning.utilities.warnings.rank_zero_deprecation has been deprecated in v1.6 and will be removed in v1.8. Use the equivalent function from the pytorch_lightning.utilities.rank_zero module instead.\n",
      " LightningDeprecationWarning:/home/atac2rna/anaconda3/envs/atac2rna/lib/python3.9/site-packages/pytorch_lightning/utilities/warnings.py:58: The `pytorch_lightning.loggers.base.rank_zero_experiment` is deprecated in v1.7 and will be removed in v1.9. Please use `pytorch_lightning.loggers.logger.rank_zero_experiment` instead.\n"
     ]
    }
   ],
   "source": [
    "from scvi_colab import install\n",
    "import pandas as pd\n",
    "install()\n",
    "import scvi\n",
    "import sys\n",
    "from calculate_cluster import *\n",
    "import scipy.sparse as sp\n",
    "from split_datasets import *"
   ]
  },
  {
   "cell_type": "code",
   "execution_count": 4,
   "id": "afb55623",
   "metadata": {
    "ExecuteTime": {
     "end_time": "2022-11-20T07:43:54.896991Z",
     "start_time": "2022-11-20T07:43:52.430628Z"
    }
   },
   "outputs": [
    {
     "name": "stderr",
     "output_type": "stream",
     "text": [
      "WARNING:jax._src.lib.xla_bridge:No GPU/TPU found, falling back to CPU. (Set TF_CPP_MIN_LOG_LEVEL=0 and rerun for more info.)\n",
      " UserWarning:/home/atac2rna/anaconda3/envs/atac2rna/lib/python3.9/site-packages/torch/nn/init.py:405: Initializing zero-element tensors is a no-op\n"
     ]
    }
   ],
   "source": [
    "adata = ad.AnnData(sp.hstack((RNA_data.X, ATAC_data.X)))\n",
    "adata.X = adata.X.tocsr()\n",
    "adata.obs = RNA_data.obs\n",
    "\n",
    "m = len(RNA_data.var.index)\n",
    "n = len(ATAC_data.var.index)\n",
    "adata.var.index = pd.Series([RNA_data.var.index[i] if i<m else ATAC_data.var.index[i-m] for i in range(m+n)], dtype='object')\n",
    "adata.var['modality'] = pd.Series(['Gene Expression' if i<m else 'Peaks' for i in range(m+n)], dtype='object').values\n",
    "\n",
    "adata.var_names_make_unique()\n",
    "\n",
    "adata_mvi = scvi.data.organize_multiome_anndatas(adata)\n",
    "\n",
    "adata_mvi = adata_mvi[:, adata_mvi.var[\"modality\"].argsort()].copy()\n",
    "\n",
    "sc.pp.filter_genes(adata_mvi, min_cells=int(adata_mvi.shape[0] * 0.01))\n",
    "\n",
    "scvi.model.MULTIVI.setup_anndata(adata_mvi, batch_key='modality')\n",
    "\n",
    "mvi = scvi.model.MULTIVI(\n",
    "    adata_mvi,\n",
    "    n_genes=(adata_mvi.var['modality']=='Gene Expression').sum(),\n",
    "    n_regions=(adata_mvi.var['modality']=='Peaks').sum(),\n",
    ")"
   ]
  },
  {
   "cell_type": "code",
   "execution_count": 5,
   "id": "2407d416",
   "metadata": {
    "ExecuteTime": {
     "end_time": "2022-11-20T07:43:54.930236Z",
     "start_time": "2022-11-20T07:43:54.899714Z"
    }
   },
   "outputs": [
    {
     "data": {
      "text/html": [
       "<pre style=\"white-space:pre;overflow-x:auto;line-height:normal;font-family:Menlo,'DejaVu Sans Mono',consolas,'Courier New',monospace\">Anndata setup with scvi-tools version <span style=\"color: #008080; text-decoration-color: #008080; font-weight: bold\">0.19</span>.<span style=\"color: #008080; text-decoration-color: #008080; font-weight: bold\">0</span>.\n",
       "</pre>\n"
      ],
      "text/plain": [
       "Anndata setup with scvi-tools version \u001b[1;36m0.19\u001b[0m.\u001b[1;36m0\u001b[0m.\n"
      ]
     },
     "metadata": {},
     "output_type": "display_data"
    },
    {
     "data": {
      "text/html": [
       "<pre style=\"white-space:pre;overflow-x:auto;line-height:normal;font-family:Menlo,'DejaVu Sans Mono',consolas,'Courier New',monospace\">\n",
       "</pre>\n"
      ],
      "text/plain": [
       "\n"
      ]
     },
     "metadata": {},
     "output_type": "display_data"
    },
    {
     "data": {
      "text/html": [
       "<pre style=\"white-space:pre;overflow-x:auto;line-height:normal;font-family:Menlo,'DejaVu Sans Mono',consolas,'Courier New',monospace\">Setup via `MULTIVI.setup_anndata` with arguments:\n",
       "</pre>\n"
      ],
      "text/plain": [
       "Setup via `MULTIVI.setup_anndata` with arguments:\n"
      ]
     },
     "metadata": {},
     "output_type": "display_data"
    },
    {
     "data": {
      "text/html": [
       "<pre style=\"white-space:pre;overflow-x:auto;line-height:normal;font-family:Menlo,'DejaVu Sans Mono',consolas,'Courier New',monospace\"><span style=\"font-weight: bold\">{</span>\n",
       "<span style=\"color: #7fbf7f; text-decoration-color: #7fbf7f\">│   </span><span style=\"color: #008000; text-decoration-color: #008000\">'layer'</span>: <span style=\"color: #800080; text-decoration-color: #800080; font-style: italic\">None</span>,\n",
       "<span style=\"color: #7fbf7f; text-decoration-color: #7fbf7f\">│   </span><span style=\"color: #008000; text-decoration-color: #008000\">'batch_key'</span>: <span style=\"color: #008000; text-decoration-color: #008000\">'modality'</span>,\n",
       "<span style=\"color: #7fbf7f; text-decoration-color: #7fbf7f\">│   </span><span style=\"color: #008000; text-decoration-color: #008000\">'size_factor_key'</span>: <span style=\"color: #800080; text-decoration-color: #800080; font-style: italic\">None</span>,\n",
       "<span style=\"color: #7fbf7f; text-decoration-color: #7fbf7f\">│   </span><span style=\"color: #008000; text-decoration-color: #008000\">'categorical_covariate_keys'</span>: <span style=\"color: #800080; text-decoration-color: #800080; font-style: italic\">None</span>,\n",
       "<span style=\"color: #7fbf7f; text-decoration-color: #7fbf7f\">│   </span><span style=\"color: #008000; text-decoration-color: #008000\">'continuous_covariate_keys'</span>: <span style=\"color: #800080; text-decoration-color: #800080; font-style: italic\">None</span>,\n",
       "<span style=\"color: #7fbf7f; text-decoration-color: #7fbf7f\">│   </span><span style=\"color: #008000; text-decoration-color: #008000\">'protein_expression_obsm_key'</span>: <span style=\"color: #800080; text-decoration-color: #800080; font-style: italic\">None</span>,\n",
       "<span style=\"color: #7fbf7f; text-decoration-color: #7fbf7f\">│   </span><span style=\"color: #008000; text-decoration-color: #008000\">'protein_names_uns_key'</span>: <span style=\"color: #800080; text-decoration-color: #800080; font-style: italic\">None</span>\n",
       "<span style=\"font-weight: bold\">}</span>\n",
       "</pre>\n"
      ],
      "text/plain": [
       "\u001b[1m{\u001b[0m\n",
       "\u001b[2;32m│   \u001b[0m\u001b[32m'layer'\u001b[0m: \u001b[3;35mNone\u001b[0m,\n",
       "\u001b[2;32m│   \u001b[0m\u001b[32m'batch_key'\u001b[0m: \u001b[32m'modality'\u001b[0m,\n",
       "\u001b[2;32m│   \u001b[0m\u001b[32m'size_factor_key'\u001b[0m: \u001b[3;35mNone\u001b[0m,\n",
       "\u001b[2;32m│   \u001b[0m\u001b[32m'categorical_covariate_keys'\u001b[0m: \u001b[3;35mNone\u001b[0m,\n",
       "\u001b[2;32m│   \u001b[0m\u001b[32m'continuous_covariate_keys'\u001b[0m: \u001b[3;35mNone\u001b[0m,\n",
       "\u001b[2;32m│   \u001b[0m\u001b[32m'protein_expression_obsm_key'\u001b[0m: \u001b[3;35mNone\u001b[0m,\n",
       "\u001b[2;32m│   \u001b[0m\u001b[32m'protein_names_uns_key'\u001b[0m: \u001b[3;35mNone\u001b[0m\n",
       "\u001b[1m}\u001b[0m\n"
      ]
     },
     "metadata": {},
     "output_type": "display_data"
    },
    {
     "data": {
      "text/html": [
       "<pre style=\"white-space:pre;overflow-x:auto;line-height:normal;font-family:Menlo,'DejaVu Sans Mono',consolas,'Courier New',monospace\">\n",
       "</pre>\n"
      ],
      "text/plain": [
       "\n"
      ]
     },
     "metadata": {},
     "output_type": "display_data"
    },
    {
     "data": {
      "text/html": [
       "<pre style=\"white-space:pre;overflow-x:auto;line-height:normal;font-family:Menlo,'DejaVu Sans Mono',consolas,'Courier New',monospace\"><span style=\"font-style: italic\">         Summary Statistics         </span>\n",
       "┏━━━━━━━━━━━━━━━━━━━━━━━━━━┳━━━━━━━┓\n",
       "┃<span style=\"font-weight: bold\">     Summary Stat Key     </span>┃<span style=\"font-weight: bold\"> Value </span>┃\n",
       "┡━━━━━━━━━━━━━━━━━━━━━━━━━━╇━━━━━━━┩\n",
       "│<span style=\"color: #0087ff; text-decoration-color: #0087ff\">         n_batch          </span>│<span style=\"color: #af00d7; text-decoration-color: #af00d7\">   1   </span>│\n",
       "│<span style=\"color: #0087ff; text-decoration-color: #0087ff\">         n_cells          </span>│<span style=\"color: #af00d7; text-decoration-color: #af00d7\"> 3293  </span>│\n",
       "│<span style=\"color: #0087ff; text-decoration-color: #0087ff\"> n_extra_categorical_covs </span>│<span style=\"color: #af00d7; text-decoration-color: #af00d7\">   0   </span>│\n",
       "│<span style=\"color: #0087ff; text-decoration-color: #0087ff\"> n_extra_continuous_covs  </span>│<span style=\"color: #af00d7; text-decoration-color: #af00d7\">   0   </span>│\n",
       "│<span style=\"color: #0087ff; text-decoration-color: #0087ff\">         n_labels         </span>│<span style=\"color: #af00d7; text-decoration-color: #af00d7\">   1   </span>│\n",
       "│<span style=\"color: #0087ff; text-decoration-color: #0087ff\">          n_vars          </span>│<span style=\"color: #af00d7; text-decoration-color: #af00d7\"> 27700 </span>│\n",
       "└──────────────────────────┴───────┘\n",
       "</pre>\n"
      ],
      "text/plain": [
       "\u001b[3m         Summary Statistics         \u001b[0m\n",
       "┏━━━━━━━━━━━━━━━━━━━━━━━━━━┳━━━━━━━┓\n",
       "┃\u001b[1m \u001b[0m\u001b[1m    Summary Stat Key    \u001b[0m\u001b[1m \u001b[0m┃\u001b[1m \u001b[0m\u001b[1mValue\u001b[0m\u001b[1m \u001b[0m┃\n",
       "┡━━━━━━━━━━━━━━━━━━━━━━━━━━╇━━━━━━━┩\n",
       "│\u001b[38;5;33m \u001b[0m\u001b[38;5;33m        n_batch         \u001b[0m\u001b[38;5;33m \u001b[0m│\u001b[38;5;128m \u001b[0m\u001b[38;5;128m  1  \u001b[0m\u001b[38;5;128m \u001b[0m│\n",
       "│\u001b[38;5;33m \u001b[0m\u001b[38;5;33m        n_cells         \u001b[0m\u001b[38;5;33m \u001b[0m│\u001b[38;5;128m \u001b[0m\u001b[38;5;128m3293 \u001b[0m\u001b[38;5;128m \u001b[0m│\n",
       "│\u001b[38;5;33m \u001b[0m\u001b[38;5;33mn_extra_categorical_covs\u001b[0m\u001b[38;5;33m \u001b[0m│\u001b[38;5;128m \u001b[0m\u001b[38;5;128m  0  \u001b[0m\u001b[38;5;128m \u001b[0m│\n",
       "│\u001b[38;5;33m \u001b[0m\u001b[38;5;33mn_extra_continuous_covs \u001b[0m\u001b[38;5;33m \u001b[0m│\u001b[38;5;128m \u001b[0m\u001b[38;5;128m  0  \u001b[0m\u001b[38;5;128m \u001b[0m│\n",
       "│\u001b[38;5;33m \u001b[0m\u001b[38;5;33m        n_labels        \u001b[0m\u001b[38;5;33m \u001b[0m│\u001b[38;5;128m \u001b[0m\u001b[38;5;128m  1  \u001b[0m\u001b[38;5;128m \u001b[0m│\n",
       "│\u001b[38;5;33m \u001b[0m\u001b[38;5;33m         n_vars         \u001b[0m\u001b[38;5;33m \u001b[0m│\u001b[38;5;128m \u001b[0m\u001b[38;5;128m27700\u001b[0m\u001b[38;5;128m \u001b[0m│\n",
       "└──────────────────────────┴───────┘\n"
      ]
     },
     "metadata": {},
     "output_type": "display_data"
    },
    {
     "data": {
      "text/html": [
       "<pre style=\"white-space:pre;overflow-x:auto;line-height:normal;font-family:Menlo,'DejaVu Sans Mono',consolas,'Courier New',monospace\"><span style=\"font-style: italic\">               Data Registry                </span>\n",
       "┏━━━━━━━━━━━━━━┳━━━━━━━━━━━━━━━━━━━━━━━━━━━┓\n",
       "┃<span style=\"font-weight: bold\"> Registry Key </span>┃<span style=\"font-weight: bold\">    scvi-tools Location    </span>┃\n",
       "┡━━━━━━━━━━━━━━╇━━━━━━━━━━━━━━━━━━━━━━━━━━━┩\n",
       "│<span style=\"color: #0087ff; text-decoration-color: #0087ff\">      X       </span>│<span style=\"color: #af00d7; text-decoration-color: #af00d7\">          adata.X          </span>│\n",
       "│<span style=\"color: #0087ff; text-decoration-color: #0087ff\">    batch     </span>│<span style=\"color: #af00d7; text-decoration-color: #af00d7\"> adata.obs['_scvi_batch']  </span>│\n",
       "│<span style=\"color: #0087ff; text-decoration-color: #0087ff\">    ind_x     </span>│<span style=\"color: #af00d7; text-decoration-color: #af00d7\">   adata.obs['_indices']   </span>│\n",
       "│<span style=\"color: #0087ff; text-decoration-color: #0087ff\">    labels    </span>│<span style=\"color: #af00d7; text-decoration-color: #af00d7\"> adata.obs['_scvi_labels'] </span>│\n",
       "└──────────────┴───────────────────────────┘\n",
       "</pre>\n"
      ],
      "text/plain": [
       "\u001b[3m               Data Registry                \u001b[0m\n",
       "┏━━━━━━━━━━━━━━┳━━━━━━━━━━━━━━━━━━━━━━━━━━━┓\n",
       "┃\u001b[1m \u001b[0m\u001b[1mRegistry Key\u001b[0m\u001b[1m \u001b[0m┃\u001b[1m \u001b[0m\u001b[1m   scvi-tools Location   \u001b[0m\u001b[1m \u001b[0m┃\n",
       "┡━━━━━━━━━━━━━━╇━━━━━━━━━━━━━━━━━━━━━━━━━━━┩\n",
       "│\u001b[38;5;33m \u001b[0m\u001b[38;5;33m     X      \u001b[0m\u001b[38;5;33m \u001b[0m│\u001b[38;5;128m \u001b[0m\u001b[38;5;128m         adata.X         \u001b[0m\u001b[38;5;128m \u001b[0m│\n",
       "│\u001b[38;5;33m \u001b[0m\u001b[38;5;33m   batch    \u001b[0m\u001b[38;5;33m \u001b[0m│\u001b[38;5;128m \u001b[0m\u001b[38;5;128madata.obs['_scvi_batch'] \u001b[0m\u001b[38;5;128m \u001b[0m│\n",
       "│\u001b[38;5;33m \u001b[0m\u001b[38;5;33m   ind_x    \u001b[0m\u001b[38;5;33m \u001b[0m│\u001b[38;5;128m \u001b[0m\u001b[38;5;128m  adata.obs['_indices']  \u001b[0m\u001b[38;5;128m \u001b[0m│\n",
       "│\u001b[38;5;33m \u001b[0m\u001b[38;5;33m   labels   \u001b[0m\u001b[38;5;33m \u001b[0m│\u001b[38;5;128m \u001b[0m\u001b[38;5;128madata.obs['_scvi_labels']\u001b[0m\u001b[38;5;128m \u001b[0m│\n",
       "└──────────────┴───────────────────────────┘\n"
      ]
     },
     "metadata": {},
     "output_type": "display_data"
    },
    {
     "data": {
      "text/html": [
       "<pre style=\"white-space:pre;overflow-x:auto;line-height:normal;font-family:Menlo,'DejaVu Sans Mono',consolas,'Courier New',monospace\"><span style=\"font-style: italic\">                    batch State Registry                    </span>\n",
       "┏━━━━━━━━━━━━━━━━━━━━━━━┳━━━━━━━━━━━━┳━━━━━━━━━━━━━━━━━━━━━┓\n",
       "┃<span style=\"font-weight: bold\">    Source Location    </span>┃<span style=\"font-weight: bold\"> Categories </span>┃<span style=\"font-weight: bold\"> scvi-tools Encoding </span>┃\n",
       "┡━━━━━━━━━━━━━━━━━━━━━━━╇━━━━━━━━━━━━╇━━━━━━━━━━━━━━━━━━━━━┩\n",
       "│<span style=\"color: #0087ff; text-decoration-color: #0087ff\"> adata.obs['modality'] </span>│<span style=\"color: #008000; text-decoration-color: #008000\">   paired   </span>│<span style=\"color: #af00d7; text-decoration-color: #af00d7\">          0          </span>│\n",
       "└───────────────────────┴────────────┴─────────────────────┘\n",
       "</pre>\n"
      ],
      "text/plain": [
       "\u001b[3m                    batch State Registry                    \u001b[0m\n",
       "┏━━━━━━━━━━━━━━━━━━━━━━━┳━━━━━━━━━━━━┳━━━━━━━━━━━━━━━━━━━━━┓\n",
       "┃\u001b[1m \u001b[0m\u001b[1m   Source Location   \u001b[0m\u001b[1m \u001b[0m┃\u001b[1m \u001b[0m\u001b[1mCategories\u001b[0m\u001b[1m \u001b[0m┃\u001b[1m \u001b[0m\u001b[1mscvi-tools Encoding\u001b[0m\u001b[1m \u001b[0m┃\n",
       "┡━━━━━━━━━━━━━━━━━━━━━━━╇━━━━━━━━━━━━╇━━━━━━━━━━━━━━━━━━━━━┩\n",
       "│\u001b[38;5;33m \u001b[0m\u001b[38;5;33madata.obs['modality']\u001b[0m\u001b[38;5;33m \u001b[0m│\u001b[32m \u001b[0m\u001b[32m  paired  \u001b[0m\u001b[32m \u001b[0m│\u001b[38;5;128m \u001b[0m\u001b[38;5;128m         0         \u001b[0m\u001b[38;5;128m \u001b[0m│\n",
       "└───────────────────────┴────────────┴─────────────────────┘\n"
      ]
     },
     "metadata": {},
     "output_type": "display_data"
    },
    {
     "data": {
      "text/html": [
       "<pre style=\"white-space:pre;overflow-x:auto;line-height:normal;font-family:Menlo,'DejaVu Sans Mono',consolas,'Courier New',monospace\"><span style=\"font-style: italic\">                     labels State Registry                      </span>\n",
       "┏━━━━━━━━━━━━━━━━━━━━━━━━━━━┳━━━━━━━━━━━━┳━━━━━━━━━━━━━━━━━━━━━┓\n",
       "┃<span style=\"font-weight: bold\">      Source Location      </span>┃<span style=\"font-weight: bold\"> Categories </span>┃<span style=\"font-weight: bold\"> scvi-tools Encoding </span>┃\n",
       "┡━━━━━━━━━━━━━━━━━━━━━━━━━━━╇━━━━━━━━━━━━╇━━━━━━━━━━━━━━━━━━━━━┩\n",
       "│<span style=\"color: #0087ff; text-decoration-color: #0087ff\"> adata.obs['_scvi_labels'] </span>│<span style=\"color: #008000; text-decoration-color: #008000\">     0      </span>│<span style=\"color: #af00d7; text-decoration-color: #af00d7\">          0          </span>│\n",
       "└───────────────────────────┴────────────┴─────────────────────┘\n",
       "</pre>\n"
      ],
      "text/plain": [
       "\u001b[3m                     labels State Registry                      \u001b[0m\n",
       "┏━━━━━━━━━━━━━━━━━━━━━━━━━━━┳━━━━━━━━━━━━┳━━━━━━━━━━━━━━━━━━━━━┓\n",
       "┃\u001b[1m \u001b[0m\u001b[1m     Source Location     \u001b[0m\u001b[1m \u001b[0m┃\u001b[1m \u001b[0m\u001b[1mCategories\u001b[0m\u001b[1m \u001b[0m┃\u001b[1m \u001b[0m\u001b[1mscvi-tools Encoding\u001b[0m\u001b[1m \u001b[0m┃\n",
       "┡━━━━━━━━━━━━━━━━━━━━━━━━━━━╇━━━━━━━━━━━━╇━━━━━━━━━━━━━━━━━━━━━┩\n",
       "│\u001b[38;5;33m \u001b[0m\u001b[38;5;33madata.obs['_scvi_labels']\u001b[0m\u001b[38;5;33m \u001b[0m│\u001b[32m \u001b[0m\u001b[32m    0     \u001b[0m\u001b[32m \u001b[0m│\u001b[38;5;128m \u001b[0m\u001b[38;5;128m         0         \u001b[0m\u001b[38;5;128m \u001b[0m│\n",
       "└───────────────────────────┴────────────┴─────────────────────┘\n"
      ]
     },
     "metadata": {},
     "output_type": "display_data"
    },
    {
     "data": {
      "text/html": [
       "<pre style=\"white-space:pre;overflow-x:auto;line-height:normal;font-family:Menlo,'DejaVu Sans Mono',consolas,'Courier New',monospace\"><span style=\"font-style: italic\">                    batch State Registry                    </span>\n",
       "┏━━━━━━━━━━━━━━━━━━━━━━━┳━━━━━━━━━━━━┳━━━━━━━━━━━━━━━━━━━━━┓\n",
       "┃<span style=\"font-weight: bold\">    Source Location    </span>┃<span style=\"font-weight: bold\"> Categories </span>┃<span style=\"font-weight: bold\"> scvi-tools Encoding </span>┃\n",
       "┡━━━━━━━━━━━━━━━━━━━━━━━╇━━━━━━━━━━━━╇━━━━━━━━━━━━━━━━━━━━━┩\n",
       "│<span style=\"color: #0087ff; text-decoration-color: #0087ff\"> adata.obs['modality'] </span>│<span style=\"color: #008000; text-decoration-color: #008000\">   paired   </span>│<span style=\"color: #af00d7; text-decoration-color: #af00d7\">          0          </span>│\n",
       "└───────────────────────┴────────────┴─────────────────────┘\n",
       "</pre>\n"
      ],
      "text/plain": [
       "\u001b[3m                    batch State Registry                    \u001b[0m\n",
       "┏━━━━━━━━━━━━━━━━━━━━━━━┳━━━━━━━━━━━━┳━━━━━━━━━━━━━━━━━━━━━┓\n",
       "┃\u001b[1m \u001b[0m\u001b[1m   Source Location   \u001b[0m\u001b[1m \u001b[0m┃\u001b[1m \u001b[0m\u001b[1mCategories\u001b[0m\u001b[1m \u001b[0m┃\u001b[1m \u001b[0m\u001b[1mscvi-tools Encoding\u001b[0m\u001b[1m \u001b[0m┃\n",
       "┡━━━━━━━━━━━━━━━━━━━━━━━╇━━━━━━━━━━━━╇━━━━━━━━━━━━━━━━━━━━━┩\n",
       "│\u001b[38;5;33m \u001b[0m\u001b[38;5;33madata.obs['modality']\u001b[0m\u001b[38;5;33m \u001b[0m│\u001b[32m \u001b[0m\u001b[32m  paired  \u001b[0m\u001b[32m \u001b[0m│\u001b[38;5;128m \u001b[0m\u001b[38;5;128m         0         \u001b[0m\u001b[38;5;128m \u001b[0m│\n",
       "└───────────────────────┴────────────┴─────────────────────┘\n"
      ]
     },
     "metadata": {},
     "output_type": "display_data"
    }
   ],
   "source": [
    "mvi.view_anndata_setup()"
   ]
  },
  {
   "cell_type": "code",
   "execution_count": 6,
   "id": "afbb78f8",
   "metadata": {
    "ExecuteTime": {
     "end_time": "2022-11-20T07:55:44.955791Z",
     "start_time": "2022-11-20T07:43:54.931489Z"
    }
   },
   "outputs": [
    {
     "name": "stderr",
     "output_type": "stream",
     "text": [
      "GPU available: True (cuda), used: True\n",
      "TPU available: False, using: 0 TPU cores\n",
      "IPU available: False, using: 0 IPUs\n",
      "HPU available: False, using: 0 HPUs\n",
      " LightningDeprecationWarning:/home/atac2rna/anaconda3/envs/atac2rna/lib/python3.9/site-packages/pytorch_lightning/trainer/configuration_validator.py:267: The `Callback.on_epoch_end` hook was deprecated in v1.6 and will be removed in v1.8. Please use `Callback.on_<train/validation/test>_epoch_end` instead.\n",
      "LOCAL_RANK: 0 - CUDA_VISIBLE_DEVICES: [0,1,2,3]\n"
     ]
    },
    {
     "name": "stdout",
     "output_type": "stream",
     "text": [
      "Epoch 343/500:  69%|██████████████████████████████████████████████████████████████████████▋                                | 343/500 [11:47<05:23,  2.06s/it, loss=3.13e+03, v_num=1]\n",
      "Monitored metric reconstruction_loss_validation did not improve in the last 50 records. Best score: 6938.975. Signaling Trainer to stop.\n"
     ]
    }
   ],
   "source": [
    "mvi.train()"
   ]
  },
  {
   "cell_type": "code",
   "execution_count": 7,
   "id": "cfc154b3",
   "metadata": {
    "ExecuteTime": {
     "end_time": "2022-11-20T07:55:54.920236Z",
     "start_time": "2022-11-20T07:55:44.957963Z"
    }
   },
   "outputs": [
    {
     "name": "stderr",
     "output_type": "stream",
     "text": [
      " UserWarning:/home/atac2rna/anaconda3/envs/atac2rna/lib/python3.9/site-packages/scanpy/plotting/_tools/scatterplots.py:392: No data for colormapping provided via 'c'. Parameters 'cmap' will be ignored\n"
     ]
    },
    {
     "data": {
      "image/png": "[encoded data removed]",
      "text/plain": [
       "<Figure size 640x480 with 1 Axes>"
      ]
     },
     "metadata": {},
     "output_type": "display_data"
    }
   ],
   "source": [
    "adata_mvi.obsm[\"MultiVI_latent\"] = mvi.get_latent_representation()\n",
    "sc.pp.neighbors(adata_mvi, use_rep=\"MultiVI_latent\")\n",
    "sc.tl.umap(adata_mvi, min_dist=0.2)\n",
    "sc.pl.umap(adata_mvi, color='cell_type', title='cell_type')"
   ]
  },
  {
   "cell_type": "code",
   "execution_count": 8,
   "id": "7c3e99bd",
   "metadata": {
    "ExecuteTime": {
     "end_time": "2022-11-20T07:55:55.391331Z",
     "start_time": "2022-11-20T07:55:54.922145Z"
    }
   },
   "outputs": [
    {
     "name": "stderr",
     "output_type": "stream",
     "text": [
      " UserWarning:/home/atac2rna/anaconda3/envs/atac2rna/lib/python3.9/site-packages/scanpy/plotting/_tools/scatterplots.py:392: No data for colormapping provided via 'c'. Parameters 'cmap' will be ignored\n"
     ]
    },
    {
     "data": {
      "image/png": "[encoded data removed]",
      "text/plain": [
       "<Figure size 640x480 with 1 Axes>"
      ]
     },
     "metadata": {},
     "output_type": "display_data"
    }
   ],
   "source": [
    "sc.tl.leiden(adata_mvi)\n",
    "sc.pl.umap(adata_mvi, color='leiden', title='leiden')"
   ]
  },
  {
   "cell_type": "code",
   "execution_count": 4,
   "id": "0dcfa81b",
   "metadata": {
    "ExecuteTime": {
     "end_time": "2022-12-29T00:05:55.869467Z",
     "start_time": "2022-12-29T00:05:55.861026Z"
    }
   },
   "outputs": [],
   "source": [
    "import scanpy as sc\n",
    "import anndata as ad\n",
    "import episcanpy as epi\n",
    "import sklearn\n",
    "from sklearn import metrics\n",
    "\n",
    "\n",
    "def calculate_cluster_index(adata):\n",
    "    \"\"\"\n",
    "    Evaluation of cluster index of prediction. \n",
    "    Cluster method have two types:  Leiden\n",
    "                         Louvain. \n",
    "    Index have eight types:   Adjusted Rand Index\n",
    "                      Rand Index\n",
    "                      Normalized Mutual Information\n",
    "                      Adjusted Mutual Information\n",
    "                      Homogeneity\n",
    "                      Completeness\n",
    "                      V-measure\n",
    "                      Fowlkes-Mallows Scores\n",
    "    \n",
    "    Parameters\n",
    "    ----------\n",
    "    adata\n",
    "        Anndata need to calculate, it's worth noting that there should be 'cell_type' in adata.obs.\n",
    "        \n",
    "    \"\"\"  \n",
    "    sc.tl.leiden(adata)\n",
    "\n",
    "    ARI_leiden = metrics.adjusted_rand_score(adata.obs['cell_type'], adata.obs['leiden'])\n",
    "    AMI_leiden = metrics.adjusted_mutual_info_score(adata.obs['cell_type'], adata.obs['leiden'])\n",
    "    NMI_leiden = metrics.normalized_mutual_info_score(adata.obs['cell_type'], adata.obs['leiden'])\n",
    "    HOM_leiden = metrics.homogeneity_score(adata.obs['cell_type'], adata.obs['leiden'])\n",
    "    COM_leiden = metrics.completeness_score(adata.obs['cell_type'], adata.obs['leiden'])\n",
    "    V_measure_leiden = metrics.v_measure_score(adata.obs['cell_type'], adata.obs['leiden'])\n",
    "    \n",
    "    return ARI_leiden, AMI_leiden, NMI_leiden, HOM_leiden, COM_leiden, V_measure_leiden"
   ]
  },
  {
   "cell_type": "code",
   "execution_count": 10,
   "id": "57257a45",
   "metadata": {
    "ExecuteTime": {
     "end_time": "2022-11-20T07:55:55.733810Z",
     "start_time": "2022-11-20T07:55:55.400531Z"
    }
   },
   "outputs": [
    {
     "data": {
      "text/plain": [
       "(0.31143019208208483,\n",
       " 0.5369211806011043,\n",
       " 0.547149529043502,\n",
       " 0.5744542996220608,\n",
       " 0.5223226621086695,\n",
       " 0.547149529043502)"
      ]
     },
     "execution_count": 10,
     "metadata": {},
     "output_type": "execute_result"
    }
   ],
   "source": [
    "calculate_cluster_index(adata_mvi)"
   ]
  },
  {
   "cell_type": "markdown",
   "id": "13044307",
   "metadata": {},
   "source": [
    "# our predict"
   ]
  },
  {
   "cell_type": "code",
   "execution_count": 5,
   "id": "7114b58b",
   "metadata": {
    "ExecuteTime": {
     "end_time": "2022-12-29T00:05:58.586091Z",
     "start_time": "2022-12-29T00:05:58.581125Z"
    }
   },
   "outputs": [],
   "source": [
    "file_path = '/home/atac2rna/data/atac2rna/model_output/22_10_12/multiVI_use_prediction/temp'"
   ]
  },
  {
   "cell_type": "code",
   "execution_count": 6,
   "id": "ccb61f53",
   "metadata": {
    "ExecuteTime": {
     "end_time": "2022-12-29T00:06:07.425257Z",
     "start_time": "2022-12-29T00:05:59.081147Z"
    }
   },
   "outputs": [
    {
     "name": "stdout",
     "output_type": "stream",
     "text": [
      "1\n",
      "2\n",
      "3\n"
     ]
    },
    {
     "name": "stderr",
     "output_type": "stream",
     "text": [
      "ATAC to RNA predicting...: 100%|\u001b[34m██████████████████████████████████████████████████████████████████████████████████████\u001b[0m| 33/33 [00:01<00:00, 17.54it/s]\u001b[0m\n",
      "RNA to ATAC predicting...: 100%|\u001b[34m██████████████████████████████████████████████████████████████████████████████████████\u001b[0m| 33/33 [00:01<00:00, 31.88it/s]\u001b[0m\n"
     ]
    }
   ],
   "source": [
    "RNA_data = RNA_data_preprocessing(\n",
    "    RNA_data,\n",
    "    normalize_total=True,\n",
    "    log1p=True,\n",
    "    use_hvg=True,\n",
    "    n_top_genes=3000,\n",
    "    save_data=False,\n",
    "    file_path=file_path,\n",
    "    logging_path=file_path\n",
    "    )\n",
    "ATAC_data, divide_title, multiply_title, max_temp = ATAC_data_preprocessing(\n",
    "    ATAC_data,\n",
    "    binary_data=True,\n",
    "    filter_features=True,\n",
    "    fpeaks=0.005,\n",
    "    tfidf=True,\n",
    "    normalize=True,\n",
    "    save_data=False,\n",
    "    file_path=file_path,\n",
    "    logging_path=file_path\n",
    ")\n",
    "R2A_predict = []\n",
    "A2R_predict = []\n",
    "test_id_a = [i for i in range(RNA_data.X.shape[0])]\n",
    "test_id_r = [i for i in range(RNA_data.X.shape[0])]\n",
    "\n",
    "# Part 3 calculate chrom list\n",
    "chrom_list = []\n",
    "last_one = ''\n",
    "for i in range(len(ATAC_data.var.peak)):\n",
    "    temp = ATAC_data.var.peak[i].split('_')[0]\n",
    "    if temp[0 : 3] == 'chr':\n",
    "        if not temp == last_one:\n",
    "            chrom_list.append(1)\n",
    "            last_one = temp\n",
    "        else:\n",
    "            chrom_list[-1] += 1\n",
    "    else:\n",
    "        chrom_list[-1] += 1\n",
    "\n",
    "from train_model import Model\n",
    "import torch\n",
    "import torch.nn as nn\n",
    "\n",
    "RNA_input_dim = len([i for i in RNA_data.var['highly_variable'] if i])\n",
    "ATAC_input_dim = ATAC_data.X.shape[1]\n",
    "\n",
    "R_kl_div = 1 / RNA_input_dim * 20\n",
    "A_kl_div = 1 / ATAC_input_dim * 20\n",
    "kl_div = R_kl_div + A_kl_div\n",
    "\n",
    "############################################################\n",
    "# Part 4 construct model\n",
    "model = Model(\n",
    "    R_encoder_nlayer = 2, \n",
    "    A_encoder_nlayer = 2,\n",
    "    R_decoder_nlayer = 2, \n",
    "    A_decoder_nlayer = 2,\n",
    "    R_encoder_dim_list = [RNA_input_dim, 256, 128],\n",
    "    A_encoder_dim_list = [ATAC_input_dim, 32 * len(chrom_list), 128],\n",
    "    R_decoder_dim_list = [128, 256, RNA_input_dim],\n",
    "    A_decoder_dim_list = [128, 32 * len(chrom_list), ATAC_input_dim],\n",
    "    R_encoder_act_list = [nn.LeakyReLU(), nn.LeakyReLU()],\n",
    "    A_encoder_act_list = [nn.LeakyReLU(), nn.LeakyReLU()],\n",
    "    R_decoder_act_list = [nn.LeakyReLU(), nn.LeakyReLU()],\n",
    "    A_decoder_act_list = [nn.LeakyReLU(), nn.Sigmoid()],\n",
    "    translator_embed_dim = 128, \n",
    "    translator_input_dim_r = 128,\n",
    "    translator_input_dim_a = 128,\n",
    "    translator_embed_act_list = [nn.LeakyReLU(), nn.LeakyReLU(), nn.LeakyReLU()],\n",
    "    discriminator_nlayer = 1,\n",
    "    discriminator_dim_list_R = [128],\n",
    "    discriminator_dim_list_A = [128],\n",
    "    discriminator_act_list = [nn.Sigmoid()],\n",
    "    dropout_rate = 0.1,\n",
    "    R_noise_rate = 0.5,\n",
    "    A_noise_rate = 0.3,\n",
    "    chrom_list = chrom_list,\n",
    "    logging_path = file_path,\n",
    "    RNA_data = RNA_data,\n",
    "    ATAC_data = ATAC_data\n",
    ")\n",
    "\n",
    "model_path = \"/home/atac2rna/data/atac2rna/model_output/22_10_12/multiVI_use_prediction/\"+str(data)+\"/1\"\n",
    "load_model = True\n",
    "output_path = file_path\n",
    "test_evaluate = False\n",
    "test_cluster = True\n",
    "test_umap = True\n",
    "output_data = False\n",
    "\n",
    "if load_model:\n",
    "    model.RNA_encoder.load_state_dict(torch.load(model_path + '/model/RNA_encoder.pt'))\n",
    "    model.ATAC_encoder.load_state_dict(torch.load(model_path + '/model/ATAC_encoder.pt'))\n",
    "    model.RNA_decoder.load_state_dict(torch.load(model_path + '/model/RNA_decoder.pt'))\n",
    "    model.ATAC_decoder.load_state_dict(torch.load(model_path + '/model/ATAC_decoder.pt'))\n",
    "    model.translator.load_state_dict(torch.load(model_path + '/model/translator.pt'))\n",
    "\n",
    "\"\"\" load data \"\"\"\n",
    "RNA_input_dim = model.RNA_data.shape[1]\n",
    "ATAC_input_dim = model.ATAC_data.shape[1]\n",
    "\n",
    "model.R_test_dataset = Single_omics_dataset(model.RNA_data, test_id_r)\n",
    "model.A_test_dataset = Single_omics_dataset(model.ATAC_data, test_id_a)\n",
    "model.R_test_dataloader = DataLoader(model.R_test_dataset, batch_size=100, shuffle=False, num_workers=4)\n",
    "model.A_test_dataloader = DataLoader(model.A_test_dataset, batch_size=100, shuffle=False, num_workers=4)\n",
    "\n",
    "model.set_eval()\n",
    "\n",
    "\"\"\" record the predicted data \"\"\"\n",
    "with torch.no_grad():\n",
    "    with tqdm(total = len(model.A_test_dataloader), ncols=150, colour='blue') as pbar:\n",
    "        pbar.set_description('ATAC to RNA predicting...')\n",
    "        for idx, batch_samples in enumerate(model.A_test_dataloader):\n",
    "            if torch.cuda.is_available():\n",
    "                batch_samples = batch_samples.cuda().to(torch.float32)\n",
    "\n",
    "            A2 = model.ATAC_encoder(batch_samples)\n",
    "            A2R, A2A, mu_a, sigma_a = model.translator.test_model(A2, 'ATAC')\n",
    "            A2R = model.RNA_decoder(A2R)\n",
    "\n",
    "            A2R_predict.append(A2R.cpu())                       \n",
    "\n",
    "            time.sleep(0.01)\n",
    "            pbar.update(1)\n",
    "\n",
    "with torch.no_grad():\n",
    "    with tqdm(total = len(model.R_test_dataloader), ncols=150, colour='blue') as pbar:\n",
    "        pbar.set_description('RNA to ATAC predicting...')\n",
    "        for idx, batch_samples in enumerate(model.R_test_dataloader):\n",
    "            if torch.cuda.is_available():\n",
    "                batch_samples = batch_samples.cuda().to(torch.float32)\n",
    "\n",
    "            R2 = model.RNA_encoder(batch_samples)\n",
    "            R2R, R2A, mu_r, sigma_r = model.translator.test_model(R2, 'RNA')\n",
    "            R2A = model.ATAC_decoder(R2A)\n",
    "\n",
    "            R2A_predict.append(R2A.cpu())                       \n",
    "\n",
    "            time.sleep(0.01)\n",
    "            pbar.update(1)\n"
   ]
  },
  {
   "cell_type": "code",
   "execution_count": 7,
   "id": "39c11cd8",
   "metadata": {
    "ExecuteTime": {
     "end_time": "2022-12-29T00:06:12.027655Z",
     "start_time": "2022-12-29T00:06:07.429047Z"
    }
   },
   "outputs": [],
   "source": [
    "A2R_predict = tensor2adata(A2R_predict)\n",
    "A2R_predict.obs = RNA_data.obs.iloc[test_id_r, :]\n",
    "A2R_predict.var = RNA_data.var\n",
    "\n",
    "R2A_predict = tensor2adata(R2A_predict)\n",
    "R2A_predict.obs = ATAC_data.obs.iloc[test_id_r, :]\n",
    "R2A_predict.var = ATAC_data.var"
   ]
  },
  {
   "cell_type": "code",
   "execution_count": 8,
   "id": "033d2a6e",
   "metadata": {
    "ExecuteTime": {
     "end_time": "2022-12-29T00:06:15.779620Z",
     "start_time": "2022-12-29T00:06:12.029870Z"
    }
   },
   "outputs": [],
   "source": [
    "R2A_predict.X = inverse_TFIDF(R2A_predict.X, divide_title[:, test_id_a], multiply_title[:, test_id_a], max_temp)\n",
    "R2A_predict.X[R2A_predict.X > np.mean(R2A_predict.X, axis=1)] = 1\n",
    "R2A_predict.X[R2A_predict.X < np.mean(R2A_predict.X, axis=1)] = 0"
   ]
  },
  {
   "cell_type": "code",
   "execution_count": 9,
   "id": "7f2aecd8",
   "metadata": {
    "ExecuteTime": {
     "end_time": "2022-12-29T00:06:15.955966Z",
     "start_time": "2022-12-29T00:06:15.782615Z"
    }
   },
   "outputs": [
    {
     "data": {
      "text/plain": [
       "32"
      ]
     },
     "execution_count": 9,
     "metadata": {},
     "output_type": "execute_result"
    }
   ],
   "source": [
    "del divide_title, multiply_title\n",
    "import gc\n",
    "gc.collect()"
   ]
  },
  {
   "cell_type": "code",
   "execution_count": 10,
   "id": "f179b44a",
   "metadata": {
    "ExecuteTime": {
     "end_time": "2022-12-29T00:06:19.859774Z",
     "start_time": "2022-12-29T00:06:15.957644Z"
    }
   },
   "outputs": [
    {
     "name": "stderr",
     "output_type": "stream",
     "text": [
      "WARNING:jax._src.lib.xla_bridge:No GPU/TPU found, falling back to CPU. (Set TF_CPP_MIN_LOG_LEVEL=0 and rerun for more info.)\n",
      " UserWarning:/home/atac2rna/anaconda3/envs/atac2rna/lib/python3.9/site-packages/scvi/data/fields/_layer_field.py:91: adata.X does not contain unnormalized count data. Are you sure this is what you want?\n",
      " UserWarning:/home/atac2rna/anaconda3/envs/atac2rna/lib/python3.9/site-packages/torch/nn/init.py:405: Initializing zero-element tensors is a no-op\n"
     ]
    }
   ],
   "source": [
    "adata = ad.AnnData(sp.hstack((A2R_predict.X, R2A_predict.X)))\n",
    "adata.X = adata.X.tocsr()\n",
    "adata.obs = A2R_predict.obs\n",
    "\n",
    "m = len(A2R_predict.var.index)\n",
    "n = len(R2A_predict.var.index)\n",
    "adata.var.index = pd.Series([A2R_predict.var.index[i] if i<m else R2A_predict.var.index[i-m] for i in range(m+n)], dtype='object')\n",
    "adata.var['modality'] = pd.Series(['Gene Expression' if i<m else 'Peaks' for i in range(m+n)], dtype='object').values\n",
    "\n",
    "adata.var_names_make_unique()\n",
    "\n",
    "adata = scvi.data.organize_multiome_anndatas(adata)\n",
    "\n",
    "adata = adata[:, adata.var[\"modality\"].argsort()].copy()\n",
    "\n",
    "scvi.model.MULTIVI.setup_anndata(adata, batch_key='modality')\n",
    "\n",
    "mvi = scvi.model.MULTIVI(\n",
    "    adata,\n",
    "    n_genes=(adata.var['modality']=='Gene Expression').sum(),\n",
    "    n_regions=(adata.var['modality']=='Peaks').sum(),\n",
    ")"
   ]
  },
  {
   "cell_type": "code",
   "execution_count": 11,
   "id": "b319098e",
   "metadata": {
    "ExecuteTime": {
     "end_time": "2022-12-29T00:06:19.888764Z",
     "start_time": "2022-12-29T00:06:19.863413Z"
    }
   },
   "outputs": [
    {
     "data": {
      "text/html": [
       "<pre style=\"white-space:pre;overflow-x:auto;line-height:normal;font-family:Menlo,'DejaVu Sans Mono',consolas,'Courier New',monospace\">Anndata setup with scvi-tools version <span style=\"color: #008080; text-decoration-color: #008080; font-weight: bold\">0.19</span>.<span style=\"color: #008080; text-decoration-color: #008080; font-weight: bold\">0</span>.\n",
       "</pre>\n"
      ],
      "text/plain": [
       "Anndata setup with scvi-tools version \u001b[1;36m0.19\u001b[0m.\u001b[1;36m0\u001b[0m.\n"
      ]
     },
     "metadata": {},
     "output_type": "display_data"
    },
    {
     "data": {
      "text/html": [
       "<pre style=\"white-space:pre;overflow-x:auto;line-height:normal;font-family:Menlo,'DejaVu Sans Mono',consolas,'Courier New',monospace\">\n",
       "</pre>\n"
      ],
      "text/plain": [
       "\n"
      ]
     },
     "metadata": {},
     "output_type": "display_data"
    },
    {
     "data": {
      "text/html": [
       "<pre style=\"white-space:pre;overflow-x:auto;line-height:normal;font-family:Menlo,'DejaVu Sans Mono',consolas,'Courier New',monospace\">Setup via `MULTIVI.setup_anndata` with arguments:\n",
       "</pre>\n"
      ],
      "text/plain": [
       "Setup via `MULTIVI.setup_anndata` with arguments:\n"
      ]
     },
     "metadata": {},
     "output_type": "display_data"
    },
    {
     "data": {
      "text/html": [
       "<pre style=\"white-space:pre;overflow-x:auto;line-height:normal;font-family:Menlo,'DejaVu Sans Mono',consolas,'Courier New',monospace\"><span style=\"font-weight: bold\">{</span>\n",
       "<span style=\"color: #7fbf7f; text-decoration-color: #7fbf7f\">│   </span><span style=\"color: #008000; text-decoration-color: #008000\">'layer'</span>: <span style=\"color: #800080; text-decoration-color: #800080; font-style: italic\">None</span>,\n",
       "<span style=\"color: #7fbf7f; text-decoration-color: #7fbf7f\">│   </span><span style=\"color: #008000; text-decoration-color: #008000\">'batch_key'</span>: <span style=\"color: #008000; text-decoration-color: #008000\">'modality'</span>,\n",
       "<span style=\"color: #7fbf7f; text-decoration-color: #7fbf7f\">│   </span><span style=\"color: #008000; text-decoration-color: #008000\">'size_factor_key'</span>: <span style=\"color: #800080; text-decoration-color: #800080; font-style: italic\">None</span>,\n",
       "<span style=\"color: #7fbf7f; text-decoration-color: #7fbf7f\">│   </span><span style=\"color: #008000; text-decoration-color: #008000\">'categorical_covariate_keys'</span>: <span style=\"color: #800080; text-decoration-color: #800080; font-style: italic\">None</span>,\n",
       "<span style=\"color: #7fbf7f; text-decoration-color: #7fbf7f\">│   </span><span style=\"color: #008000; text-decoration-color: #008000\">'continuous_covariate_keys'</span>: <span style=\"color: #800080; text-decoration-color: #800080; font-style: italic\">None</span>,\n",
       "<span style=\"color: #7fbf7f; text-decoration-color: #7fbf7f\">│   </span><span style=\"color: #008000; text-decoration-color: #008000\">'protein_expression_obsm_key'</span>: <span style=\"color: #800080; text-decoration-color: #800080; font-style: italic\">None</span>,\n",
       "<span style=\"color: #7fbf7f; text-decoration-color: #7fbf7f\">│   </span><span style=\"color: #008000; text-decoration-color: #008000\">'protein_names_uns_key'</span>: <span style=\"color: #800080; text-decoration-color: #800080; font-style: italic\">None</span>\n",
       "<span style=\"font-weight: bold\">}</span>\n",
       "</pre>\n"
      ],
      "text/plain": [
       "\u001b[1m{\u001b[0m\n",
       "\u001b[2;32m│   \u001b[0m\u001b[32m'layer'\u001b[0m: \u001b[3;35mNone\u001b[0m,\n",
       "\u001b[2;32m│   \u001b[0m\u001b[32m'batch_key'\u001b[0m: \u001b[32m'modality'\u001b[0m,\n",
       "\u001b[2;32m│   \u001b[0m\u001b[32m'size_factor_key'\u001b[0m: \u001b[3;35mNone\u001b[0m,\n",
       "\u001b[2;32m│   \u001b[0m\u001b[32m'categorical_covariate_keys'\u001b[0m: \u001b[3;35mNone\u001b[0m,\n",
       "\u001b[2;32m│   \u001b[0m\u001b[32m'continuous_covariate_keys'\u001b[0m: \u001b[3;35mNone\u001b[0m,\n",
       "\u001b[2;32m│   \u001b[0m\u001b[32m'protein_expression_obsm_key'\u001b[0m: \u001b[3;35mNone\u001b[0m,\n",
       "\u001b[2;32m│   \u001b[0m\u001b[32m'protein_names_uns_key'\u001b[0m: \u001b[3;35mNone\u001b[0m\n",
       "\u001b[1m}\u001b[0m\n"
      ]
     },
     "metadata": {},
     "output_type": "display_data"
    },
    {
     "data": {
      "text/html": [
       "<pre style=\"white-space:pre;overflow-x:auto;line-height:normal;font-family:Menlo,'DejaVu Sans Mono',consolas,'Courier New',monospace\">\n",
       "</pre>\n"
      ],
      "text/plain": [
       "\n"
      ]
     },
     "metadata": {},
     "output_type": "display_data"
    },
    {
     "data": {
      "text/html": [
       "<pre style=\"white-space:pre;overflow-x:auto;line-height:normal;font-family:Menlo,'DejaVu Sans Mono',consolas,'Courier New',monospace\"><span style=\"font-style: italic\">         Summary Statistics         </span>\n",
       "┏━━━━━━━━━━━━━━━━━━━━━━━━━━┳━━━━━━━┓\n",
       "┃<span style=\"font-weight: bold\">     Summary Stat Key     </span>┃<span style=\"font-weight: bold\"> Value </span>┃\n",
       "┡━━━━━━━━━━━━━━━━━━━━━━━━━━╇━━━━━━━┩\n",
       "│<span style=\"color: #0087ff; text-decoration-color: #0087ff\">         n_batch          </span>│<span style=\"color: #af00d7; text-decoration-color: #af00d7\">   1   </span>│\n",
       "│<span style=\"color: #0087ff; text-decoration-color: #0087ff\">         n_cells          </span>│<span style=\"color: #af00d7; text-decoration-color: #af00d7\"> 3293  </span>│\n",
       "│<span style=\"color: #0087ff; text-decoration-color: #0087ff\"> n_extra_categorical_covs </span>│<span style=\"color: #af00d7; text-decoration-color: #af00d7\">   0   </span>│\n",
       "│<span style=\"color: #0087ff; text-decoration-color: #0087ff\"> n_extra_continuous_covs  </span>│<span style=\"color: #af00d7; text-decoration-color: #af00d7\">   0   </span>│\n",
       "│<span style=\"color: #0087ff; text-decoration-color: #0087ff\">         n_labels         </span>│<span style=\"color: #af00d7; text-decoration-color: #af00d7\">   1   </span>│\n",
       "│<span style=\"color: #0087ff; text-decoration-color: #0087ff\">          n_vars          </span>│<span style=\"color: #af00d7; text-decoration-color: #af00d7\"> 40918 </span>│\n",
       "└──────────────────────────┴───────┘\n",
       "</pre>\n"
      ],
      "text/plain": [
       "\u001b[3m         Summary Statistics         \u001b[0m\n",
       "┏━━━━━━━━━━━━━━━━━━━━━━━━━━┳━━━━━━━┓\n",
       "┃\u001b[1m \u001b[0m\u001b[1m    Summary Stat Key    \u001b[0m\u001b[1m \u001b[0m┃\u001b[1m \u001b[0m\u001b[1mValue\u001b[0m\u001b[1m \u001b[0m┃\n",
       "┡━━━━━━━━━━━━━━━━━━━━━━━━━━╇━━━━━━━┩\n",
       "│\u001b[38;5;33m \u001b[0m\u001b[38;5;33m        n_batch         \u001b[0m\u001b[38;5;33m \u001b[0m│\u001b[38;5;128m \u001b[0m\u001b[38;5;128m  1  \u001b[0m\u001b[38;5;128m \u001b[0m│\n",
       "│\u001b[38;5;33m \u001b[0m\u001b[38;5;33m        n_cells         \u001b[0m\u001b[38;5;33m \u001b[0m│\u001b[38;5;128m \u001b[0m\u001b[38;5;128m3293 \u001b[0m\u001b[38;5;128m \u001b[0m│\n",
       "│\u001b[38;5;33m \u001b[0m\u001b[38;5;33mn_extra_categorical_covs\u001b[0m\u001b[38;5;33m \u001b[0m│\u001b[38;5;128m \u001b[0m\u001b[38;5;128m  0  \u001b[0m\u001b[38;5;128m \u001b[0m│\n",
       "│\u001b[38;5;33m \u001b[0m\u001b[38;5;33mn_extra_continuous_covs \u001b[0m\u001b[38;5;33m \u001b[0m│\u001b[38;5;128m \u001b[0m\u001b[38;5;128m  0  \u001b[0m\u001b[38;5;128m \u001b[0m│\n",
       "│\u001b[38;5;33m \u001b[0m\u001b[38;5;33m        n_labels        \u001b[0m\u001b[38;5;33m \u001b[0m│\u001b[38;5;128m \u001b[0m\u001b[38;5;128m  1  \u001b[0m\u001b[38;5;128m \u001b[0m│\n",
       "│\u001b[38;5;33m \u001b[0m\u001b[38;5;33m         n_vars         \u001b[0m\u001b[38;5;33m \u001b[0m│\u001b[38;5;128m \u001b[0m\u001b[38;5;128m40918\u001b[0m\u001b[38;5;128m \u001b[0m│\n",
       "└──────────────────────────┴───────┘\n"
      ]
     },
     "metadata": {},
     "output_type": "display_data"
    },
    {
     "data": {
      "text/html": [
       "<pre style=\"white-space:pre;overflow-x:auto;line-height:normal;font-family:Menlo,'DejaVu Sans Mono',consolas,'Courier New',monospace\"><span style=\"font-style: italic\">               Data Registry                </span>\n",
       "┏━━━━━━━━━━━━━━┳━━━━━━━━━━━━━━━━━━━━━━━━━━━┓\n",
       "┃<span style=\"font-weight: bold\"> Registry Key </span>┃<span style=\"font-weight: bold\">    scvi-tools Location    </span>┃\n",
       "┡━━━━━━━━━━━━━━╇━━━━━━━━━━━━━━━━━━━━━━━━━━━┩\n",
       "│<span style=\"color: #0087ff; text-decoration-color: #0087ff\">      X       </span>│<span style=\"color: #af00d7; text-decoration-color: #af00d7\">          adata.X          </span>│\n",
       "│<span style=\"color: #0087ff; text-decoration-color: #0087ff\">    batch     </span>│<span style=\"color: #af00d7; text-decoration-color: #af00d7\"> adata.obs['_scvi_batch']  </span>│\n",
       "│<span style=\"color: #0087ff; text-decoration-color: #0087ff\">    ind_x     </span>│<span style=\"color: #af00d7; text-decoration-color: #af00d7\">   adata.obs['_indices']   </span>│\n",
       "│<span style=\"color: #0087ff; text-decoration-color: #0087ff\">    labels    </span>│<span style=\"color: #af00d7; text-decoration-color: #af00d7\"> adata.obs['_scvi_labels'] </span>│\n",
       "└──────────────┴───────────────────────────┘\n",
       "</pre>\n"
      ],
      "text/plain": [
       "\u001b[3m               Data Registry                \u001b[0m\n",
       "┏━━━━━━━━━━━━━━┳━━━━━━━━━━━━━━━━━━━━━━━━━━━┓\n",
       "┃\u001b[1m \u001b[0m\u001b[1mRegistry Key\u001b[0m\u001b[1m \u001b[0m┃\u001b[1m \u001b[0m\u001b[1m   scvi-tools Location   \u001b[0m\u001b[1m \u001b[0m┃\n",
       "┡━━━━━━━━━━━━━━╇━━━━━━━━━━━━━━━━━━━━━━━━━━━┩\n",
       "│\u001b[38;5;33m \u001b[0m\u001b[38;5;33m     X      \u001b[0m\u001b[38;5;33m \u001b[0m│\u001b[38;5;128m \u001b[0m\u001b[38;5;128m         adata.X         \u001b[0m\u001b[38;5;128m \u001b[0m│\n",
       "│\u001b[38;5;33m \u001b[0m\u001b[38;5;33m   batch    \u001b[0m\u001b[38;5;33m \u001b[0m│\u001b[38;5;128m \u001b[0m\u001b[38;5;128madata.obs['_scvi_batch'] \u001b[0m\u001b[38;5;128m \u001b[0m│\n",
       "│\u001b[38;5;33m \u001b[0m\u001b[38;5;33m   ind_x    \u001b[0m\u001b[38;5;33m \u001b[0m│\u001b[38;5;128m \u001b[0m\u001b[38;5;128m  adata.obs['_indices']  \u001b[0m\u001b[38;5;128m \u001b[0m│\n",
       "│\u001b[38;5;33m \u001b[0m\u001b[38;5;33m   labels   \u001b[0m\u001b[38;5;33m \u001b[0m│\u001b[38;5;128m \u001b[0m\u001b[38;5;128madata.obs['_scvi_labels']\u001b[0m\u001b[38;5;128m \u001b[0m│\n",
       "└──────────────┴───────────────────────────┘\n"
      ]
     },
     "metadata": {},
     "output_type": "display_data"
    },
    {
     "data": {
      "text/html": [
       "<pre style=\"white-space:pre;overflow-x:auto;line-height:normal;font-family:Menlo,'DejaVu Sans Mono',consolas,'Courier New',monospace\"><span style=\"font-style: italic\">                    batch State Registry                    </span>\n",
       "┏━━━━━━━━━━━━━━━━━━━━━━━┳━━━━━━━━━━━━┳━━━━━━━━━━━━━━━━━━━━━┓\n",
       "┃<span style=\"font-weight: bold\">    Source Location    </span>┃<span style=\"font-weight: bold\"> Categories </span>┃<span style=\"font-weight: bold\"> scvi-tools Encoding </span>┃\n",
       "┡━━━━━━━━━━━━━━━━━━━━━━━╇━━━━━━━━━━━━╇━━━━━━━━━━━━━━━━━━━━━┩\n",
       "│<span style=\"color: #0087ff; text-decoration-color: #0087ff\"> adata.obs['modality'] </span>│<span style=\"color: #008000; text-decoration-color: #008000\">   paired   </span>│<span style=\"color: #af00d7; text-decoration-color: #af00d7\">          0          </span>│\n",
       "└───────────────────────┴────────────┴─────────────────────┘\n",
       "</pre>\n"
      ],
      "text/plain": [
       "\u001b[3m                    batch State Registry                    \u001b[0m\n",
       "┏━━━━━━━━━━━━━━━━━━━━━━━┳━━━━━━━━━━━━┳━━━━━━━━━━━━━━━━━━━━━┓\n",
       "┃\u001b[1m \u001b[0m\u001b[1m   Source Location   \u001b[0m\u001b[1m \u001b[0m┃\u001b[1m \u001b[0m\u001b[1mCategories\u001b[0m\u001b[1m \u001b[0m┃\u001b[1m \u001b[0m\u001b[1mscvi-tools Encoding\u001b[0m\u001b[1m \u001b[0m┃\n",
       "┡━━━━━━━━━━━━━━━━━━━━━━━╇━━━━━━━━━━━━╇━━━━━━━━━━━━━━━━━━━━━┩\n",
       "│\u001b[38;5;33m \u001b[0m\u001b[38;5;33madata.obs['modality']\u001b[0m\u001b[38;5;33m \u001b[0m│\u001b[32m \u001b[0m\u001b[32m  paired  \u001b[0m\u001b[32m \u001b[0m│\u001b[38;5;128m \u001b[0m\u001b[38;5;128m         0         \u001b[0m\u001b[38;5;128m \u001b[0m│\n",
       "└───────────────────────┴────────────┴─────────────────────┘\n"
      ]
     },
     "metadata": {},
     "output_type": "display_data"
    },
    {
     "data": {
      "text/html": [
       "<pre style=\"white-space:pre;overflow-x:auto;line-height:normal;font-family:Menlo,'DejaVu Sans Mono',consolas,'Courier New',monospace\"><span style=\"font-style: italic\">                     labels State Registry                      </span>\n",
       "┏━━━━━━━━━━━━━━━━━━━━━━━━━━━┳━━━━━━━━━━━━┳━━━━━━━━━━━━━━━━━━━━━┓\n",
       "┃<span style=\"font-weight: bold\">      Source Location      </span>┃<span style=\"font-weight: bold\"> Categories </span>┃<span style=\"font-weight: bold\"> scvi-tools Encoding </span>┃\n",
       "┡━━━━━━━━━━━━━━━━━━━━━━━━━━━╇━━━━━━━━━━━━╇━━━━━━━━━━━━━━━━━━━━━┩\n",
       "│<span style=\"color: #0087ff; text-decoration-color: #0087ff\"> adata.obs['_scvi_labels'] </span>│<span style=\"color: #008000; text-decoration-color: #008000\">     0      </span>│<span style=\"color: #af00d7; text-decoration-color: #af00d7\">          0          </span>│\n",
       "└───────────────────────────┴────────────┴─────────────────────┘\n",
       "</pre>\n"
      ],
      "text/plain": [
       "\u001b[3m                     labels State Registry                      \u001b[0m\n",
       "┏━━━━━━━━━━━━━━━━━━━━━━━━━━━┳━━━━━━━━━━━━┳━━━━━━━━━━━━━━━━━━━━━┓\n",
       "┃\u001b[1m \u001b[0m\u001b[1m     Source Location     \u001b[0m\u001b[1m \u001b[0m┃\u001b[1m \u001b[0m\u001b[1mCategories\u001b[0m\u001b[1m \u001b[0m┃\u001b[1m \u001b[0m\u001b[1mscvi-tools Encoding\u001b[0m\u001b[1m \u001b[0m┃\n",
       "┡━━━━━━━━━━━━━━━━━━━━━━━━━━━╇━━━━━━━━━━━━╇━━━━━━━━━━━━━━━━━━━━━┩\n",
       "│\u001b[38;5;33m \u001b[0m\u001b[38;5;33madata.obs['_scvi_labels']\u001b[0m\u001b[38;5;33m \u001b[0m│\u001b[32m \u001b[0m\u001b[32m    0     \u001b[0m\u001b[32m \u001b[0m│\u001b[38;5;128m \u001b[0m\u001b[38;5;128m         0         \u001b[0m\u001b[38;5;128m \u001b[0m│\n",
       "└───────────────────────────┴────────────┴─────────────────────┘\n"
      ]
     },
     "metadata": {},
     "output_type": "display_data"
    },
    {
     "data": {
      "text/html": [
       "<pre style=\"white-space:pre;overflow-x:auto;line-height:normal;font-family:Menlo,'DejaVu Sans Mono',consolas,'Courier New',monospace\"><span style=\"font-style: italic\">                    batch State Registry                    </span>\n",
       "┏━━━━━━━━━━━━━━━━━━━━━━━┳━━━━━━━━━━━━┳━━━━━━━━━━━━━━━━━━━━━┓\n",
       "┃<span style=\"font-weight: bold\">    Source Location    </span>┃<span style=\"font-weight: bold\"> Categories </span>┃<span style=\"font-weight: bold\"> scvi-tools Encoding </span>┃\n",
       "┡━━━━━━━━━━━━━━━━━━━━━━━╇━━━━━━━━━━━━╇━━━━━━━━━━━━━━━━━━━━━┩\n",
       "│<span style=\"color: #0087ff; text-decoration-color: #0087ff\"> adata.obs['modality'] </span>│<span style=\"color: #008000; text-decoration-color: #008000\">   paired   </span>│<span style=\"color: #af00d7; text-decoration-color: #af00d7\">          0          </span>│\n",
       "└───────────────────────┴────────────┴─────────────────────┘\n",
       "</pre>\n"
      ],
      "text/plain": [
       "\u001b[3m                    batch State Registry                    \u001b[0m\n",
       "┏━━━━━━━━━━━━━━━━━━━━━━━┳━━━━━━━━━━━━┳━━━━━━━━━━━━━━━━━━━━━┓\n",
       "┃\u001b[1m \u001b[0m\u001b[1m   Source Location   \u001b[0m\u001b[1m \u001b[0m┃\u001b[1m \u001b[0m\u001b[1mCategories\u001b[0m\u001b[1m \u001b[0m┃\u001b[1m \u001b[0m\u001b[1mscvi-tools Encoding\u001b[0m\u001b[1m \u001b[0m┃\n",
       "┡━━━━━━━━━━━━━━━━━━━━━━━╇━━━━━━━━━━━━╇━━━━━━━━━━━━━━━━━━━━━┩\n",
       "│\u001b[38;5;33m \u001b[0m\u001b[38;5;33madata.obs['modality']\u001b[0m\u001b[38;5;33m \u001b[0m│\u001b[32m \u001b[0m\u001b[32m  paired  \u001b[0m\u001b[32m \u001b[0m│\u001b[38;5;128m \u001b[0m\u001b[38;5;128m         0         \u001b[0m\u001b[38;5;128m \u001b[0m│\n",
       "└───────────────────────┴────────────┴─────────────────────┘\n"
      ]
     },
     "metadata": {},
     "output_type": "display_data"
    }
   ],
   "source": [
    "mvi.view_anndata_setup()"
   ]
  },
  {
   "cell_type": "code",
   "execution_count": 12,
   "id": "ccd2ce9f",
   "metadata": {
    "ExecuteTime": {
     "end_time": "2022-12-29T00:15:53.983380Z",
     "start_time": "2022-12-29T00:06:19.890119Z"
    },
    "scrolled": true
   },
   "outputs": [
    {
     "name": "stderr",
     "output_type": "stream",
     "text": [
      "GPU available: True (cuda), used: True\n",
      "TPU available: False, using: 0 TPU cores\n",
      "IPU available: False, using: 0 IPUs\n",
      "HPU available: False, using: 0 HPUs\n",
      " LightningDeprecationWarning:/home/atac2rna/anaconda3/envs/atac2rna/lib/python3.9/site-packages/pytorch_lightning/trainer/configuration_validator.py:267: The `Callback.on_epoch_end` hook was deprecated in v1.6 and will be removed in v1.8. Please use `Callback.on_<train/validation/test>_epoch_end` instead.\n",
      "LOCAL_RANK: 0 - CUDA_VISIBLE_DEVICES: [1]\n"
     ]
    },
    {
     "name": "stdout",
     "output_type": "stream",
     "text": [
      "Epoch 1/500:   0%|                                                                                                                                                                          | 0/500 [00:00<?, ?it/s]"
     ]
    },
    {
     "name": "stderr",
     "output_type": "stream",
     "text": [
      " UserWarning:/home/atac2rna/anaconda3/envs/atac2rna/lib/python3.9/site-packages/scvi/distributions/_negative_binomial.py:482: The value argument must be within the support of the distribution\n",
      " UserWarning:/home/atac2rna/anaconda3/envs/atac2rna/lib/python3.9/site-packages/scvi/distributions/_negative_binomial.py:482: The value argument must be within the support of the distribution\n"
     ]
    },
    {
     "name": "stdout",
     "output_type": "stream",
     "text": [
      "Epoch 2/500:   0%|▎                                                                                                                                         | 1/500 [00:01<09:52,  1.19s/it, loss=1.26e+04, v_num=1]"
     ]
    },
    {
     "name": "stderr",
     "output_type": "stream",
     "text": [
      " UserWarning:/home/atac2rna/anaconda3/envs/atac2rna/lib/python3.9/site-packages/scvi/distributions/_negative_binomial.py:482: The value argument must be within the support of the distribution\n",
      " UserWarning:/home/atac2rna/anaconda3/envs/atac2rna/lib/python3.9/site-packages/scvi/distributions/_negative_binomial.py:482: The value argument must be within the support of the distribution\n"
     ]
    },
    {
     "name": "stdout",
     "output_type": "stream",
     "text": [
      "Epoch 3/500:   0%|▌                                                                                                                                         | 2/500 [00:02<09:49,  1.18s/it, loss=1.19e+04, v_num=1]"
     ]
    },
    {
     "name": "stderr",
     "output_type": "stream",
     "text": [
      " UserWarning:/home/atac2rna/anaconda3/envs/atac2rna/lib/python3.9/site-packages/scvi/distributions/_negative_binomial.py:482: The value argument must be within the support of the distribution\n",
      " UserWarning:/home/atac2rna/anaconda3/envs/atac2rna/lib/python3.9/site-packages/scvi/distributions/_negative_binomial.py:482: The value argument must be within the support of the distribution\n"
     ]
    },
    {
     "name": "stdout",
     "output_type": "stream",
     "text": [
      "Epoch 4/500:   1%|▊                                                                                                                                         | 3/500 [00:03<09:45,  1.18s/it, loss=1.14e+04, v_num=1]"
     ]
    },
    {
     "name": "stderr",
     "output_type": "stream",
     "text": [
      " UserWarning:/home/atac2rna/anaconda3/envs/atac2rna/lib/python3.9/site-packages/scvi/distributions/_negative_binomial.py:482: The value argument must be within the support of the distribution\n",
      " UserWarning:/home/atac2rna/anaconda3/envs/atac2rna/lib/python3.9/site-packages/scvi/distributions/_negative_binomial.py:482: The value argument must be within the support of the distribution\n"
     ]
    },
    {
     "name": "stdout",
     "output_type": "stream",
     "text": [
      "Epoch 5/500:   1%|█                                                                                                                                         | 4/500 [00:04<09:44,  1.18s/it, loss=1.09e+04, v_num=1]"
     ]
    },
    {
     "name": "stderr",
     "output_type": "stream",
     "text": [
      " UserWarning:/home/atac2rna/anaconda3/envs/atac2rna/lib/python3.9/site-packages/scvi/distributions/_negative_binomial.py:482: The value argument must be within the support of the distribution\n",
      " UserWarning:/home/atac2rna/anaconda3/envs/atac2rna/lib/python3.9/site-packages/scvi/distributions/_negative_binomial.py:482: The value argument must be within the support of the distribution\n"
     ]
    },
    {
     "name": "stdout",
     "output_type": "stream",
     "text": [
      "Epoch 6/500:   1%|█▍                                                                                                                                        | 5/500 [00:05<09:40,  1.17s/it, loss=1.06e+04, v_num=1]"
     ]
    },
    {
     "name": "stderr",
     "output_type": "stream",
     "text": [
      " UserWarning:/home/atac2rna/anaconda3/envs/atac2rna/lib/python3.9/site-packages/scvi/distributions/_negative_binomial.py:482: The value argument must be within the support of the distribution\n",
      " UserWarning:/home/atac2rna/anaconda3/envs/atac2rna/lib/python3.9/site-packages/scvi/distributions/_negative_binomial.py:482: The value argument must be within the support of the distribution\n"
     ]
    },
    {
     "name": "stdout",
     "output_type": "stream",
     "text": [
      "Epoch 7/500:   1%|█▋                                                                                                                                        | 6/500 [00:07<09:37,  1.17s/it, loss=1.03e+04, v_num=1]"
     ]
    },
    {
     "name": "stderr",
     "output_type": "stream",
     "text": [
      " UserWarning:/home/atac2rna/anaconda3/envs/atac2rna/lib/python3.9/site-packages/scvi/distributions/_negative_binomial.py:482: The value argument must be within the support of the distribution\n",
      " UserWarning:/home/atac2rna/anaconda3/envs/atac2rna/lib/python3.9/site-packages/scvi/distributions/_negative_binomial.py:482: The value argument must be within the support of the distribution\n"
     ]
    },
    {
     "name": "stdout",
     "output_type": "stream",
     "text": [
      "Epoch 8/500:   1%|█▉                                                                                                                                        | 7/500 [00:08<09:35,  1.17s/it, loss=1.02e+04, v_num=1]"
     ]
    },
    {
     "name": "stderr",
     "output_type": "stream",
     "text": [
      " UserWarning:/home/atac2rna/anaconda3/envs/atac2rna/lib/python3.9/site-packages/scvi/distributions/_negative_binomial.py:482: The value argument must be within the support of the distribution\n",
      " UserWarning:/home/atac2rna/anaconda3/envs/atac2rna/lib/python3.9/site-packages/scvi/distributions/_negative_binomial.py:482: The value argument must be within the support of the distribution\n"
     ]
    },
    {
     "name": "stdout",
     "output_type": "stream",
     "text": [
      "Epoch 9/500:   2%|██▎                                                                                                                                          | 8/500 [00:09<09:38,  1.18s/it, loss=1e+04, v_num=1]"
     ]
    },
    {
     "name": "stderr",
     "output_type": "stream",
     "text": [
      " UserWarning:/home/atac2rna/anaconda3/envs/atac2rna/lib/python3.9/site-packages/scvi/distributions/_negative_binomial.py:482: The value argument must be within the support of the distribution\n",
      " UserWarning:/home/atac2rna/anaconda3/envs/atac2rna/lib/python3.9/site-packages/scvi/distributions/_negative_binomial.py:482: The value argument must be within the support of the distribution\n"
     ]
    },
    {
     "name": "stdout",
     "output_type": "stream",
     "text": [
      "Epoch 10/500:   2%|██▍                                                                                                                                      | 9/500 [00:10<09:36,  1.17s/it, loss=9.85e+03, v_num=1]"
     ]
    },
    {
     "name": "stderr",
     "output_type": "stream",
     "text": [
      " UserWarning:/home/atac2rna/anaconda3/envs/atac2rna/lib/python3.9/site-packages/scvi/distributions/_negative_binomial.py:482: The value argument must be within the support of the distribution\n",
      " UserWarning:/home/atac2rna/anaconda3/envs/atac2rna/lib/python3.9/site-packages/scvi/distributions/_negative_binomial.py:482: The value argument must be within the support of the distribution\n"
     ]
    },
    {
     "name": "stdout",
     "output_type": "stream",
     "text": [
      "Epoch 11/500:   2%|██▋                                                                                                                                     | 10/500 [00:11<09:33,  1.17s/it, loss=9.76e+03, v_num=1]"
     ]
    },
    {
     "name": "stderr",
     "output_type": "stream",
     "text": [
      " UserWarning:/home/atac2rna/anaconda3/envs/atac2rna/lib/python3.9/site-packages/scvi/distributions/_negative_binomial.py:482: The value argument must be within the support of the distribution\n",
      " UserWarning:/home/atac2rna/anaconda3/envs/atac2rna/lib/python3.9/site-packages/scvi/distributions/_negative_binomial.py:482: The value argument must be within the support of the distribution\n"
     ]
    },
    {
     "name": "stdout",
     "output_type": "stream",
     "text": [
      "Epoch 12/500:   2%|███                                                                                                                                      | 11/500 [00:12<09:31,  1.17s/it, loss=9.6e+03, v_num=1]"
     ]
    },
    {
     "name": "stderr",
     "output_type": "stream",
     "text": [
      " UserWarning:/home/atac2rna/anaconda3/envs/atac2rna/lib/python3.9/site-packages/scvi/distributions/_negative_binomial.py:482: The value argument must be within the support of the distribution\n",
      " UserWarning:/home/atac2rna/anaconda3/envs/atac2rna/lib/python3.9/site-packages/scvi/distributions/_negative_binomial.py:482: The value argument must be within the support of the distribution\n"
     ]
    },
    {
     "name": "stdout",
     "output_type": "stream",
     "text": [
      "Epoch 13/500:   2%|███▎                                                                                                                                    | 12/500 [00:14<09:31,  1.17s/it, loss=9.38e+03, v_num=1]"
     ]
    },
    {
     "name": "stderr",
     "output_type": "stream",
     "text": [
      " UserWarning:/home/atac2rna/anaconda3/envs/atac2rna/lib/python3.9/site-packages/scvi/distributions/_negative_binomial.py:482: The value argument must be within the support of the distribution\n",
      " UserWarning:/home/atac2rna/anaconda3/envs/atac2rna/lib/python3.9/site-packages/scvi/distributions/_negative_binomial.py:482: The value argument must be within the support of the distribution\n"
     ]
    },
    {
     "name": "stdout",
     "output_type": "stream",
     "text": [
      "Epoch 14/500:   3%|███▌                                                                                                                                    | 13/500 [00:15<09:29,  1.17s/it, loss=9.23e+03, v_num=1]"
     ]
    },
    {
     "name": "stderr",
     "output_type": "stream",
     "text": [
      " UserWarning:/home/atac2rna/anaconda3/envs/atac2rna/lib/python3.9/site-packages/scvi/distributions/_negative_binomial.py:482: The value argument must be within the support of the distribution\n",
      " UserWarning:/home/atac2rna/anaconda3/envs/atac2rna/lib/python3.9/site-packages/scvi/distributions/_negative_binomial.py:482: The value argument must be within the support of the distribution\n"
     ]
    },
    {
     "name": "stdout",
     "output_type": "stream",
     "text": [
      "Epoch 15/500:   3%|███▊                                                                                                                                    | 14/500 [00:16<09:27,  1.17s/it, loss=9.18e+03, v_num=1]"
     ]
    },
    {
     "name": "stderr",
     "output_type": "stream",
     "text": [
      " UserWarning:/home/atac2rna/anaconda3/envs/atac2rna/lib/python3.9/site-packages/scvi/distributions/_negative_binomial.py:482: The value argument must be within the support of the distribution\n",
      " UserWarning:/home/atac2rna/anaconda3/envs/atac2rna/lib/python3.9/site-packages/scvi/distributions/_negative_binomial.py:482: The value argument must be within the support of the distribution\n"
     ]
    },
    {
     "name": "stdout",
     "output_type": "stream",
     "text": [
      "Epoch 16/500:   3%|████                                                                                                                                    | 15/500 [00:17<09:26,  1.17s/it, loss=9.04e+03, v_num=1]"
     ]
    },
    {
     "name": "stderr",
     "output_type": "stream",
     "text": [
      " UserWarning:/home/atac2rna/anaconda3/envs/atac2rna/lib/python3.9/site-packages/scvi/distributions/_negative_binomial.py:482: The value argument must be within the support of the distribution\n",
      " UserWarning:/home/atac2rna/anaconda3/envs/atac2rna/lib/python3.9/site-packages/scvi/distributions/_negative_binomial.py:482: The value argument must be within the support of the distribution\n"
     ]
    },
    {
     "name": "stdout",
     "output_type": "stream",
     "text": [
      "Epoch 17/500:   3%|████▎                                                                                                                                   | 16/500 [00:18<09:21,  1.16s/it, loss=9.01e+03, v_num=1]"
     ]
    },
    {
     "name": "stderr",
     "output_type": "stream",
     "text": [
      " UserWarning:/home/atac2rna/anaconda3/envs/atac2rna/lib/python3.9/site-packages/scvi/distributions/_negative_binomial.py:482: The value argument must be within the support of the distribution\n",
      " UserWarning:/home/atac2rna/anaconda3/envs/atac2rna/lib/python3.9/site-packages/scvi/distributions/_negative_binomial.py:482: The value argument must be within the support of the distribution\n"
     ]
    },
    {
     "name": "stdout",
     "output_type": "stream",
     "text": [
      "Epoch 18/500:   3%|████▌                                                                                                                                   | 17/500 [00:19<09:21,  1.16s/it, loss=8.88e+03, v_num=1]"
     ]
    },
    {
     "name": "stderr",
     "output_type": "stream",
     "text": [
      " UserWarning:/home/atac2rna/anaconda3/envs/atac2rna/lib/python3.9/site-packages/scvi/distributions/_negative_binomial.py:482: The value argument must be within the support of the distribution\n",
      " UserWarning:/home/atac2rna/anaconda3/envs/atac2rna/lib/python3.9/site-packages/scvi/distributions/_negative_binomial.py:482: The value argument must be within the support of the distribution\n"
     ]
    },
    {
     "name": "stdout",
     "output_type": "stream",
     "text": [
      "Epoch 19/500:   4%|████▉                                                                                                                                   | 18/500 [00:20<09:09,  1.14s/it, loss=8.83e+03, v_num=1]"
     ]
    },
    {
     "name": "stderr",
     "output_type": "stream",
     "text": [
      " UserWarning:/home/atac2rna/anaconda3/envs/atac2rna/lib/python3.9/site-packages/scvi/distributions/_negative_binomial.py:482: The value argument must be within the support of the distribution\n",
      " UserWarning:/home/atac2rna/anaconda3/envs/atac2rna/lib/python3.9/site-packages/scvi/distributions/_negative_binomial.py:482: The value argument must be within the support of the distribution\n"
     ]
    },
    {
     "name": "stdout",
     "output_type": "stream",
     "text": [
      "Epoch 20/500:   4%|█████▏                                                                                                                                  | 19/500 [00:22<09:11,  1.15s/it, loss=8.81e+03, v_num=1]"
     ]
    },
    {
     "name": "stderr",
     "output_type": "stream",
     "text": [
      " UserWarning:/home/atac2rna/anaconda3/envs/atac2rna/lib/python3.9/site-packages/scvi/distributions/_negative_binomial.py:482: The value argument must be within the support of the distribution\n",
      " UserWarning:/home/atac2rna/anaconda3/envs/atac2rna/lib/python3.9/site-packages/scvi/distributions/_negative_binomial.py:482: The value argument must be within the support of the distribution\n"
     ]
    },
    {
     "name": "stdout",
     "output_type": "stream",
     "text": [
      "Epoch 21/500:   4%|█████▍                                                                                                                                  | 20/500 [00:23<09:16,  1.16s/it, loss=8.73e+03, v_num=1]"
     ]
    },
    {
     "name": "stderr",
     "output_type": "stream",
     "text": [
      " UserWarning:/home/atac2rna/anaconda3/envs/atac2rna/lib/python3.9/site-packages/scvi/distributions/_negative_binomial.py:482: The value argument must be within the support of the distribution\n",
      " UserWarning:/home/atac2rna/anaconda3/envs/atac2rna/lib/python3.9/site-packages/scvi/distributions/_negative_binomial.py:482: The value argument must be within the support of the distribution\n"
     ]
    },
    {
     "name": "stdout",
     "output_type": "stream",
     "text": [
      "Epoch 22/500:   4%|█████▋                                                                                                                                  | 21/500 [00:24<09:15,  1.16s/it, loss=8.68e+03, v_num=1]"
     ]
    },
    {
     "name": "stderr",
     "output_type": "stream",
     "text": [
      " UserWarning:/home/atac2rna/anaconda3/envs/atac2rna/lib/python3.9/site-packages/scvi/distributions/_negative_binomial.py:482: The value argument must be within the support of the distribution\n",
      " UserWarning:/home/atac2rna/anaconda3/envs/atac2rna/lib/python3.9/site-packages/scvi/distributions/_negative_binomial.py:482: The value argument must be within the support of the distribution\n"
     ]
    },
    {
     "name": "stdout",
     "output_type": "stream",
     "text": [
      "Epoch 23/500:   4%|█████▉                                                                                                                                  | 22/500 [00:25<09:14,  1.16s/it, loss=8.59e+03, v_num=1]"
     ]
    },
    {
     "name": "stderr",
     "output_type": "stream",
     "text": [
      " UserWarning:/home/atac2rna/anaconda3/envs/atac2rna/lib/python3.9/site-packages/scvi/distributions/_negative_binomial.py:482: The value argument must be within the support of the distribution\n",
      " UserWarning:/home/atac2rna/anaconda3/envs/atac2rna/lib/python3.9/site-packages/scvi/distributions/_negative_binomial.py:482: The value argument must be within the support of the distribution\n"
     ]
    },
    {
     "name": "stdout",
     "output_type": "stream",
     "text": [
      "Epoch 24/500:   5%|██████▎                                                                                                                                 | 23/500 [00:26<09:18,  1.17s/it, loss=8.54e+03, v_num=1]"
     ]
    },
    {
     "name": "stderr",
     "output_type": "stream",
     "text": [
      " UserWarning:/home/atac2rna/anaconda3/envs/atac2rna/lib/python3.9/site-packages/scvi/distributions/_negative_binomial.py:482: The value argument must be within the support of the distribution\n",
      " UserWarning:/home/atac2rna/anaconda3/envs/atac2rna/lib/python3.9/site-packages/scvi/distributions/_negative_binomial.py:482: The value argument must be within the support of the distribution\n"
     ]
    },
    {
     "name": "stdout",
     "output_type": "stream",
     "text": [
      "Epoch 25/500:   5%|██████▌                                                                                                                                 | 24/500 [00:28<09:17,  1.17s/it, loss=8.43e+03, v_num=1]"
     ]
    },
    {
     "name": "stderr",
     "output_type": "stream",
     "text": [
      " UserWarning:/home/atac2rna/anaconda3/envs/atac2rna/lib/python3.9/site-packages/scvi/distributions/_negative_binomial.py:482: The value argument must be within the support of the distribution\n",
      " UserWarning:/home/atac2rna/anaconda3/envs/atac2rna/lib/python3.9/site-packages/scvi/distributions/_negative_binomial.py:482: The value argument must be within the support of the distribution\n"
     ]
    },
    {
     "name": "stdout",
     "output_type": "stream",
     "text": [
      "Epoch 26/500:   5%|██████▊                                                                                                                                 | 25/500 [00:29<09:16,  1.17s/it, loss=8.39e+03, v_num=1]"
     ]
    },
    {
     "name": "stderr",
     "output_type": "stream",
     "text": [
      " UserWarning:/home/atac2rna/anaconda3/envs/atac2rna/lib/python3.9/site-packages/scvi/distributions/_negative_binomial.py:482: The value argument must be within the support of the distribution\n",
      " UserWarning:/home/atac2rna/anaconda3/envs/atac2rna/lib/python3.9/site-packages/scvi/distributions/_negative_binomial.py:482: The value argument must be within the support of the distribution\n"
     ]
    },
    {
     "name": "stdout",
     "output_type": "stream",
     "text": [
      "Epoch 27/500:   5%|███████                                                                                                                                  | 26/500 [00:30<09:17,  1.18s/it, loss=8.3e+03, v_num=1]"
     ]
    },
    {
     "name": "stderr",
     "output_type": "stream",
     "text": [
      " UserWarning:/home/atac2rna/anaconda3/envs/atac2rna/lib/python3.9/site-packages/scvi/distributions/_negative_binomial.py:482: The value argument must be within the support of the distribution\n",
      " UserWarning:/home/atac2rna/anaconda3/envs/atac2rna/lib/python3.9/site-packages/scvi/distributions/_negative_binomial.py:482: The value argument must be within the support of the distribution\n"
     ]
    },
    {
     "name": "stdout",
     "output_type": "stream",
     "text": [
      "Epoch 28/500:   5%|███████▎                                                                                                                                | 27/500 [00:31<09:14,  1.17s/it, loss=8.31e+03, v_num=1]"
     ]
    },
    {
     "name": "stderr",
     "output_type": "stream",
     "text": [
      " UserWarning:/home/atac2rna/anaconda3/envs/atac2rna/lib/python3.9/site-packages/scvi/distributions/_negative_binomial.py:482: The value argument must be within the support of the distribution\n",
      " UserWarning:/home/atac2rna/anaconda3/envs/atac2rna/lib/python3.9/site-packages/scvi/distributions/_negative_binomial.py:482: The value argument must be within the support of the distribution\n"
     ]
    },
    {
     "name": "stdout",
     "output_type": "stream",
     "text": [
      "Epoch 29/500:   6%|███████▌                                                                                                                                | 28/500 [00:32<09:14,  1.17s/it, loss=8.26e+03, v_num=1]"
     ]
    },
    {
     "name": "stderr",
     "output_type": "stream",
     "text": [
      " UserWarning:/home/atac2rna/anaconda3/envs/atac2rna/lib/python3.9/site-packages/scvi/distributions/_negative_binomial.py:482: The value argument must be within the support of the distribution\n",
      " UserWarning:/home/atac2rna/anaconda3/envs/atac2rna/lib/python3.9/site-packages/scvi/distributions/_negative_binomial.py:482: The value argument must be within the support of the distribution\n"
     ]
    },
    {
     "name": "stdout",
     "output_type": "stream",
     "text": [
      "Epoch 30/500:   6%|███████▉                                                                                                                                 | 29/500 [00:33<09:15,  1.18s/it, loss=8.2e+03, v_num=1]"
     ]
    },
    {
     "name": "stderr",
     "output_type": "stream",
     "text": [
      " UserWarning:/home/atac2rna/anaconda3/envs/atac2rna/lib/python3.9/site-packages/scvi/distributions/_negative_binomial.py:482: The value argument must be within the support of the distribution\n",
      " UserWarning:/home/atac2rna/anaconda3/envs/atac2rna/lib/python3.9/site-packages/scvi/distributions/_negative_binomial.py:482: The value argument must be within the support of the distribution\n"
     ]
    },
    {
     "name": "stdout",
     "output_type": "stream",
     "text": [
      "Epoch 31/500:   6%|████████▏                                                                                                                               | 30/500 [00:35<09:17,  1.19s/it, loss=8.14e+03, v_num=1]"
     ]
    },
    {
     "name": "stderr",
     "output_type": "stream",
     "text": [
      " UserWarning:/home/atac2rna/anaconda3/envs/atac2rna/lib/python3.9/site-packages/scvi/distributions/_negative_binomial.py:482: The value argument must be within the support of the distribution\n",
      " UserWarning:/home/atac2rna/anaconda3/envs/atac2rna/lib/python3.9/site-packages/scvi/distributions/_negative_binomial.py:482: The value argument must be within the support of the distribution\n"
     ]
    },
    {
     "name": "stdout",
     "output_type": "stream",
     "text": [
      "Epoch 32/500:   6%|████████▍                                                                                                                               | 31/500 [00:36<09:16,  1.19s/it, loss=8.03e+03, v_num=1]"
     ]
    },
    {
     "name": "stderr",
     "output_type": "stream",
     "text": [
      " UserWarning:/home/atac2rna/anaconda3/envs/atac2rna/lib/python3.9/site-packages/scvi/distributions/_negative_binomial.py:482: The value argument must be within the support of the distribution\n",
      " UserWarning:/home/atac2rna/anaconda3/envs/atac2rna/lib/python3.9/site-packages/scvi/distributions/_negative_binomial.py:482: The value argument must be within the support of the distribution\n"
     ]
    },
    {
     "name": "stdout",
     "output_type": "stream",
     "text": [
      "Epoch 33/500:   6%|████████▋                                                                                                                               | 32/500 [00:37<09:16,  1.19s/it, loss=7.97e+03, v_num=1]"
     ]
    },
    {
     "name": "stderr",
     "output_type": "stream",
     "text": [
      " UserWarning:/home/atac2rna/anaconda3/envs/atac2rna/lib/python3.9/site-packages/scvi/distributions/_negative_binomial.py:482: The value argument must be within the support of the distribution\n",
      " UserWarning:/home/atac2rna/anaconda3/envs/atac2rna/lib/python3.9/site-packages/scvi/distributions/_negative_binomial.py:482: The value argument must be within the support of the distribution\n"
     ]
    },
    {
     "name": "stdout",
     "output_type": "stream",
     "text": [
      "Epoch 34/500:   7%|████████▉                                                                                                                               | 33/500 [00:38<09:15,  1.19s/it, loss=7.87e+03, v_num=1]"
     ]
    },
    {
     "name": "stderr",
     "output_type": "stream",
     "text": [
      " UserWarning:/home/atac2rna/anaconda3/envs/atac2rna/lib/python3.9/site-packages/scvi/distributions/_negative_binomial.py:482: The value argument must be within the support of the distribution\n",
      " UserWarning:/home/atac2rna/anaconda3/envs/atac2rna/lib/python3.9/site-packages/scvi/distributions/_negative_binomial.py:482: The value argument must be within the support of the distribution\n"
     ]
    },
    {
     "name": "stdout",
     "output_type": "stream",
     "text": [
      "Epoch 35/500:   7%|█████████▏                                                                                                                              | 34/500 [00:39<09:16,  1.19s/it, loss=7.79e+03, v_num=1]"
     ]
    },
    {
     "name": "stderr",
     "output_type": "stream",
     "text": [
      " UserWarning:/home/atac2rna/anaconda3/envs/atac2rna/lib/python3.9/site-packages/scvi/distributions/_negative_binomial.py:482: The value argument must be within the support of the distribution\n",
      " UserWarning:/home/atac2rna/anaconda3/envs/atac2rna/lib/python3.9/site-packages/scvi/distributions/_negative_binomial.py:482: The value argument must be within the support of the distribution\n"
     ]
    },
    {
     "name": "stdout",
     "output_type": "stream",
     "text": [
      "Epoch 36/500:   7%|█████████▌                                                                                                                              | 35/500 [00:41<09:16,  1.20s/it, loss=7.71e+03, v_num=1]"
     ]
    },
    {
     "name": "stderr",
     "output_type": "stream",
     "text": [
      " UserWarning:/home/atac2rna/anaconda3/envs/atac2rna/lib/python3.9/site-packages/scvi/distributions/_negative_binomial.py:482: The value argument must be within the support of the distribution\n",
      " UserWarning:/home/atac2rna/anaconda3/envs/atac2rna/lib/python3.9/site-packages/scvi/distributions/_negative_binomial.py:482: The value argument must be within the support of the distribution\n"
     ]
    },
    {
     "name": "stdout",
     "output_type": "stream",
     "text": [
      "Epoch 37/500:   7%|█████████▊                                                                                                                              | 36/500 [00:42<09:12,  1.19s/it, loss=7.63e+03, v_num=1]"
     ]
    },
    {
     "name": "stderr",
     "output_type": "stream",
     "text": [
      " UserWarning:/home/atac2rna/anaconda3/envs/atac2rna/lib/python3.9/site-packages/scvi/distributions/_negative_binomial.py:482: The value argument must be within the support of the distribution\n",
      " UserWarning:/home/atac2rna/anaconda3/envs/atac2rna/lib/python3.9/site-packages/scvi/distributions/_negative_binomial.py:482: The value argument must be within the support of the distribution\n"
     ]
    },
    {
     "name": "stdout",
     "output_type": "stream",
     "text": [
      "Epoch 38/500:   7%|██████████                                                                                                                              | 37/500 [00:43<09:13,  1.20s/it, loss=7.57e+03, v_num=1]"
     ]
    },
    {
     "name": "stderr",
     "output_type": "stream",
     "text": [
      " UserWarning:/home/atac2rna/anaconda3/envs/atac2rna/lib/python3.9/site-packages/scvi/distributions/_negative_binomial.py:482: The value argument must be within the support of the distribution\n",
      " UserWarning:/home/atac2rna/anaconda3/envs/atac2rna/lib/python3.9/site-packages/scvi/distributions/_negative_binomial.py:482: The value argument must be within the support of the distribution\n"
     ]
    },
    {
     "name": "stdout",
     "output_type": "stream",
     "text": [
      "Epoch 39/500:   8%|██████████▎                                                                                                                             | 38/500 [00:44<09:13,  1.20s/it, loss=7.48e+03, v_num=1]"
     ]
    },
    {
     "name": "stderr",
     "output_type": "stream",
     "text": [
      " UserWarning:/home/atac2rna/anaconda3/envs/atac2rna/lib/python3.9/site-packages/scvi/distributions/_negative_binomial.py:482: The value argument must be within the support of the distribution\n",
      " UserWarning:/home/atac2rna/anaconda3/envs/atac2rna/lib/python3.9/site-packages/scvi/distributions/_negative_binomial.py:482: The value argument must be within the support of the distribution\n"
     ]
    },
    {
     "name": "stdout",
     "output_type": "stream",
     "text": [
      "Epoch 40/500:   8%|██████████▌                                                                                                                             | 39/500 [00:45<09:09,  1.19s/it, loss=7.38e+03, v_num=1]"
     ]
    },
    {
     "name": "stderr",
     "output_type": "stream",
     "text": [
      " UserWarning:/home/atac2rna/anaconda3/envs/atac2rna/lib/python3.9/site-packages/scvi/distributions/_negative_binomial.py:482: The value argument must be within the support of the distribution\n",
      " UserWarning:/home/atac2rna/anaconda3/envs/atac2rna/lib/python3.9/site-packages/scvi/distributions/_negative_binomial.py:482: The value argument must be within the support of the distribution\n"
     ]
    },
    {
     "name": "stdout",
     "output_type": "stream",
     "text": [
      "Epoch 41/500:   8%|██████████▉                                                                                                                             | 40/500 [00:47<09:09,  1.19s/it, loss=7.38e+03, v_num=1]"
     ]
    },
    {
     "name": "stderr",
     "output_type": "stream",
     "text": [
      " UserWarning:/home/atac2rna/anaconda3/envs/atac2rna/lib/python3.9/site-packages/scvi/distributions/_negative_binomial.py:482: The value argument must be within the support of the distribution\n",
      " UserWarning:/home/atac2rna/anaconda3/envs/atac2rna/lib/python3.9/site-packages/scvi/distributions/_negative_binomial.py:482: The value argument must be within the support of the distribution\n"
     ]
    },
    {
     "name": "stdout",
     "output_type": "stream",
     "text": [
      "Epoch 42/500:   8%|███████████▏                                                                                                                             | 41/500 [00:48<09:03,  1.18s/it, loss=7.3e+03, v_num=1]"
     ]
    },
    {
     "name": "stderr",
     "output_type": "stream",
     "text": [
      " UserWarning:/home/atac2rna/anaconda3/envs/atac2rna/lib/python3.9/site-packages/scvi/distributions/_negative_binomial.py:482: The value argument must be within the support of the distribution\n",
      " UserWarning:/home/atac2rna/anaconda3/envs/atac2rna/lib/python3.9/site-packages/scvi/distributions/_negative_binomial.py:482: The value argument must be within the support of the distribution\n"
     ]
    },
    {
     "name": "stdout",
     "output_type": "stream",
     "text": [
      "Epoch 43/500:   8%|███████████▍                                                                                                                            | 42/500 [00:49<09:08,  1.20s/it, loss=7.22e+03, v_num=1]"
     ]
    },
    {
     "name": "stderr",
     "output_type": "stream",
     "text": [
      " UserWarning:/home/atac2rna/anaconda3/envs/atac2rna/lib/python3.9/site-packages/scvi/distributions/_negative_binomial.py:482: The value argument must be within the support of the distribution\n",
      " UserWarning:/home/atac2rna/anaconda3/envs/atac2rna/lib/python3.9/site-packages/scvi/distributions/_negative_binomial.py:482: The value argument must be within the support of the distribution\n"
     ]
    },
    {
     "name": "stdout",
     "output_type": "stream",
     "text": [
      "Epoch 44/500:   9%|███████████▊                                                                                                                             | 43/500 [00:50<09:22,  1.23s/it, loss=7.2e+03, v_num=1]"
     ]
    },
    {
     "name": "stderr",
     "output_type": "stream",
     "text": [
      " UserWarning:/home/atac2rna/anaconda3/envs/atac2rna/lib/python3.9/site-packages/scvi/distributions/_negative_binomial.py:482: The value argument must be within the support of the distribution\n",
      " UserWarning:/home/atac2rna/anaconda3/envs/atac2rna/lib/python3.9/site-packages/scvi/distributions/_negative_binomial.py:482: The value argument must be within the support of the distribution\n"
     ]
    },
    {
     "name": "stdout",
     "output_type": "stream",
     "text": [
      "Epoch 45/500:   9%|███████████▉                                                                                                                            | 44/500 [00:51<09:16,  1.22s/it, loss=7.11e+03, v_num=1]"
     ]
    },
    {
     "name": "stderr",
     "output_type": "stream",
     "text": [
      " UserWarning:/home/atac2rna/anaconda3/envs/atac2rna/lib/python3.9/site-packages/scvi/distributions/_negative_binomial.py:482: The value argument must be within the support of the distribution\n",
      " UserWarning:/home/atac2rna/anaconda3/envs/atac2rna/lib/python3.9/site-packages/scvi/distributions/_negative_binomial.py:482: The value argument must be within the support of the distribution\n"
     ]
    },
    {
     "name": "stdout",
     "output_type": "stream",
     "text": [
      "Epoch 46/500:   9%|████████████▏                                                                                                                           | 45/500 [00:53<09:11,  1.21s/it, loss=7.07e+03, v_num=1]"
     ]
    },
    {
     "name": "stderr",
     "output_type": "stream",
     "text": [
      " UserWarning:/home/atac2rna/anaconda3/envs/atac2rna/lib/python3.9/site-packages/scvi/distributions/_negative_binomial.py:482: The value argument must be within the support of the distribution\n",
      " UserWarning:/home/atac2rna/anaconda3/envs/atac2rna/lib/python3.9/site-packages/scvi/distributions/_negative_binomial.py:482: The value argument must be within the support of the distribution\n"
     ]
    },
    {
     "name": "stdout",
     "output_type": "stream",
     "text": [
      "Epoch 47/500:   9%|████████████▌                                                                                                                           | 46/500 [00:54<09:08,  1.21s/it, loss=7.02e+03, v_num=1]"
     ]
    },
    {
     "name": "stderr",
     "output_type": "stream",
     "text": [
      " UserWarning:/home/atac2rna/anaconda3/envs/atac2rna/lib/python3.9/site-packages/scvi/distributions/_negative_binomial.py:482: The value argument must be within the support of the distribution\n",
      " UserWarning:/home/atac2rna/anaconda3/envs/atac2rna/lib/python3.9/site-packages/scvi/distributions/_negative_binomial.py:482: The value argument must be within the support of the distribution\n"
     ]
    },
    {
     "name": "stdout",
     "output_type": "stream",
     "text": [
      "Epoch 48/500:   9%|████████████▊                                                                                                                           | 47/500 [00:55<09:01,  1.20s/it, loss=6.96e+03, v_num=1]"
     ]
    },
    {
     "name": "stderr",
     "output_type": "stream",
     "text": [
      " UserWarning:/home/atac2rna/anaconda3/envs/atac2rna/lib/python3.9/site-packages/scvi/distributions/_negative_binomial.py:482: The value argument must be within the support of the distribution\n",
      " UserWarning:/home/atac2rna/anaconda3/envs/atac2rna/lib/python3.9/site-packages/scvi/distributions/_negative_binomial.py:482: The value argument must be within the support of the distribution\n"
     ]
    },
    {
     "name": "stdout",
     "output_type": "stream",
     "text": [
      "Epoch 49/500:  10%|█████████████                                                                                                                           | 48/500 [00:56<08:55,  1.18s/it, loss=6.89e+03, v_num=1]"
     ]
    },
    {
     "name": "stderr",
     "output_type": "stream",
     "text": [
      " UserWarning:/home/atac2rna/anaconda3/envs/atac2rna/lib/python3.9/site-packages/scvi/distributions/_negative_binomial.py:482: The value argument must be within the support of the distribution\n",
      " UserWarning:/home/atac2rna/anaconda3/envs/atac2rna/lib/python3.9/site-packages/scvi/distributions/_negative_binomial.py:482: The value argument must be within the support of the distribution\n"
     ]
    },
    {
     "name": "stdout",
     "output_type": "stream",
     "text": [
      "Epoch 50/500:  10%|█████████████▎                                                                                                                          | 49/500 [00:57<08:52,  1.18s/it, loss=6.88e+03, v_num=1]"
     ]
    },
    {
     "name": "stderr",
     "output_type": "stream",
     "text": [
      " UserWarning:/home/atac2rna/anaconda3/envs/atac2rna/lib/python3.9/site-packages/scvi/distributions/_negative_binomial.py:482: The value argument must be within the support of the distribution\n",
      " UserWarning:/home/atac2rna/anaconda3/envs/atac2rna/lib/python3.9/site-packages/scvi/distributions/_negative_binomial.py:482: The value argument must be within the support of the distribution\n"
     ]
    },
    {
     "name": "stdout",
     "output_type": "stream",
     "text": [
      "Epoch 51/500:  10%|█████████████▌                                                                                                                          | 50/500 [00:59<08:49,  1.18s/it, loss=6.82e+03, v_num=1]"
     ]
    },
    {
     "name": "stderr",
     "output_type": "stream",
     "text": [
      " UserWarning:/home/atac2rna/anaconda3/envs/atac2rna/lib/python3.9/site-packages/scvi/distributions/_negative_binomial.py:482: The value argument must be within the support of the distribution\n",
      " UserWarning:/home/atac2rna/anaconda3/envs/atac2rna/lib/python3.9/site-packages/scvi/distributions/_negative_binomial.py:482: The value argument must be within the support of the distribution\n"
     ]
    },
    {
     "name": "stdout",
     "output_type": "stream",
     "text": [
      "Epoch 52/500:  10%|█████████████▉                                                                                                                           | 51/500 [01:00<08:36,  1.15s/it, loss=6.8e+03, v_num=1]"
     ]
    },
    {
     "name": "stderr",
     "output_type": "stream",
     "text": [
      " UserWarning:/home/atac2rna/anaconda3/envs/atac2rna/lib/python3.9/site-packages/scvi/distributions/_negative_binomial.py:482: The value argument must be within the support of the distribution\n",
      " UserWarning:/home/atac2rna/anaconda3/envs/atac2rna/lib/python3.9/site-packages/scvi/distributions/_negative_binomial.py:482: The value argument must be within the support of the distribution\n"
     ]
    },
    {
     "name": "stdout",
     "output_type": "stream",
     "text": [
      "Epoch 53/500:  10%|██████████████▏                                                                                                                         | 52/500 [01:01<08:14,  1.10s/it, loss=6.74e+03, v_num=1]"
     ]
    },
    {
     "name": "stderr",
     "output_type": "stream",
     "text": [
      " UserWarning:/home/atac2rna/anaconda3/envs/atac2rna/lib/python3.9/site-packages/scvi/distributions/_negative_binomial.py:482: The value argument must be within the support of the distribution\n",
      " UserWarning:/home/atac2rna/anaconda3/envs/atac2rna/lib/python3.9/site-packages/scvi/distributions/_negative_binomial.py:482: The value argument must be within the support of the distribution\n"
     ]
    },
    {
     "name": "stdout",
     "output_type": "stream",
     "text": [
      "Epoch 54/500:  11%|██████████████▍                                                                                                                         | 53/500 [01:02<07:52,  1.06s/it, loss=6.74e+03, v_num=1]"
     ]
    },
    {
     "name": "stderr",
     "output_type": "stream",
     "text": [
      " UserWarning:/home/atac2rna/anaconda3/envs/atac2rna/lib/python3.9/site-packages/scvi/distributions/_negative_binomial.py:482: The value argument must be within the support of the distribution\n",
      " UserWarning:/home/atac2rna/anaconda3/envs/atac2rna/lib/python3.9/site-packages/scvi/distributions/_negative_binomial.py:482: The value argument must be within the support of the distribution\n"
     ]
    },
    {
     "name": "stdout",
     "output_type": "stream",
     "text": [
      "Epoch 55/500:  11%|██████████████▋                                                                                                                         | 54/500 [01:02<07:38,  1.03s/it, loss=6.65e+03, v_num=1]"
     ]
    },
    {
     "name": "stderr",
     "output_type": "stream",
     "text": [
      " UserWarning:/home/atac2rna/anaconda3/envs/atac2rna/lib/python3.9/site-packages/scvi/distributions/_negative_binomial.py:482: The value argument must be within the support of the distribution\n",
      " UserWarning:/home/atac2rna/anaconda3/envs/atac2rna/lib/python3.9/site-packages/scvi/distributions/_negative_binomial.py:482: The value argument must be within the support of the distribution\n"
     ]
    },
    {
     "name": "stdout",
     "output_type": "stream",
     "text": [
      "Epoch 56/500:  11%|██████████████▉                                                                                                                         | 55/500 [01:04<07:58,  1.08s/it, loss=6.65e+03, v_num=1]"
     ]
    },
    {
     "name": "stderr",
     "output_type": "stream",
     "text": [
      " UserWarning:/home/atac2rna/anaconda3/envs/atac2rna/lib/python3.9/site-packages/scvi/distributions/_negative_binomial.py:482: The value argument must be within the support of the distribution\n",
      " UserWarning:/home/atac2rna/anaconda3/envs/atac2rna/lib/python3.9/site-packages/scvi/distributions/_negative_binomial.py:482: The value argument must be within the support of the distribution\n"
     ]
    },
    {
     "name": "stdout",
     "output_type": "stream",
     "text": [
      "Epoch 57/500:  11%|███████████████▏                                                                                                                        | 56/500 [01:05<08:10,  1.11s/it, loss=6.61e+03, v_num=1]"
     ]
    },
    {
     "name": "stderr",
     "output_type": "stream",
     "text": [
      " UserWarning:/home/atac2rna/anaconda3/envs/atac2rna/lib/python3.9/site-packages/scvi/distributions/_negative_binomial.py:482: The value argument must be within the support of the distribution\n",
      " UserWarning:/home/atac2rna/anaconda3/envs/atac2rna/lib/python3.9/site-packages/scvi/distributions/_negative_binomial.py:482: The value argument must be within the support of the distribution\n"
     ]
    },
    {
     "name": "stdout",
     "output_type": "stream",
     "text": [
      "Epoch 58/500:  11%|███████████████▌                                                                                                                        | 57/500 [01:06<08:21,  1.13s/it, loss=6.59e+03, v_num=1]"
     ]
    },
    {
     "name": "stderr",
     "output_type": "stream",
     "text": [
      " UserWarning:/home/atac2rna/anaconda3/envs/atac2rna/lib/python3.9/site-packages/scvi/distributions/_negative_binomial.py:482: The value argument must be within the support of the distribution\n",
      " UserWarning:/home/atac2rna/anaconda3/envs/atac2rna/lib/python3.9/site-packages/scvi/distributions/_negative_binomial.py:482: The value argument must be within the support of the distribution\n"
     ]
    },
    {
     "name": "stdout",
     "output_type": "stream",
     "text": [
      "Epoch 59/500:  12%|███████████████▊                                                                                                                        | 58/500 [01:07<08:25,  1.14s/it, loss=6.53e+03, v_num=1]"
     ]
    },
    {
     "name": "stderr",
     "output_type": "stream",
     "text": [
      " UserWarning:/home/atac2rna/anaconda3/envs/atac2rna/lib/python3.9/site-packages/scvi/distributions/_negative_binomial.py:482: The value argument must be within the support of the distribution\n",
      " UserWarning:/home/atac2rna/anaconda3/envs/atac2rna/lib/python3.9/site-packages/scvi/distributions/_negative_binomial.py:482: The value argument must be within the support of the distribution\n"
     ]
    },
    {
     "name": "stdout",
     "output_type": "stream",
     "text": [
      "Epoch 60/500:  12%|████████████████                                                                                                                        | 59/500 [01:08<08:24,  1.14s/it, loss=6.46e+03, v_num=1]"
     ]
    },
    {
     "name": "stderr",
     "output_type": "stream",
     "text": [
      " UserWarning:/home/atac2rna/anaconda3/envs/atac2rna/lib/python3.9/site-packages/scvi/distributions/_negative_binomial.py:482: The value argument must be within the support of the distribution\n",
      " UserWarning:/home/atac2rna/anaconda3/envs/atac2rna/lib/python3.9/site-packages/scvi/distributions/_negative_binomial.py:482: The value argument must be within the support of the distribution\n"
     ]
    },
    {
     "name": "stdout",
     "output_type": "stream",
     "text": [
      "Epoch 61/500:  12%|████████████████▎                                                                                                                       | 60/500 [01:10<08:26,  1.15s/it, loss=6.45e+03, v_num=1]"
     ]
    },
    {
     "name": "stderr",
     "output_type": "stream",
     "text": [
      " UserWarning:/home/atac2rna/anaconda3/envs/atac2rna/lib/python3.9/site-packages/scvi/distributions/_negative_binomial.py:482: The value argument must be within the support of the distribution\n",
      " UserWarning:/home/atac2rna/anaconda3/envs/atac2rna/lib/python3.9/site-packages/scvi/distributions/_negative_binomial.py:482: The value argument must be within the support of the distribution\n"
     ]
    },
    {
     "name": "stdout",
     "output_type": "stream",
     "text": [
      "Epoch 62/500:  12%|████████████████▌                                                                                                                       | 61/500 [01:11<08:27,  1.16s/it, loss=6.44e+03, v_num=1]"
     ]
    },
    {
     "name": "stderr",
     "output_type": "stream",
     "text": [
      " UserWarning:/home/atac2rna/anaconda3/envs/atac2rna/lib/python3.9/site-packages/scvi/distributions/_negative_binomial.py:482: The value argument must be within the support of the distribution\n",
      " UserWarning:/home/atac2rna/anaconda3/envs/atac2rna/lib/python3.9/site-packages/scvi/distributions/_negative_binomial.py:482: The value argument must be within the support of the distribution\n"
     ]
    },
    {
     "name": "stdout",
     "output_type": "stream",
     "text": [
      "Epoch 63/500:  12%|████████████████▊                                                                                                                       | 62/500 [01:12<08:25,  1.15s/it, loss=6.38e+03, v_num=1]"
     ]
    },
    {
     "name": "stderr",
     "output_type": "stream",
     "text": [
      " UserWarning:/home/atac2rna/anaconda3/envs/atac2rna/lib/python3.9/site-packages/scvi/distributions/_negative_binomial.py:482: The value argument must be within the support of the distribution\n",
      " UserWarning:/home/atac2rna/anaconda3/envs/atac2rna/lib/python3.9/site-packages/scvi/distributions/_negative_binomial.py:482: The value argument must be within the support of the distribution\n"
     ]
    },
    {
     "name": "stdout",
     "output_type": "stream",
     "text": [
      "Epoch 64/500:  13%|█████████████████▏                                                                                                                      | 63/500 [01:13<08:21,  1.15s/it, loss=6.36e+03, v_num=1]"
     ]
    },
    {
     "name": "stderr",
     "output_type": "stream",
     "text": [
      " UserWarning:/home/atac2rna/anaconda3/envs/atac2rna/lib/python3.9/site-packages/scvi/distributions/_negative_binomial.py:482: The value argument must be within the support of the distribution\n",
      " UserWarning:/home/atac2rna/anaconda3/envs/atac2rna/lib/python3.9/site-packages/scvi/distributions/_negative_binomial.py:482: The value argument must be within the support of the distribution\n"
     ]
    },
    {
     "name": "stdout",
     "output_type": "stream",
     "text": [
      "Epoch 65/500:  13%|█████████████████▍                                                                                                                      | 64/500 [01:14<08:19,  1.15s/it, loss=6.29e+03, v_num=1]"
     ]
    },
    {
     "name": "stderr",
     "output_type": "stream",
     "text": [
      " UserWarning:/home/atac2rna/anaconda3/envs/atac2rna/lib/python3.9/site-packages/scvi/distributions/_negative_binomial.py:482: The value argument must be within the support of the distribution\n",
      " UserWarning:/home/atac2rna/anaconda3/envs/atac2rna/lib/python3.9/site-packages/scvi/distributions/_negative_binomial.py:482: The value argument must be within the support of the distribution\n"
     ]
    },
    {
     "name": "stdout",
     "output_type": "stream",
     "text": [
      "Epoch 66/500:  13%|█████████████████▋                                                                                                                      | 65/500 [01:15<08:19,  1.15s/it, loss=6.29e+03, v_num=1]"
     ]
    },
    {
     "name": "stderr",
     "output_type": "stream",
     "text": [
      " UserWarning:/home/atac2rna/anaconda3/envs/atac2rna/lib/python3.9/site-packages/scvi/distributions/_negative_binomial.py:482: The value argument must be within the support of the distribution\n",
      " UserWarning:/home/atac2rna/anaconda3/envs/atac2rna/lib/python3.9/site-packages/scvi/distributions/_negative_binomial.py:482: The value argument must be within the support of the distribution\n"
     ]
    },
    {
     "name": "stdout",
     "output_type": "stream",
     "text": [
      "Epoch 67/500:  13%|█████████████████▉                                                                                                                      | 66/500 [01:16<08:20,  1.15s/it, loss=6.24e+03, v_num=1]"
     ]
    },
    {
     "name": "stderr",
     "output_type": "stream",
     "text": [
      " UserWarning:/home/atac2rna/anaconda3/envs/atac2rna/lib/python3.9/site-packages/scvi/distributions/_negative_binomial.py:482: The value argument must be within the support of the distribution\n",
      " UserWarning:/home/atac2rna/anaconda3/envs/atac2rna/lib/python3.9/site-packages/scvi/distributions/_negative_binomial.py:482: The value argument must be within the support of the distribution\n"
     ]
    },
    {
     "name": "stdout",
     "output_type": "stream",
     "text": [
      "Epoch 68/500:  13%|██████████████████▏                                                                                                                     | 67/500 [01:18<08:19,  1.15s/it, loss=6.23e+03, v_num=1]"
     ]
    },
    {
     "name": "stderr",
     "output_type": "stream",
     "text": [
      " UserWarning:/home/atac2rna/anaconda3/envs/atac2rna/lib/python3.9/site-packages/scvi/distributions/_negative_binomial.py:482: The value argument must be within the support of the distribution\n",
      " UserWarning:/home/atac2rna/anaconda3/envs/atac2rna/lib/python3.9/site-packages/scvi/distributions/_negative_binomial.py:482: The value argument must be within the support of the distribution\n"
     ]
    },
    {
     "name": "stdout",
     "output_type": "stream",
     "text": [
      "Epoch 69/500:  14%|██████████████████▍                                                                                                                     | 68/500 [01:19<08:15,  1.15s/it, loss=6.19e+03, v_num=1]"
     ]
    },
    {
     "name": "stderr",
     "output_type": "stream",
     "text": [
      " UserWarning:/home/atac2rna/anaconda3/envs/atac2rna/lib/python3.9/site-packages/scvi/distributions/_negative_binomial.py:482: The value argument must be within the support of the distribution\n",
      " UserWarning:/home/atac2rna/anaconda3/envs/atac2rna/lib/python3.9/site-packages/scvi/distributions/_negative_binomial.py:482: The value argument must be within the support of the distribution\n"
     ]
    },
    {
     "name": "stdout",
     "output_type": "stream",
     "text": [
      "Epoch 70/500:  14%|██████████████████▊                                                                                                                     | 69/500 [01:20<08:13,  1.14s/it, loss=6.15e+03, v_num=1]"
     ]
    },
    {
     "name": "stderr",
     "output_type": "stream",
     "text": [
      " UserWarning:/home/atac2rna/anaconda3/envs/atac2rna/lib/python3.9/site-packages/scvi/distributions/_negative_binomial.py:482: The value argument must be within the support of the distribution\n",
      " UserWarning:/home/atac2rna/anaconda3/envs/atac2rna/lib/python3.9/site-packages/scvi/distributions/_negative_binomial.py:482: The value argument must be within the support of the distribution\n"
     ]
    },
    {
     "name": "stdout",
     "output_type": "stream",
     "text": [
      "Epoch 71/500:  14%|███████████████████                                                                                                                     | 70/500 [01:21<07:52,  1.10s/it, loss=6.13e+03, v_num=1]"
     ]
    },
    {
     "name": "stderr",
     "output_type": "stream",
     "text": [
      " UserWarning:/home/atac2rna/anaconda3/envs/atac2rna/lib/python3.9/site-packages/scvi/distributions/_negative_binomial.py:482: The value argument must be within the support of the distribution\n",
      " UserWarning:/home/atac2rna/anaconda3/envs/atac2rna/lib/python3.9/site-packages/scvi/distributions/_negative_binomial.py:482: The value argument must be within the support of the distribution\n"
     ]
    },
    {
     "name": "stdout",
     "output_type": "stream",
     "text": [
      "Epoch 72/500:  14%|███████████████████▎                                                                                                                    | 71/500 [01:22<07:56,  1.11s/it, loss=6.09e+03, v_num=1]"
     ]
    },
    {
     "name": "stderr",
     "output_type": "stream",
     "text": [
      " UserWarning:/home/atac2rna/anaconda3/envs/atac2rna/lib/python3.9/site-packages/scvi/distributions/_negative_binomial.py:482: The value argument must be within the support of the distribution\n",
      " UserWarning:/home/atac2rna/anaconda3/envs/atac2rna/lib/python3.9/site-packages/scvi/distributions/_negative_binomial.py:482: The value argument must be within the support of the distribution\n"
     ]
    },
    {
     "name": "stdout",
     "output_type": "stream",
     "text": [
      "Epoch 73/500:  14%|███████████████████▌                                                                                                                    | 72/500 [01:23<07:59,  1.12s/it, loss=6.09e+03, v_num=1]"
     ]
    },
    {
     "name": "stderr",
     "output_type": "stream",
     "text": [
      " UserWarning:/home/atac2rna/anaconda3/envs/atac2rna/lib/python3.9/site-packages/scvi/distributions/_negative_binomial.py:482: The value argument must be within the support of the distribution\n",
      " UserWarning:/home/atac2rna/anaconda3/envs/atac2rna/lib/python3.9/site-packages/scvi/distributions/_negative_binomial.py:482: The value argument must be within the support of the distribution\n"
     ]
    },
    {
     "name": "stdout",
     "output_type": "stream",
     "text": [
      "Epoch 74/500:  15%|███████████████████▊                                                                                                                    | 73/500 [01:24<08:08,  1.14s/it, loss=6.03e+03, v_num=1]"
     ]
    },
    {
     "name": "stderr",
     "output_type": "stream",
     "text": [
      " UserWarning:/home/atac2rna/anaconda3/envs/atac2rna/lib/python3.9/site-packages/scvi/distributions/_negative_binomial.py:482: The value argument must be within the support of the distribution\n",
      " UserWarning:/home/atac2rna/anaconda3/envs/atac2rna/lib/python3.9/site-packages/scvi/distributions/_negative_binomial.py:482: The value argument must be within the support of the distribution\n"
     ]
    },
    {
     "name": "stdout",
     "output_type": "stream",
     "text": [
      "Epoch 75/500:  15%|████████████████████▌                                                                                                                      | 74/500 [01:25<08:07,  1.14s/it, loss=6e+03, v_num=1]"
     ]
    },
    {
     "name": "stderr",
     "output_type": "stream",
     "text": [
      " UserWarning:/home/atac2rna/anaconda3/envs/atac2rna/lib/python3.9/site-packages/scvi/distributions/_negative_binomial.py:482: The value argument must be within the support of the distribution\n",
      " UserWarning:/home/atac2rna/anaconda3/envs/atac2rna/lib/python3.9/site-packages/scvi/distributions/_negative_binomial.py:482: The value argument must be within the support of the distribution\n"
     ]
    },
    {
     "name": "stdout",
     "output_type": "stream",
     "text": [
      "Epoch 76/500:  15%|████████████████████▍                                                                                                                   | 75/500 [01:27<08:06,  1.15s/it, loss=5.98e+03, v_num=1]"
     ]
    },
    {
     "name": "stderr",
     "output_type": "stream",
     "text": [
      " UserWarning:/home/atac2rna/anaconda3/envs/atac2rna/lib/python3.9/site-packages/scvi/distributions/_negative_binomial.py:482: The value argument must be within the support of the distribution\n",
      " UserWarning:/home/atac2rna/anaconda3/envs/atac2rna/lib/python3.9/site-packages/scvi/distributions/_negative_binomial.py:482: The value argument must be within the support of the distribution\n"
     ]
    },
    {
     "name": "stdout",
     "output_type": "stream",
     "text": [
      "Epoch 77/500:  15%|████████████████████▋                                                                                                                   | 76/500 [01:28<08:04,  1.14s/it, loss=5.96e+03, v_num=1]"
     ]
    },
    {
     "name": "stderr",
     "output_type": "stream",
     "text": [
      " UserWarning:/home/atac2rna/anaconda3/envs/atac2rna/lib/python3.9/site-packages/scvi/distributions/_negative_binomial.py:482: The value argument must be within the support of the distribution\n",
      " UserWarning:/home/atac2rna/anaconda3/envs/atac2rna/lib/python3.9/site-packages/scvi/distributions/_negative_binomial.py:482: The value argument must be within the support of the distribution\n"
     ]
    },
    {
     "name": "stdout",
     "output_type": "stream",
     "text": [
      "Epoch 78/500:  15%|████████████████████▉                                                                                                                   | 77/500 [01:29<08:03,  1.14s/it, loss=5.96e+03, v_num=1]"
     ]
    },
    {
     "name": "stderr",
     "output_type": "stream",
     "text": [
      " UserWarning:/home/atac2rna/anaconda3/envs/atac2rna/lib/python3.9/site-packages/scvi/distributions/_negative_binomial.py:482: The value argument must be within the support of the distribution\n",
      " UserWarning:/home/atac2rna/anaconda3/envs/atac2rna/lib/python3.9/site-packages/scvi/distributions/_negative_binomial.py:482: The value argument must be within the support of the distribution\n"
     ]
    },
    {
     "name": "stdout",
     "output_type": "stream",
     "text": [
      "Epoch 79/500:  16%|█████████████████████▎                                                                                                                   | 78/500 [01:30<08:03,  1.15s/it, loss=5.9e+03, v_num=1]"
     ]
    },
    {
     "name": "stderr",
     "output_type": "stream",
     "text": [
      " UserWarning:/home/atac2rna/anaconda3/envs/atac2rna/lib/python3.9/site-packages/scvi/distributions/_negative_binomial.py:482: The value argument must be within the support of the distribution\n",
      " UserWarning:/home/atac2rna/anaconda3/envs/atac2rna/lib/python3.9/site-packages/scvi/distributions/_negative_binomial.py:482: The value argument must be within the support of the distribution\n"
     ]
    },
    {
     "name": "stdout",
     "output_type": "stream",
     "text": [
      "Epoch 80/500:  16%|█████████████████████▍                                                                                                                  | 79/500 [01:31<08:02,  1.15s/it, loss=5.88e+03, v_num=1]"
     ]
    },
    {
     "name": "stderr",
     "output_type": "stream",
     "text": [
      " UserWarning:/home/atac2rna/anaconda3/envs/atac2rna/lib/python3.9/site-packages/scvi/distributions/_negative_binomial.py:482: The value argument must be within the support of the distribution\n",
      " UserWarning:/home/atac2rna/anaconda3/envs/atac2rna/lib/python3.9/site-packages/scvi/distributions/_negative_binomial.py:482: The value argument must be within the support of the distribution\n"
     ]
    },
    {
     "name": "stdout",
     "output_type": "stream",
     "text": [
      "Epoch 81/500:  16%|█████████████████████▊                                                                                                                  | 80/500 [01:32<08:01,  1.15s/it, loss=5.87e+03, v_num=1]"
     ]
    },
    {
     "name": "stderr",
     "output_type": "stream",
     "text": [
      " UserWarning:/home/atac2rna/anaconda3/envs/atac2rna/lib/python3.9/site-packages/scvi/distributions/_negative_binomial.py:482: The value argument must be within the support of the distribution\n",
      " UserWarning:/home/atac2rna/anaconda3/envs/atac2rna/lib/python3.9/site-packages/scvi/distributions/_negative_binomial.py:482: The value argument must be within the support of the distribution\n"
     ]
    },
    {
     "name": "stdout",
     "output_type": "stream",
     "text": [
      "Epoch 82/500:  16%|██████████████████████                                                                                                                  | 81/500 [01:34<08:00,  1.15s/it, loss=5.86e+03, v_num=1]"
     ]
    },
    {
     "name": "stderr",
     "output_type": "stream",
     "text": [
      " UserWarning:/home/atac2rna/anaconda3/envs/atac2rna/lib/python3.9/site-packages/scvi/distributions/_negative_binomial.py:482: The value argument must be within the support of the distribution\n",
      " UserWarning:/home/atac2rna/anaconda3/envs/atac2rna/lib/python3.9/site-packages/scvi/distributions/_negative_binomial.py:482: The value argument must be within the support of the distribution\n"
     ]
    },
    {
     "name": "stdout",
     "output_type": "stream",
     "text": [
      "Epoch 83/500:  16%|██████████████████████▎                                                                                                                 | 82/500 [01:35<07:57,  1.14s/it, loss=5.81e+03, v_num=1]"
     ]
    },
    {
     "name": "stderr",
     "output_type": "stream",
     "text": [
      " UserWarning:/home/atac2rna/anaconda3/envs/atac2rna/lib/python3.9/site-packages/scvi/distributions/_negative_binomial.py:482: The value argument must be within the support of the distribution\n",
      " UserWarning:/home/atac2rna/anaconda3/envs/atac2rna/lib/python3.9/site-packages/scvi/distributions/_negative_binomial.py:482: The value argument must be within the support of the distribution\n"
     ]
    },
    {
     "name": "stdout",
     "output_type": "stream",
     "text": [
      "Epoch 84/500:  17%|██████████████████████▌                                                                                                                 | 83/500 [01:36<07:57,  1.14s/it, loss=5.81e+03, v_num=1]"
     ]
    },
    {
     "name": "stderr",
     "output_type": "stream",
     "text": [
      " UserWarning:/home/atac2rna/anaconda3/envs/atac2rna/lib/python3.9/site-packages/scvi/distributions/_negative_binomial.py:482: The value argument must be within the support of the distribution\n",
      " UserWarning:/home/atac2rna/anaconda3/envs/atac2rna/lib/python3.9/site-packages/scvi/distributions/_negative_binomial.py:482: The value argument must be within the support of the distribution\n"
     ]
    },
    {
     "name": "stdout",
     "output_type": "stream",
     "text": [
      "Epoch 85/500:  17%|██████████████████████▊                                                                                                                 | 84/500 [01:37<07:58,  1.15s/it, loss=5.78e+03, v_num=1]"
     ]
    },
    {
     "name": "stderr",
     "output_type": "stream",
     "text": [
      " UserWarning:/home/atac2rna/anaconda3/envs/atac2rna/lib/python3.9/site-packages/scvi/distributions/_negative_binomial.py:482: The value argument must be within the support of the distribution\n",
      " UserWarning:/home/atac2rna/anaconda3/envs/atac2rna/lib/python3.9/site-packages/scvi/distributions/_negative_binomial.py:482: The value argument must be within the support of the distribution\n"
     ]
    },
    {
     "name": "stdout",
     "output_type": "stream",
     "text": [
      "Epoch 86/500:  17%|███████████████████████                                                                                                                 | 85/500 [01:38<07:56,  1.15s/it, loss=5.75e+03, v_num=1]"
     ]
    },
    {
     "name": "stderr",
     "output_type": "stream",
     "text": [
      " UserWarning:/home/atac2rna/anaconda3/envs/atac2rna/lib/python3.9/site-packages/scvi/distributions/_negative_binomial.py:482: The value argument must be within the support of the distribution\n",
      " UserWarning:/home/atac2rna/anaconda3/envs/atac2rna/lib/python3.9/site-packages/scvi/distributions/_negative_binomial.py:482: The value argument must be within the support of the distribution\n"
     ]
    },
    {
     "name": "stdout",
     "output_type": "stream",
     "text": [
      "Epoch 87/500:  17%|███████████████████████▍                                                                                                                | 86/500 [01:39<07:54,  1.15s/it, loss=5.71e+03, v_num=1]"
     ]
    },
    {
     "name": "stderr",
     "output_type": "stream",
     "text": [
      " UserWarning:/home/atac2rna/anaconda3/envs/atac2rna/lib/python3.9/site-packages/scvi/distributions/_negative_binomial.py:482: The value argument must be within the support of the distribution\n",
      " UserWarning:/home/atac2rna/anaconda3/envs/atac2rna/lib/python3.9/site-packages/scvi/distributions/_negative_binomial.py:482: The value argument must be within the support of the distribution\n"
     ]
    },
    {
     "name": "stdout",
     "output_type": "stream",
     "text": [
      "Epoch 88/500:  17%|███████████████████████▊                                                                                                                 | 87/500 [01:40<07:54,  1.15s/it, loss=5.7e+03, v_num=1]"
     ]
    },
    {
     "name": "stderr",
     "output_type": "stream",
     "text": [
      " UserWarning:/home/atac2rna/anaconda3/envs/atac2rna/lib/python3.9/site-packages/scvi/distributions/_negative_binomial.py:482: The value argument must be within the support of the distribution\n",
      " UserWarning:/home/atac2rna/anaconda3/envs/atac2rna/lib/python3.9/site-packages/scvi/distributions/_negative_binomial.py:482: The value argument must be within the support of the distribution\n"
     ]
    },
    {
     "name": "stdout",
     "output_type": "stream",
     "text": [
      "Epoch 89/500:  18%|███████████████████████▉                                                                                                                | 88/500 [01:42<07:55,  1.15s/it, loss=5.68e+03, v_num=1]"
     ]
    },
    {
     "name": "stderr",
     "output_type": "stream",
     "text": [
      " UserWarning:/home/atac2rna/anaconda3/envs/atac2rna/lib/python3.9/site-packages/scvi/distributions/_negative_binomial.py:482: The value argument must be within the support of the distribution\n",
      " UserWarning:/home/atac2rna/anaconda3/envs/atac2rna/lib/python3.9/site-packages/scvi/distributions/_negative_binomial.py:482: The value argument must be within the support of the distribution\n"
     ]
    },
    {
     "name": "stdout",
     "output_type": "stream",
     "text": [
      "Epoch 90/500:  18%|████████████████████████▏                                                                                                               | 89/500 [01:43<07:53,  1.15s/it, loss=5.65e+03, v_num=1]"
     ]
    },
    {
     "name": "stderr",
     "output_type": "stream",
     "text": [
      " UserWarning:/home/atac2rna/anaconda3/envs/atac2rna/lib/python3.9/site-packages/scvi/distributions/_negative_binomial.py:482: The value argument must be within the support of the distribution\n",
      " UserWarning:/home/atac2rna/anaconda3/envs/atac2rna/lib/python3.9/site-packages/scvi/distributions/_negative_binomial.py:482: The value argument must be within the support of the distribution\n"
     ]
    },
    {
     "name": "stdout",
     "output_type": "stream",
     "text": [
      "Epoch 91/500:  18%|████████████████████████▍                                                                                                               | 90/500 [01:44<07:51,  1.15s/it, loss=5.63e+03, v_num=1]"
     ]
    },
    {
     "name": "stderr",
     "output_type": "stream",
     "text": [
      " UserWarning:/home/atac2rna/anaconda3/envs/atac2rna/lib/python3.9/site-packages/scvi/distributions/_negative_binomial.py:482: The value argument must be within the support of the distribution\n",
      " UserWarning:/home/atac2rna/anaconda3/envs/atac2rna/lib/python3.9/site-packages/scvi/distributions/_negative_binomial.py:482: The value argument must be within the support of the distribution\n"
     ]
    },
    {
     "name": "stdout",
     "output_type": "stream",
     "text": [
      "Epoch 92/500:  18%|████████████████████████▊                                                                                                               | 91/500 [01:45<07:48,  1.15s/it, loss=5.62e+03, v_num=1]"
     ]
    },
    {
     "name": "stderr",
     "output_type": "stream",
     "text": [
      " UserWarning:/home/atac2rna/anaconda3/envs/atac2rna/lib/python3.9/site-packages/scvi/distributions/_negative_binomial.py:482: The value argument must be within the support of the distribution\n",
      " UserWarning:/home/atac2rna/anaconda3/envs/atac2rna/lib/python3.9/site-packages/scvi/distributions/_negative_binomial.py:482: The value argument must be within the support of the distribution\n"
     ]
    },
    {
     "name": "stdout",
     "output_type": "stream",
     "text": [
      "Epoch 93/500:  18%|█████████████████████████                                                                                                               | 92/500 [01:46<07:49,  1.15s/it, loss=5.59e+03, v_num=1]"
     ]
    },
    {
     "name": "stderr",
     "output_type": "stream",
     "text": [
      " UserWarning:/home/atac2rna/anaconda3/envs/atac2rna/lib/python3.9/site-packages/scvi/distributions/_negative_binomial.py:482: The value argument must be within the support of the distribution\n",
      " UserWarning:/home/atac2rna/anaconda3/envs/atac2rna/lib/python3.9/site-packages/scvi/distributions/_negative_binomial.py:482: The value argument must be within the support of the distribution\n"
     ]
    },
    {
     "name": "stdout",
     "output_type": "stream",
     "text": [
      "Epoch 94/500:  19%|█████████████████████████▎                                                                                                              | 93/500 [01:47<07:47,  1.15s/it, loss=5.58e+03, v_num=1]"
     ]
    },
    {
     "name": "stderr",
     "output_type": "stream",
     "text": [
      " UserWarning:/home/atac2rna/anaconda3/envs/atac2rna/lib/python3.9/site-packages/scvi/distributions/_negative_binomial.py:482: The value argument must be within the support of the distribution\n",
      " UserWarning:/home/atac2rna/anaconda3/envs/atac2rna/lib/python3.9/site-packages/scvi/distributions/_negative_binomial.py:482: The value argument must be within the support of the distribution\n"
     ]
    },
    {
     "name": "stdout",
     "output_type": "stream",
     "text": [
      "Epoch 95/500:  19%|█████████████████████████▌                                                                                                              | 94/500 [01:48<07:45,  1.15s/it, loss=5.55e+03, v_num=1]"
     ]
    },
    {
     "name": "stderr",
     "output_type": "stream",
     "text": [
      " UserWarning:/home/atac2rna/anaconda3/envs/atac2rna/lib/python3.9/site-packages/scvi/distributions/_negative_binomial.py:482: The value argument must be within the support of the distribution\n",
      " UserWarning:/home/atac2rna/anaconda3/envs/atac2rna/lib/python3.9/site-packages/scvi/distributions/_negative_binomial.py:482: The value argument must be within the support of the distribution\n"
     ]
    },
    {
     "name": "stdout",
     "output_type": "stream",
     "text": [
      "Epoch 96/500:  19%|█████████████████████████▊                                                                                                              | 95/500 [01:50<07:43,  1.14s/it, loss=5.52e+03, v_num=1]"
     ]
    },
    {
     "name": "stderr",
     "output_type": "stream",
     "text": [
      " UserWarning:/home/atac2rna/anaconda3/envs/atac2rna/lib/python3.9/site-packages/scvi/distributions/_negative_binomial.py:482: The value argument must be within the support of the distribution\n",
      " UserWarning:/home/atac2rna/anaconda3/envs/atac2rna/lib/python3.9/site-packages/scvi/distributions/_negative_binomial.py:482: The value argument must be within the support of the distribution\n"
     ]
    },
    {
     "name": "stdout",
     "output_type": "stream",
     "text": [
      "Epoch 97/500:  19%|██████████████████████████                                                                                                              | 96/500 [01:51<07:41,  1.14s/it, loss=5.52e+03, v_num=1]"
     ]
    },
    {
     "name": "stderr",
     "output_type": "stream",
     "text": [
      " UserWarning:/home/atac2rna/anaconda3/envs/atac2rna/lib/python3.9/site-packages/scvi/distributions/_negative_binomial.py:482: The value argument must be within the support of the distribution\n",
      " UserWarning:/home/atac2rna/anaconda3/envs/atac2rna/lib/python3.9/site-packages/scvi/distributions/_negative_binomial.py:482: The value argument must be within the support of the distribution\n"
     ]
    },
    {
     "name": "stdout",
     "output_type": "stream",
     "text": [
      "Epoch 98/500:  19%|██████████████████████████▍                                                                                                             | 97/500 [01:52<07:37,  1.14s/it, loss=5.49e+03, v_num=1]"
     ]
    },
    {
     "name": "stderr",
     "output_type": "stream",
     "text": [
      " UserWarning:/home/atac2rna/anaconda3/envs/atac2rna/lib/python3.9/site-packages/scvi/distributions/_negative_binomial.py:482: The value argument must be within the support of the distribution\n",
      " UserWarning:/home/atac2rna/anaconda3/envs/atac2rna/lib/python3.9/site-packages/scvi/distributions/_negative_binomial.py:482: The value argument must be within the support of the distribution\n"
     ]
    },
    {
     "name": "stdout",
     "output_type": "stream",
     "text": [
      "Epoch 99/500:  20%|██████████████████████████▋                                                                                                             | 98/500 [01:53<07:37,  1.14s/it, loss=5.46e+03, v_num=1]"
     ]
    },
    {
     "name": "stderr",
     "output_type": "stream",
     "text": [
      " UserWarning:/home/atac2rna/anaconda3/envs/atac2rna/lib/python3.9/site-packages/scvi/distributions/_negative_binomial.py:482: The value argument must be within the support of the distribution\n",
      " UserWarning:/home/atac2rna/anaconda3/envs/atac2rna/lib/python3.9/site-packages/scvi/distributions/_negative_binomial.py:482: The value argument must be within the support of the distribution\n"
     ]
    },
    {
     "name": "stdout",
     "output_type": "stream",
     "text": [
      "Epoch 100/500:  20%|██████████████████████████▋                                                                                                            | 99/500 [01:54<07:36,  1.14s/it, loss=5.45e+03, v_num=1]"
     ]
    },
    {
     "name": "stderr",
     "output_type": "stream",
     "text": [
      " UserWarning:/home/atac2rna/anaconda3/envs/atac2rna/lib/python3.9/site-packages/scvi/distributions/_negative_binomial.py:482: The value argument must be within the support of the distribution\n",
      " UserWarning:/home/atac2rna/anaconda3/envs/atac2rna/lib/python3.9/site-packages/scvi/distributions/_negative_binomial.py:482: The value argument must be within the support of the distribution\n"
     ]
    },
    {
     "name": "stdout",
     "output_type": "stream",
     "text": [
      "Epoch 101/500:  20%|██████████████████████████▊                                                                                                           | 100/500 [01:55<07:36,  1.14s/it, loss=5.45e+03, v_num=1]"
     ]
    },
    {
     "name": "stderr",
     "output_type": "stream",
     "text": [
      " UserWarning:/home/atac2rna/anaconda3/envs/atac2rna/lib/python3.9/site-packages/scvi/distributions/_negative_binomial.py:482: The value argument must be within the support of the distribution\n",
      " UserWarning:/home/atac2rna/anaconda3/envs/atac2rna/lib/python3.9/site-packages/scvi/distributions/_negative_binomial.py:482: The value argument must be within the support of the distribution\n"
     ]
    },
    {
     "name": "stdout",
     "output_type": "stream",
     "text": [
      "Epoch 102/500:  20%|███████████████████████████                                                                                                           | 101/500 [01:56<07:38,  1.15s/it, loss=5.41e+03, v_num=1]"
     ]
    },
    {
     "name": "stderr",
     "output_type": "stream",
     "text": [
      " UserWarning:/home/atac2rna/anaconda3/envs/atac2rna/lib/python3.9/site-packages/scvi/distributions/_negative_binomial.py:482: The value argument must be within the support of the distribution\n",
      " UserWarning:/home/atac2rna/anaconda3/envs/atac2rna/lib/python3.9/site-packages/scvi/distributions/_negative_binomial.py:482: The value argument must be within the support of the distribution\n"
     ]
    },
    {
     "name": "stdout",
     "output_type": "stream",
     "text": [
      "Epoch 103/500:  20%|███████████████████████████▎                                                                                                          | 102/500 [01:58<07:41,  1.16s/it, loss=5.39e+03, v_num=1]"
     ]
    },
    {
     "name": "stderr",
     "output_type": "stream",
     "text": [
      " UserWarning:/home/atac2rna/anaconda3/envs/atac2rna/lib/python3.9/site-packages/scvi/distributions/_negative_binomial.py:482: The value argument must be within the support of the distribution\n",
      " UserWarning:/home/atac2rna/anaconda3/envs/atac2rna/lib/python3.9/site-packages/scvi/distributions/_negative_binomial.py:482: The value argument must be within the support of the distribution\n"
     ]
    },
    {
     "name": "stdout",
     "output_type": "stream",
     "text": [
      "Epoch 104/500:  21%|███████████████████████████▌                                                                                                          | 103/500 [01:59<07:43,  1.17s/it, loss=5.39e+03, v_num=1]"
     ]
    },
    {
     "name": "stderr",
     "output_type": "stream",
     "text": [
      " UserWarning:/home/atac2rna/anaconda3/envs/atac2rna/lib/python3.9/site-packages/scvi/distributions/_negative_binomial.py:482: The value argument must be within the support of the distribution\n",
      " UserWarning:/home/atac2rna/anaconda3/envs/atac2rna/lib/python3.9/site-packages/scvi/distributions/_negative_binomial.py:482: The value argument must be within the support of the distribution\n"
     ]
    },
    {
     "name": "stdout",
     "output_type": "stream",
     "text": [
      "Epoch 105/500:  21%|███████████████████████████▊                                                                                                          | 104/500 [02:00<07:43,  1.17s/it, loss=5.35e+03, v_num=1]"
     ]
    },
    {
     "name": "stderr",
     "output_type": "stream",
     "text": [
      " UserWarning:/home/atac2rna/anaconda3/envs/atac2rna/lib/python3.9/site-packages/scvi/distributions/_negative_binomial.py:482: The value argument must be within the support of the distribution\n",
      " UserWarning:/home/atac2rna/anaconda3/envs/atac2rna/lib/python3.9/site-packages/scvi/distributions/_negative_binomial.py:482: The value argument must be within the support of the distribution\n"
     ]
    },
    {
     "name": "stdout",
     "output_type": "stream",
     "text": [
      "Epoch 106/500:  21%|████████████████████████████▏                                                                                                         | 105/500 [02:01<07:40,  1.16s/it, loss=5.38e+03, v_num=1]"
     ]
    },
    {
     "name": "stderr",
     "output_type": "stream",
     "text": [
      " UserWarning:/home/atac2rna/anaconda3/envs/atac2rna/lib/python3.9/site-packages/scvi/distributions/_negative_binomial.py:482: The value argument must be within the support of the distribution\n",
      " UserWarning:/home/atac2rna/anaconda3/envs/atac2rna/lib/python3.9/site-packages/scvi/distributions/_negative_binomial.py:482: The value argument must be within the support of the distribution\n"
     ]
    },
    {
     "name": "stdout",
     "output_type": "stream",
     "text": [
      "Epoch 107/500:  21%|████████████████████████████▍                                                                                                         | 106/500 [02:02<07:37,  1.16s/it, loss=5.34e+03, v_num=1]"
     ]
    },
    {
     "name": "stderr",
     "output_type": "stream",
     "text": [
      " UserWarning:/home/atac2rna/anaconda3/envs/atac2rna/lib/python3.9/site-packages/scvi/distributions/_negative_binomial.py:482: The value argument must be within the support of the distribution\n",
      " UserWarning:/home/atac2rna/anaconda3/envs/atac2rna/lib/python3.9/site-packages/scvi/distributions/_negative_binomial.py:482: The value argument must be within the support of the distribution\n"
     ]
    },
    {
     "name": "stdout",
     "output_type": "stream",
     "text": [
      "Epoch 108/500:  21%|████████████████████████████▉                                                                                                          | 107/500 [02:03<07:33,  1.15s/it, loss=5.3e+03, v_num=1]"
     ]
    },
    {
     "name": "stderr",
     "output_type": "stream",
     "text": [
      " UserWarning:/home/atac2rna/anaconda3/envs/atac2rna/lib/python3.9/site-packages/scvi/distributions/_negative_binomial.py:482: The value argument must be within the support of the distribution\n",
      " UserWarning:/home/atac2rna/anaconda3/envs/atac2rna/lib/python3.9/site-packages/scvi/distributions/_negative_binomial.py:482: The value argument must be within the support of the distribution\n"
     ]
    },
    {
     "name": "stdout",
     "output_type": "stream",
     "text": [
      "Epoch 109/500:  22%|████████████████████████████▉                                                                                                         | 108/500 [02:05<07:30,  1.15s/it, loss=5.27e+03, v_num=1]"
     ]
    },
    {
     "name": "stderr",
     "output_type": "stream",
     "text": [
      " UserWarning:/home/atac2rna/anaconda3/envs/atac2rna/lib/python3.9/site-packages/scvi/distributions/_negative_binomial.py:482: The value argument must be within the support of the distribution\n",
      " UserWarning:/home/atac2rna/anaconda3/envs/atac2rna/lib/python3.9/site-packages/scvi/distributions/_negative_binomial.py:482: The value argument must be within the support of the distribution\n"
     ]
    },
    {
     "name": "stdout",
     "output_type": "stream",
     "text": [
      "Epoch 110/500:  22%|█████████████████████████████▏                                                                                                        | 109/500 [02:06<07:29,  1.15s/it, loss=5.29e+03, v_num=1]"
     ]
    },
    {
     "name": "stderr",
     "output_type": "stream",
     "text": [
      " UserWarning:/home/atac2rna/anaconda3/envs/atac2rna/lib/python3.9/site-packages/scvi/distributions/_negative_binomial.py:482: The value argument must be within the support of the distribution\n",
      " UserWarning:/home/atac2rna/anaconda3/envs/atac2rna/lib/python3.9/site-packages/scvi/distributions/_negative_binomial.py:482: The value argument must be within the support of the distribution\n"
     ]
    },
    {
     "name": "stdout",
     "output_type": "stream",
     "text": [
      "Epoch 111/500:  22%|█████████████████████████████▍                                                                                                        | 110/500 [02:07<07:29,  1.15s/it, loss=5.25e+03, v_num=1]"
     ]
    },
    {
     "name": "stderr",
     "output_type": "stream",
     "text": [
      " UserWarning:/home/atac2rna/anaconda3/envs/atac2rna/lib/python3.9/site-packages/scvi/distributions/_negative_binomial.py:482: The value argument must be within the support of the distribution\n",
      " UserWarning:/home/atac2rna/anaconda3/envs/atac2rna/lib/python3.9/site-packages/scvi/distributions/_negative_binomial.py:482: The value argument must be within the support of the distribution\n"
     ]
    },
    {
     "name": "stdout",
     "output_type": "stream",
     "text": [
      "Epoch 112/500:  22%|█████████████████████████████▋                                                                                                        | 111/500 [02:08<07:29,  1.15s/it, loss=5.25e+03, v_num=1]"
     ]
    },
    {
     "name": "stderr",
     "output_type": "stream",
     "text": [
      " UserWarning:/home/atac2rna/anaconda3/envs/atac2rna/lib/python3.9/site-packages/scvi/distributions/_negative_binomial.py:482: The value argument must be within the support of the distribution\n",
      " UserWarning:/home/atac2rna/anaconda3/envs/atac2rna/lib/python3.9/site-packages/scvi/distributions/_negative_binomial.py:482: The value argument must be within the support of the distribution\n"
     ]
    },
    {
     "name": "stdout",
     "output_type": "stream",
     "text": [
      "Epoch 113/500:  22%|██████████████████████████████                                                                                                        | 112/500 [02:09<07:27,  1.15s/it, loss=5.24e+03, v_num=1]"
     ]
    },
    {
     "name": "stderr",
     "output_type": "stream",
     "text": [
      " UserWarning:/home/atac2rna/anaconda3/envs/atac2rna/lib/python3.9/site-packages/scvi/distributions/_negative_binomial.py:482: The value argument must be within the support of the distribution\n",
      " UserWarning:/home/atac2rna/anaconda3/envs/atac2rna/lib/python3.9/site-packages/scvi/distributions/_negative_binomial.py:482: The value argument must be within the support of the distribution\n"
     ]
    },
    {
     "name": "stdout",
     "output_type": "stream",
     "text": [
      "Epoch 114/500:  23%|██████████████████████████████▎                                                                                                       | 113/500 [02:10<07:23,  1.15s/it, loss=5.22e+03, v_num=1]"
     ]
    },
    {
     "name": "stderr",
     "output_type": "stream",
     "text": [
      " UserWarning:/home/atac2rna/anaconda3/envs/atac2rna/lib/python3.9/site-packages/scvi/distributions/_negative_binomial.py:482: The value argument must be within the support of the distribution\n",
      " UserWarning:/home/atac2rna/anaconda3/envs/atac2rna/lib/python3.9/site-packages/scvi/distributions/_negative_binomial.py:482: The value argument must be within the support of the distribution\n"
     ]
    },
    {
     "name": "stdout",
     "output_type": "stream",
     "text": [
      "Epoch 115/500:  23%|██████████████████████████████▊                                                                                                        | 114/500 [02:11<07:25,  1.15s/it, loss=5.2e+03, v_num=1]"
     ]
    },
    {
     "name": "stderr",
     "output_type": "stream",
     "text": [
      " UserWarning:/home/atac2rna/anaconda3/envs/atac2rna/lib/python3.9/site-packages/scvi/distributions/_negative_binomial.py:482: The value argument must be within the support of the distribution\n",
      " UserWarning:/home/atac2rna/anaconda3/envs/atac2rna/lib/python3.9/site-packages/scvi/distributions/_negative_binomial.py:482: The value argument must be within the support of the distribution\n"
     ]
    },
    {
     "name": "stdout",
     "output_type": "stream",
     "text": [
      "Epoch 116/500:  23%|██████████████████████████████▊                                                                                                       | 115/500 [02:13<07:22,  1.15s/it, loss=5.17e+03, v_num=1]"
     ]
    },
    {
     "name": "stderr",
     "output_type": "stream",
     "text": [
      " UserWarning:/home/atac2rna/anaconda3/envs/atac2rna/lib/python3.9/site-packages/scvi/distributions/_negative_binomial.py:482: The value argument must be within the support of the distribution\n",
      " UserWarning:/home/atac2rna/anaconda3/envs/atac2rna/lib/python3.9/site-packages/scvi/distributions/_negative_binomial.py:482: The value argument must be within the support of the distribution\n"
     ]
    },
    {
     "name": "stdout",
     "output_type": "stream",
     "text": [
      "Epoch 117/500:  23%|███████████████████████████████                                                                                                       | 116/500 [02:14<07:19,  1.14s/it, loss=5.16e+03, v_num=1]"
     ]
    },
    {
     "name": "stderr",
     "output_type": "stream",
     "text": [
      " UserWarning:/home/atac2rna/anaconda3/envs/atac2rna/lib/python3.9/site-packages/scvi/distributions/_negative_binomial.py:482: The value argument must be within the support of the distribution\n",
      " UserWarning:/home/atac2rna/anaconda3/envs/atac2rna/lib/python3.9/site-packages/scvi/distributions/_negative_binomial.py:482: The value argument must be within the support of the distribution\n"
     ]
    },
    {
     "name": "stdout",
     "output_type": "stream",
     "text": [
      "Epoch 118/500:  23%|███████████████████████████████▎                                                                                                      | 117/500 [02:15<07:15,  1.14s/it, loss=5.15e+03, v_num=1]"
     ]
    },
    {
     "name": "stderr",
     "output_type": "stream",
     "text": [
      " UserWarning:/home/atac2rna/anaconda3/envs/atac2rna/lib/python3.9/site-packages/scvi/distributions/_negative_binomial.py:482: The value argument must be within the support of the distribution\n",
      " UserWarning:/home/atac2rna/anaconda3/envs/atac2rna/lib/python3.9/site-packages/scvi/distributions/_negative_binomial.py:482: The value argument must be within the support of the distribution\n"
     ]
    },
    {
     "name": "stdout",
     "output_type": "stream",
     "text": [
      "Epoch 119/500:  24%|███████████████████████████████▌                                                                                                      | 118/500 [02:16<07:11,  1.13s/it, loss=5.13e+03, v_num=1]"
     ]
    },
    {
     "name": "stderr",
     "output_type": "stream",
     "text": [
      " UserWarning:/home/atac2rna/anaconda3/envs/atac2rna/lib/python3.9/site-packages/scvi/distributions/_negative_binomial.py:482: The value argument must be within the support of the distribution\n",
      " UserWarning:/home/atac2rna/anaconda3/envs/atac2rna/lib/python3.9/site-packages/scvi/distributions/_negative_binomial.py:482: The value argument must be within the support of the distribution\n"
     ]
    },
    {
     "name": "stdout",
     "output_type": "stream",
     "text": [
      "Epoch 120/500:  24%|███████████████████████████████▉                                                                                                      | 119/500 [02:17<07:08,  1.12s/it, loss=5.13e+03, v_num=1]"
     ]
    },
    {
     "name": "stderr",
     "output_type": "stream",
     "text": [
      " UserWarning:/home/atac2rna/anaconda3/envs/atac2rna/lib/python3.9/site-packages/scvi/distributions/_negative_binomial.py:482: The value argument must be within the support of the distribution\n",
      " UserWarning:/home/atac2rna/anaconda3/envs/atac2rna/lib/python3.9/site-packages/scvi/distributions/_negative_binomial.py:482: The value argument must be within the support of the distribution\n"
     ]
    },
    {
     "name": "stdout",
     "output_type": "stream",
     "text": [
      "Epoch 121/500:  24%|████████████████████████████████▏                                                                                                     | 120/500 [02:18<07:06,  1.12s/it, loss=5.11e+03, v_num=1]"
     ]
    },
    {
     "name": "stderr",
     "output_type": "stream",
     "text": [
      " UserWarning:/home/atac2rna/anaconda3/envs/atac2rna/lib/python3.9/site-packages/scvi/distributions/_negative_binomial.py:482: The value argument must be within the support of the distribution\n",
      " UserWarning:/home/atac2rna/anaconda3/envs/atac2rna/lib/python3.9/site-packages/scvi/distributions/_negative_binomial.py:482: The value argument must be within the support of the distribution\n"
     ]
    },
    {
     "name": "stdout",
     "output_type": "stream",
     "text": [
      "Epoch 122/500:  24%|████████████████████████████████▍                                                                                                     | 121/500 [02:19<07:05,  1.12s/it, loss=5.11e+03, v_num=1]"
     ]
    },
    {
     "name": "stderr",
     "output_type": "stream",
     "text": [
      " UserWarning:/home/atac2rna/anaconda3/envs/atac2rna/lib/python3.9/site-packages/scvi/distributions/_negative_binomial.py:482: The value argument must be within the support of the distribution\n",
      " UserWarning:/home/atac2rna/anaconda3/envs/atac2rna/lib/python3.9/site-packages/scvi/distributions/_negative_binomial.py:482: The value argument must be within the support of the distribution\n"
     ]
    },
    {
     "name": "stdout",
     "output_type": "stream",
     "text": [
      "Epoch 123/500:  24%|████████████████████████████████▋                                                                                                     | 122/500 [02:20<07:02,  1.12s/it, loss=5.06e+03, v_num=1]"
     ]
    },
    {
     "name": "stderr",
     "output_type": "stream",
     "text": [
      " UserWarning:/home/atac2rna/anaconda3/envs/atac2rna/lib/python3.9/site-packages/scvi/distributions/_negative_binomial.py:482: The value argument must be within the support of the distribution\n",
      " UserWarning:/home/atac2rna/anaconda3/envs/atac2rna/lib/python3.9/site-packages/scvi/distributions/_negative_binomial.py:482: The value argument must be within the support of the distribution\n"
     ]
    },
    {
     "name": "stdout",
     "output_type": "stream",
     "text": [
      "Epoch 124/500:  25%|████████████████████████████████▉                                                                                                     | 123/500 [02:22<07:00,  1.12s/it, loss=5.06e+03, v_num=1]"
     ]
    },
    {
     "name": "stderr",
     "output_type": "stream",
     "text": [
      " UserWarning:/home/atac2rna/anaconda3/envs/atac2rna/lib/python3.9/site-packages/scvi/distributions/_negative_binomial.py:482: The value argument must be within the support of the distribution\n",
      " UserWarning:/home/atac2rna/anaconda3/envs/atac2rna/lib/python3.9/site-packages/scvi/distributions/_negative_binomial.py:482: The value argument must be within the support of the distribution\n"
     ]
    },
    {
     "name": "stdout",
     "output_type": "stream",
     "text": [
      "Epoch 125/500:  25%|█████████████████████████████████▏                                                                                                    | 124/500 [02:23<06:57,  1.11s/it, loss=5.04e+03, v_num=1]"
     ]
    },
    {
     "name": "stderr",
     "output_type": "stream",
     "text": [
      " UserWarning:/home/atac2rna/anaconda3/envs/atac2rna/lib/python3.9/site-packages/scvi/distributions/_negative_binomial.py:482: The value argument must be within the support of the distribution\n",
      " UserWarning:/home/atac2rna/anaconda3/envs/atac2rna/lib/python3.9/site-packages/scvi/distributions/_negative_binomial.py:482: The value argument must be within the support of the distribution\n"
     ]
    },
    {
     "name": "stdout",
     "output_type": "stream",
     "text": [
      "Epoch 126/500:  25%|█████████████████████████████████▌                                                                                                    | 125/500 [02:24<06:54,  1.11s/it, loss=5.04e+03, v_num=1]"
     ]
    },
    {
     "name": "stderr",
     "output_type": "stream",
     "text": [
      " UserWarning:/home/atac2rna/anaconda3/envs/atac2rna/lib/python3.9/site-packages/scvi/distributions/_negative_binomial.py:482: The value argument must be within the support of the distribution\n",
      " UserWarning:/home/atac2rna/anaconda3/envs/atac2rna/lib/python3.9/site-packages/scvi/distributions/_negative_binomial.py:482: The value argument must be within the support of the distribution\n"
     ]
    },
    {
     "name": "stdout",
     "output_type": "stream",
     "text": [
      "Epoch 127/500:  25%|█████████████████████████████████▊                                                                                                    | 126/500 [02:25<06:53,  1.11s/it, loss=5.03e+03, v_num=1]"
     ]
    },
    {
     "name": "stderr",
     "output_type": "stream",
     "text": [
      " UserWarning:/home/atac2rna/anaconda3/envs/atac2rna/lib/python3.9/site-packages/scvi/distributions/_negative_binomial.py:482: The value argument must be within the support of the distribution\n",
      " UserWarning:/home/atac2rna/anaconda3/envs/atac2rna/lib/python3.9/site-packages/scvi/distributions/_negative_binomial.py:482: The value argument must be within the support of the distribution\n"
     ]
    },
    {
     "name": "stdout",
     "output_type": "stream",
     "text": [
      "Epoch 128/500:  25%|██████████████████████████████████▊                                                                                                      | 127/500 [02:26<06:52,  1.11s/it, loss=5e+03, v_num=1]"
     ]
    },
    {
     "name": "stderr",
     "output_type": "stream",
     "text": [
      " UserWarning:/home/atac2rna/anaconda3/envs/atac2rna/lib/python3.9/site-packages/scvi/distributions/_negative_binomial.py:482: The value argument must be within the support of the distribution\n",
      " UserWarning:/home/atac2rna/anaconda3/envs/atac2rna/lib/python3.9/site-packages/scvi/distributions/_negative_binomial.py:482: The value argument must be within the support of the distribution\n"
     ]
    },
    {
     "name": "stdout",
     "output_type": "stream",
     "text": [
      "Epoch 129/500:  26%|██████████████████████████████████▎                                                                                                   | 128/500 [02:27<06:51,  1.11s/it, loss=5.01e+03, v_num=1]"
     ]
    },
    {
     "name": "stderr",
     "output_type": "stream",
     "text": [
      " UserWarning:/home/atac2rna/anaconda3/envs/atac2rna/lib/python3.9/site-packages/scvi/distributions/_negative_binomial.py:482: The value argument must be within the support of the distribution\n",
      " UserWarning:/home/atac2rna/anaconda3/envs/atac2rna/lib/python3.9/site-packages/scvi/distributions/_negative_binomial.py:482: The value argument must be within the support of the distribution\n"
     ]
    },
    {
     "name": "stdout",
     "output_type": "stream",
     "text": [
      "Epoch 130/500:  26%|██████████████████████████████████▌                                                                                                   | 129/500 [02:28<06:47,  1.10s/it, loss=4.96e+03, v_num=1]"
     ]
    },
    {
     "name": "stderr",
     "output_type": "stream",
     "text": [
      " UserWarning:/home/atac2rna/anaconda3/envs/atac2rna/lib/python3.9/site-packages/scvi/distributions/_negative_binomial.py:482: The value argument must be within the support of the distribution\n",
      " UserWarning:/home/atac2rna/anaconda3/envs/atac2rna/lib/python3.9/site-packages/scvi/distributions/_negative_binomial.py:482: The value argument must be within the support of the distribution\n"
     ]
    },
    {
     "name": "stdout",
     "output_type": "stream",
     "text": [
      "Epoch 131/500:  26%|██████████████████████████████████▊                                                                                                   | 130/500 [02:29<06:48,  1.10s/it, loss=4.97e+03, v_num=1]"
     ]
    },
    {
     "name": "stderr",
     "output_type": "stream",
     "text": [
      " UserWarning:/home/atac2rna/anaconda3/envs/atac2rna/lib/python3.9/site-packages/scvi/distributions/_negative_binomial.py:482: The value argument must be within the support of the distribution\n",
      " UserWarning:/home/atac2rna/anaconda3/envs/atac2rna/lib/python3.9/site-packages/scvi/distributions/_negative_binomial.py:482: The value argument must be within the support of the distribution\n"
     ]
    },
    {
     "name": "stdout",
     "output_type": "stream",
     "text": [
      "Epoch 132/500:  26%|███████████████████████████████████                                                                                                   | 131/500 [02:30<06:49,  1.11s/it, loss=4.95e+03, v_num=1]"
     ]
    },
    {
     "name": "stderr",
     "output_type": "stream",
     "text": [
      " UserWarning:/home/atac2rna/anaconda3/envs/atac2rna/lib/python3.9/site-packages/scvi/distributions/_negative_binomial.py:482: The value argument must be within the support of the distribution\n",
      " UserWarning:/home/atac2rna/anaconda3/envs/atac2rna/lib/python3.9/site-packages/scvi/distributions/_negative_binomial.py:482: The value argument must be within the support of the distribution\n"
     ]
    },
    {
     "name": "stdout",
     "output_type": "stream",
     "text": [
      "Epoch 133/500:  26%|███████████████████████████████████▍                                                                                                  | 132/500 [02:32<06:54,  1.13s/it, loss=4.95e+03, v_num=1]"
     ]
    },
    {
     "name": "stderr",
     "output_type": "stream",
     "text": [
      " UserWarning:/home/atac2rna/anaconda3/envs/atac2rna/lib/python3.9/site-packages/scvi/distributions/_negative_binomial.py:482: The value argument must be within the support of the distribution\n",
      " UserWarning:/home/atac2rna/anaconda3/envs/atac2rna/lib/python3.9/site-packages/scvi/distributions/_negative_binomial.py:482: The value argument must be within the support of the distribution\n"
     ]
    },
    {
     "name": "stdout",
     "output_type": "stream",
     "text": [
      "Epoch 134/500:  27%|███████████████████████████████████▋                                                                                                  | 133/500 [02:33<06:56,  1.13s/it, loss=4.91e+03, v_num=1]"
     ]
    },
    {
     "name": "stderr",
     "output_type": "stream",
     "text": [
      " UserWarning:/home/atac2rna/anaconda3/envs/atac2rna/lib/python3.9/site-packages/scvi/distributions/_negative_binomial.py:482: The value argument must be within the support of the distribution\n",
      " UserWarning:/home/atac2rna/anaconda3/envs/atac2rna/lib/python3.9/site-packages/scvi/distributions/_negative_binomial.py:482: The value argument must be within the support of the distribution\n"
     ]
    },
    {
     "name": "stdout",
     "output_type": "stream",
     "text": [
      "Epoch 135/500:  27%|███████████████████████████████████▉                                                                                                  | 134/500 [02:34<07:00,  1.15s/it, loss=4.92e+03, v_num=1]"
     ]
    },
    {
     "name": "stderr",
     "output_type": "stream",
     "text": [
      " UserWarning:/home/atac2rna/anaconda3/envs/atac2rna/lib/python3.9/site-packages/scvi/distributions/_negative_binomial.py:482: The value argument must be within the support of the distribution\n",
      " UserWarning:/home/atac2rna/anaconda3/envs/atac2rna/lib/python3.9/site-packages/scvi/distributions/_negative_binomial.py:482: The value argument must be within the support of the distribution\n"
     ]
    },
    {
     "name": "stdout",
     "output_type": "stream",
     "text": [
      "Epoch 136/500:  27%|████████████████████████████████████▏                                                                                                 | 135/500 [02:35<06:59,  1.15s/it, loss=4.91e+03, v_num=1]"
     ]
    },
    {
     "name": "stderr",
     "output_type": "stream",
     "text": [
      " UserWarning:/home/atac2rna/anaconda3/envs/atac2rna/lib/python3.9/site-packages/scvi/distributions/_negative_binomial.py:482: The value argument must be within the support of the distribution\n",
      " UserWarning:/home/atac2rna/anaconda3/envs/atac2rna/lib/python3.9/site-packages/scvi/distributions/_negative_binomial.py:482: The value argument must be within the support of the distribution\n"
     ]
    },
    {
     "name": "stdout",
     "output_type": "stream",
     "text": [
      "Epoch 137/500:  27%|████████████████████████████████████▍                                                                                                 | 136/500 [02:36<06:59,  1.15s/it, loss=4.89e+03, v_num=1]"
     ]
    },
    {
     "name": "stderr",
     "output_type": "stream",
     "text": [
      " UserWarning:/home/atac2rna/anaconda3/envs/atac2rna/lib/python3.9/site-packages/scvi/distributions/_negative_binomial.py:482: The value argument must be within the support of the distribution\n",
      " UserWarning:/home/atac2rna/anaconda3/envs/atac2rna/lib/python3.9/site-packages/scvi/distributions/_negative_binomial.py:482: The value argument must be within the support of the distribution\n"
     ]
    },
    {
     "name": "stdout",
     "output_type": "stream",
     "text": [
      "Epoch 138/500:  27%|████████████████████████████████████▋                                                                                                 | 137/500 [02:37<06:59,  1.16s/it, loss=4.89e+03, v_num=1]"
     ]
    },
    {
     "name": "stderr",
     "output_type": "stream",
     "text": [
      " UserWarning:/home/atac2rna/anaconda3/envs/atac2rna/lib/python3.9/site-packages/scvi/distributions/_negative_binomial.py:482: The value argument must be within the support of the distribution\n",
      " UserWarning:/home/atac2rna/anaconda3/envs/atac2rna/lib/python3.9/site-packages/scvi/distributions/_negative_binomial.py:482: The value argument must be within the support of the distribution\n"
     ]
    },
    {
     "name": "stdout",
     "output_type": "stream",
     "text": [
      "Epoch 139/500:  28%|████████████████████████████████████▉                                                                                                 | 138/500 [02:39<06:58,  1.16s/it, loss=4.87e+03, v_num=1]"
     ]
    },
    {
     "name": "stderr",
     "output_type": "stream",
     "text": [
      " UserWarning:/home/atac2rna/anaconda3/envs/atac2rna/lib/python3.9/site-packages/scvi/distributions/_negative_binomial.py:482: The value argument must be within the support of the distribution\n",
      " UserWarning:/home/atac2rna/anaconda3/envs/atac2rna/lib/python3.9/site-packages/scvi/distributions/_negative_binomial.py:482: The value argument must be within the support of the distribution\n"
     ]
    },
    {
     "name": "stdout",
     "output_type": "stream",
     "text": [
      "Epoch 140/500:  28%|█████████████████████████████████████▎                                                                                                | 139/500 [02:40<06:58,  1.16s/it, loss=4.84e+03, v_num=1]"
     ]
    },
    {
     "name": "stderr",
     "output_type": "stream",
     "text": [
      " UserWarning:/home/atac2rna/anaconda3/envs/atac2rna/lib/python3.9/site-packages/scvi/distributions/_negative_binomial.py:482: The value argument must be within the support of the distribution\n",
      " UserWarning:/home/atac2rna/anaconda3/envs/atac2rna/lib/python3.9/site-packages/scvi/distributions/_negative_binomial.py:482: The value argument must be within the support of the distribution\n"
     ]
    },
    {
     "name": "stdout",
     "output_type": "stream",
     "text": [
      "Epoch 141/500:  28%|█████████████████████████████████████▌                                                                                                | 140/500 [02:41<06:56,  1.16s/it, loss=4.84e+03, v_num=1]"
     ]
    },
    {
     "name": "stderr",
     "output_type": "stream",
     "text": [
      " UserWarning:/home/atac2rna/anaconda3/envs/atac2rna/lib/python3.9/site-packages/scvi/distributions/_negative_binomial.py:482: The value argument must be within the support of the distribution\n",
      " UserWarning:/home/atac2rna/anaconda3/envs/atac2rna/lib/python3.9/site-packages/scvi/distributions/_negative_binomial.py:482: The value argument must be within the support of the distribution\n"
     ]
    },
    {
     "name": "stdout",
     "output_type": "stream",
     "text": [
      "Epoch 142/500:  28%|█████████████████████████████████████▊                                                                                                | 141/500 [02:42<06:56,  1.16s/it, loss=4.84e+03, v_num=1]"
     ]
    },
    {
     "name": "stderr",
     "output_type": "stream",
     "text": [
      " UserWarning:/home/atac2rna/anaconda3/envs/atac2rna/lib/python3.9/site-packages/scvi/distributions/_negative_binomial.py:482: The value argument must be within the support of the distribution\n",
      " UserWarning:/home/atac2rna/anaconda3/envs/atac2rna/lib/python3.9/site-packages/scvi/distributions/_negative_binomial.py:482: The value argument must be within the support of the distribution\n"
     ]
    },
    {
     "name": "stdout",
     "output_type": "stream",
     "text": [
      "Epoch 143/500:  28%|██████████████████████████████████████                                                                                                | 142/500 [02:43<06:54,  1.16s/it, loss=4.83e+03, v_num=1]"
     ]
    },
    {
     "name": "stderr",
     "output_type": "stream",
     "text": [
      " UserWarning:/home/atac2rna/anaconda3/envs/atac2rna/lib/python3.9/site-packages/scvi/distributions/_negative_binomial.py:482: The value argument must be within the support of the distribution\n",
      " UserWarning:/home/atac2rna/anaconda3/envs/atac2rna/lib/python3.9/site-packages/scvi/distributions/_negative_binomial.py:482: The value argument must be within the support of the distribution\n"
     ]
    },
    {
     "name": "stdout",
     "output_type": "stream",
     "text": [
      "Epoch 144/500:  29%|██████████████████████████████████████▎                                                                                               | 143/500 [02:44<06:52,  1.16s/it, loss=4.78e+03, v_num=1]"
     ]
    },
    {
     "name": "stderr",
     "output_type": "stream",
     "text": [
      " UserWarning:/home/atac2rna/anaconda3/envs/atac2rna/lib/python3.9/site-packages/scvi/distributions/_negative_binomial.py:482: The value argument must be within the support of the distribution\n",
      " UserWarning:/home/atac2rna/anaconda3/envs/atac2rna/lib/python3.9/site-packages/scvi/distributions/_negative_binomial.py:482: The value argument must be within the support of the distribution\n"
     ]
    },
    {
     "name": "stdout",
     "output_type": "stream",
     "text": [
      "Epoch 145/500:  29%|██████████████████████████████████████▌                                                                                               | 144/500 [02:45<06:49,  1.15s/it, loss=4.79e+03, v_num=1]"
     ]
    },
    {
     "name": "stderr",
     "output_type": "stream",
     "text": [
      " UserWarning:/home/atac2rna/anaconda3/envs/atac2rna/lib/python3.9/site-packages/scvi/distributions/_negative_binomial.py:482: The value argument must be within the support of the distribution\n",
      " UserWarning:/home/atac2rna/anaconda3/envs/atac2rna/lib/python3.9/site-packages/scvi/distributions/_negative_binomial.py:482: The value argument must be within the support of the distribution\n"
     ]
    },
    {
     "name": "stdout",
     "output_type": "stream",
     "text": [
      "Epoch 146/500:  29%|███████████████████████████████████████▏                                                                                               | 145/500 [02:47<06:46,  1.15s/it, loss=4.8e+03, v_num=1]"
     ]
    },
    {
     "name": "stderr",
     "output_type": "stream",
     "text": [
      " UserWarning:/home/atac2rna/anaconda3/envs/atac2rna/lib/python3.9/site-packages/scvi/distributions/_negative_binomial.py:482: The value argument must be within the support of the distribution\n",
      " UserWarning:/home/atac2rna/anaconda3/envs/atac2rna/lib/python3.9/site-packages/scvi/distributions/_negative_binomial.py:482: The value argument must be within the support of the distribution\n"
     ]
    },
    {
     "name": "stdout",
     "output_type": "stream",
     "text": [
      "Epoch 147/500:  29%|███████████████████████████████████████▏                                                                                              | 146/500 [02:48<06:44,  1.14s/it, loss=4.78e+03, v_num=1]"
     ]
    },
    {
     "name": "stderr",
     "output_type": "stream",
     "text": [
      " UserWarning:/home/atac2rna/anaconda3/envs/atac2rna/lib/python3.9/site-packages/scvi/distributions/_negative_binomial.py:482: The value argument must be within the support of the distribution\n",
      " UserWarning:/home/atac2rna/anaconda3/envs/atac2rna/lib/python3.9/site-packages/scvi/distributions/_negative_binomial.py:482: The value argument must be within the support of the distribution\n"
     ]
    },
    {
     "name": "stdout",
     "output_type": "stream",
     "text": [
      "Epoch 148/500:  29%|███████████████████████████████████████▍                                                                                              | 147/500 [02:49<06:42,  1.14s/it, loss=4.75e+03, v_num=1]"
     ]
    },
    {
     "name": "stderr",
     "output_type": "stream",
     "text": [
      " UserWarning:/home/atac2rna/anaconda3/envs/atac2rna/lib/python3.9/site-packages/scvi/distributions/_negative_binomial.py:482: The value argument must be within the support of the distribution\n",
      " UserWarning:/home/atac2rna/anaconda3/envs/atac2rna/lib/python3.9/site-packages/scvi/distributions/_negative_binomial.py:482: The value argument must be within the support of the distribution\n"
     ]
    },
    {
     "name": "stdout",
     "output_type": "stream",
     "text": [
      "Epoch 149/500:  30%|███████████████████████████████████████▋                                                                                              | 148/500 [02:50<06:39,  1.13s/it, loss=4.78e+03, v_num=1]"
     ]
    },
    {
     "name": "stderr",
     "output_type": "stream",
     "text": [
      " UserWarning:/home/atac2rna/anaconda3/envs/atac2rna/lib/python3.9/site-packages/scvi/distributions/_negative_binomial.py:482: The value argument must be within the support of the distribution\n",
      " UserWarning:/home/atac2rna/anaconda3/envs/atac2rna/lib/python3.9/site-packages/scvi/distributions/_negative_binomial.py:482: The value argument must be within the support of the distribution\n"
     ]
    },
    {
     "name": "stdout",
     "output_type": "stream",
     "text": [
      "Epoch 150/500:  30%|███████████████████████████████████████▉                                                                                              | 149/500 [02:51<06:37,  1.13s/it, loss=4.73e+03, v_num=1]"
     ]
    },
    {
     "name": "stderr",
     "output_type": "stream",
     "text": [
      " UserWarning:/home/atac2rna/anaconda3/envs/atac2rna/lib/python3.9/site-packages/scvi/distributions/_negative_binomial.py:482: The value argument must be within the support of the distribution\n",
      " UserWarning:/home/atac2rna/anaconda3/envs/atac2rna/lib/python3.9/site-packages/scvi/distributions/_negative_binomial.py:482: The value argument must be within the support of the distribution\n"
     ]
    },
    {
     "name": "stdout",
     "output_type": "stream",
     "text": [
      "Epoch 151/500:  30%|████████████████████████████████████████▏                                                                                             | 150/500 [02:52<06:35,  1.13s/it, loss=4.72e+03, v_num=1]"
     ]
    },
    {
     "name": "stderr",
     "output_type": "stream",
     "text": [
      " UserWarning:/home/atac2rna/anaconda3/envs/atac2rna/lib/python3.9/site-packages/scvi/distributions/_negative_binomial.py:482: The value argument must be within the support of the distribution\n",
      " UserWarning:/home/atac2rna/anaconda3/envs/atac2rna/lib/python3.9/site-packages/scvi/distributions/_negative_binomial.py:482: The value argument must be within the support of the distribution\n"
     ]
    },
    {
     "name": "stdout",
     "output_type": "stream",
     "text": [
      "Epoch 152/500:  30%|████████████████████████████████████████▍                                                                                             | 151/500 [02:53<06:31,  1.12s/it, loss=4.73e+03, v_num=1]"
     ]
    },
    {
     "name": "stderr",
     "output_type": "stream",
     "text": [
      " UserWarning:/home/atac2rna/anaconda3/envs/atac2rna/lib/python3.9/site-packages/scvi/distributions/_negative_binomial.py:482: The value argument must be within the support of the distribution\n",
      " UserWarning:/home/atac2rna/anaconda3/envs/atac2rna/lib/python3.9/site-packages/scvi/distributions/_negative_binomial.py:482: The value argument must be within the support of the distribution\n"
     ]
    },
    {
     "name": "stdout",
     "output_type": "stream",
     "text": [
      "Epoch 153/500:  30%|████████████████████████████████████████▋                                                                                             | 152/500 [02:54<06:30,  1.12s/it, loss=4.71e+03, v_num=1]"
     ]
    },
    {
     "name": "stderr",
     "output_type": "stream",
     "text": [
      " UserWarning:/home/atac2rna/anaconda3/envs/atac2rna/lib/python3.9/site-packages/scvi/distributions/_negative_binomial.py:482: The value argument must be within the support of the distribution\n",
      " UserWarning:/home/atac2rna/anaconda3/envs/atac2rna/lib/python3.9/site-packages/scvi/distributions/_negative_binomial.py:482: The value argument must be within the support of the distribution\n"
     ]
    },
    {
     "name": "stdout",
     "output_type": "stream",
     "text": [
      "Epoch 154/500:  31%|█████████████████████████████████████████                                                                                             | 153/500 [02:56<06:29,  1.12s/it, loss=4.69e+03, v_num=1]"
     ]
    },
    {
     "name": "stderr",
     "output_type": "stream",
     "text": [
      " UserWarning:/home/atac2rna/anaconda3/envs/atac2rna/lib/python3.9/site-packages/scvi/distributions/_negative_binomial.py:482: The value argument must be within the support of the distribution\n",
      " UserWarning:/home/atac2rna/anaconda3/envs/atac2rna/lib/python3.9/site-packages/scvi/distributions/_negative_binomial.py:482: The value argument must be within the support of the distribution\n"
     ]
    },
    {
     "name": "stdout",
     "output_type": "stream",
     "text": [
      "Epoch 155/500:  31%|█████████████████████████████████████████▎                                                                                            | 154/500 [02:57<06:29,  1.13s/it, loss=4.67e+03, v_num=1]"
     ]
    },
    {
     "name": "stderr",
     "output_type": "stream",
     "text": [
      " UserWarning:/home/atac2rna/anaconda3/envs/atac2rna/lib/python3.9/site-packages/scvi/distributions/_negative_binomial.py:482: The value argument must be within the support of the distribution\n",
      " UserWarning:/home/atac2rna/anaconda3/envs/atac2rna/lib/python3.9/site-packages/scvi/distributions/_negative_binomial.py:482: The value argument must be within the support of the distribution\n"
     ]
    },
    {
     "name": "stdout",
     "output_type": "stream",
     "text": [
      "Epoch 156/500:  31%|█████████████████████████████████████████▌                                                                                            | 155/500 [02:58<06:28,  1.13s/it, loss=4.67e+03, v_num=1]"
     ]
    },
    {
     "name": "stderr",
     "output_type": "stream",
     "text": [
      " UserWarning:/home/atac2rna/anaconda3/envs/atac2rna/lib/python3.9/site-packages/scvi/distributions/_negative_binomial.py:482: The value argument must be within the support of the distribution\n",
      " UserWarning:/home/atac2rna/anaconda3/envs/atac2rna/lib/python3.9/site-packages/scvi/distributions/_negative_binomial.py:482: The value argument must be within the support of the distribution\n"
     ]
    },
    {
     "name": "stdout",
     "output_type": "stream",
     "text": [
      "Epoch 157/500:  31%|█████████████████████████████████████████▊                                                                                            | 156/500 [02:59<06:28,  1.13s/it, loss=4.64e+03, v_num=1]"
     ]
    },
    {
     "name": "stderr",
     "output_type": "stream",
     "text": [
      " UserWarning:/home/atac2rna/anaconda3/envs/atac2rna/lib/python3.9/site-packages/scvi/distributions/_negative_binomial.py:482: The value argument must be within the support of the distribution\n",
      " UserWarning:/home/atac2rna/anaconda3/envs/atac2rna/lib/python3.9/site-packages/scvi/distributions/_negative_binomial.py:482: The value argument must be within the support of the distribution\n"
     ]
    },
    {
     "name": "stdout",
     "output_type": "stream",
     "text": [
      "Epoch 158/500:  31%|██████████████████████████████████████████                                                                                            | 157/500 [03:00<06:25,  1.12s/it, loss=4.63e+03, v_num=1]"
     ]
    },
    {
     "name": "stderr",
     "output_type": "stream",
     "text": [
      " UserWarning:/home/atac2rna/anaconda3/envs/atac2rna/lib/python3.9/site-packages/scvi/distributions/_negative_binomial.py:482: The value argument must be within the support of the distribution\n",
      " UserWarning:/home/atac2rna/anaconda3/envs/atac2rna/lib/python3.9/site-packages/scvi/distributions/_negative_binomial.py:482: The value argument must be within the support of the distribution\n"
     ]
    },
    {
     "name": "stdout",
     "output_type": "stream",
     "text": [
      "Epoch 159/500:  32%|██████████████████████████████████████████▎                                                                                           | 158/500 [03:01<06:24,  1.12s/it, loss=4.65e+03, v_num=1]"
     ]
    },
    {
     "name": "stderr",
     "output_type": "stream",
     "text": [
      " UserWarning:/home/atac2rna/anaconda3/envs/atac2rna/lib/python3.9/site-packages/scvi/distributions/_negative_binomial.py:482: The value argument must be within the support of the distribution\n",
      " UserWarning:/home/atac2rna/anaconda3/envs/atac2rna/lib/python3.9/site-packages/scvi/distributions/_negative_binomial.py:482: The value argument must be within the support of the distribution\n"
     ]
    },
    {
     "name": "stdout",
     "output_type": "stream",
     "text": [
      "Epoch 160/500:  32%|██████████████████████████████████████████▌                                                                                           | 159/500 [03:02<06:23,  1.12s/it, loss=4.64e+03, v_num=1]"
     ]
    },
    {
     "name": "stderr",
     "output_type": "stream",
     "text": [
      " UserWarning:/home/atac2rna/anaconda3/envs/atac2rna/lib/python3.9/site-packages/scvi/distributions/_negative_binomial.py:482: The value argument must be within the support of the distribution\n",
      " UserWarning:/home/atac2rna/anaconda3/envs/atac2rna/lib/python3.9/site-packages/scvi/distributions/_negative_binomial.py:482: The value argument must be within the support of the distribution\n"
     ]
    },
    {
     "name": "stdout",
     "output_type": "stream",
     "text": [
      "Epoch 161/500:  32%|██████████████████████████████████████████▉                                                                                           | 160/500 [03:03<06:21,  1.12s/it, loss=4.61e+03, v_num=1]"
     ]
    },
    {
     "name": "stderr",
     "output_type": "stream",
     "text": [
      " UserWarning:/home/atac2rna/anaconda3/envs/atac2rna/lib/python3.9/site-packages/scvi/distributions/_negative_binomial.py:482: The value argument must be within the support of the distribution\n",
      " UserWarning:/home/atac2rna/anaconda3/envs/atac2rna/lib/python3.9/site-packages/scvi/distributions/_negative_binomial.py:482: The value argument must be within the support of the distribution\n"
     ]
    },
    {
     "name": "stdout",
     "output_type": "stream",
     "text": [
      "Epoch 162/500:  32%|███████████████████████████████████████████▍                                                                                           | 161/500 [03:05<06:21,  1.13s/it, loss=4.6e+03, v_num=1]"
     ]
    },
    {
     "name": "stderr",
     "output_type": "stream",
     "text": [
      " UserWarning:/home/atac2rna/anaconda3/envs/atac2rna/lib/python3.9/site-packages/scvi/distributions/_negative_binomial.py:482: The value argument must be within the support of the distribution\n",
      " UserWarning:/home/atac2rna/anaconda3/envs/atac2rna/lib/python3.9/site-packages/scvi/distributions/_negative_binomial.py:482: The value argument must be within the support of the distribution\n"
     ]
    },
    {
     "name": "stdout",
     "output_type": "stream",
     "text": [
      "Epoch 163/500:  32%|███████████████████████████████████████████▍                                                                                          | 162/500 [03:06<06:20,  1.13s/it, loss=4.58e+03, v_num=1]"
     ]
    },
    {
     "name": "stderr",
     "output_type": "stream",
     "text": [
      " UserWarning:/home/atac2rna/anaconda3/envs/atac2rna/lib/python3.9/site-packages/scvi/distributions/_negative_binomial.py:482: The value argument must be within the support of the distribution\n",
      " UserWarning:/home/atac2rna/anaconda3/envs/atac2rna/lib/python3.9/site-packages/scvi/distributions/_negative_binomial.py:482: The value argument must be within the support of the distribution\n"
     ]
    },
    {
     "name": "stdout",
     "output_type": "stream",
     "text": [
      "Epoch 164/500:  33%|███████████████████████████████████████████▋                                                                                          | 163/500 [03:07<06:18,  1.12s/it, loss=4.58e+03, v_num=1]"
     ]
    },
    {
     "name": "stderr",
     "output_type": "stream",
     "text": [
      " UserWarning:/home/atac2rna/anaconda3/envs/atac2rna/lib/python3.9/site-packages/scvi/distributions/_negative_binomial.py:482: The value argument must be within the support of the distribution\n",
      " UserWarning:/home/atac2rna/anaconda3/envs/atac2rna/lib/python3.9/site-packages/scvi/distributions/_negative_binomial.py:482: The value argument must be within the support of the distribution\n"
     ]
    },
    {
     "name": "stdout",
     "output_type": "stream",
     "text": [
      "Epoch 165/500:  33%|███████████████████████████████████████████▉                                                                                          | 164/500 [03:08<06:17,  1.12s/it, loss=4.58e+03, v_num=1]"
     ]
    },
    {
     "name": "stderr",
     "output_type": "stream",
     "text": [
      " UserWarning:/home/atac2rna/anaconda3/envs/atac2rna/lib/python3.9/site-packages/scvi/distributions/_negative_binomial.py:482: The value argument must be within the support of the distribution\n",
      " UserWarning:/home/atac2rna/anaconda3/envs/atac2rna/lib/python3.9/site-packages/scvi/distributions/_negative_binomial.py:482: The value argument must be within the support of the distribution\n"
     ]
    },
    {
     "name": "stdout",
     "output_type": "stream",
     "text": [
      "Epoch 166/500:  33%|████████████████████████████████████████████▏                                                                                         | 165/500 [03:09<06:10,  1.11s/it, loss=4.55e+03, v_num=1]"
     ]
    },
    {
     "name": "stderr",
     "output_type": "stream",
     "text": [
      " UserWarning:/home/atac2rna/anaconda3/envs/atac2rna/lib/python3.9/site-packages/scvi/distributions/_negative_binomial.py:482: The value argument must be within the support of the distribution\n",
      " UserWarning:/home/atac2rna/anaconda3/envs/atac2rna/lib/python3.9/site-packages/scvi/distributions/_negative_binomial.py:482: The value argument must be within the support of the distribution\n"
     ]
    },
    {
     "name": "stdout",
     "output_type": "stream",
     "text": [
      "Epoch 167/500:  33%|████████████████████████████████████████████▍                                                                                         | 166/500 [03:10<06:13,  1.12s/it, loss=4.54e+03, v_num=1]"
     ]
    },
    {
     "name": "stderr",
     "output_type": "stream",
     "text": [
      " UserWarning:/home/atac2rna/anaconda3/envs/atac2rna/lib/python3.9/site-packages/scvi/distributions/_negative_binomial.py:482: The value argument must be within the support of the distribution\n",
      " UserWarning:/home/atac2rna/anaconda3/envs/atac2rna/lib/python3.9/site-packages/scvi/distributions/_negative_binomial.py:482: The value argument must be within the support of the distribution\n"
     ]
    },
    {
     "name": "stdout",
     "output_type": "stream",
     "text": [
      "Epoch 168/500:  33%|████████████████████████████████████████████▊                                                                                         | 167/500 [03:11<06:05,  1.10s/it, loss=4.54e+03, v_num=1]"
     ]
    },
    {
     "name": "stderr",
     "output_type": "stream",
     "text": [
      " UserWarning:/home/atac2rna/anaconda3/envs/atac2rna/lib/python3.9/site-packages/scvi/distributions/_negative_binomial.py:482: The value argument must be within the support of the distribution\n",
      " UserWarning:/home/atac2rna/anaconda3/envs/atac2rna/lib/python3.9/site-packages/scvi/distributions/_negative_binomial.py:482: The value argument must be within the support of the distribution\n"
     ]
    },
    {
     "name": "stdout",
     "output_type": "stream",
     "text": [
      "Epoch 169/500:  34%|█████████████████████████████████████████████                                                                                         | 168/500 [03:12<06:03,  1.09s/it, loss=4.54e+03, v_num=1]"
     ]
    },
    {
     "name": "stderr",
     "output_type": "stream",
     "text": [
      " UserWarning:/home/atac2rna/anaconda3/envs/atac2rna/lib/python3.9/site-packages/scvi/distributions/_negative_binomial.py:482: The value argument must be within the support of the distribution\n",
      " UserWarning:/home/atac2rna/anaconda3/envs/atac2rna/lib/python3.9/site-packages/scvi/distributions/_negative_binomial.py:482: The value argument must be within the support of the distribution\n"
     ]
    },
    {
     "name": "stdout",
     "output_type": "stream",
     "text": [
      "Epoch 170/500:  34%|█████████████████████████████████████████████▎                                                                                        | 169/500 [03:13<06:05,  1.10s/it, loss=4.51e+03, v_num=1]"
     ]
    },
    {
     "name": "stderr",
     "output_type": "stream",
     "text": [
      " UserWarning:/home/atac2rna/anaconda3/envs/atac2rna/lib/python3.9/site-packages/scvi/distributions/_negative_binomial.py:482: The value argument must be within the support of the distribution\n",
      " UserWarning:/home/atac2rna/anaconda3/envs/atac2rna/lib/python3.9/site-packages/scvi/distributions/_negative_binomial.py:482: The value argument must be within the support of the distribution\n"
     ]
    },
    {
     "name": "stdout",
     "output_type": "stream",
     "text": [
      "Epoch 171/500:  34%|█████████████████████████████████████████████▌                                                                                        | 170/500 [03:15<06:10,  1.12s/it, loss=4.51e+03, v_num=1]"
     ]
    },
    {
     "name": "stderr",
     "output_type": "stream",
     "text": [
      " UserWarning:/home/atac2rna/anaconda3/envs/atac2rna/lib/python3.9/site-packages/scvi/distributions/_negative_binomial.py:482: The value argument must be within the support of the distribution\n",
      " UserWarning:/home/atac2rna/anaconda3/envs/atac2rna/lib/python3.9/site-packages/scvi/distributions/_negative_binomial.py:482: The value argument must be within the support of the distribution\n"
     ]
    },
    {
     "name": "stdout",
     "output_type": "stream",
     "text": [
      "Epoch 172/500:  34%|█████████████████████████████████████████████▊                                                                                        | 171/500 [03:16<06:10,  1.12s/it, loss=4.49e+03, v_num=1]"
     ]
    },
    {
     "name": "stderr",
     "output_type": "stream",
     "text": [
      " UserWarning:/home/atac2rna/anaconda3/envs/atac2rna/lib/python3.9/site-packages/scvi/distributions/_negative_binomial.py:482: The value argument must be within the support of the distribution\n",
      " UserWarning:/home/atac2rna/anaconda3/envs/atac2rna/lib/python3.9/site-packages/scvi/distributions/_negative_binomial.py:482: The value argument must be within the support of the distribution\n"
     ]
    },
    {
     "name": "stdout",
     "output_type": "stream",
     "text": [
      "Epoch 173/500:  34%|██████████████████████████████████████████████                                                                                        | 172/500 [03:17<06:11,  1.13s/it, loss=4.49e+03, v_num=1]"
     ]
    },
    {
     "name": "stderr",
     "output_type": "stream",
     "text": [
      " UserWarning:/home/atac2rna/anaconda3/envs/atac2rna/lib/python3.9/site-packages/scvi/distributions/_negative_binomial.py:482: The value argument must be within the support of the distribution\n",
      " UserWarning:/home/atac2rna/anaconda3/envs/atac2rna/lib/python3.9/site-packages/scvi/distributions/_negative_binomial.py:482: The value argument must be within the support of the distribution\n"
     ]
    },
    {
     "name": "stdout",
     "output_type": "stream",
     "text": [
      "Epoch 174/500:  35%|██████████████████████████████████████████████▎                                                                                       | 173/500 [03:18<06:09,  1.13s/it, loss=4.48e+03, v_num=1]"
     ]
    },
    {
     "name": "stderr",
     "output_type": "stream",
     "text": [
      " UserWarning:/home/atac2rna/anaconda3/envs/atac2rna/lib/python3.9/site-packages/scvi/distributions/_negative_binomial.py:482: The value argument must be within the support of the distribution\n",
      " UserWarning:/home/atac2rna/anaconda3/envs/atac2rna/lib/python3.9/site-packages/scvi/distributions/_negative_binomial.py:482: The value argument must be within the support of the distribution\n"
     ]
    },
    {
     "name": "stdout",
     "output_type": "stream",
     "text": [
      "Epoch 175/500:  35%|██████████████████████████████████████████████▋                                                                                       | 174/500 [03:19<06:12,  1.14s/it, loss=4.48e+03, v_num=1]"
     ]
    },
    {
     "name": "stderr",
     "output_type": "stream",
     "text": [
      " UserWarning:/home/atac2rna/anaconda3/envs/atac2rna/lib/python3.9/site-packages/scvi/distributions/_negative_binomial.py:482: The value argument must be within the support of the distribution\n",
      " UserWarning:/home/atac2rna/anaconda3/envs/atac2rna/lib/python3.9/site-packages/scvi/distributions/_negative_binomial.py:482: The value argument must be within the support of the distribution\n"
     ]
    },
    {
     "name": "stdout",
     "output_type": "stream",
     "text": [
      "Epoch 176/500:  35%|██████████████████████████████████████████████▉                                                                                       | 175/500 [03:20<06:14,  1.15s/it, loss=4.45e+03, v_num=1]"
     ]
    },
    {
     "name": "stderr",
     "output_type": "stream",
     "text": [
      " UserWarning:/home/atac2rna/anaconda3/envs/atac2rna/lib/python3.9/site-packages/scvi/distributions/_negative_binomial.py:482: The value argument must be within the support of the distribution\n",
      " UserWarning:/home/atac2rna/anaconda3/envs/atac2rna/lib/python3.9/site-packages/scvi/distributions/_negative_binomial.py:482: The value argument must be within the support of the distribution\n"
     ]
    },
    {
     "name": "stdout",
     "output_type": "stream",
     "text": [
      "Epoch 177/500:  35%|███████████████████████████████████████████████▏                                                                                      | 176/500 [03:21<06:09,  1.14s/it, loss=4.45e+03, v_num=1]"
     ]
    },
    {
     "name": "stderr",
     "output_type": "stream",
     "text": [
      " UserWarning:/home/atac2rna/anaconda3/envs/atac2rna/lib/python3.9/site-packages/scvi/distributions/_negative_binomial.py:482: The value argument must be within the support of the distribution\n",
      " UserWarning:/home/atac2rna/anaconda3/envs/atac2rna/lib/python3.9/site-packages/scvi/distributions/_negative_binomial.py:482: The value argument must be within the support of the distribution\n"
     ]
    },
    {
     "name": "stdout",
     "output_type": "stream",
     "text": [
      "Epoch 178/500:  35%|███████████████████████████████████████████████▍                                                                                      | 177/500 [03:23<06:09,  1.14s/it, loss=4.44e+03, v_num=1]"
     ]
    },
    {
     "name": "stderr",
     "output_type": "stream",
     "text": [
      " UserWarning:/home/atac2rna/anaconda3/envs/atac2rna/lib/python3.9/site-packages/scvi/distributions/_negative_binomial.py:482: The value argument must be within the support of the distribution\n",
      " UserWarning:/home/atac2rna/anaconda3/envs/atac2rna/lib/python3.9/site-packages/scvi/distributions/_negative_binomial.py:482: The value argument must be within the support of the distribution\n"
     ]
    },
    {
     "name": "stdout",
     "output_type": "stream",
     "text": [
      "Epoch 179/500:  36%|███████████████████████████████████████████████▋                                                                                      | 178/500 [03:24<06:06,  1.14s/it, loss=4.44e+03, v_num=1]"
     ]
    },
    {
     "name": "stderr",
     "output_type": "stream",
     "text": [
      " UserWarning:/home/atac2rna/anaconda3/envs/atac2rna/lib/python3.9/site-packages/scvi/distributions/_negative_binomial.py:482: The value argument must be within the support of the distribution\n",
      " UserWarning:/home/atac2rna/anaconda3/envs/atac2rna/lib/python3.9/site-packages/scvi/distributions/_negative_binomial.py:482: The value argument must be within the support of the distribution\n"
     ]
    },
    {
     "name": "stdout",
     "output_type": "stream",
     "text": [
      "Epoch 180/500:  36%|███████████████████████████████████████████████▉                                                                                      | 179/500 [03:25<06:00,  1.12s/it, loss=4.42e+03, v_num=1]"
     ]
    },
    {
     "name": "stderr",
     "output_type": "stream",
     "text": [
      " UserWarning:/home/atac2rna/anaconda3/envs/atac2rna/lib/python3.9/site-packages/scvi/distributions/_negative_binomial.py:482: The value argument must be within the support of the distribution\n",
      " UserWarning:/home/atac2rna/anaconda3/envs/atac2rna/lib/python3.9/site-packages/scvi/distributions/_negative_binomial.py:482: The value argument must be within the support of the distribution\n"
     ]
    },
    {
     "name": "stdout",
     "output_type": "stream",
     "text": [
      "Epoch 181/500:  36%|████████████████████████████████████████████████▌                                                                                      | 180/500 [03:26<06:03,  1.14s/it, loss=4.4e+03, v_num=1]"
     ]
    },
    {
     "name": "stderr",
     "output_type": "stream",
     "text": [
      " UserWarning:/home/atac2rna/anaconda3/envs/atac2rna/lib/python3.9/site-packages/scvi/distributions/_negative_binomial.py:482: The value argument must be within the support of the distribution\n",
      " UserWarning:/home/atac2rna/anaconda3/envs/atac2rna/lib/python3.9/site-packages/scvi/distributions/_negative_binomial.py:482: The value argument must be within the support of the distribution\n"
     ]
    },
    {
     "name": "stdout",
     "output_type": "stream",
     "text": [
      "Epoch 182/500:  36%|████████████████████████████████████████████████▊                                                                                      | 181/500 [03:27<06:03,  1.14s/it, loss=4.4e+03, v_num=1]"
     ]
    },
    {
     "name": "stderr",
     "output_type": "stream",
     "text": [
      " UserWarning:/home/atac2rna/anaconda3/envs/atac2rna/lib/python3.9/site-packages/scvi/distributions/_negative_binomial.py:482: The value argument must be within the support of the distribution\n",
      " UserWarning:/home/atac2rna/anaconda3/envs/atac2rna/lib/python3.9/site-packages/scvi/distributions/_negative_binomial.py:482: The value argument must be within the support of the distribution\n"
     ]
    },
    {
     "name": "stdout",
     "output_type": "stream",
     "text": [
      "Epoch 183/500:  36%|████████████████████████████████████████████████▊                                                                                     | 182/500 [03:28<06:06,  1.15s/it, loss=4.39e+03, v_num=1]"
     ]
    },
    {
     "name": "stderr",
     "output_type": "stream",
     "text": [
      " UserWarning:/home/atac2rna/anaconda3/envs/atac2rna/lib/python3.9/site-packages/scvi/distributions/_negative_binomial.py:482: The value argument must be within the support of the distribution\n",
      " UserWarning:/home/atac2rna/anaconda3/envs/atac2rna/lib/python3.9/site-packages/scvi/distributions/_negative_binomial.py:482: The value argument must be within the support of the distribution\n"
     ]
    },
    {
     "name": "stdout",
     "output_type": "stream",
     "text": [
      "Epoch 184/500:  37%|█████████████████████████████████████████████████▍                                                                                     | 183/500 [03:29<06:06,  1.16s/it, loss=4.4e+03, v_num=1]"
     ]
    },
    {
     "name": "stderr",
     "output_type": "stream",
     "text": [
      " UserWarning:/home/atac2rna/anaconda3/envs/atac2rna/lib/python3.9/site-packages/scvi/distributions/_negative_binomial.py:482: The value argument must be within the support of the distribution\n",
      " UserWarning:/home/atac2rna/anaconda3/envs/atac2rna/lib/python3.9/site-packages/scvi/distributions/_negative_binomial.py:482: The value argument must be within the support of the distribution\n"
     ]
    },
    {
     "name": "stdout",
     "output_type": "stream",
     "text": [
      "Epoch 185/500:  37%|█████████████████████████████████████████████████▎                                                                                    | 184/500 [03:31<06:08,  1.17s/it, loss=4.37e+03, v_num=1]"
     ]
    },
    {
     "name": "stderr",
     "output_type": "stream",
     "text": [
      " UserWarning:/home/atac2rna/anaconda3/envs/atac2rna/lib/python3.9/site-packages/scvi/distributions/_negative_binomial.py:482: The value argument must be within the support of the distribution\n",
      " UserWarning:/home/atac2rna/anaconda3/envs/atac2rna/lib/python3.9/site-packages/scvi/distributions/_negative_binomial.py:482: The value argument must be within the support of the distribution\n"
     ]
    },
    {
     "name": "stdout",
     "output_type": "stream",
     "text": [
      "Epoch 186/500:  37%|█████████████████████████████████████████████████▌                                                                                    | 185/500 [03:32<06:09,  1.17s/it, loss=4.35e+03, v_num=1]"
     ]
    },
    {
     "name": "stderr",
     "output_type": "stream",
     "text": [
      " UserWarning:/home/atac2rna/anaconda3/envs/atac2rna/lib/python3.9/site-packages/scvi/distributions/_negative_binomial.py:482: The value argument must be within the support of the distribution\n",
      " UserWarning:/home/atac2rna/anaconda3/envs/atac2rna/lib/python3.9/site-packages/scvi/distributions/_negative_binomial.py:482: The value argument must be within the support of the distribution\n"
     ]
    },
    {
     "name": "stdout",
     "output_type": "stream",
     "text": [
      "Epoch 187/500:  37%|█████████████████████████████████████████████████▊                                                                                    | 186/500 [03:33<06:10,  1.18s/it, loss=4.35e+03, v_num=1]"
     ]
    },
    {
     "name": "stderr",
     "output_type": "stream",
     "text": [
      " UserWarning:/home/atac2rna/anaconda3/envs/atac2rna/lib/python3.9/site-packages/scvi/distributions/_negative_binomial.py:482: The value argument must be within the support of the distribution\n",
      " UserWarning:/home/atac2rna/anaconda3/envs/atac2rna/lib/python3.9/site-packages/scvi/distributions/_negative_binomial.py:482: The value argument must be within the support of the distribution\n"
     ]
    },
    {
     "name": "stdout",
     "output_type": "stream",
     "text": [
      "Epoch 188/500:  37%|██████████████████████████████████████████████████                                                                                    | 187/500 [03:34<06:11,  1.19s/it, loss=4.34e+03, v_num=1]"
     ]
    },
    {
     "name": "stderr",
     "output_type": "stream",
     "text": [
      " UserWarning:/home/atac2rna/anaconda3/envs/atac2rna/lib/python3.9/site-packages/scvi/distributions/_negative_binomial.py:482: The value argument must be within the support of the distribution\n",
      " UserWarning:/home/atac2rna/anaconda3/envs/atac2rna/lib/python3.9/site-packages/scvi/distributions/_negative_binomial.py:482: The value argument must be within the support of the distribution\n"
     ]
    },
    {
     "name": "stdout",
     "output_type": "stream",
     "text": [
      "Epoch 189/500:  38%|██████████████████████████████████████████████████▍                                                                                   | 188/500 [03:35<06:10,  1.19s/it, loss=4.35e+03, v_num=1]"
     ]
    },
    {
     "name": "stderr",
     "output_type": "stream",
     "text": [
      " UserWarning:/home/atac2rna/anaconda3/envs/atac2rna/lib/python3.9/site-packages/scvi/distributions/_negative_binomial.py:482: The value argument must be within the support of the distribution\n",
      " UserWarning:/home/atac2rna/anaconda3/envs/atac2rna/lib/python3.9/site-packages/scvi/distributions/_negative_binomial.py:482: The value argument must be within the support of the distribution\n"
     ]
    },
    {
     "name": "stdout",
     "output_type": "stream",
     "text": [
      "Epoch 190/500:  38%|██████████████████████████████████████████████████▋                                                                                   | 189/500 [03:37<06:09,  1.19s/it, loss=4.32e+03, v_num=1]"
     ]
    },
    {
     "name": "stderr",
     "output_type": "stream",
     "text": [
      " UserWarning:/home/atac2rna/anaconda3/envs/atac2rna/lib/python3.9/site-packages/scvi/distributions/_negative_binomial.py:482: The value argument must be within the support of the distribution\n",
      " UserWarning:/home/atac2rna/anaconda3/envs/atac2rna/lib/python3.9/site-packages/scvi/distributions/_negative_binomial.py:482: The value argument must be within the support of the distribution\n"
     ]
    },
    {
     "name": "stdout",
     "output_type": "stream",
     "text": [
      "Epoch 191/500:  38%|██████████████████████████████████████████████████▉                                                                                   | 190/500 [03:38<06:08,  1.19s/it, loss=4.33e+03, v_num=1]"
     ]
    },
    {
     "name": "stderr",
     "output_type": "stream",
     "text": [
      " UserWarning:/home/atac2rna/anaconda3/envs/atac2rna/lib/python3.9/site-packages/scvi/distributions/_negative_binomial.py:482: The value argument must be within the support of the distribution\n",
      " UserWarning:/home/atac2rna/anaconda3/envs/atac2rna/lib/python3.9/site-packages/scvi/distributions/_negative_binomial.py:482: The value argument must be within the support of the distribution\n"
     ]
    },
    {
     "name": "stdout",
     "output_type": "stream",
     "text": [
      "Epoch 192/500:  38%|███████████████████████████████████████████████████▌                                                                                   | 191/500 [03:39<06:05,  1.18s/it, loss=4.3e+03, v_num=1]"
     ]
    },
    {
     "name": "stderr",
     "output_type": "stream",
     "text": [
      " UserWarning:/home/atac2rna/anaconda3/envs/atac2rna/lib/python3.9/site-packages/scvi/distributions/_negative_binomial.py:482: The value argument must be within the support of the distribution\n",
      " UserWarning:/home/atac2rna/anaconda3/envs/atac2rna/lib/python3.9/site-packages/scvi/distributions/_negative_binomial.py:482: The value argument must be within the support of the distribution\n"
     ]
    },
    {
     "name": "stdout",
     "output_type": "stream",
     "text": [
      "Epoch 193/500:  38%|███████████████████████████████████████████████████▍                                                                                  | 192/500 [03:40<06:03,  1.18s/it, loss=4.28e+03, v_num=1]"
     ]
    },
    {
     "name": "stderr",
     "output_type": "stream",
     "text": [
      " UserWarning:/home/atac2rna/anaconda3/envs/atac2rna/lib/python3.9/site-packages/scvi/distributions/_negative_binomial.py:482: The value argument must be within the support of the distribution\n",
      " UserWarning:/home/atac2rna/anaconda3/envs/atac2rna/lib/python3.9/site-packages/scvi/distributions/_negative_binomial.py:482: The value argument must be within the support of the distribution\n"
     ]
    },
    {
     "name": "stdout",
     "output_type": "stream",
     "text": [
      "Epoch 194/500:  39%|████████████████████████████████████████████████████                                                                                   | 193/500 [03:41<05:51,  1.15s/it, loss=4.3e+03, v_num=1]"
     ]
    },
    {
     "name": "stderr",
     "output_type": "stream",
     "text": [
      " UserWarning:/home/atac2rna/anaconda3/envs/atac2rna/lib/python3.9/site-packages/scvi/distributions/_negative_binomial.py:482: The value argument must be within the support of the distribution\n",
      " UserWarning:/home/atac2rna/anaconda3/envs/atac2rna/lib/python3.9/site-packages/scvi/distributions/_negative_binomial.py:482: The value argument must be within the support of the distribution\n"
     ]
    },
    {
     "name": "stdout",
     "output_type": "stream",
     "text": [
      "Epoch 195/500:  39%|███████████████████████████████████████████████████▉                                                                                  | 194/500 [03:42<05:48,  1.14s/it, loss=4.27e+03, v_num=1]"
     ]
    },
    {
     "name": "stderr",
     "output_type": "stream",
     "text": [
      " UserWarning:/home/atac2rna/anaconda3/envs/atac2rna/lib/python3.9/site-packages/scvi/distributions/_negative_binomial.py:482: The value argument must be within the support of the distribution\n",
      " UserWarning:/home/atac2rna/anaconda3/envs/atac2rna/lib/python3.9/site-packages/scvi/distributions/_negative_binomial.py:482: The value argument must be within the support of the distribution\n"
     ]
    },
    {
     "name": "stdout",
     "output_type": "stream",
     "text": [
      "Epoch 196/500:  39%|████████████████████████████████████████████████████▎                                                                                 | 195/500 [03:43<05:33,  1.09s/it, loss=4.27e+03, v_num=1]"
     ]
    },
    {
     "name": "stderr",
     "output_type": "stream",
     "text": [
      " UserWarning:/home/atac2rna/anaconda3/envs/atac2rna/lib/python3.9/site-packages/scvi/distributions/_negative_binomial.py:482: The value argument must be within the support of the distribution\n",
      " UserWarning:/home/atac2rna/anaconda3/envs/atac2rna/lib/python3.9/site-packages/scvi/distributions/_negative_binomial.py:482: The value argument must be within the support of the distribution\n"
     ]
    },
    {
     "name": "stdout",
     "output_type": "stream",
     "text": [
      "Epoch 197/500:  39%|████████████████████████████████████████████████████▌                                                                                 | 196/500 [03:44<05:36,  1.11s/it, loss=4.25e+03, v_num=1]"
     ]
    },
    {
     "name": "stderr",
     "output_type": "stream",
     "text": [
      " UserWarning:/home/atac2rna/anaconda3/envs/atac2rna/lib/python3.9/site-packages/scvi/distributions/_negative_binomial.py:482: The value argument must be within the support of the distribution\n",
      " UserWarning:/home/atac2rna/anaconda3/envs/atac2rna/lib/python3.9/site-packages/scvi/distributions/_negative_binomial.py:482: The value argument must be within the support of the distribution\n"
     ]
    },
    {
     "name": "stdout",
     "output_type": "stream",
     "text": [
      "Epoch 198/500:  39%|████████████████████████████████████████████████████▊                                                                                 | 197/500 [03:46<05:38,  1.12s/it, loss=4.25e+03, v_num=1]"
     ]
    },
    {
     "name": "stderr",
     "output_type": "stream",
     "text": [
      " UserWarning:/home/atac2rna/anaconda3/envs/atac2rna/lib/python3.9/site-packages/scvi/distributions/_negative_binomial.py:482: The value argument must be within the support of the distribution\n",
      " UserWarning:/home/atac2rna/anaconda3/envs/atac2rna/lib/python3.9/site-packages/scvi/distributions/_negative_binomial.py:482: The value argument must be within the support of the distribution\n"
     ]
    },
    {
     "name": "stdout",
     "output_type": "stream",
     "text": [
      "Epoch 199/500:  40%|█████████████████████████████████████████████████████                                                                                 | 198/500 [03:47<05:40,  1.13s/it, loss=4.25e+03, v_num=1]"
     ]
    },
    {
     "name": "stderr",
     "output_type": "stream",
     "text": [
      " UserWarning:/home/atac2rna/anaconda3/envs/atac2rna/lib/python3.9/site-packages/scvi/distributions/_negative_binomial.py:482: The value argument must be within the support of the distribution\n",
      " UserWarning:/home/atac2rna/anaconda3/envs/atac2rna/lib/python3.9/site-packages/scvi/distributions/_negative_binomial.py:482: The value argument must be within the support of the distribution\n"
     ]
    },
    {
     "name": "stdout",
     "output_type": "stream",
     "text": [
      "Epoch 200/500:  40%|█████████████████████████████████████████████████████▎                                                                                | 199/500 [03:48<05:41,  1.13s/it, loss=4.25e+03, v_num=1]"
     ]
    },
    {
     "name": "stderr",
     "output_type": "stream",
     "text": [
      " UserWarning:/home/atac2rna/anaconda3/envs/atac2rna/lib/python3.9/site-packages/scvi/distributions/_negative_binomial.py:482: The value argument must be within the support of the distribution\n",
      " UserWarning:/home/atac2rna/anaconda3/envs/atac2rna/lib/python3.9/site-packages/scvi/distributions/_negative_binomial.py:482: The value argument must be within the support of the distribution\n"
     ]
    },
    {
     "name": "stdout",
     "output_type": "stream",
     "text": [
      "Epoch 201/500:  40%|█████████████████████████████████████████████████████▌                                                                                | 200/500 [03:49<05:40,  1.14s/it, loss=4.23e+03, v_num=1]"
     ]
    },
    {
     "name": "stderr",
     "output_type": "stream",
     "text": [
      " UserWarning:/home/atac2rna/anaconda3/envs/atac2rna/lib/python3.9/site-packages/scvi/distributions/_negative_binomial.py:482: The value argument must be within the support of the distribution\n",
      " UserWarning:/home/atac2rna/anaconda3/envs/atac2rna/lib/python3.9/site-packages/scvi/distributions/_negative_binomial.py:482: The value argument must be within the support of the distribution\n"
     ]
    },
    {
     "name": "stdout",
     "output_type": "stream",
     "text": [
      "Epoch 202/500:  40%|██████████████████████████████████████████████████████▎                                                                                | 201/500 [03:50<05:40,  1.14s/it, loss=4.2e+03, v_num=1]"
     ]
    },
    {
     "name": "stderr",
     "output_type": "stream",
     "text": [
      " UserWarning:/home/atac2rna/anaconda3/envs/atac2rna/lib/python3.9/site-packages/scvi/distributions/_negative_binomial.py:482: The value argument must be within the support of the distribution\n",
      " UserWarning:/home/atac2rna/anaconda3/envs/atac2rna/lib/python3.9/site-packages/scvi/distributions/_negative_binomial.py:482: The value argument must be within the support of the distribution\n"
     ]
    },
    {
     "name": "stdout",
     "output_type": "stream",
     "text": [
      "Epoch 203/500:  40%|██████████████████████████████████████████████████████▏                                                                               | 202/500 [03:51<05:39,  1.14s/it, loss=4.21e+03, v_num=1]"
     ]
    },
    {
     "name": "stderr",
     "output_type": "stream",
     "text": [
      " UserWarning:/home/atac2rna/anaconda3/envs/atac2rna/lib/python3.9/site-packages/scvi/distributions/_negative_binomial.py:482: The value argument must be within the support of the distribution\n",
      " UserWarning:/home/atac2rna/anaconda3/envs/atac2rna/lib/python3.9/site-packages/scvi/distributions/_negative_binomial.py:482: The value argument must be within the support of the distribution\n"
     ]
    },
    {
     "name": "stdout",
     "output_type": "stream",
     "text": [
      "Epoch 204/500:  41%|██████████████████████████████████████████████████████▍                                                                               | 203/500 [03:52<05:39,  1.14s/it, loss=4.22e+03, v_num=1]"
     ]
    },
    {
     "name": "stderr",
     "output_type": "stream",
     "text": [
      " UserWarning:/home/atac2rna/anaconda3/envs/atac2rna/lib/python3.9/site-packages/scvi/distributions/_negative_binomial.py:482: The value argument must be within the support of the distribution\n",
      " UserWarning:/home/atac2rna/anaconda3/envs/atac2rna/lib/python3.9/site-packages/scvi/distributions/_negative_binomial.py:482: The value argument must be within the support of the distribution\n"
     ]
    },
    {
     "name": "stdout",
     "output_type": "stream",
     "text": [
      "Epoch 205/500:  41%|██████████████████████████████████████████████████████▋                                                                               | 204/500 [03:54<05:38,  1.14s/it, loss=4.17e+03, v_num=1]"
     ]
    },
    {
     "name": "stderr",
     "output_type": "stream",
     "text": [
      " UserWarning:/home/atac2rna/anaconda3/envs/atac2rna/lib/python3.9/site-packages/scvi/distributions/_negative_binomial.py:482: The value argument must be within the support of the distribution\n",
      " UserWarning:/home/atac2rna/anaconda3/envs/atac2rna/lib/python3.9/site-packages/scvi/distributions/_negative_binomial.py:482: The value argument must be within the support of the distribution\n"
     ]
    },
    {
     "name": "stdout",
     "output_type": "stream",
     "text": [
      "Epoch 206/500:  41%|██████████████████████████████████████████████████████▉                                                                               | 205/500 [03:55<05:36,  1.14s/it, loss=4.19e+03, v_num=1]"
     ]
    },
    {
     "name": "stderr",
     "output_type": "stream",
     "text": [
      " UserWarning:/home/atac2rna/anaconda3/envs/atac2rna/lib/python3.9/site-packages/scvi/distributions/_negative_binomial.py:482: The value argument must be within the support of the distribution\n",
      " UserWarning:/home/atac2rna/anaconda3/envs/atac2rna/lib/python3.9/site-packages/scvi/distributions/_negative_binomial.py:482: The value argument must be within the support of the distribution\n"
     ]
    },
    {
     "name": "stdout",
     "output_type": "stream",
     "text": [
      "Epoch 207/500:  41%|███████████████████████████████████████████████████████▏                                                                              | 206/500 [03:56<05:37,  1.15s/it, loss=4.18e+03, v_num=1]"
     ]
    },
    {
     "name": "stderr",
     "output_type": "stream",
     "text": [
      " UserWarning:/home/atac2rna/anaconda3/envs/atac2rna/lib/python3.9/site-packages/scvi/distributions/_negative_binomial.py:482: The value argument must be within the support of the distribution\n",
      " UserWarning:/home/atac2rna/anaconda3/envs/atac2rna/lib/python3.9/site-packages/scvi/distributions/_negative_binomial.py:482: The value argument must be within the support of the distribution\n"
     ]
    },
    {
     "name": "stdout",
     "output_type": "stream",
     "text": [
      "Epoch 208/500:  41%|███████████████████████████████████████████████████████▍                                                                              | 207/500 [03:57<05:32,  1.13s/it, loss=4.18e+03, v_num=1]"
     ]
    },
    {
     "name": "stderr",
     "output_type": "stream",
     "text": [
      " UserWarning:/home/atac2rna/anaconda3/envs/atac2rna/lib/python3.9/site-packages/scvi/distributions/_negative_binomial.py:482: The value argument must be within the support of the distribution\n",
      " UserWarning:/home/atac2rna/anaconda3/envs/atac2rna/lib/python3.9/site-packages/scvi/distributions/_negative_binomial.py:482: The value argument must be within the support of the distribution\n"
     ]
    },
    {
     "name": "stdout",
     "output_type": "stream",
     "text": [
      "Epoch 209/500:  42%|███████████████████████████████████████████████████████▋                                                                              | 208/500 [03:58<05:26,  1.12s/it, loss=4.17e+03, v_num=1]"
     ]
    },
    {
     "name": "stderr",
     "output_type": "stream",
     "text": [
      " UserWarning:/home/atac2rna/anaconda3/envs/atac2rna/lib/python3.9/site-packages/scvi/distributions/_negative_binomial.py:482: The value argument must be within the support of the distribution\n",
      " UserWarning:/home/atac2rna/anaconda3/envs/atac2rna/lib/python3.9/site-packages/scvi/distributions/_negative_binomial.py:482: The value argument must be within the support of the distribution\n"
     ]
    },
    {
     "name": "stdout",
     "output_type": "stream",
     "text": [
      "Epoch 210/500:  42%|████████████████████████████████████████████████████████                                                                              | 209/500 [03:59<05:23,  1.11s/it, loss=4.16e+03, v_num=1]"
     ]
    },
    {
     "name": "stderr",
     "output_type": "stream",
     "text": [
      " UserWarning:/home/atac2rna/anaconda3/envs/atac2rna/lib/python3.9/site-packages/scvi/distributions/_negative_binomial.py:482: The value argument must be within the support of the distribution\n",
      " UserWarning:/home/atac2rna/anaconda3/envs/atac2rna/lib/python3.9/site-packages/scvi/distributions/_negative_binomial.py:482: The value argument must be within the support of the distribution\n"
     ]
    },
    {
     "name": "stdout",
     "output_type": "stream",
     "text": [
      "Epoch 211/500:  42%|████████████████████████████████████████████████████████▎                                                                             | 210/500 [04:00<05:20,  1.11s/it, loss=4.15e+03, v_num=1]"
     ]
    },
    {
     "name": "stderr",
     "output_type": "stream",
     "text": [
      " UserWarning:/home/atac2rna/anaconda3/envs/atac2rna/lib/python3.9/site-packages/scvi/distributions/_negative_binomial.py:482: The value argument must be within the support of the distribution\n",
      " UserWarning:/home/atac2rna/anaconda3/envs/atac2rna/lib/python3.9/site-packages/scvi/distributions/_negative_binomial.py:482: The value argument must be within the support of the distribution\n"
     ]
    },
    {
     "name": "stdout",
     "output_type": "stream",
     "text": [
      "Epoch 212/500:  42%|████████████████████████████████████████████████████████▌                                                                             | 211/500 [04:01<05:20,  1.11s/it, loss=4.12e+03, v_num=1]"
     ]
    },
    {
     "name": "stderr",
     "output_type": "stream",
     "text": [
      " UserWarning:/home/atac2rna/anaconda3/envs/atac2rna/lib/python3.9/site-packages/scvi/distributions/_negative_binomial.py:482: The value argument must be within the support of the distribution\n",
      " UserWarning:/home/atac2rna/anaconda3/envs/atac2rna/lib/python3.9/site-packages/scvi/distributions/_negative_binomial.py:482: The value argument must be within the support of the distribution\n"
     ]
    },
    {
     "name": "stdout",
     "output_type": "stream",
     "text": [
      "Epoch 213/500:  42%|████████████████████████████████████████████████████████▊                                                                             | 212/500 [04:03<05:18,  1.11s/it, loss=4.14e+03, v_num=1]"
     ]
    },
    {
     "name": "stderr",
     "output_type": "stream",
     "text": [
      " UserWarning:/home/atac2rna/anaconda3/envs/atac2rna/lib/python3.9/site-packages/scvi/distributions/_negative_binomial.py:482: The value argument must be within the support of the distribution\n",
      " UserWarning:/home/atac2rna/anaconda3/envs/atac2rna/lib/python3.9/site-packages/scvi/distributions/_negative_binomial.py:482: The value argument must be within the support of the distribution\n"
     ]
    },
    {
     "name": "stdout",
     "output_type": "stream",
     "text": [
      "Epoch 214/500:  43%|█████████████████████████████████████████████████████████                                                                             | 213/500 [04:04<05:17,  1.11s/it, loss=4.13e+03, v_num=1]"
     ]
    },
    {
     "name": "stderr",
     "output_type": "stream",
     "text": [
      " UserWarning:/home/atac2rna/anaconda3/envs/atac2rna/lib/python3.9/site-packages/scvi/distributions/_negative_binomial.py:482: The value argument must be within the support of the distribution\n",
      " UserWarning:/home/atac2rna/anaconda3/envs/atac2rna/lib/python3.9/site-packages/scvi/distributions/_negative_binomial.py:482: The value argument must be within the support of the distribution\n"
     ]
    },
    {
     "name": "stdout",
     "output_type": "stream",
     "text": [
      "Epoch 215/500:  43%|█████████████████████████████████████████████████████████▎                                                                            | 214/500 [04:05<05:16,  1.11s/it, loss=4.13e+03, v_num=1]"
     ]
    },
    {
     "name": "stderr",
     "output_type": "stream",
     "text": [
      " UserWarning:/home/atac2rna/anaconda3/envs/atac2rna/lib/python3.9/site-packages/scvi/distributions/_negative_binomial.py:482: The value argument must be within the support of the distribution\n",
      " UserWarning:/home/atac2rna/anaconda3/envs/atac2rna/lib/python3.9/site-packages/scvi/distributions/_negative_binomial.py:482: The value argument must be within the support of the distribution\n"
     ]
    },
    {
     "name": "stdout",
     "output_type": "stream",
     "text": [
      "Epoch 216/500:  43%|█████████████████████████████████████████████████████████▌                                                                            | 215/500 [04:06<05:14,  1.10s/it, loss=4.11e+03, v_num=1]"
     ]
    },
    {
     "name": "stderr",
     "output_type": "stream",
     "text": [
      " UserWarning:/home/atac2rna/anaconda3/envs/atac2rna/lib/python3.9/site-packages/scvi/distributions/_negative_binomial.py:482: The value argument must be within the support of the distribution\n",
      " UserWarning:/home/atac2rna/anaconda3/envs/atac2rna/lib/python3.9/site-packages/scvi/distributions/_negative_binomial.py:482: The value argument must be within the support of the distribution\n"
     ]
    },
    {
     "name": "stdout",
     "output_type": "stream",
     "text": [
      "Epoch 217/500:  43%|█████████████████████████████████████████████████████████▉                                                                            | 216/500 [04:07<05:15,  1.11s/it, loss=4.11e+03, v_num=1]"
     ]
    },
    {
     "name": "stderr",
     "output_type": "stream",
     "text": [
      " UserWarning:/home/atac2rna/anaconda3/envs/atac2rna/lib/python3.9/site-packages/scvi/distributions/_negative_binomial.py:482: The value argument must be within the support of the distribution\n",
      " UserWarning:/home/atac2rna/anaconda3/envs/atac2rna/lib/python3.9/site-packages/scvi/distributions/_negative_binomial.py:482: The value argument must be within the support of the distribution\n"
     ]
    },
    {
     "name": "stdout",
     "output_type": "stream",
     "text": [
      "Epoch 218/500:  43%|██████████████████████████████████████████████████████████▏                                                                           | 217/500 [04:08<05:15,  1.11s/it, loss=4.09e+03, v_num=1]"
     ]
    },
    {
     "name": "stderr",
     "output_type": "stream",
     "text": [
      " UserWarning:/home/atac2rna/anaconda3/envs/atac2rna/lib/python3.9/site-packages/scvi/distributions/_negative_binomial.py:482: The value argument must be within the support of the distribution\n",
      " UserWarning:/home/atac2rna/anaconda3/envs/atac2rna/lib/python3.9/site-packages/scvi/distributions/_negative_binomial.py:482: The value argument must be within the support of the distribution\n"
     ]
    },
    {
     "name": "stdout",
     "output_type": "stream",
     "text": [
      "Epoch 219/500:  44%|██████████████████████████████████████████████████████████▍                                                                           | 218/500 [04:09<05:12,  1.11s/it, loss=4.08e+03, v_num=1]"
     ]
    },
    {
     "name": "stderr",
     "output_type": "stream",
     "text": [
      " UserWarning:/home/atac2rna/anaconda3/envs/atac2rna/lib/python3.9/site-packages/scvi/distributions/_negative_binomial.py:482: The value argument must be within the support of the distribution\n",
      " UserWarning:/home/atac2rna/anaconda3/envs/atac2rna/lib/python3.9/site-packages/scvi/distributions/_negative_binomial.py:482: The value argument must be within the support of the distribution\n"
     ]
    },
    {
     "name": "stdout",
     "output_type": "stream",
     "text": [
      "Epoch 220/500:  44%|██████████████████████████████████████████████████████████▋                                                                           | 219/500 [04:10<05:11,  1.11s/it, loss=4.07e+03, v_num=1]"
     ]
    },
    {
     "name": "stderr",
     "output_type": "stream",
     "text": [
      " UserWarning:/home/atac2rna/anaconda3/envs/atac2rna/lib/python3.9/site-packages/scvi/distributions/_negative_binomial.py:482: The value argument must be within the support of the distribution\n",
      " UserWarning:/home/atac2rna/anaconda3/envs/atac2rna/lib/python3.9/site-packages/scvi/distributions/_negative_binomial.py:482: The value argument must be within the support of the distribution\n"
     ]
    },
    {
     "name": "stdout",
     "output_type": "stream",
     "text": [
      "Epoch 221/500:  44%|██████████████████████████████████████████████████████████▉                                                                           | 220/500 [04:11<05:12,  1.12s/it, loss=4.08e+03, v_num=1]"
     ]
    },
    {
     "name": "stderr",
     "output_type": "stream",
     "text": [
      " UserWarning:/home/atac2rna/anaconda3/envs/atac2rna/lib/python3.9/site-packages/scvi/distributions/_negative_binomial.py:482: The value argument must be within the support of the distribution\n",
      " UserWarning:/home/atac2rna/anaconda3/envs/atac2rna/lib/python3.9/site-packages/scvi/distributions/_negative_binomial.py:482: The value argument must be within the support of the distribution\n"
     ]
    },
    {
     "name": "stdout",
     "output_type": "stream",
     "text": [
      "Epoch 222/500:  44%|███████████████████████████████████████████████████████████▏                                                                          | 221/500 [04:13<05:13,  1.12s/it, loss=4.05e+03, v_num=1]"
     ]
    },
    {
     "name": "stderr",
     "output_type": "stream",
     "text": [
      " UserWarning:/home/atac2rna/anaconda3/envs/atac2rna/lib/python3.9/site-packages/scvi/distributions/_negative_binomial.py:482: The value argument must be within the support of the distribution\n",
      " UserWarning:/home/atac2rna/anaconda3/envs/atac2rna/lib/python3.9/site-packages/scvi/distributions/_negative_binomial.py:482: The value argument must be within the support of the distribution\n"
     ]
    },
    {
     "name": "stdout",
     "output_type": "stream",
     "text": [
      "Epoch 223/500:  44%|███████████████████████████████████████████████████████████▍                                                                          | 222/500 [04:14<05:13,  1.13s/it, loss=4.06e+03, v_num=1]"
     ]
    },
    {
     "name": "stderr",
     "output_type": "stream",
     "text": [
      " UserWarning:/home/atac2rna/anaconda3/envs/atac2rna/lib/python3.9/site-packages/scvi/distributions/_negative_binomial.py:482: The value argument must be within the support of the distribution\n",
      " UserWarning:/home/atac2rna/anaconda3/envs/atac2rna/lib/python3.9/site-packages/scvi/distributions/_negative_binomial.py:482: The value argument must be within the support of the distribution\n"
     ]
    },
    {
     "name": "stdout",
     "output_type": "stream",
     "text": [
      "Epoch 224/500:  45%|███████████████████████████████████████████████████████████▊                                                                          | 223/500 [04:15<05:13,  1.13s/it, loss=4.04e+03, v_num=1]"
     ]
    },
    {
     "name": "stderr",
     "output_type": "stream",
     "text": [
      " UserWarning:/home/atac2rna/anaconda3/envs/atac2rna/lib/python3.9/site-packages/scvi/distributions/_negative_binomial.py:482: The value argument must be within the support of the distribution\n",
      " UserWarning:/home/atac2rna/anaconda3/envs/atac2rna/lib/python3.9/site-packages/scvi/distributions/_negative_binomial.py:482: The value argument must be within the support of the distribution\n"
     ]
    },
    {
     "name": "stdout",
     "output_type": "stream",
     "text": [
      "Epoch 225/500:  45%|████████████████████████████████████████████████████████████                                                                          | 224/500 [04:16<05:13,  1.14s/it, loss=4.01e+03, v_num=1]"
     ]
    },
    {
     "name": "stderr",
     "output_type": "stream",
     "text": [
      " UserWarning:/home/atac2rna/anaconda3/envs/atac2rna/lib/python3.9/site-packages/scvi/distributions/_negative_binomial.py:482: The value argument must be within the support of the distribution\n",
      " UserWarning:/home/atac2rna/anaconda3/envs/atac2rna/lib/python3.9/site-packages/scvi/distributions/_negative_binomial.py:482: The value argument must be within the support of the distribution\n"
     ]
    },
    {
     "name": "stdout",
     "output_type": "stream",
     "text": [
      "Epoch 226/500:  45%|████████████████████████████████████████████████████████████▎                                                                         | 225/500 [04:17<05:14,  1.14s/it, loss=4.01e+03, v_num=1]"
     ]
    },
    {
     "name": "stderr",
     "output_type": "stream",
     "text": [
      " UserWarning:/home/atac2rna/anaconda3/envs/atac2rna/lib/python3.9/site-packages/scvi/distributions/_negative_binomial.py:482: The value argument must be within the support of the distribution\n",
      " UserWarning:/home/atac2rna/anaconda3/envs/atac2rna/lib/python3.9/site-packages/scvi/distributions/_negative_binomial.py:482: The value argument must be within the support of the distribution\n"
     ]
    },
    {
     "name": "stdout",
     "output_type": "stream",
     "text": [
      "Epoch 227/500:  45%|████████████████████████████████████████████████████████████▌                                                                         | 226/500 [04:18<05:13,  1.15s/it, loss=4.02e+03, v_num=1]"
     ]
    },
    {
     "name": "stderr",
     "output_type": "stream",
     "text": [
      " UserWarning:/home/atac2rna/anaconda3/envs/atac2rna/lib/python3.9/site-packages/scvi/distributions/_negative_binomial.py:482: The value argument must be within the support of the distribution\n",
      " UserWarning:/home/atac2rna/anaconda3/envs/atac2rna/lib/python3.9/site-packages/scvi/distributions/_negative_binomial.py:482: The value argument must be within the support of the distribution\n"
     ]
    },
    {
     "name": "stdout",
     "output_type": "stream",
     "text": [
      "Epoch 228/500:  45%|████████████████████████████████████████████████████████████▊                                                                         | 227/500 [04:19<05:13,  1.15s/it, loss=4.01e+03, v_num=1]"
     ]
    },
    {
     "name": "stderr",
     "output_type": "stream",
     "text": [
      " UserWarning:/home/atac2rna/anaconda3/envs/atac2rna/lib/python3.9/site-packages/scvi/distributions/_negative_binomial.py:482: The value argument must be within the support of the distribution\n",
      " UserWarning:/home/atac2rna/anaconda3/envs/atac2rna/lib/python3.9/site-packages/scvi/distributions/_negative_binomial.py:482: The value argument must be within the support of the distribution\n"
     ]
    },
    {
     "name": "stdout",
     "output_type": "stream",
     "text": [
      "Epoch 229/500:  46%|█████████████████████████████████████████████████████████████                                                                         | 228/500 [04:21<05:12,  1.15s/it, loss=3.99e+03, v_num=1]"
     ]
    },
    {
     "name": "stderr",
     "output_type": "stream",
     "text": [
      " UserWarning:/home/atac2rna/anaconda3/envs/atac2rna/lib/python3.9/site-packages/scvi/distributions/_negative_binomial.py:482: The value argument must be within the support of the distribution\n",
      " UserWarning:/home/atac2rna/anaconda3/envs/atac2rna/lib/python3.9/site-packages/scvi/distributions/_negative_binomial.py:482: The value argument must be within the support of the distribution\n"
     ]
    },
    {
     "name": "stdout",
     "output_type": "stream",
     "text": [
      "Epoch 230/500:  46%|█████████████████████████████████████████████████████████████▎                                                                        | 229/500 [04:22<05:11,  1.15s/it, loss=4.01e+03, v_num=1]"
     ]
    },
    {
     "name": "stderr",
     "output_type": "stream",
     "text": [
      " UserWarning:/home/atac2rna/anaconda3/envs/atac2rna/lib/python3.9/site-packages/scvi/distributions/_negative_binomial.py:482: The value argument must be within the support of the distribution\n",
      " UserWarning:/home/atac2rna/anaconda3/envs/atac2rna/lib/python3.9/site-packages/scvi/distributions/_negative_binomial.py:482: The value argument must be within the support of the distribution\n"
     ]
    },
    {
     "name": "stdout",
     "output_type": "stream",
     "text": [
      "Epoch 231/500:  46%|█████████████████████████████████████████████████████████████▋                                                                        | 230/500 [04:23<05:10,  1.15s/it, loss=3.99e+03, v_num=1]"
     ]
    },
    {
     "name": "stderr",
     "output_type": "stream",
     "text": [
      " UserWarning:/home/atac2rna/anaconda3/envs/atac2rna/lib/python3.9/site-packages/scvi/distributions/_negative_binomial.py:482: The value argument must be within the support of the distribution\n",
      " UserWarning:/home/atac2rna/anaconda3/envs/atac2rna/lib/python3.9/site-packages/scvi/distributions/_negative_binomial.py:482: The value argument must be within the support of the distribution\n"
     ]
    },
    {
     "name": "stdout",
     "output_type": "stream",
     "text": [
      "Epoch 232/500:  46%|█████████████████████████████████████████████████████████████▉                                                                        | 231/500 [04:24<05:08,  1.15s/it, loss=3.99e+03, v_num=1]"
     ]
    },
    {
     "name": "stderr",
     "output_type": "stream",
     "text": [
      " UserWarning:/home/atac2rna/anaconda3/envs/atac2rna/lib/python3.9/site-packages/scvi/distributions/_negative_binomial.py:482: The value argument must be within the support of the distribution\n",
      " UserWarning:/home/atac2rna/anaconda3/envs/atac2rna/lib/python3.9/site-packages/scvi/distributions/_negative_binomial.py:482: The value argument must be within the support of the distribution\n"
     ]
    },
    {
     "name": "stdout",
     "output_type": "stream",
     "text": [
      "Epoch 233/500:  46%|██████████████████████████████████████████████████████████████▏                                                                       | 232/500 [04:25<05:07,  1.15s/it, loss=3.95e+03, v_num=1]"
     ]
    },
    {
     "name": "stderr",
     "output_type": "stream",
     "text": [
      " UserWarning:/home/atac2rna/anaconda3/envs/atac2rna/lib/python3.9/site-packages/scvi/distributions/_negative_binomial.py:482: The value argument must be within the support of the distribution\n",
      " UserWarning:/home/atac2rna/anaconda3/envs/atac2rna/lib/python3.9/site-packages/scvi/distributions/_negative_binomial.py:482: The value argument must be within the support of the distribution\n"
     ]
    },
    {
     "name": "stdout",
     "output_type": "stream",
     "text": [
      "Epoch 234/500:  47%|██████████████████████████████████████████████████████████████▍                                                                       | 233/500 [04:26<05:07,  1.15s/it, loss=3.96e+03, v_num=1]"
     ]
    },
    {
     "name": "stderr",
     "output_type": "stream",
     "text": [
      " UserWarning:/home/atac2rna/anaconda3/envs/atac2rna/lib/python3.9/site-packages/scvi/distributions/_negative_binomial.py:482: The value argument must be within the support of the distribution\n",
      " UserWarning:/home/atac2rna/anaconda3/envs/atac2rna/lib/python3.9/site-packages/scvi/distributions/_negative_binomial.py:482: The value argument must be within the support of the distribution\n"
     ]
    },
    {
     "name": "stdout",
     "output_type": "stream",
     "text": [
      "Epoch 235/500:  47%|██████████████████████████████████████████████████████████████▋                                                                       | 234/500 [04:27<05:04,  1.15s/it, loss=3.97e+03, v_num=1]"
     ]
    },
    {
     "name": "stderr",
     "output_type": "stream",
     "text": [
      " UserWarning:/home/atac2rna/anaconda3/envs/atac2rna/lib/python3.9/site-packages/scvi/distributions/_negative_binomial.py:482: The value argument must be within the support of the distribution\n",
      " UserWarning:/home/atac2rna/anaconda3/envs/atac2rna/lib/python3.9/site-packages/scvi/distributions/_negative_binomial.py:482: The value argument must be within the support of the distribution\n"
     ]
    },
    {
     "name": "stdout",
     "output_type": "stream",
     "text": [
      "Epoch 236/500:  47%|██████████████████████████████████████████████████████████████▉                                                                       | 235/500 [04:29<05:02,  1.14s/it, loss=3.96e+03, v_num=1]"
     ]
    },
    {
     "name": "stderr",
     "output_type": "stream",
     "text": [
      " UserWarning:/home/atac2rna/anaconda3/envs/atac2rna/lib/python3.9/site-packages/scvi/distributions/_negative_binomial.py:482: The value argument must be within the support of the distribution\n",
      " UserWarning:/home/atac2rna/anaconda3/envs/atac2rna/lib/python3.9/site-packages/scvi/distributions/_negative_binomial.py:482: The value argument must be within the support of the distribution\n"
     ]
    },
    {
     "name": "stdout",
     "output_type": "stream",
     "text": [
      "Epoch 237/500:  47%|███████████████████████████████████████████████████████████████▏                                                                      | 236/500 [04:30<05:02,  1.15s/it, loss=3.93e+03, v_num=1]"
     ]
    },
    {
     "name": "stderr",
     "output_type": "stream",
     "text": [
      " UserWarning:/home/atac2rna/anaconda3/envs/atac2rna/lib/python3.9/site-packages/scvi/distributions/_negative_binomial.py:482: The value argument must be within the support of the distribution\n",
      " UserWarning:/home/atac2rna/anaconda3/envs/atac2rna/lib/python3.9/site-packages/scvi/distributions/_negative_binomial.py:482: The value argument must be within the support of the distribution\n"
     ]
    },
    {
     "name": "stdout",
     "output_type": "stream",
     "text": [
      "Epoch 238/500:  47%|███████████████████████████████████████████████████████████████▌                                                                      | 237/500 [04:31<05:01,  1.15s/it, loss=3.94e+03, v_num=1]"
     ]
    },
    {
     "name": "stderr",
     "output_type": "stream",
     "text": [
      " UserWarning:/home/atac2rna/anaconda3/envs/atac2rna/lib/python3.9/site-packages/scvi/distributions/_negative_binomial.py:482: The value argument must be within the support of the distribution\n",
      " UserWarning:/home/atac2rna/anaconda3/envs/atac2rna/lib/python3.9/site-packages/scvi/distributions/_negative_binomial.py:482: The value argument must be within the support of the distribution\n"
     ]
    },
    {
     "name": "stdout",
     "output_type": "stream",
     "text": [
      "Epoch 239/500:  48%|███████████████████████████████████████████████████████████████▊                                                                      | 238/500 [04:32<04:58,  1.14s/it, loss=3.93e+03, v_num=1]"
     ]
    },
    {
     "name": "stderr",
     "output_type": "stream",
     "text": [
      " UserWarning:/home/atac2rna/anaconda3/envs/atac2rna/lib/python3.9/site-packages/scvi/distributions/_negative_binomial.py:482: The value argument must be within the support of the distribution\n",
      " UserWarning:/home/atac2rna/anaconda3/envs/atac2rna/lib/python3.9/site-packages/scvi/distributions/_negative_binomial.py:482: The value argument must be within the support of the distribution\n"
     ]
    },
    {
     "name": "stdout",
     "output_type": "stream",
     "text": [
      "Epoch 240/500:  48%|████████████████████████████████████████████████████████████████                                                                      | 239/500 [04:33<04:57,  1.14s/it, loss=3.91e+03, v_num=1]"
     ]
    },
    {
     "name": "stderr",
     "output_type": "stream",
     "text": [
      " UserWarning:/home/atac2rna/anaconda3/envs/atac2rna/lib/python3.9/site-packages/scvi/distributions/_negative_binomial.py:482: The value argument must be within the support of the distribution\n",
      " UserWarning:/home/atac2rna/anaconda3/envs/atac2rna/lib/python3.9/site-packages/scvi/distributions/_negative_binomial.py:482: The value argument must be within the support of the distribution\n"
     ]
    },
    {
     "name": "stdout",
     "output_type": "stream",
     "text": [
      "Epoch 241/500:  48%|████████████████████████████████████████████████████████████████▎                                                                     | 240/500 [04:34<04:56,  1.14s/it, loss=3.91e+03, v_num=1]"
     ]
    },
    {
     "name": "stderr",
     "output_type": "stream",
     "text": [
      " UserWarning:/home/atac2rna/anaconda3/envs/atac2rna/lib/python3.9/site-packages/scvi/distributions/_negative_binomial.py:482: The value argument must be within the support of the distribution\n",
      " UserWarning:/home/atac2rna/anaconda3/envs/atac2rna/lib/python3.9/site-packages/scvi/distributions/_negative_binomial.py:482: The value argument must be within the support of the distribution\n"
     ]
    },
    {
     "name": "stdout",
     "output_type": "stream",
     "text": [
      "Epoch 242/500:  48%|████████████████████████████████████████████████████████████████▌                                                                     | 241/500 [04:35<04:56,  1.14s/it, loss=3.87e+03, v_num=1]"
     ]
    },
    {
     "name": "stderr",
     "output_type": "stream",
     "text": [
      " UserWarning:/home/atac2rna/anaconda3/envs/atac2rna/lib/python3.9/site-packages/scvi/distributions/_negative_binomial.py:482: The value argument must be within the support of the distribution\n",
      " UserWarning:/home/atac2rna/anaconda3/envs/atac2rna/lib/python3.9/site-packages/scvi/distributions/_negative_binomial.py:482: The value argument must be within the support of the distribution\n"
     ]
    },
    {
     "name": "stdout",
     "output_type": "stream",
     "text": [
      "Epoch 243/500:  48%|████████████████████████████████████████████████████████████████▊                                                                     | 242/500 [04:37<04:56,  1.15s/it, loss=3.89e+03, v_num=1]"
     ]
    },
    {
     "name": "stderr",
     "output_type": "stream",
     "text": [
      " UserWarning:/home/atac2rna/anaconda3/envs/atac2rna/lib/python3.9/site-packages/scvi/distributions/_negative_binomial.py:482: The value argument must be within the support of the distribution\n",
      " UserWarning:/home/atac2rna/anaconda3/envs/atac2rna/lib/python3.9/site-packages/scvi/distributions/_negative_binomial.py:482: The value argument must be within the support of the distribution\n"
     ]
    },
    {
     "name": "stdout",
     "output_type": "stream",
     "text": [
      "Epoch 244/500:  49%|█████████████████████████████████████████████████████████████████                                                                     | 243/500 [04:38<04:55,  1.15s/it, loss=3.89e+03, v_num=1]"
     ]
    },
    {
     "name": "stderr",
     "output_type": "stream",
     "text": [
      " UserWarning:/home/atac2rna/anaconda3/envs/atac2rna/lib/python3.9/site-packages/scvi/distributions/_negative_binomial.py:482: The value argument must be within the support of the distribution\n",
      " UserWarning:/home/atac2rna/anaconda3/envs/atac2rna/lib/python3.9/site-packages/scvi/distributions/_negative_binomial.py:482: The value argument must be within the support of the distribution\n"
     ]
    },
    {
     "name": "stdout",
     "output_type": "stream",
     "text": [
      "Epoch 245/500:  49%|█████████████████████████████████████████████████████████████████▉                                                                     | 244/500 [04:39<04:55,  1.15s/it, loss=3.9e+03, v_num=1]"
     ]
    },
    {
     "name": "stderr",
     "output_type": "stream",
     "text": [
      " UserWarning:/home/atac2rna/anaconda3/envs/atac2rna/lib/python3.9/site-packages/scvi/distributions/_negative_binomial.py:482: The value argument must be within the support of the distribution\n",
      " UserWarning:/home/atac2rna/anaconda3/envs/atac2rna/lib/python3.9/site-packages/scvi/distributions/_negative_binomial.py:482: The value argument must be within the support of the distribution\n"
     ]
    },
    {
     "name": "stdout",
     "output_type": "stream",
     "text": [
      "Epoch 246/500:  49%|█████████████████████████████████████████████████████████████████▋                                                                    | 245/500 [04:40<04:53,  1.15s/it, loss=3.87e+03, v_num=1]"
     ]
    },
    {
     "name": "stderr",
     "output_type": "stream",
     "text": [
      " UserWarning:/home/atac2rna/anaconda3/envs/atac2rna/lib/python3.9/site-packages/scvi/distributions/_negative_binomial.py:482: The value argument must be within the support of the distribution\n",
      " UserWarning:/home/atac2rna/anaconda3/envs/atac2rna/lib/python3.9/site-packages/scvi/distributions/_negative_binomial.py:482: The value argument must be within the support of the distribution\n"
     ]
    },
    {
     "name": "stdout",
     "output_type": "stream",
     "text": [
      "Epoch 247/500:  49%|█████████████████████████████████████████████████████████████████▉                                                                    | 246/500 [04:41<04:53,  1.15s/it, loss=3.88e+03, v_num=1]"
     ]
    },
    {
     "name": "stderr",
     "output_type": "stream",
     "text": [
      " UserWarning:/home/atac2rna/anaconda3/envs/atac2rna/lib/python3.9/site-packages/scvi/distributions/_negative_binomial.py:482: The value argument must be within the support of the distribution\n",
      " UserWarning:/home/atac2rna/anaconda3/envs/atac2rna/lib/python3.9/site-packages/scvi/distributions/_negative_binomial.py:482: The value argument must be within the support of the distribution\n"
     ]
    },
    {
     "name": "stdout",
     "output_type": "stream",
     "text": [
      "Epoch 248/500:  49%|██████████████████████████████████████████████████████████████████▏                                                                   | 247/500 [04:42<04:51,  1.15s/it, loss=3.85e+03, v_num=1]"
     ]
    },
    {
     "name": "stderr",
     "output_type": "stream",
     "text": [
      " UserWarning:/home/atac2rna/anaconda3/envs/atac2rna/lib/python3.9/site-packages/scvi/distributions/_negative_binomial.py:482: The value argument must be within the support of the distribution\n",
      " UserWarning:/home/atac2rna/anaconda3/envs/atac2rna/lib/python3.9/site-packages/scvi/distributions/_negative_binomial.py:482: The value argument must be within the support of the distribution\n"
     ]
    },
    {
     "name": "stdout",
     "output_type": "stream",
     "text": [
      "Epoch 249/500:  50%|██████████████████████████████████████████████████████████████████▍                                                                   | 248/500 [04:44<04:49,  1.15s/it, loss=3.89e+03, v_num=1]"
     ]
    },
    {
     "name": "stderr",
     "output_type": "stream",
     "text": [
      " UserWarning:/home/atac2rna/anaconda3/envs/atac2rna/lib/python3.9/site-packages/scvi/distributions/_negative_binomial.py:482: The value argument must be within the support of the distribution\n",
      " UserWarning:/home/atac2rna/anaconda3/envs/atac2rna/lib/python3.9/site-packages/scvi/distributions/_negative_binomial.py:482: The value argument must be within the support of the distribution\n"
     ]
    },
    {
     "name": "stdout",
     "output_type": "stream",
     "text": [
      "Epoch 250/500:  50%|██████████████████████████████████████████████████████████████████▋                                                                   | 249/500 [04:45<04:47,  1.15s/it, loss=3.86e+03, v_num=1]"
     ]
    },
    {
     "name": "stderr",
     "output_type": "stream",
     "text": [
      " UserWarning:/home/atac2rna/anaconda3/envs/atac2rna/lib/python3.9/site-packages/scvi/distributions/_negative_binomial.py:482: The value argument must be within the support of the distribution\n",
      " UserWarning:/home/atac2rna/anaconda3/envs/atac2rna/lib/python3.9/site-packages/scvi/distributions/_negative_binomial.py:482: The value argument must be within the support of the distribution\n"
     ]
    },
    {
     "name": "stdout",
     "output_type": "stream",
     "text": [
      "Epoch 251/500:  50%|███████████████████████████████████████████████████████████████████                                                                   | 250/500 [04:46<04:46,  1.15s/it, loss=3.83e+03, v_num=1]"
     ]
    },
    {
     "name": "stderr",
     "output_type": "stream",
     "text": [
      " UserWarning:/home/atac2rna/anaconda3/envs/atac2rna/lib/python3.9/site-packages/scvi/distributions/_negative_binomial.py:482: The value argument must be within the support of the distribution\n",
      " UserWarning:/home/atac2rna/anaconda3/envs/atac2rna/lib/python3.9/site-packages/scvi/distributions/_negative_binomial.py:482: The value argument must be within the support of the distribution\n"
     ]
    },
    {
     "name": "stdout",
     "output_type": "stream",
     "text": [
      "Epoch 252/500:  50%|███████████████████████████████████████████████████████████████████▎                                                                  | 251/500 [04:47<04:46,  1.15s/it, loss=3.82e+03, v_num=1]"
     ]
    },
    {
     "name": "stderr",
     "output_type": "stream",
     "text": [
      " UserWarning:/home/atac2rna/anaconda3/envs/atac2rna/lib/python3.9/site-packages/scvi/distributions/_negative_binomial.py:482: The value argument must be within the support of the distribution\n",
      " UserWarning:/home/atac2rna/anaconda3/envs/atac2rna/lib/python3.9/site-packages/scvi/distributions/_negative_binomial.py:482: The value argument must be within the support of the distribution\n"
     ]
    },
    {
     "name": "stdout",
     "output_type": "stream",
     "text": [
      "Epoch 253/500:  50%|███████████████████████████████████████████████████████████████████▌                                                                  | 252/500 [04:48<04:36,  1.12s/it, loss=3.84e+03, v_num=1]"
     ]
    },
    {
     "name": "stderr",
     "output_type": "stream",
     "text": [
      " UserWarning:/home/atac2rna/anaconda3/envs/atac2rna/lib/python3.9/site-packages/scvi/distributions/_negative_binomial.py:482: The value argument must be within the support of the distribution\n",
      " UserWarning:/home/atac2rna/anaconda3/envs/atac2rna/lib/python3.9/site-packages/scvi/distributions/_negative_binomial.py:482: The value argument must be within the support of the distribution\n"
     ]
    },
    {
     "name": "stdout",
     "output_type": "stream",
     "text": [
      "Epoch 254/500:  51%|███████████████████████████████████████████████████████████████████▊                                                                  | 253/500 [04:49<04:27,  1.08s/it, loss=3.81e+03, v_num=1]"
     ]
    },
    {
     "name": "stderr",
     "output_type": "stream",
     "text": [
      " UserWarning:/home/atac2rna/anaconda3/envs/atac2rna/lib/python3.9/site-packages/scvi/distributions/_negative_binomial.py:482: The value argument must be within the support of the distribution\n",
      " UserWarning:/home/atac2rna/anaconda3/envs/atac2rna/lib/python3.9/site-packages/scvi/distributions/_negative_binomial.py:482: The value argument must be within the support of the distribution\n"
     ]
    },
    {
     "name": "stdout",
     "output_type": "stream",
     "text": [
      "Epoch 255/500:  51%|████████████████████████████████████████████████████████████████████▌                                                                  | 254/500 [04:50<04:30,  1.10s/it, loss=3.8e+03, v_num=1]"
     ]
    },
    {
     "name": "stderr",
     "output_type": "stream",
     "text": [
      " UserWarning:/home/atac2rna/anaconda3/envs/atac2rna/lib/python3.9/site-packages/scvi/distributions/_negative_binomial.py:482: The value argument must be within the support of the distribution\n",
      " UserWarning:/home/atac2rna/anaconda3/envs/atac2rna/lib/python3.9/site-packages/scvi/distributions/_negative_binomial.py:482: The value argument must be within the support of the distribution\n"
     ]
    },
    {
     "name": "stdout",
     "output_type": "stream",
     "text": [
      "Epoch 256/500:  51%|████████████████████████████████████████████████████████████████████▎                                                                 | 255/500 [04:51<04:33,  1.11s/it, loss=3.79e+03, v_num=1]"
     ]
    },
    {
     "name": "stderr",
     "output_type": "stream",
     "text": [
      " UserWarning:/home/atac2rna/anaconda3/envs/atac2rna/lib/python3.9/site-packages/scvi/distributions/_negative_binomial.py:482: The value argument must be within the support of the distribution\n",
      " UserWarning:/home/atac2rna/anaconda3/envs/atac2rna/lib/python3.9/site-packages/scvi/distributions/_negative_binomial.py:482: The value argument must be within the support of the distribution\n"
     ]
    },
    {
     "name": "stdout",
     "output_type": "stream",
     "text": [
      "Epoch 257/500:  51%|████████████████████████████████████████████████████████████████████▌                                                                 | 256/500 [04:52<04:35,  1.13s/it, loss=3.81e+03, v_num=1]"
     ]
    },
    {
     "name": "stderr",
     "output_type": "stream",
     "text": [
      " UserWarning:/home/atac2rna/anaconda3/envs/atac2rna/lib/python3.9/site-packages/scvi/distributions/_negative_binomial.py:482: The value argument must be within the support of the distribution\n",
      " UserWarning:/home/atac2rna/anaconda3/envs/atac2rna/lib/python3.9/site-packages/scvi/distributions/_negative_binomial.py:482: The value argument must be within the support of the distribution\n"
     ]
    },
    {
     "name": "stdout",
     "output_type": "stream",
     "text": [
      "Epoch 258/500:  51%|████████████████████████████████████████████████████████████████████▉                                                                 | 257/500 [04:54<04:37,  1.14s/it, loss=3.78e+03, v_num=1]"
     ]
    },
    {
     "name": "stderr",
     "output_type": "stream",
     "text": [
      " UserWarning:/home/atac2rna/anaconda3/envs/atac2rna/lib/python3.9/site-packages/scvi/distributions/_negative_binomial.py:482: The value argument must be within the support of the distribution\n",
      " UserWarning:/home/atac2rna/anaconda3/envs/atac2rna/lib/python3.9/site-packages/scvi/distributions/_negative_binomial.py:482: The value argument must be within the support of the distribution\n"
     ]
    },
    {
     "name": "stdout",
     "output_type": "stream",
     "text": [
      "Epoch 259/500:  52%|█████████████████████████████████████████████████████████████████████▏                                                                | 258/500 [04:55<04:33,  1.13s/it, loss=3.79e+03, v_num=1]"
     ]
    },
    {
     "name": "stderr",
     "output_type": "stream",
     "text": [
      " UserWarning:/home/atac2rna/anaconda3/envs/atac2rna/lib/python3.9/site-packages/scvi/distributions/_negative_binomial.py:482: The value argument must be within the support of the distribution\n",
      " UserWarning:/home/atac2rna/anaconda3/envs/atac2rna/lib/python3.9/site-packages/scvi/distributions/_negative_binomial.py:482: The value argument must be within the support of the distribution\n"
     ]
    },
    {
     "name": "stdout",
     "output_type": "stream",
     "text": [
      "Epoch 260/500:  52%|█████████████████████████████████████████████████████████████████████▍                                                                | 259/500 [04:56<04:22,  1.09s/it, loss=3.77e+03, v_num=1]"
     ]
    },
    {
     "name": "stderr",
     "output_type": "stream",
     "text": [
      " UserWarning:/home/atac2rna/anaconda3/envs/atac2rna/lib/python3.9/site-packages/scvi/distributions/_negative_binomial.py:482: The value argument must be within the support of the distribution\n",
      " UserWarning:/home/atac2rna/anaconda3/envs/atac2rna/lib/python3.9/site-packages/scvi/distributions/_negative_binomial.py:482: The value argument must be within the support of the distribution\n"
     ]
    },
    {
     "name": "stdout",
     "output_type": "stream",
     "text": [
      "Epoch 261/500:  52%|█████████████████████████████████████████████████████████████████████▋                                                                | 260/500 [04:57<04:15,  1.07s/it, loss=3.78e+03, v_num=1]"
     ]
    },
    {
     "name": "stderr",
     "output_type": "stream",
     "text": [
      " UserWarning:/home/atac2rna/anaconda3/envs/atac2rna/lib/python3.9/site-packages/scvi/distributions/_negative_binomial.py:482: The value argument must be within the support of the distribution\n",
      " UserWarning:/home/atac2rna/anaconda3/envs/atac2rna/lib/python3.9/site-packages/scvi/distributions/_negative_binomial.py:482: The value argument must be within the support of the distribution\n"
     ]
    },
    {
     "name": "stdout",
     "output_type": "stream",
     "text": [
      "Epoch 262/500:  52%|█████████████████████████████████████████████████████████████████████▉                                                                | 261/500 [04:58<04:20,  1.09s/it, loss=3.77e+03, v_num=1]"
     ]
    },
    {
     "name": "stderr",
     "output_type": "stream",
     "text": [
      " UserWarning:/home/atac2rna/anaconda3/envs/atac2rna/lib/python3.9/site-packages/scvi/distributions/_negative_binomial.py:482: The value argument must be within the support of the distribution\n",
      " UserWarning:/home/atac2rna/anaconda3/envs/atac2rna/lib/python3.9/site-packages/scvi/distributions/_negative_binomial.py:482: The value argument must be within the support of the distribution\n"
     ]
    },
    {
     "name": "stdout",
     "output_type": "stream",
     "text": [
      "Epoch 263/500:  52%|██████████████████████████████████████████████████████████████████████▏                                                               | 262/500 [04:59<04:20,  1.10s/it, loss=3.77e+03, v_num=1]"
     ]
    },
    {
     "name": "stderr",
     "output_type": "stream",
     "text": [
      " UserWarning:/home/atac2rna/anaconda3/envs/atac2rna/lib/python3.9/site-packages/scvi/distributions/_negative_binomial.py:482: The value argument must be within the support of the distribution\n",
      " UserWarning:/home/atac2rna/anaconda3/envs/atac2rna/lib/python3.9/site-packages/scvi/distributions/_negative_binomial.py:482: The value argument must be within the support of the distribution\n"
     ]
    },
    {
     "name": "stdout",
     "output_type": "stream",
     "text": [
      "Epoch 264/500:  53%|██████████████████████████████████████████████████████████████████████▍                                                               | 263/500 [05:00<04:24,  1.12s/it, loss=3.75e+03, v_num=1]"
     ]
    },
    {
     "name": "stderr",
     "output_type": "stream",
     "text": [
      " UserWarning:/home/atac2rna/anaconda3/envs/atac2rna/lib/python3.9/site-packages/scvi/distributions/_negative_binomial.py:482: The value argument must be within the support of the distribution\n",
      " UserWarning:/home/atac2rna/anaconda3/envs/atac2rna/lib/python3.9/site-packages/scvi/distributions/_negative_binomial.py:482: The value argument must be within the support of the distribution\n"
     ]
    },
    {
     "name": "stdout",
     "output_type": "stream",
     "text": [
      "Epoch 265/500:  53%|██████████████████████████████████████████████████████████████████████▊                                                               | 264/500 [05:01<04:26,  1.13s/it, loss=3.76e+03, v_num=1]"
     ]
    },
    {
     "name": "stderr",
     "output_type": "stream",
     "text": [
      " UserWarning:/home/atac2rna/anaconda3/envs/atac2rna/lib/python3.9/site-packages/scvi/distributions/_negative_binomial.py:482: The value argument must be within the support of the distribution\n",
      " UserWarning:/home/atac2rna/anaconda3/envs/atac2rna/lib/python3.9/site-packages/scvi/distributions/_negative_binomial.py:482: The value argument must be within the support of the distribution\n"
     ]
    },
    {
     "name": "stdout",
     "output_type": "stream",
     "text": [
      "Epoch 266/500:  53%|███████████████████████████████████████████████████████████████████████                                                               | 265/500 [05:03<04:27,  1.14s/it, loss=3.73e+03, v_num=1]"
     ]
    },
    {
     "name": "stderr",
     "output_type": "stream",
     "text": [
      " UserWarning:/home/atac2rna/anaconda3/envs/atac2rna/lib/python3.9/site-packages/scvi/distributions/_negative_binomial.py:482: The value argument must be within the support of the distribution\n",
      " UserWarning:/home/atac2rna/anaconda3/envs/atac2rna/lib/python3.9/site-packages/scvi/distributions/_negative_binomial.py:482: The value argument must be within the support of the distribution\n"
     ]
    },
    {
     "name": "stdout",
     "output_type": "stream",
     "text": [
      "Epoch 267/500:  53%|███████████████████████████████████████████████████████████████████████▎                                                              | 266/500 [05:04<04:26,  1.14s/it, loss=3.72e+03, v_num=1]"
     ]
    },
    {
     "name": "stderr",
     "output_type": "stream",
     "text": [
      " UserWarning:/home/atac2rna/anaconda3/envs/atac2rna/lib/python3.9/site-packages/scvi/distributions/_negative_binomial.py:482: The value argument must be within the support of the distribution\n",
      " UserWarning:/home/atac2rna/anaconda3/envs/atac2rna/lib/python3.9/site-packages/scvi/distributions/_negative_binomial.py:482: The value argument must be within the support of the distribution\n"
     ]
    },
    {
     "name": "stdout",
     "output_type": "stream",
     "text": [
      "Epoch 268/500:  53%|███████████████████████████████████████████████████████████████████████▌                                                              | 267/500 [05:05<04:27,  1.15s/it, loss=3.73e+03, v_num=1]"
     ]
    },
    {
     "name": "stderr",
     "output_type": "stream",
     "text": [
      " UserWarning:/home/atac2rna/anaconda3/envs/atac2rna/lib/python3.9/site-packages/scvi/distributions/_negative_binomial.py:482: The value argument must be within the support of the distribution\n",
      " UserWarning:/home/atac2rna/anaconda3/envs/atac2rna/lib/python3.9/site-packages/scvi/distributions/_negative_binomial.py:482: The value argument must be within the support of the distribution\n"
     ]
    },
    {
     "name": "stdout",
     "output_type": "stream",
     "text": [
      "Epoch 269/500:  54%|███████████████████████████████████████████████████████████████████████▊                                                              | 268/500 [05:06<04:26,  1.15s/it, loss=3.73e+03, v_num=1]"
     ]
    },
    {
     "name": "stderr",
     "output_type": "stream",
     "text": [
      " UserWarning:/home/atac2rna/anaconda3/envs/atac2rna/lib/python3.9/site-packages/scvi/distributions/_negative_binomial.py:482: The value argument must be within the support of the distribution\n",
      " UserWarning:/home/atac2rna/anaconda3/envs/atac2rna/lib/python3.9/site-packages/scvi/distributions/_negative_binomial.py:482: The value argument must be within the support of the distribution\n"
     ]
    },
    {
     "name": "stdout",
     "output_type": "stream",
     "text": [
      "Epoch 270/500:  54%|████████████████████████████████████████████████████████████████████████                                                              | 269/500 [05:07<04:26,  1.15s/it, loss=3.71e+03, v_num=1]"
     ]
    },
    {
     "name": "stderr",
     "output_type": "stream",
     "text": [
      " UserWarning:/home/atac2rna/anaconda3/envs/atac2rna/lib/python3.9/site-packages/scvi/distributions/_negative_binomial.py:482: The value argument must be within the support of the distribution\n",
      " UserWarning:/home/atac2rna/anaconda3/envs/atac2rna/lib/python3.9/site-packages/scvi/distributions/_negative_binomial.py:482: The value argument must be within the support of the distribution\n"
     ]
    },
    {
     "name": "stdout",
     "output_type": "stream",
     "text": [
      "Epoch 271/500:  54%|████████████████████████████████████████████████████████████████████████▎                                                             | 270/500 [05:08<04:24,  1.15s/it, loss=3.72e+03, v_num=1]"
     ]
    },
    {
     "name": "stderr",
     "output_type": "stream",
     "text": [
      " UserWarning:/home/atac2rna/anaconda3/envs/atac2rna/lib/python3.9/site-packages/scvi/distributions/_negative_binomial.py:482: The value argument must be within the support of the distribution\n",
      " UserWarning:/home/atac2rna/anaconda3/envs/atac2rna/lib/python3.9/site-packages/scvi/distributions/_negative_binomial.py:482: The value argument must be within the support of the distribution\n"
     ]
    },
    {
     "name": "stdout",
     "output_type": "stream",
     "text": [
      "Epoch 272/500:  54%|████████████████████████████████████████████████████████████████████████▋                                                             | 271/500 [05:09<04:23,  1.15s/it, loss=3.69e+03, v_num=1]"
     ]
    },
    {
     "name": "stderr",
     "output_type": "stream",
     "text": [
      " UserWarning:/home/atac2rna/anaconda3/envs/atac2rna/lib/python3.9/site-packages/scvi/distributions/_negative_binomial.py:482: The value argument must be within the support of the distribution\n",
      " UserWarning:/home/atac2rna/anaconda3/envs/atac2rna/lib/python3.9/site-packages/scvi/distributions/_negative_binomial.py:482: The value argument must be within the support of the distribution\n"
     ]
    },
    {
     "name": "stdout",
     "output_type": "stream",
     "text": [
      "Epoch 273/500:  54%|████████████████████████████████████████████████████████████████████████▉                                                             | 272/500 [05:11<04:22,  1.15s/it, loss=3.69e+03, v_num=1]"
     ]
    },
    {
     "name": "stderr",
     "output_type": "stream",
     "text": [
      " UserWarning:/home/atac2rna/anaconda3/envs/atac2rna/lib/python3.9/site-packages/scvi/distributions/_negative_binomial.py:482: The value argument must be within the support of the distribution\n",
      " UserWarning:/home/atac2rna/anaconda3/envs/atac2rna/lib/python3.9/site-packages/scvi/distributions/_negative_binomial.py:482: The value argument must be within the support of the distribution\n"
     ]
    },
    {
     "name": "stdout",
     "output_type": "stream",
     "text": [
      "Epoch 274/500:  55%|█████████████████████████████████████████████████████████████████████████▏                                                            | 273/500 [05:12<04:23,  1.16s/it, loss=3.68e+03, v_num=1]"
     ]
    },
    {
     "name": "stderr",
     "output_type": "stream",
     "text": [
      " UserWarning:/home/atac2rna/anaconda3/envs/atac2rna/lib/python3.9/site-packages/scvi/distributions/_negative_binomial.py:482: The value argument must be within the support of the distribution\n",
      " UserWarning:/home/atac2rna/anaconda3/envs/atac2rna/lib/python3.9/site-packages/scvi/distributions/_negative_binomial.py:482: The value argument must be within the support of the distribution\n"
     ]
    },
    {
     "name": "stdout",
     "output_type": "stream",
     "text": [
      "Epoch 275/500:  55%|█████████████████████████████████████████████████████████████████████████▍                                                            | 274/500 [05:13<04:22,  1.16s/it, loss=3.68e+03, v_num=1]"
     ]
    },
    {
     "name": "stderr",
     "output_type": "stream",
     "text": [
      " UserWarning:/home/atac2rna/anaconda3/envs/atac2rna/lib/python3.9/site-packages/scvi/distributions/_negative_binomial.py:482: The value argument must be within the support of the distribution\n",
      " UserWarning:/home/atac2rna/anaconda3/envs/atac2rna/lib/python3.9/site-packages/scvi/distributions/_negative_binomial.py:482: The value argument must be within the support of the distribution\n"
     ]
    },
    {
     "name": "stdout",
     "output_type": "stream",
     "text": [
      "Epoch 276/500:  55%|██████████████████████████████████████████████████████████████████████████▎                                                            | 275/500 [05:14<04:22,  1.17s/it, loss=3.7e+03, v_num=1]"
     ]
    },
    {
     "name": "stderr",
     "output_type": "stream",
     "text": [
      " UserWarning:/home/atac2rna/anaconda3/envs/atac2rna/lib/python3.9/site-packages/scvi/distributions/_negative_binomial.py:482: The value argument must be within the support of the distribution\n",
      " UserWarning:/home/atac2rna/anaconda3/envs/atac2rna/lib/python3.9/site-packages/scvi/distributions/_negative_binomial.py:482: The value argument must be within the support of the distribution\n"
     ]
    },
    {
     "name": "stdout",
     "output_type": "stream",
     "text": [
      "Epoch 277/500:  55%|█████████████████████████████████████████████████████████████████████████▉                                                            | 276/500 [05:15<04:21,  1.17s/it, loss=3.69e+03, v_num=1]"
     ]
    },
    {
     "name": "stderr",
     "output_type": "stream",
     "text": [
      " UserWarning:/home/atac2rna/anaconda3/envs/atac2rna/lib/python3.9/site-packages/scvi/distributions/_negative_binomial.py:482: The value argument must be within the support of the distribution\n",
      " UserWarning:/home/atac2rna/anaconda3/envs/atac2rna/lib/python3.9/site-packages/scvi/distributions/_negative_binomial.py:482: The value argument must be within the support of the distribution\n"
     ]
    },
    {
     "name": "stdout",
     "output_type": "stream",
     "text": [
      "Epoch 278/500:  55%|██████████████████████████████████████████████████████████████████████████▏                                                           | 277/500 [05:16<04:19,  1.16s/it, loss=3.66e+03, v_num=1]"
     ]
    },
    {
     "name": "stderr",
     "output_type": "stream",
     "text": [
      " UserWarning:/home/atac2rna/anaconda3/envs/atac2rna/lib/python3.9/site-packages/scvi/distributions/_negative_binomial.py:482: The value argument must be within the support of the distribution\n",
      " UserWarning:/home/atac2rna/anaconda3/envs/atac2rna/lib/python3.9/site-packages/scvi/distributions/_negative_binomial.py:482: The value argument must be within the support of the distribution\n"
     ]
    },
    {
     "name": "stdout",
     "output_type": "stream",
     "text": [
      "Epoch 279/500:  56%|██████████████████████████████████████████████████████████████████████████▌                                                           | 278/500 [05:18<04:18,  1.16s/it, loss=3.65e+03, v_num=1]"
     ]
    },
    {
     "name": "stderr",
     "output_type": "stream",
     "text": [
      " UserWarning:/home/atac2rna/anaconda3/envs/atac2rna/lib/python3.9/site-packages/scvi/distributions/_negative_binomial.py:482: The value argument must be within the support of the distribution\n",
      " UserWarning:/home/atac2rna/anaconda3/envs/atac2rna/lib/python3.9/site-packages/scvi/distributions/_negative_binomial.py:482: The value argument must be within the support of the distribution\n"
     ]
    },
    {
     "name": "stdout",
     "output_type": "stream",
     "text": [
      "Epoch 280/500:  56%|██████████████████████████████████████████████████████████████████████████▊                                                           | 279/500 [05:19<04:18,  1.17s/it, loss=3.66e+03, v_num=1]"
     ]
    },
    {
     "name": "stderr",
     "output_type": "stream",
     "text": [
      " UserWarning:/home/atac2rna/anaconda3/envs/atac2rna/lib/python3.9/site-packages/scvi/distributions/_negative_binomial.py:482: The value argument must be within the support of the distribution\n",
      " UserWarning:/home/atac2rna/anaconda3/envs/atac2rna/lib/python3.9/site-packages/scvi/distributions/_negative_binomial.py:482: The value argument must be within the support of the distribution\n"
     ]
    },
    {
     "name": "stdout",
     "output_type": "stream",
     "text": [
      "Epoch 281/500:  56%|███████████████████████████████████████████████████████████████████████████                                                           | 280/500 [05:20<04:16,  1.16s/it, loss=3.63e+03, v_num=1]"
     ]
    },
    {
     "name": "stderr",
     "output_type": "stream",
     "text": [
      " UserWarning:/home/atac2rna/anaconda3/envs/atac2rna/lib/python3.9/site-packages/scvi/distributions/_negative_binomial.py:482: The value argument must be within the support of the distribution\n",
      " UserWarning:/home/atac2rna/anaconda3/envs/atac2rna/lib/python3.9/site-packages/scvi/distributions/_negative_binomial.py:482: The value argument must be within the support of the distribution\n"
     ]
    },
    {
     "name": "stdout",
     "output_type": "stream",
     "text": [
      "Epoch 282/500:  56%|███████████████████████████████████████████████████████████████████████████▎                                                          | 281/500 [05:21<04:14,  1.16s/it, loss=3.65e+03, v_num=1]"
     ]
    },
    {
     "name": "stderr",
     "output_type": "stream",
     "text": [
      " UserWarning:/home/atac2rna/anaconda3/envs/atac2rna/lib/python3.9/site-packages/scvi/distributions/_negative_binomial.py:482: The value argument must be within the support of the distribution\n",
      " UserWarning:/home/atac2rna/anaconda3/envs/atac2rna/lib/python3.9/site-packages/scvi/distributions/_negative_binomial.py:482: The value argument must be within the support of the distribution\n"
     ]
    },
    {
     "name": "stdout",
     "output_type": "stream",
     "text": [
      "Epoch 283/500:  56%|███████████████████████████████████████████████████████████████████████████▌                                                          | 282/500 [05:22<04:11,  1.15s/it, loss=3.62e+03, v_num=1]"
     ]
    },
    {
     "name": "stderr",
     "output_type": "stream",
     "text": [
      " UserWarning:/home/atac2rna/anaconda3/envs/atac2rna/lib/python3.9/site-packages/scvi/distributions/_negative_binomial.py:482: The value argument must be within the support of the distribution\n",
      " UserWarning:/home/atac2rna/anaconda3/envs/atac2rna/lib/python3.9/site-packages/scvi/distributions/_negative_binomial.py:482: The value argument must be within the support of the distribution\n"
     ]
    },
    {
     "name": "stdout",
     "output_type": "stream",
     "text": [
      "Epoch 284/500:  57%|███████████████████████████████████████████████████████████████████████████▊                                                          | 283/500 [05:23<04:08,  1.14s/it, loss=3.62e+03, v_num=1]"
     ]
    },
    {
     "name": "stderr",
     "output_type": "stream",
     "text": [
      " UserWarning:/home/atac2rna/anaconda3/envs/atac2rna/lib/python3.9/site-packages/scvi/distributions/_negative_binomial.py:482: The value argument must be within the support of the distribution\n",
      " UserWarning:/home/atac2rna/anaconda3/envs/atac2rna/lib/python3.9/site-packages/scvi/distributions/_negative_binomial.py:482: The value argument must be within the support of the distribution\n"
     ]
    },
    {
     "name": "stdout",
     "output_type": "stream",
     "text": [
      "Epoch 285/500:  57%|████████████████████████████████████████████████████████████████████████████                                                          | 284/500 [05:24<04:07,  1.14s/it, loss=3.63e+03, v_num=1]"
     ]
    },
    {
     "name": "stderr",
     "output_type": "stream",
     "text": [
      " UserWarning:/home/atac2rna/anaconda3/envs/atac2rna/lib/python3.9/site-packages/scvi/distributions/_negative_binomial.py:482: The value argument must be within the support of the distribution\n",
      " UserWarning:/home/atac2rna/anaconda3/envs/atac2rna/lib/python3.9/site-packages/scvi/distributions/_negative_binomial.py:482: The value argument must be within the support of the distribution\n"
     ]
    },
    {
     "name": "stdout",
     "output_type": "stream",
     "text": [
      "Epoch 286/500:  57%|████████████████████████████████████████████████████████████████████████████▍                                                         | 285/500 [05:26<04:07,  1.15s/it, loss=3.62e+03, v_num=1]"
     ]
    },
    {
     "name": "stderr",
     "output_type": "stream",
     "text": [
      " UserWarning:/home/atac2rna/anaconda3/envs/atac2rna/lib/python3.9/site-packages/scvi/distributions/_negative_binomial.py:482: The value argument must be within the support of the distribution\n",
      " UserWarning:/home/atac2rna/anaconda3/envs/atac2rna/lib/python3.9/site-packages/scvi/distributions/_negative_binomial.py:482: The value argument must be within the support of the distribution\n"
     ]
    },
    {
     "name": "stdout",
     "output_type": "stream",
     "text": [
      "Epoch 287/500:  57%|█████████████████████████████████████████████████████████████████████████████▏                                                         | 286/500 [05:27<04:04,  1.14s/it, loss=3.6e+03, v_num=1]"
     ]
    },
    {
     "name": "stderr",
     "output_type": "stream",
     "text": [
      " UserWarning:/home/atac2rna/anaconda3/envs/atac2rna/lib/python3.9/site-packages/scvi/distributions/_negative_binomial.py:482: The value argument must be within the support of the distribution\n",
      " UserWarning:/home/atac2rna/anaconda3/envs/atac2rna/lib/python3.9/site-packages/scvi/distributions/_negative_binomial.py:482: The value argument must be within the support of the distribution\n"
     ]
    },
    {
     "name": "stdout",
     "output_type": "stream",
     "text": [
      "Epoch 288/500:  57%|█████████████████████████████████████████████████████████████████████████████▍                                                         | 287/500 [05:28<04:00,  1.13s/it, loss=3.6e+03, v_num=1]"
     ]
    },
    {
     "name": "stderr",
     "output_type": "stream",
     "text": [
      " UserWarning:/home/atac2rna/anaconda3/envs/atac2rna/lib/python3.9/site-packages/scvi/distributions/_negative_binomial.py:482: The value argument must be within the support of the distribution\n",
      " UserWarning:/home/atac2rna/anaconda3/envs/atac2rna/lib/python3.9/site-packages/scvi/distributions/_negative_binomial.py:482: The value argument must be within the support of the distribution\n"
     ]
    },
    {
     "name": "stdout",
     "output_type": "stream",
     "text": [
      "Epoch 289/500:  58%|█████████████████████████████████████████████████████████████████████████████▊                                                         | 288/500 [05:29<03:58,  1.13s/it, loss=3.6e+03, v_num=1]"
     ]
    },
    {
     "name": "stderr",
     "output_type": "stream",
     "text": [
      " UserWarning:/home/atac2rna/anaconda3/envs/atac2rna/lib/python3.9/site-packages/scvi/distributions/_negative_binomial.py:482: The value argument must be within the support of the distribution\n",
      " UserWarning:/home/atac2rna/anaconda3/envs/atac2rna/lib/python3.9/site-packages/scvi/distributions/_negative_binomial.py:482: The value argument must be within the support of the distribution\n"
     ]
    },
    {
     "name": "stdout",
     "output_type": "stream",
     "text": [
      "Epoch 290/500:  58%|█████████████████████████████████████████████████████████████████████████████▍                                                        | 289/500 [05:30<03:54,  1.11s/it, loss=3.59e+03, v_num=1]"
     ]
    },
    {
     "name": "stderr",
     "output_type": "stream",
     "text": [
      " UserWarning:/home/atac2rna/anaconda3/envs/atac2rna/lib/python3.9/site-packages/scvi/distributions/_negative_binomial.py:482: The value argument must be within the support of the distribution\n",
      " UserWarning:/home/atac2rna/anaconda3/envs/atac2rna/lib/python3.9/site-packages/scvi/distributions/_negative_binomial.py:482: The value argument must be within the support of the distribution\n"
     ]
    },
    {
     "name": "stdout",
     "output_type": "stream",
     "text": [
      "Epoch 291/500:  58%|█████████████████████████████████████████████████████████████████████████████▋                                                        | 290/500 [05:31<03:55,  1.12s/it, loss=3.58e+03, v_num=1]"
     ]
    },
    {
     "name": "stderr",
     "output_type": "stream",
     "text": [
      " UserWarning:/home/atac2rna/anaconda3/envs/atac2rna/lib/python3.9/site-packages/scvi/distributions/_negative_binomial.py:482: The value argument must be within the support of the distribution\n",
      " UserWarning:/home/atac2rna/anaconda3/envs/atac2rna/lib/python3.9/site-packages/scvi/distributions/_negative_binomial.py:482: The value argument must be within the support of the distribution\n"
     ]
    },
    {
     "name": "stdout",
     "output_type": "stream",
     "text": [
      "Epoch 292/500:  58%|█████████████████████████████████████████████████████████████████████████████▉                                                        | 291/500 [05:32<03:56,  1.13s/it, loss=3.59e+03, v_num=1]"
     ]
    },
    {
     "name": "stderr",
     "output_type": "stream",
     "text": [
      " UserWarning:/home/atac2rna/anaconda3/envs/atac2rna/lib/python3.9/site-packages/scvi/distributions/_negative_binomial.py:482: The value argument must be within the support of the distribution\n",
      " UserWarning:/home/atac2rna/anaconda3/envs/atac2rna/lib/python3.9/site-packages/scvi/distributions/_negative_binomial.py:482: The value argument must be within the support of the distribution\n"
     ]
    },
    {
     "name": "stdout",
     "output_type": "stream",
     "text": [
      "Epoch 293/500:  58%|██████████████████████████████████████████████████████████████████████████████▎                                                       | 292/500 [05:34<03:57,  1.14s/it, loss=3.56e+03, v_num=1]"
     ]
    },
    {
     "name": "stderr",
     "output_type": "stream",
     "text": [
      " UserWarning:/home/atac2rna/anaconda3/envs/atac2rna/lib/python3.9/site-packages/scvi/distributions/_negative_binomial.py:482: The value argument must be within the support of the distribution\n",
      " UserWarning:/home/atac2rna/anaconda3/envs/atac2rna/lib/python3.9/site-packages/scvi/distributions/_negative_binomial.py:482: The value argument must be within the support of the distribution\n"
     ]
    },
    {
     "name": "stdout",
     "output_type": "stream",
     "text": [
      "Epoch 294/500:  59%|██████████████████████████████████████████████████████████████████████████████▌                                                       | 293/500 [05:35<03:57,  1.15s/it, loss=3.55e+03, v_num=1]"
     ]
    },
    {
     "name": "stderr",
     "output_type": "stream",
     "text": [
      " UserWarning:/home/atac2rna/anaconda3/envs/atac2rna/lib/python3.9/site-packages/scvi/distributions/_negative_binomial.py:482: The value argument must be within the support of the distribution\n",
      " UserWarning:/home/atac2rna/anaconda3/envs/atac2rna/lib/python3.9/site-packages/scvi/distributions/_negative_binomial.py:482: The value argument must be within the support of the distribution\n"
     ]
    },
    {
     "name": "stdout",
     "output_type": "stream",
     "text": [
      "Epoch 295/500:  59%|██████████████████████████████████████████████████████████████████████████████▊                                                       | 294/500 [05:36<03:56,  1.15s/it, loss=3.56e+03, v_num=1]"
     ]
    },
    {
     "name": "stderr",
     "output_type": "stream",
     "text": [
      " UserWarning:/home/atac2rna/anaconda3/envs/atac2rna/lib/python3.9/site-packages/scvi/distributions/_negative_binomial.py:482: The value argument must be within the support of the distribution\n",
      " UserWarning:/home/atac2rna/anaconda3/envs/atac2rna/lib/python3.9/site-packages/scvi/distributions/_negative_binomial.py:482: The value argument must be within the support of the distribution\n"
     ]
    },
    {
     "name": "stdout",
     "output_type": "stream",
     "text": [
      "Epoch 296/500:  59%|███████████████████████████████████████████████████████████████████████████████                                                       | 295/500 [05:37<03:55,  1.15s/it, loss=3.54e+03, v_num=1]"
     ]
    },
    {
     "name": "stderr",
     "output_type": "stream",
     "text": [
      " UserWarning:/home/atac2rna/anaconda3/envs/atac2rna/lib/python3.9/site-packages/scvi/distributions/_negative_binomial.py:482: The value argument must be within the support of the distribution\n",
      " UserWarning:/home/atac2rna/anaconda3/envs/atac2rna/lib/python3.9/site-packages/scvi/distributions/_negative_binomial.py:482: The value argument must be within the support of the distribution\n"
     ]
    },
    {
     "name": "stdout",
     "output_type": "stream",
     "text": [
      "Epoch 297/500:  59%|███████████████████████████████████████████████████████████████████████████████▎                                                      | 296/500 [05:38<03:55,  1.15s/it, loss=3.53e+03, v_num=1]"
     ]
    },
    {
     "name": "stderr",
     "output_type": "stream",
     "text": [
      " UserWarning:/home/atac2rna/anaconda3/envs/atac2rna/lib/python3.9/site-packages/scvi/distributions/_negative_binomial.py:482: The value argument must be within the support of the distribution\n",
      " UserWarning:/home/atac2rna/anaconda3/envs/atac2rna/lib/python3.9/site-packages/scvi/distributions/_negative_binomial.py:482: The value argument must be within the support of the distribution\n"
     ]
    },
    {
     "name": "stdout",
     "output_type": "stream",
     "text": [
      "Epoch 298/500:  59%|███████████████████████████████████████████████████████████████████████████████▌                                                      | 297/500 [05:39<03:49,  1.13s/it, loss=3.56e+03, v_num=1]"
     ]
    },
    {
     "name": "stderr",
     "output_type": "stream",
     "text": [
      " UserWarning:/home/atac2rna/anaconda3/envs/atac2rna/lib/python3.9/site-packages/scvi/distributions/_negative_binomial.py:482: The value argument must be within the support of the distribution\n",
      " UserWarning:/home/atac2rna/anaconda3/envs/atac2rna/lib/python3.9/site-packages/scvi/distributions/_negative_binomial.py:482: The value argument must be within the support of the distribution\n"
     ]
    },
    {
     "name": "stdout",
     "output_type": "stream",
     "text": [
      "Epoch 299/500:  60%|███████████████████████████████████████████████████████████████████████████████▊                                                      | 298/500 [05:40<03:47,  1.13s/it, loss=3.52e+03, v_num=1]"
     ]
    },
    {
     "name": "stderr",
     "output_type": "stream",
     "text": [
      " UserWarning:/home/atac2rna/anaconda3/envs/atac2rna/lib/python3.9/site-packages/scvi/distributions/_negative_binomial.py:482: The value argument must be within the support of the distribution\n",
      " UserWarning:/home/atac2rna/anaconda3/envs/atac2rna/lib/python3.9/site-packages/scvi/distributions/_negative_binomial.py:482: The value argument must be within the support of the distribution\n"
     ]
    },
    {
     "name": "stdout",
     "output_type": "stream",
     "text": [
      "Epoch 300/500:  60%|████████████████████████████████████████████████████████████████████████████████▏                                                     | 299/500 [05:41<03:46,  1.12s/it, loss=3.53e+03, v_num=1]"
     ]
    },
    {
     "name": "stderr",
     "output_type": "stream",
     "text": [
      " UserWarning:/home/atac2rna/anaconda3/envs/atac2rna/lib/python3.9/site-packages/scvi/distributions/_negative_binomial.py:482: The value argument must be within the support of the distribution\n",
      " UserWarning:/home/atac2rna/anaconda3/envs/atac2rna/lib/python3.9/site-packages/scvi/distributions/_negative_binomial.py:482: The value argument must be within the support of the distribution\n"
     ]
    },
    {
     "name": "stdout",
     "output_type": "stream",
     "text": [
      "Epoch 301/500:  60%|████████████████████████████████████████████████████████████████████████████████▍                                                     | 300/500 [05:43<03:46,  1.13s/it, loss=3.51e+03, v_num=1]"
     ]
    },
    {
     "name": "stderr",
     "output_type": "stream",
     "text": [
      " UserWarning:/home/atac2rna/anaconda3/envs/atac2rna/lib/python3.9/site-packages/scvi/distributions/_negative_binomial.py:482: The value argument must be within the support of the distribution\n",
      " UserWarning:/home/atac2rna/anaconda3/envs/atac2rna/lib/python3.9/site-packages/scvi/distributions/_negative_binomial.py:482: The value argument must be within the support of the distribution\n"
     ]
    },
    {
     "name": "stdout",
     "output_type": "stream",
     "text": [
      "Epoch 302/500:  60%|█████████████████████████████████████████████████████████████████████████████████▎                                                     | 301/500 [05:44<03:45,  1.13s/it, loss=3.5e+03, v_num=1]"
     ]
    },
    {
     "name": "stderr",
     "output_type": "stream",
     "text": [
      " UserWarning:/home/atac2rna/anaconda3/envs/atac2rna/lib/python3.9/site-packages/scvi/distributions/_negative_binomial.py:482: The value argument must be within the support of the distribution\n",
      " UserWarning:/home/atac2rna/anaconda3/envs/atac2rna/lib/python3.9/site-packages/scvi/distributions/_negative_binomial.py:482: The value argument must be within the support of the distribution\n"
     ]
    },
    {
     "name": "stdout",
     "output_type": "stream",
     "text": [
      "Epoch 303/500:  60%|█████████████████████████████████████████████████████████████████████████████████▌                                                     | 302/500 [05:45<03:45,  1.14s/it, loss=3.5e+03, v_num=1]"
     ]
    },
    {
     "name": "stderr",
     "output_type": "stream",
     "text": [
      " UserWarning:/home/atac2rna/anaconda3/envs/atac2rna/lib/python3.9/site-packages/scvi/distributions/_negative_binomial.py:482: The value argument must be within the support of the distribution\n",
      " UserWarning:/home/atac2rna/anaconda3/envs/atac2rna/lib/python3.9/site-packages/scvi/distributions/_negative_binomial.py:482: The value argument must be within the support of the distribution\n"
     ]
    },
    {
     "name": "stdout",
     "output_type": "stream",
     "text": [
      "Epoch 304/500:  61%|█████████████████████████████████████████████████████████████████████████████████▏                                                    | 303/500 [05:46<03:45,  1.15s/it, loss=3.51e+03, v_num=1]"
     ]
    },
    {
     "name": "stderr",
     "output_type": "stream",
     "text": [
      " UserWarning:/home/atac2rna/anaconda3/envs/atac2rna/lib/python3.9/site-packages/scvi/distributions/_negative_binomial.py:482: The value argument must be within the support of the distribution\n",
      " UserWarning:/home/atac2rna/anaconda3/envs/atac2rna/lib/python3.9/site-packages/scvi/distributions/_negative_binomial.py:482: The value argument must be within the support of the distribution\n"
     ]
    },
    {
     "name": "stdout",
     "output_type": "stream",
     "text": [
      "Epoch 305/500:  61%|█████████████████████████████████████████████████████████████████████████████████▍                                                    | 304/500 [05:47<03:45,  1.15s/it, loss=3.51e+03, v_num=1]"
     ]
    },
    {
     "name": "stderr",
     "output_type": "stream",
     "text": [
      " UserWarning:/home/atac2rna/anaconda3/envs/atac2rna/lib/python3.9/site-packages/scvi/distributions/_negative_binomial.py:482: The value argument must be within the support of the distribution\n",
      " UserWarning:/home/atac2rna/anaconda3/envs/atac2rna/lib/python3.9/site-packages/scvi/distributions/_negative_binomial.py:482: The value argument must be within the support of the distribution\n"
     ]
    },
    {
     "name": "stdout",
     "output_type": "stream",
     "text": [
      "Epoch 306/500:  61%|█████████████████████████████████████████████████████████████████████████████████▋                                                    | 305/500 [05:48<03:44,  1.15s/it, loss=3.47e+03, v_num=1]"
     ]
    },
    {
     "name": "stderr",
     "output_type": "stream",
     "text": [
      " UserWarning:/home/atac2rna/anaconda3/envs/atac2rna/lib/python3.9/site-packages/scvi/distributions/_negative_binomial.py:482: The value argument must be within the support of the distribution\n",
      " UserWarning:/home/atac2rna/anaconda3/envs/atac2rna/lib/python3.9/site-packages/scvi/distributions/_negative_binomial.py:482: The value argument must be within the support of the distribution\n"
     ]
    },
    {
     "name": "stdout",
     "output_type": "stream",
     "text": [
      "Epoch 307/500:  61%|██████████████████████████████████████████████████████████████████████████████████                                                    | 306/500 [05:50<03:43,  1.15s/it, loss=3.51e+03, v_num=1]"
     ]
    },
    {
     "name": "stderr",
     "output_type": "stream",
     "text": [
      " UserWarning:/home/atac2rna/anaconda3/envs/atac2rna/lib/python3.9/site-packages/scvi/distributions/_negative_binomial.py:482: The value argument must be within the support of the distribution\n",
      " UserWarning:/home/atac2rna/anaconda3/envs/atac2rna/lib/python3.9/site-packages/scvi/distributions/_negative_binomial.py:482: The value argument must be within the support of the distribution\n"
     ]
    },
    {
     "name": "stdout",
     "output_type": "stream",
     "text": [
      "Epoch 308/500:  61%|██████████████████████████████████████████████████████████████████████████████████▎                                                   | 307/500 [05:51<03:42,  1.15s/it, loss=3.47e+03, v_num=1]"
     ]
    },
    {
     "name": "stderr",
     "output_type": "stream",
     "text": [
      " UserWarning:/home/atac2rna/anaconda3/envs/atac2rna/lib/python3.9/site-packages/scvi/distributions/_negative_binomial.py:482: The value argument must be within the support of the distribution\n",
      " UserWarning:/home/atac2rna/anaconda3/envs/atac2rna/lib/python3.9/site-packages/scvi/distributions/_negative_binomial.py:482: The value argument must be within the support of the distribution\n"
     ]
    },
    {
     "name": "stdout",
     "output_type": "stream",
     "text": [
      "Epoch 309/500:  62%|██████████████████████████████████████████████████████████████████████████████████▌                                                   | 308/500 [05:52<03:41,  1.15s/it, loss=3.48e+03, v_num=1]"
     ]
    },
    {
     "name": "stderr",
     "output_type": "stream",
     "text": [
      " UserWarning:/home/atac2rna/anaconda3/envs/atac2rna/lib/python3.9/site-packages/scvi/distributions/_negative_binomial.py:482: The value argument must be within the support of the distribution\n",
      " UserWarning:/home/atac2rna/anaconda3/envs/atac2rna/lib/python3.9/site-packages/scvi/distributions/_negative_binomial.py:482: The value argument must be within the support of the distribution\n"
     ]
    },
    {
     "name": "stdout",
     "output_type": "stream",
     "text": [
      "Epoch 310/500:  62%|██████████████████████████████████████████████████████████████████████████████████▊                                                   | 309/500 [05:53<03:40,  1.15s/it, loss=3.47e+03, v_num=1]"
     ]
    },
    {
     "name": "stderr",
     "output_type": "stream",
     "text": [
      " UserWarning:/home/atac2rna/anaconda3/envs/atac2rna/lib/python3.9/site-packages/scvi/distributions/_negative_binomial.py:482: The value argument must be within the support of the distribution\n",
      " UserWarning:/home/atac2rna/anaconda3/envs/atac2rna/lib/python3.9/site-packages/scvi/distributions/_negative_binomial.py:482: The value argument must be within the support of the distribution\n"
     ]
    },
    {
     "name": "stdout",
     "output_type": "stream",
     "text": [
      "Epoch 311/500:  62%|███████████████████████████████████████████████████████████████████████████████████                                                   | 310/500 [05:54<03:39,  1.16s/it, loss=3.46e+03, v_num=1]"
     ]
    },
    {
     "name": "stderr",
     "output_type": "stream",
     "text": [
      " UserWarning:/home/atac2rna/anaconda3/envs/atac2rna/lib/python3.9/site-packages/scvi/distributions/_negative_binomial.py:482: The value argument must be within the support of the distribution\n",
      " UserWarning:/home/atac2rna/anaconda3/envs/atac2rna/lib/python3.9/site-packages/scvi/distributions/_negative_binomial.py:482: The value argument must be within the support of the distribution\n"
     ]
    },
    {
     "name": "stdout",
     "output_type": "stream",
     "text": [
      "Epoch 312/500:  62%|███████████████████████████████████████████████████████████████████████████████████▎                                                  | 311/500 [05:55<03:37,  1.15s/it, loss=3.46e+03, v_num=1]"
     ]
    },
    {
     "name": "stderr",
     "output_type": "stream",
     "text": [
      " UserWarning:/home/atac2rna/anaconda3/envs/atac2rna/lib/python3.9/site-packages/scvi/distributions/_negative_binomial.py:482: The value argument must be within the support of the distribution\n",
      " UserWarning:/home/atac2rna/anaconda3/envs/atac2rna/lib/python3.9/site-packages/scvi/distributions/_negative_binomial.py:482: The value argument must be within the support of the distribution\n"
     ]
    },
    {
     "name": "stdout",
     "output_type": "stream",
     "text": [
      "Epoch 313/500:  62%|███████████████████████████████████████████████████████████████████████████████████▌                                                  | 312/500 [05:56<03:36,  1.15s/it, loss=3.45e+03, v_num=1]"
     ]
    },
    {
     "name": "stderr",
     "output_type": "stream",
     "text": [
      " UserWarning:/home/atac2rna/anaconda3/envs/atac2rna/lib/python3.9/site-packages/scvi/distributions/_negative_binomial.py:482: The value argument must be within the support of the distribution\n",
      " UserWarning:/home/atac2rna/anaconda3/envs/atac2rna/lib/python3.9/site-packages/scvi/distributions/_negative_binomial.py:482: The value argument must be within the support of the distribution\n"
     ]
    },
    {
     "name": "stdout",
     "output_type": "stream",
     "text": [
      "Epoch 314/500:  63%|███████████████████████████████████████████████████████████████████████████████████▉                                                  | 313/500 [05:58<03:35,  1.15s/it, loss=3.44e+03, v_num=1]"
     ]
    },
    {
     "name": "stderr",
     "output_type": "stream",
     "text": [
      " UserWarning:/home/atac2rna/anaconda3/envs/atac2rna/lib/python3.9/site-packages/scvi/distributions/_negative_binomial.py:482: The value argument must be within the support of the distribution\n",
      " UserWarning:/home/atac2rna/anaconda3/envs/atac2rna/lib/python3.9/site-packages/scvi/distributions/_negative_binomial.py:482: The value argument must be within the support of the distribution\n"
     ]
    },
    {
     "name": "stdout",
     "output_type": "stream",
     "text": [
      "Epoch 315/500:  63%|████████████████████████████████████████████████████████████████████████████████████▏                                                 | 314/500 [05:59<03:33,  1.15s/it, loss=3.44e+03, v_num=1]"
     ]
    },
    {
     "name": "stderr",
     "output_type": "stream",
     "text": [
      " UserWarning:/home/atac2rna/anaconda3/envs/atac2rna/lib/python3.9/site-packages/scvi/distributions/_negative_binomial.py:482: The value argument must be within the support of the distribution\n",
      " UserWarning:/home/atac2rna/anaconda3/envs/atac2rna/lib/python3.9/site-packages/scvi/distributions/_negative_binomial.py:482: The value argument must be within the support of the distribution\n"
     ]
    },
    {
     "name": "stdout",
     "output_type": "stream",
     "text": [
      "Epoch 316/500:  63%|█████████████████████████████████████████████████████████████████████████████████████                                                  | 315/500 [06:00<03:33,  1.15s/it, loss=3.4e+03, v_num=1]"
     ]
    },
    {
     "name": "stderr",
     "output_type": "stream",
     "text": [
      " UserWarning:/home/atac2rna/anaconda3/envs/atac2rna/lib/python3.9/site-packages/scvi/distributions/_negative_binomial.py:482: The value argument must be within the support of the distribution\n",
      " UserWarning:/home/atac2rna/anaconda3/envs/atac2rna/lib/python3.9/site-packages/scvi/distributions/_negative_binomial.py:482: The value argument must be within the support of the distribution\n"
     ]
    },
    {
     "name": "stdout",
     "output_type": "stream",
     "text": [
      "Epoch 317/500:  63%|████████████████████████████████████████████████████████████████████████████████████▋                                                 | 316/500 [06:01<03:31,  1.15s/it, loss=3.41e+03, v_num=1]"
     ]
    },
    {
     "name": "stderr",
     "output_type": "stream",
     "text": [
      " UserWarning:/home/atac2rna/anaconda3/envs/atac2rna/lib/python3.9/site-packages/scvi/distributions/_negative_binomial.py:482: The value argument must be within the support of the distribution\n",
      " UserWarning:/home/atac2rna/anaconda3/envs/atac2rna/lib/python3.9/site-packages/scvi/distributions/_negative_binomial.py:482: The value argument must be within the support of the distribution\n"
     ]
    },
    {
     "name": "stdout",
     "output_type": "stream",
     "text": [
      "Epoch 318/500:  63%|████████████████████████████████████████████████████████████████████████████████████▉                                                 | 317/500 [06:02<03:30,  1.15s/it, loss=3.44e+03, v_num=1]"
     ]
    },
    {
     "name": "stderr",
     "output_type": "stream",
     "text": [
      " UserWarning:/home/atac2rna/anaconda3/envs/atac2rna/lib/python3.9/site-packages/scvi/distributions/_negative_binomial.py:482: The value argument must be within the support of the distribution\n",
      " UserWarning:/home/atac2rna/anaconda3/envs/atac2rna/lib/python3.9/site-packages/scvi/distributions/_negative_binomial.py:482: The value argument must be within the support of the distribution\n"
     ]
    },
    {
     "name": "stdout",
     "output_type": "stream",
     "text": [
      "Epoch 319/500:  64%|█████████████████████████████████████████████████████████████████████████████████████▏                                                | 318/500 [06:03<03:30,  1.16s/it, loss=3.43e+03, v_num=1]"
     ]
    },
    {
     "name": "stderr",
     "output_type": "stream",
     "text": [
      " UserWarning:/home/atac2rna/anaconda3/envs/atac2rna/lib/python3.9/site-packages/scvi/distributions/_negative_binomial.py:482: The value argument must be within the support of the distribution\n",
      " UserWarning:/home/atac2rna/anaconda3/envs/atac2rna/lib/python3.9/site-packages/scvi/distributions/_negative_binomial.py:482: The value argument must be within the support of the distribution\n"
     ]
    },
    {
     "name": "stdout",
     "output_type": "stream",
     "text": [
      "Epoch 320/500:  64%|█████████████████████████████████████████████████████████████████████████████████████▍                                                | 319/500 [06:05<03:30,  1.16s/it, loss=3.41e+03, v_num=1]"
     ]
    },
    {
     "name": "stderr",
     "output_type": "stream",
     "text": [
      " UserWarning:/home/atac2rna/anaconda3/envs/atac2rna/lib/python3.9/site-packages/scvi/distributions/_negative_binomial.py:482: The value argument must be within the support of the distribution\n",
      " UserWarning:/home/atac2rna/anaconda3/envs/atac2rna/lib/python3.9/site-packages/scvi/distributions/_negative_binomial.py:482: The value argument must be within the support of the distribution\n"
     ]
    },
    {
     "name": "stdout",
     "output_type": "stream",
     "text": [
      "Epoch 321/500:  64%|█████████████████████████████████████████████████████████████████████████████████████▊                                                | 320/500 [06:06<03:28,  1.16s/it, loss=3.42e+03, v_num=1]"
     ]
    },
    {
     "name": "stderr",
     "output_type": "stream",
     "text": [
      " UserWarning:/home/atac2rna/anaconda3/envs/atac2rna/lib/python3.9/site-packages/scvi/distributions/_negative_binomial.py:482: The value argument must be within the support of the distribution\n",
      " UserWarning:/home/atac2rna/anaconda3/envs/atac2rna/lib/python3.9/site-packages/scvi/distributions/_negative_binomial.py:482: The value argument must be within the support of the distribution\n"
     ]
    },
    {
     "name": "stdout",
     "output_type": "stream",
     "text": [
      "Epoch 322/500:  64%|██████████████████████████████████████████████████████████████████████████████████████                                                | 321/500 [06:07<03:24,  1.14s/it, loss=3.41e+03, v_num=1]"
     ]
    },
    {
     "name": "stderr",
     "output_type": "stream",
     "text": [
      " UserWarning:/home/atac2rna/anaconda3/envs/atac2rna/lib/python3.9/site-packages/scvi/distributions/_negative_binomial.py:482: The value argument must be within the support of the distribution\n",
      " UserWarning:/home/atac2rna/anaconda3/envs/atac2rna/lib/python3.9/site-packages/scvi/distributions/_negative_binomial.py:482: The value argument must be within the support of the distribution\n"
     ]
    },
    {
     "name": "stdout",
     "output_type": "stream",
     "text": [
      "Epoch 323/500:  64%|██████████████████████████████████████████████████████████████████████████████████████▎                                               | 322/500 [06:08<03:23,  1.15s/it, loss=3.41e+03, v_num=1]"
     ]
    },
    {
     "name": "stderr",
     "output_type": "stream",
     "text": [
      " UserWarning:/home/atac2rna/anaconda3/envs/atac2rna/lib/python3.9/site-packages/scvi/distributions/_negative_binomial.py:482: The value argument must be within the support of the distribution\n",
      " UserWarning:/home/atac2rna/anaconda3/envs/atac2rna/lib/python3.9/site-packages/scvi/distributions/_negative_binomial.py:482: The value argument must be within the support of the distribution\n"
     ]
    },
    {
     "name": "stdout",
     "output_type": "stream",
     "text": [
      "Epoch 324/500:  65%|██████████████████████████████████████████████████████████████████████████████████████▌                                               | 323/500 [06:09<03:23,  1.15s/it, loss=3.39e+03, v_num=1]"
     ]
    },
    {
     "name": "stderr",
     "output_type": "stream",
     "text": [
      " UserWarning:/home/atac2rna/anaconda3/envs/atac2rna/lib/python3.9/site-packages/scvi/distributions/_negative_binomial.py:482: The value argument must be within the support of the distribution\n",
      " UserWarning:/home/atac2rna/anaconda3/envs/atac2rna/lib/python3.9/site-packages/scvi/distributions/_negative_binomial.py:482: The value argument must be within the support of the distribution\n"
     ]
    },
    {
     "name": "stdout",
     "output_type": "stream",
     "text": [
      "Epoch 325/500:  65%|███████████████████████████████████████████████████████████████████████████████████████▍                                               | 324/500 [06:10<03:18,  1.13s/it, loss=3.4e+03, v_num=1]"
     ]
    },
    {
     "name": "stderr",
     "output_type": "stream",
     "text": [
      " UserWarning:/home/atac2rna/anaconda3/envs/atac2rna/lib/python3.9/site-packages/scvi/distributions/_negative_binomial.py:482: The value argument must be within the support of the distribution\n",
      " UserWarning:/home/atac2rna/anaconda3/envs/atac2rna/lib/python3.9/site-packages/scvi/distributions/_negative_binomial.py:482: The value argument must be within the support of the distribution\n"
     ]
    },
    {
     "name": "stdout",
     "output_type": "stream",
     "text": [
      "Epoch 326/500:  65%|███████████████████████████████████████████████████████████████████████████████████████▊                                               | 325/500 [06:11<03:14,  1.11s/it, loss=3.4e+03, v_num=1]"
     ]
    },
    {
     "name": "stderr",
     "output_type": "stream",
     "text": [
      " UserWarning:/home/atac2rna/anaconda3/envs/atac2rna/lib/python3.9/site-packages/scvi/distributions/_negative_binomial.py:482: The value argument must be within the support of the distribution\n",
      " UserWarning:/home/atac2rna/anaconda3/envs/atac2rna/lib/python3.9/site-packages/scvi/distributions/_negative_binomial.py:482: The value argument must be within the support of the distribution\n"
     ]
    },
    {
     "name": "stdout",
     "output_type": "stream",
     "text": [
      "Epoch 327/500:  65%|███████████████████████████████████████████████████████████████████████████████████████▎                                              | 326/500 [06:12<03:15,  1.12s/it, loss=3.38e+03, v_num=1]"
     ]
    },
    {
     "name": "stderr",
     "output_type": "stream",
     "text": [
      " UserWarning:/home/atac2rna/anaconda3/envs/atac2rna/lib/python3.9/site-packages/scvi/distributions/_negative_binomial.py:482: The value argument must be within the support of the distribution\n",
      " UserWarning:/home/atac2rna/anaconda3/envs/atac2rna/lib/python3.9/site-packages/scvi/distributions/_negative_binomial.py:482: The value argument must be within the support of the distribution\n"
     ]
    },
    {
     "name": "stdout",
     "output_type": "stream",
     "text": [
      "Epoch 328/500:  65%|███████████████████████████████████████████████████████████████████████████████████████▋                                              | 327/500 [06:14<03:15,  1.13s/it, loss=3.36e+03, v_num=1]"
     ]
    },
    {
     "name": "stderr",
     "output_type": "stream",
     "text": [
      " UserWarning:/home/atac2rna/anaconda3/envs/atac2rna/lib/python3.9/site-packages/scvi/distributions/_negative_binomial.py:482: The value argument must be within the support of the distribution\n",
      " UserWarning:/home/atac2rna/anaconda3/envs/atac2rna/lib/python3.9/site-packages/scvi/distributions/_negative_binomial.py:482: The value argument must be within the support of the distribution\n"
     ]
    },
    {
     "name": "stdout",
     "output_type": "stream",
     "text": [
      "Epoch 329/500:  66%|███████████████████████████████████████████████████████████████████████████████████████▉                                              | 328/500 [06:15<03:13,  1.13s/it, loss=3.36e+03, v_num=1]"
     ]
    },
    {
     "name": "stderr",
     "output_type": "stream",
     "text": [
      " UserWarning:/home/atac2rna/anaconda3/envs/atac2rna/lib/python3.9/site-packages/scvi/distributions/_negative_binomial.py:482: The value argument must be within the support of the distribution\n",
      " UserWarning:/home/atac2rna/anaconda3/envs/atac2rna/lib/python3.9/site-packages/scvi/distributions/_negative_binomial.py:482: The value argument must be within the support of the distribution\n"
     ]
    },
    {
     "name": "stdout",
     "output_type": "stream",
     "text": [
      "Epoch 330/500:  66%|████████████████████████████████████████████████████████████████████████████████████████▏                                             | 329/500 [06:16<03:13,  1.13s/it, loss=3.36e+03, v_num=1]"
     ]
    },
    {
     "name": "stderr",
     "output_type": "stream",
     "text": [
      " UserWarning:/home/atac2rna/anaconda3/envs/atac2rna/lib/python3.9/site-packages/scvi/distributions/_negative_binomial.py:482: The value argument must be within the support of the distribution\n",
      " UserWarning:/home/atac2rna/anaconda3/envs/atac2rna/lib/python3.9/site-packages/scvi/distributions/_negative_binomial.py:482: The value argument must be within the support of the distribution\n"
     ]
    },
    {
     "name": "stdout",
     "output_type": "stream",
     "text": [
      "Epoch 331/500:  66%|████████████████████████████████████████████████████████████████████████████████████████▍                                             | 330/500 [06:17<03:13,  1.14s/it, loss=3.38e+03, v_num=1]"
     ]
    },
    {
     "name": "stderr",
     "output_type": "stream",
     "text": [
      " UserWarning:/home/atac2rna/anaconda3/envs/atac2rna/lib/python3.9/site-packages/scvi/distributions/_negative_binomial.py:482: The value argument must be within the support of the distribution\n",
      " UserWarning:/home/atac2rna/anaconda3/envs/atac2rna/lib/python3.9/site-packages/scvi/distributions/_negative_binomial.py:482: The value argument must be within the support of the distribution\n"
     ]
    },
    {
     "name": "stdout",
     "output_type": "stream",
     "text": [
      "Epoch 332/500:  66%|████████████████████████████████████████████████████████████████████████████████████████▋                                             | 331/500 [06:18<03:10,  1.13s/it, loss=3.36e+03, v_num=1]"
     ]
    },
    {
     "name": "stderr",
     "output_type": "stream",
     "text": [
      " UserWarning:/home/atac2rna/anaconda3/envs/atac2rna/lib/python3.9/site-packages/scvi/distributions/_negative_binomial.py:482: The value argument must be within the support of the distribution\n",
      " UserWarning:/home/atac2rna/anaconda3/envs/atac2rna/lib/python3.9/site-packages/scvi/distributions/_negative_binomial.py:482: The value argument must be within the support of the distribution\n"
     ]
    },
    {
     "name": "stdout",
     "output_type": "stream",
     "text": [
      "Epoch 333/500:  66%|████████████████████████████████████████████████████████████████████████████████████████▉                                             | 332/500 [06:19<03:09,  1.13s/it, loss=3.35e+03, v_num=1]"
     ]
    },
    {
     "name": "stderr",
     "output_type": "stream",
     "text": [
      " UserWarning:/home/atac2rna/anaconda3/envs/atac2rna/lib/python3.9/site-packages/scvi/distributions/_negative_binomial.py:482: The value argument must be within the support of the distribution\n",
      " UserWarning:/home/atac2rna/anaconda3/envs/atac2rna/lib/python3.9/site-packages/scvi/distributions/_negative_binomial.py:482: The value argument must be within the support of the distribution\n"
     ]
    },
    {
     "name": "stdout",
     "output_type": "stream",
     "text": [
      "Epoch 334/500:  67%|█████████████████████████████████████████████████████████████████████████████████████████▏                                            | 333/500 [06:20<03:09,  1.13s/it, loss=3.34e+03, v_num=1]"
     ]
    },
    {
     "name": "stderr",
     "output_type": "stream",
     "text": [
      " UserWarning:/home/atac2rna/anaconda3/envs/atac2rna/lib/python3.9/site-packages/scvi/distributions/_negative_binomial.py:482: The value argument must be within the support of the distribution\n",
      " UserWarning:/home/atac2rna/anaconda3/envs/atac2rna/lib/python3.9/site-packages/scvi/distributions/_negative_binomial.py:482: The value argument must be within the support of the distribution\n"
     ]
    },
    {
     "name": "stdout",
     "output_type": "stream",
     "text": [
      "Epoch 335/500:  67%|█████████████████████████████████████████████████████████████████████████████████████████▌                                            | 334/500 [06:21<03:07,  1.13s/it, loss=3.31e+03, v_num=1]"
     ]
    },
    {
     "name": "stderr",
     "output_type": "stream",
     "text": [
      " UserWarning:/home/atac2rna/anaconda3/envs/atac2rna/lib/python3.9/site-packages/scvi/distributions/_negative_binomial.py:482: The value argument must be within the support of the distribution\n",
      " UserWarning:/home/atac2rna/anaconda3/envs/atac2rna/lib/python3.9/site-packages/scvi/distributions/_negative_binomial.py:482: The value argument must be within the support of the distribution\n"
     ]
    },
    {
     "name": "stdout",
     "output_type": "stream",
     "text": [
      "Epoch 336/500:  67%|█████████████████████████████████████████████████████████████████████████████████████████▊                                            | 335/500 [06:23<03:06,  1.13s/it, loss=3.33e+03, v_num=1]"
     ]
    },
    {
     "name": "stderr",
     "output_type": "stream",
     "text": [
      " UserWarning:/home/atac2rna/anaconda3/envs/atac2rna/lib/python3.9/site-packages/scvi/distributions/_negative_binomial.py:482: The value argument must be within the support of the distribution\n",
      " UserWarning:/home/atac2rna/anaconda3/envs/atac2rna/lib/python3.9/site-packages/scvi/distributions/_negative_binomial.py:482: The value argument must be within the support of the distribution\n"
     ]
    },
    {
     "name": "stdout",
     "output_type": "stream",
     "text": [
      "Epoch 337/500:  67%|██████████████████████████████████████████████████████████████████████████████████████████                                            | 336/500 [06:24<03:03,  1.12s/it, loss=3.32e+03, v_num=1]"
     ]
    },
    {
     "name": "stderr",
     "output_type": "stream",
     "text": [
      " UserWarning:/home/atac2rna/anaconda3/envs/atac2rna/lib/python3.9/site-packages/scvi/distributions/_negative_binomial.py:482: The value argument must be within the support of the distribution\n",
      " UserWarning:/home/atac2rna/anaconda3/envs/atac2rna/lib/python3.9/site-packages/scvi/distributions/_negative_binomial.py:482: The value argument must be within the support of the distribution\n"
     ]
    },
    {
     "name": "stdout",
     "output_type": "stream",
     "text": [
      "Epoch 338/500:  67%|██████████████████████████████████████████████████████████████████████████████████████████▉                                            | 337/500 [06:25<03:03,  1.13s/it, loss=3.3e+03, v_num=1]"
     ]
    },
    {
     "name": "stderr",
     "output_type": "stream",
     "text": [
      " UserWarning:/home/atac2rna/anaconda3/envs/atac2rna/lib/python3.9/site-packages/scvi/distributions/_negative_binomial.py:482: The value argument must be within the support of the distribution\n",
      " UserWarning:/home/atac2rna/anaconda3/envs/atac2rna/lib/python3.9/site-packages/scvi/distributions/_negative_binomial.py:482: The value argument must be within the support of the distribution\n"
     ]
    },
    {
     "name": "stdout",
     "output_type": "stream",
     "text": [
      "Epoch 339/500:  68%|██████████████████████████████████████████████████████████████████████████████████████████▌                                           | 338/500 [06:26<03:01,  1.12s/it, loss=3.31e+03, v_num=1]"
     ]
    },
    {
     "name": "stderr",
     "output_type": "stream",
     "text": [
      " UserWarning:/home/atac2rna/anaconda3/envs/atac2rna/lib/python3.9/site-packages/scvi/distributions/_negative_binomial.py:482: The value argument must be within the support of the distribution\n",
      " UserWarning:/home/atac2rna/anaconda3/envs/atac2rna/lib/python3.9/site-packages/scvi/distributions/_negative_binomial.py:482: The value argument must be within the support of the distribution\n"
     ]
    },
    {
     "name": "stdout",
     "output_type": "stream",
     "text": [
      "Epoch 340/500:  68%|███████████████████████████████████████████████████████████████████████████████████████████▌                                           | 339/500 [06:27<02:57,  1.10s/it, loss=3.3e+03, v_num=1]"
     ]
    },
    {
     "name": "stderr",
     "output_type": "stream",
     "text": [
      " UserWarning:/home/atac2rna/anaconda3/envs/atac2rna/lib/python3.9/site-packages/scvi/distributions/_negative_binomial.py:482: The value argument must be within the support of the distribution\n",
      " UserWarning:/home/atac2rna/anaconda3/envs/atac2rna/lib/python3.9/site-packages/scvi/distributions/_negative_binomial.py:482: The value argument must be within the support of the distribution\n"
     ]
    },
    {
     "name": "stdout",
     "output_type": "stream",
     "text": [
      "Epoch 341/500:  68%|███████████████████████████████████████████████████████████████████████████████████████████                                           | 340/500 [06:28<02:57,  1.11s/it, loss=3.31e+03, v_num=1]"
     ]
    },
    {
     "name": "stderr",
     "output_type": "stream",
     "text": [
      " UserWarning:/home/atac2rna/anaconda3/envs/atac2rna/lib/python3.9/site-packages/scvi/distributions/_negative_binomial.py:482: The value argument must be within the support of the distribution\n",
      " UserWarning:/home/atac2rna/anaconda3/envs/atac2rna/lib/python3.9/site-packages/scvi/distributions/_negative_binomial.py:482: The value argument must be within the support of the distribution\n"
     ]
    },
    {
     "name": "stdout",
     "output_type": "stream",
     "text": [
      "Epoch 342/500:  68%|███████████████████████████████████████████████████████████████████████████████████████████▍                                          | 341/500 [06:29<02:59,  1.13s/it, loss=3.29e+03, v_num=1]"
     ]
    },
    {
     "name": "stderr",
     "output_type": "stream",
     "text": [
      " UserWarning:/home/atac2rna/anaconda3/envs/atac2rna/lib/python3.9/site-packages/scvi/distributions/_negative_binomial.py:482: The value argument must be within the support of the distribution\n",
      " UserWarning:/home/atac2rna/anaconda3/envs/atac2rna/lib/python3.9/site-packages/scvi/distributions/_negative_binomial.py:482: The value argument must be within the support of the distribution\n"
     ]
    },
    {
     "name": "stdout",
     "output_type": "stream",
     "text": [
      "Epoch 343/500:  68%|███████████████████████████████████████████████████████████████████████████████████████████▋                                          | 342/500 [06:30<03:00,  1.14s/it, loss=3.28e+03, v_num=1]"
     ]
    },
    {
     "name": "stderr",
     "output_type": "stream",
     "text": [
      " UserWarning:/home/atac2rna/anaconda3/envs/atac2rna/lib/python3.9/site-packages/scvi/distributions/_negative_binomial.py:482: The value argument must be within the support of the distribution\n",
      " UserWarning:/home/atac2rna/anaconda3/envs/atac2rna/lib/python3.9/site-packages/scvi/distributions/_negative_binomial.py:482: The value argument must be within the support of the distribution\n"
     ]
    },
    {
     "name": "stdout",
     "output_type": "stream",
     "text": [
      "Epoch 344/500:  69%|███████████████████████████████████████████████████████████████████████████████████████████▉                                          | 343/500 [06:32<03:01,  1.16s/it, loss=3.27e+03, v_num=1]"
     ]
    },
    {
     "name": "stderr",
     "output_type": "stream",
     "text": [
      " UserWarning:/home/atac2rna/anaconda3/envs/atac2rna/lib/python3.9/site-packages/scvi/distributions/_negative_binomial.py:482: The value argument must be within the support of the distribution\n",
      " UserWarning:/home/atac2rna/anaconda3/envs/atac2rna/lib/python3.9/site-packages/scvi/distributions/_negative_binomial.py:482: The value argument must be within the support of the distribution\n"
     ]
    },
    {
     "name": "stdout",
     "output_type": "stream",
     "text": [
      "Epoch 345/500:  69%|████████████████████████████████████████████████████████████████████████████████████████████▉                                          | 344/500 [06:33<03:01,  1.16s/it, loss=3.3e+03, v_num=1]"
     ]
    },
    {
     "name": "stderr",
     "output_type": "stream",
     "text": [
      " UserWarning:/home/atac2rna/anaconda3/envs/atac2rna/lib/python3.9/site-packages/scvi/distributions/_negative_binomial.py:482: The value argument must be within the support of the distribution\n",
      " UserWarning:/home/atac2rna/anaconda3/envs/atac2rna/lib/python3.9/site-packages/scvi/distributions/_negative_binomial.py:482: The value argument must be within the support of the distribution\n"
     ]
    },
    {
     "name": "stdout",
     "output_type": "stream",
     "text": [
      "Epoch 346/500:  69%|████████████████████████████████████████████████████████████████████████████████████████████▍                                         | 345/500 [06:34<03:00,  1.16s/it, loss=3.26e+03, v_num=1]"
     ]
    },
    {
     "name": "stderr",
     "output_type": "stream",
     "text": [
      " UserWarning:/home/atac2rna/anaconda3/envs/atac2rna/lib/python3.9/site-packages/scvi/distributions/_negative_binomial.py:482: The value argument must be within the support of the distribution\n",
      " UserWarning:/home/atac2rna/anaconda3/envs/atac2rna/lib/python3.9/site-packages/scvi/distributions/_negative_binomial.py:482: The value argument must be within the support of the distribution\n"
     ]
    },
    {
     "name": "stdout",
     "output_type": "stream",
     "text": [
      "Epoch 347/500:  69%|████████████████████████████████████████████████████████████████████████████████████████████▋                                         | 346/500 [06:35<02:59,  1.17s/it, loss=3.28e+03, v_num=1]"
     ]
    },
    {
     "name": "stderr",
     "output_type": "stream",
     "text": [
      " UserWarning:/home/atac2rna/anaconda3/envs/atac2rna/lib/python3.9/site-packages/scvi/distributions/_negative_binomial.py:482: The value argument must be within the support of the distribution\n",
      " UserWarning:/home/atac2rna/anaconda3/envs/atac2rna/lib/python3.9/site-packages/scvi/distributions/_negative_binomial.py:482: The value argument must be within the support of the distribution\n"
     ]
    },
    {
     "name": "stdout",
     "output_type": "stream",
     "text": [
      "Epoch 348/500:  69%|████████████████████████████████████████████████████████████████████████████████████████████▉                                         | 347/500 [06:36<02:57,  1.16s/it, loss=3.24e+03, v_num=1]"
     ]
    },
    {
     "name": "stderr",
     "output_type": "stream",
     "text": [
      " UserWarning:/home/atac2rna/anaconda3/envs/atac2rna/lib/python3.9/site-packages/scvi/distributions/_negative_binomial.py:482: The value argument must be within the support of the distribution\n",
      " UserWarning:/home/atac2rna/anaconda3/envs/atac2rna/lib/python3.9/site-packages/scvi/distributions/_negative_binomial.py:482: The value argument must be within the support of the distribution\n"
     ]
    },
    {
     "name": "stdout",
     "output_type": "stream",
     "text": [
      "Epoch 349/500:  70%|█████████████████████████████████████████████████████████████████████████████████████████████▎                                        | 348/500 [06:37<02:55,  1.15s/it, loss=3.25e+03, v_num=1]"
     ]
    },
    {
     "name": "stderr",
     "output_type": "stream",
     "text": [
      " UserWarning:/home/atac2rna/anaconda3/envs/atac2rna/lib/python3.9/site-packages/scvi/distributions/_negative_binomial.py:482: The value argument must be within the support of the distribution\n",
      " UserWarning:/home/atac2rna/anaconda3/envs/atac2rna/lib/python3.9/site-packages/scvi/distributions/_negative_binomial.py:482: The value argument must be within the support of the distribution\n"
     ]
    },
    {
     "name": "stdout",
     "output_type": "stream",
     "text": [
      "Epoch 350/500:  70%|█████████████████████████████████████████████████████████████████████████████████████████████▌                                        | 349/500 [06:39<02:53,  1.15s/it, loss=3.26e+03, v_num=1]"
     ]
    },
    {
     "name": "stderr",
     "output_type": "stream",
     "text": [
      " UserWarning:/home/atac2rna/anaconda3/envs/atac2rna/lib/python3.9/site-packages/scvi/distributions/_negative_binomial.py:482: The value argument must be within the support of the distribution\n",
      " UserWarning:/home/atac2rna/anaconda3/envs/atac2rna/lib/python3.9/site-packages/scvi/distributions/_negative_binomial.py:482: The value argument must be within the support of the distribution\n"
     ]
    },
    {
     "name": "stdout",
     "output_type": "stream",
     "text": [
      "Epoch 351/500:  70%|█████████████████████████████████████████████████████████████████████████████████████████████▊                                        | 350/500 [06:40<02:50,  1.13s/it, loss=3.23e+03, v_num=1]"
     ]
    },
    {
     "name": "stderr",
     "output_type": "stream",
     "text": [
      " UserWarning:/home/atac2rna/anaconda3/envs/atac2rna/lib/python3.9/site-packages/scvi/distributions/_negative_binomial.py:482: The value argument must be within the support of the distribution\n",
      " UserWarning:/home/atac2rna/anaconda3/envs/atac2rna/lib/python3.9/site-packages/scvi/distributions/_negative_binomial.py:482: The value argument must be within the support of the distribution\n"
     ]
    },
    {
     "name": "stdout",
     "output_type": "stream",
     "text": [
      "Epoch 352/500:  70%|██████████████████████████████████████████████████████████████████████████████████████████████                                        | 351/500 [06:41<02:49,  1.14s/it, loss=3.25e+03, v_num=1]"
     ]
    },
    {
     "name": "stderr",
     "output_type": "stream",
     "text": [
      " UserWarning:/home/atac2rna/anaconda3/envs/atac2rna/lib/python3.9/site-packages/scvi/distributions/_negative_binomial.py:482: The value argument must be within the support of the distribution\n",
      " UserWarning:/home/atac2rna/anaconda3/envs/atac2rna/lib/python3.9/site-packages/scvi/distributions/_negative_binomial.py:482: The value argument must be within the support of the distribution\n"
     ]
    },
    {
     "name": "stdout",
     "output_type": "stream",
     "text": [
      "Epoch 353/500:  70%|██████████████████████████████████████████████████████████████████████████████████████████████▎                                       | 352/500 [06:42<02:48,  1.14s/it, loss=3.22e+03, v_num=1]"
     ]
    },
    {
     "name": "stderr",
     "output_type": "stream",
     "text": [
      " UserWarning:/home/atac2rna/anaconda3/envs/atac2rna/lib/python3.9/site-packages/scvi/distributions/_negative_binomial.py:482: The value argument must be within the support of the distribution\n",
      " UserWarning:/home/atac2rna/anaconda3/envs/atac2rna/lib/python3.9/site-packages/scvi/distributions/_negative_binomial.py:482: The value argument must be within the support of the distribution\n"
     ]
    },
    {
     "name": "stdout",
     "output_type": "stream",
     "text": [
      "Epoch 354/500:  71%|██████████████████████████████████████████████████████████████████████████████████████████████▌                                       | 353/500 [06:43<02:45,  1.13s/it, loss=3.22e+03, v_num=1]"
     ]
    },
    {
     "name": "stderr",
     "output_type": "stream",
     "text": [
      " UserWarning:/home/atac2rna/anaconda3/envs/atac2rna/lib/python3.9/site-packages/scvi/distributions/_negative_binomial.py:482: The value argument must be within the support of the distribution\n",
      " UserWarning:/home/atac2rna/anaconda3/envs/atac2rna/lib/python3.9/site-packages/scvi/distributions/_negative_binomial.py:482: The value argument must be within the support of the distribution\n"
     ]
    },
    {
     "name": "stdout",
     "output_type": "stream",
     "text": [
      "Epoch 355/500:  71%|██████████████████████████████████████████████████████████████████████████████████████████████▊                                       | 354/500 [06:44<02:45,  1.13s/it, loss=3.23e+03, v_num=1]"
     ]
    },
    {
     "name": "stderr",
     "output_type": "stream",
     "text": [
      " UserWarning:/home/atac2rna/anaconda3/envs/atac2rna/lib/python3.9/site-packages/scvi/distributions/_negative_binomial.py:482: The value argument must be within the support of the distribution\n",
      " UserWarning:/home/atac2rna/anaconda3/envs/atac2rna/lib/python3.9/site-packages/scvi/distributions/_negative_binomial.py:482: The value argument must be within the support of the distribution\n"
     ]
    },
    {
     "name": "stdout",
     "output_type": "stream",
     "text": [
      "Epoch 356/500:  71%|███████████████████████████████████████████████████████████████████████████████████████████████▏                                      | 355/500 [06:45<02:43,  1.13s/it, loss=3.22e+03, v_num=1]"
     ]
    },
    {
     "name": "stderr",
     "output_type": "stream",
     "text": [
      " UserWarning:/home/atac2rna/anaconda3/envs/atac2rna/lib/python3.9/site-packages/scvi/distributions/_negative_binomial.py:482: The value argument must be within the support of the distribution\n",
      " UserWarning:/home/atac2rna/anaconda3/envs/atac2rna/lib/python3.9/site-packages/scvi/distributions/_negative_binomial.py:482: The value argument must be within the support of the distribution\n"
     ]
    },
    {
     "name": "stdout",
     "output_type": "stream",
     "text": [
      "Epoch 357/500:  71%|███████████████████████████████████████████████████████████████████████████████████████████████▍                                      | 356/500 [06:47<02:43,  1.13s/it, loss=3.21e+03, v_num=1]"
     ]
    },
    {
     "name": "stderr",
     "output_type": "stream",
     "text": [
      " UserWarning:/home/atac2rna/anaconda3/envs/atac2rna/lib/python3.9/site-packages/scvi/distributions/_negative_binomial.py:482: The value argument must be within the support of the distribution\n",
      " UserWarning:/home/atac2rna/anaconda3/envs/atac2rna/lib/python3.9/site-packages/scvi/distributions/_negative_binomial.py:482: The value argument must be within the support of the distribution\n"
     ]
    },
    {
     "name": "stdout",
     "output_type": "stream",
     "text": [
      "Epoch 358/500:  71%|███████████████████████████████████████████████████████████████████████████████████████████████▋                                      | 357/500 [06:48<02:41,  1.13s/it, loss=3.23e+03, v_num=1]"
     ]
    },
    {
     "name": "stderr",
     "output_type": "stream",
     "text": [
      " UserWarning:/home/atac2rna/anaconda3/envs/atac2rna/lib/python3.9/site-packages/scvi/distributions/_negative_binomial.py:482: The value argument must be within the support of the distribution\n",
      " UserWarning:/home/atac2rna/anaconda3/envs/atac2rna/lib/python3.9/site-packages/scvi/distributions/_negative_binomial.py:482: The value argument must be within the support of the distribution\n"
     ]
    },
    {
     "name": "stdout",
     "output_type": "stream",
     "text": [
      "Epoch 359/500:  72%|███████████████████████████████████████████████████████████████████████████████████████████████▉                                      | 358/500 [06:49<02:40,  1.13s/it, loss=3.19e+03, v_num=1]"
     ]
    },
    {
     "name": "stderr",
     "output_type": "stream",
     "text": [
      " UserWarning:/home/atac2rna/anaconda3/envs/atac2rna/lib/python3.9/site-packages/scvi/distributions/_negative_binomial.py:482: The value argument must be within the support of the distribution\n",
      " UserWarning:/home/atac2rna/anaconda3/envs/atac2rna/lib/python3.9/site-packages/scvi/distributions/_negative_binomial.py:482: The value argument must be within the support of the distribution\n"
     ]
    },
    {
     "name": "stdout",
     "output_type": "stream",
     "text": [
      "Epoch 360/500:  72%|████████████████████████████████████████████████████████████████████████████████████████████████▏                                     | 359/500 [06:50<02:39,  1.13s/it, loss=3.21e+03, v_num=1]"
     ]
    },
    {
     "name": "stderr",
     "output_type": "stream",
     "text": [
      " UserWarning:/home/atac2rna/anaconda3/envs/atac2rna/lib/python3.9/site-packages/scvi/distributions/_negative_binomial.py:482: The value argument must be within the support of the distribution\n",
      " UserWarning:/home/atac2rna/anaconda3/envs/atac2rna/lib/python3.9/site-packages/scvi/distributions/_negative_binomial.py:482: The value argument must be within the support of the distribution\n"
     ]
    },
    {
     "name": "stdout",
     "output_type": "stream",
     "text": [
      "Epoch 361/500:  72%|█████████████████████████████████████████████████████████████████████████████████████████████████▏                                     | 360/500 [06:51<02:39,  1.14s/it, loss=3.2e+03, v_num=1]"
     ]
    },
    {
     "name": "stderr",
     "output_type": "stream",
     "text": [
      " UserWarning:/home/atac2rna/anaconda3/envs/atac2rna/lib/python3.9/site-packages/scvi/distributions/_negative_binomial.py:482: The value argument must be within the support of the distribution\n",
      " UserWarning:/home/atac2rna/anaconda3/envs/atac2rna/lib/python3.9/site-packages/scvi/distributions/_negative_binomial.py:482: The value argument must be within the support of the distribution\n"
     ]
    },
    {
     "name": "stdout",
     "output_type": "stream",
     "text": [
      "Epoch 362/500:  72%|████████████████████████████████████████████████████████████████████████████████████████████████▋                                     | 361/500 [06:52<02:38,  1.14s/it, loss=3.19e+03, v_num=1]"
     ]
    },
    {
     "name": "stderr",
     "output_type": "stream",
     "text": [
      " UserWarning:/home/atac2rna/anaconda3/envs/atac2rna/lib/python3.9/site-packages/scvi/distributions/_negative_binomial.py:482: The value argument must be within the support of the distribution\n",
      " UserWarning:/home/atac2rna/anaconda3/envs/atac2rna/lib/python3.9/site-packages/scvi/distributions/_negative_binomial.py:482: The value argument must be within the support of the distribution\n"
     ]
    },
    {
     "name": "stdout",
     "output_type": "stream",
     "text": [
      "Epoch 363/500:  72%|█████████████████████████████████████████████████████████████████████████████████████████████████                                     | 362/500 [06:53<02:38,  1.15s/it, loss=3.22e+03, v_num=1]"
     ]
    },
    {
     "name": "stderr",
     "output_type": "stream",
     "text": [
      " UserWarning:/home/atac2rna/anaconda3/envs/atac2rna/lib/python3.9/site-packages/scvi/distributions/_negative_binomial.py:482: The value argument must be within the support of the distribution\n",
      " UserWarning:/home/atac2rna/anaconda3/envs/atac2rna/lib/python3.9/site-packages/scvi/distributions/_negative_binomial.py:482: The value argument must be within the support of the distribution\n"
     ]
    },
    {
     "name": "stdout",
     "output_type": "stream",
     "text": [
      "Epoch 364/500:  73%|█████████████████████████████████████████████████████████████████████████████████████████████████▎                                    | 363/500 [06:55<02:37,  1.15s/it, loss=3.18e+03, v_num=1]"
     ]
    },
    {
     "name": "stderr",
     "output_type": "stream",
     "text": [
      " UserWarning:/home/atac2rna/anaconda3/envs/atac2rna/lib/python3.9/site-packages/scvi/distributions/_negative_binomial.py:482: The value argument must be within the support of the distribution\n",
      " UserWarning:/home/atac2rna/anaconda3/envs/atac2rna/lib/python3.9/site-packages/scvi/distributions/_negative_binomial.py:482: The value argument must be within the support of the distribution\n"
     ]
    },
    {
     "name": "stdout",
     "output_type": "stream",
     "text": [
      "Epoch 365/500:  73%|█████████████████████████████████████████████████████████████████████████████████████████████████▌                                    | 364/500 [06:56<02:34,  1.14s/it, loss=3.18e+03, v_num=1]"
     ]
    },
    {
     "name": "stderr",
     "output_type": "stream",
     "text": [
      " UserWarning:/home/atac2rna/anaconda3/envs/atac2rna/lib/python3.9/site-packages/scvi/distributions/_negative_binomial.py:482: The value argument must be within the support of the distribution\n",
      " UserWarning:/home/atac2rna/anaconda3/envs/atac2rna/lib/python3.9/site-packages/scvi/distributions/_negative_binomial.py:482: The value argument must be within the support of the distribution\n"
     ]
    },
    {
     "name": "stdout",
     "output_type": "stream",
     "text": [
      "Epoch 366/500:  73%|█████████████████████████████████████████████████████████████████████████████████████████████████▊                                    | 365/500 [06:57<02:34,  1.14s/it, loss=3.19e+03, v_num=1]"
     ]
    },
    {
     "name": "stderr",
     "output_type": "stream",
     "text": [
      " UserWarning:/home/atac2rna/anaconda3/envs/atac2rna/lib/python3.9/site-packages/scvi/distributions/_negative_binomial.py:482: The value argument must be within the support of the distribution\n",
      " UserWarning:/home/atac2rna/anaconda3/envs/atac2rna/lib/python3.9/site-packages/scvi/distributions/_negative_binomial.py:482: The value argument must be within the support of the distribution\n"
     ]
    },
    {
     "name": "stdout",
     "output_type": "stream",
     "text": [
      "Epoch 367/500:  73%|██████████████████████████████████████████████████████████████████████████████████████████████████                                    | 366/500 [06:58<02:34,  1.15s/it, loss=3.17e+03, v_num=1]"
     ]
    },
    {
     "name": "stderr",
     "output_type": "stream",
     "text": [
      " UserWarning:/home/atac2rna/anaconda3/envs/atac2rna/lib/python3.9/site-packages/scvi/distributions/_negative_binomial.py:482: The value argument must be within the support of the distribution\n",
      " UserWarning:/home/atac2rna/anaconda3/envs/atac2rna/lib/python3.9/site-packages/scvi/distributions/_negative_binomial.py:482: The value argument must be within the support of the distribution\n"
     ]
    },
    {
     "name": "stdout",
     "output_type": "stream",
     "text": [
      "Epoch 368/500:  73%|██████████████████████████████████████████████████████████████████████████████████████████████████▎                                   | 367/500 [06:59<02:32,  1.15s/it, loss=3.18e+03, v_num=1]"
     ]
    },
    {
     "name": "stderr",
     "output_type": "stream",
     "text": [
      " UserWarning:/home/atac2rna/anaconda3/envs/atac2rna/lib/python3.9/site-packages/scvi/distributions/_negative_binomial.py:482: The value argument must be within the support of the distribution\n",
      " UserWarning:/home/atac2rna/anaconda3/envs/atac2rna/lib/python3.9/site-packages/scvi/distributions/_negative_binomial.py:482: The value argument must be within the support of the distribution\n"
     ]
    },
    {
     "name": "stdout",
     "output_type": "stream",
     "text": [
      "Epoch 369/500:  74%|██████████████████████████████████████████████████████████████████████████████████████████████████▌                                   | 368/500 [07:00<02:31,  1.14s/it, loss=3.14e+03, v_num=1]"
     ]
    },
    {
     "name": "stderr",
     "output_type": "stream",
     "text": [
      " UserWarning:/home/atac2rna/anaconda3/envs/atac2rna/lib/python3.9/site-packages/scvi/distributions/_negative_binomial.py:482: The value argument must be within the support of the distribution\n",
      " UserWarning:/home/atac2rna/anaconda3/envs/atac2rna/lib/python3.9/site-packages/scvi/distributions/_negative_binomial.py:482: The value argument must be within the support of the distribution\n"
     ]
    },
    {
     "name": "stdout",
     "output_type": "stream",
     "text": [
      "Epoch 370/500:  74%|██████████████████████████████████████████████████████████████████████████████████████████████████▉                                   | 369/500 [07:01<02:30,  1.15s/it, loss=3.16e+03, v_num=1]"
     ]
    },
    {
     "name": "stderr",
     "output_type": "stream",
     "text": [
      " UserWarning:/home/atac2rna/anaconda3/envs/atac2rna/lib/python3.9/site-packages/scvi/distributions/_negative_binomial.py:482: The value argument must be within the support of the distribution\n",
      " UserWarning:/home/atac2rna/anaconda3/envs/atac2rna/lib/python3.9/site-packages/scvi/distributions/_negative_binomial.py:482: The value argument must be within the support of the distribution\n"
     ]
    },
    {
     "name": "stdout",
     "output_type": "stream",
     "text": [
      "Epoch 371/500:  74%|███████████████████████████████████████████████████████████████████████████████████████████████████▏                                  | 370/500 [07:03<02:29,  1.15s/it, loss=3.15e+03, v_num=1]"
     ]
    },
    {
     "name": "stderr",
     "output_type": "stream",
     "text": [
      " UserWarning:/home/atac2rna/anaconda3/envs/atac2rna/lib/python3.9/site-packages/scvi/distributions/_negative_binomial.py:482: The value argument must be within the support of the distribution\n",
      " UserWarning:/home/atac2rna/anaconda3/envs/atac2rna/lib/python3.9/site-packages/scvi/distributions/_negative_binomial.py:482: The value argument must be within the support of the distribution\n"
     ]
    },
    {
     "name": "stdout",
     "output_type": "stream",
     "text": [
      "Epoch 372/500:  74%|███████████████████████████████████████████████████████████████████████████████████████████████████▍                                  | 371/500 [07:04<02:28,  1.15s/it, loss=3.15e+03, v_num=1]"
     ]
    },
    {
     "name": "stderr",
     "output_type": "stream",
     "text": [
      " UserWarning:/home/atac2rna/anaconda3/envs/atac2rna/lib/python3.9/site-packages/scvi/distributions/_negative_binomial.py:482: The value argument must be within the support of the distribution\n",
      " UserWarning:/home/atac2rna/anaconda3/envs/atac2rna/lib/python3.9/site-packages/scvi/distributions/_negative_binomial.py:482: The value argument must be within the support of the distribution\n"
     ]
    },
    {
     "name": "stdout",
     "output_type": "stream",
     "text": [
      "Epoch 373/500:  74%|███████████████████████████████████████████████████████████████████████████████████████████████████▋                                  | 372/500 [07:05<02:27,  1.15s/it, loss=3.15e+03, v_num=1]"
     ]
    },
    {
     "name": "stderr",
     "output_type": "stream",
     "text": [
      " UserWarning:/home/atac2rna/anaconda3/envs/atac2rna/lib/python3.9/site-packages/scvi/distributions/_negative_binomial.py:482: The value argument must be within the support of the distribution\n",
      " UserWarning:/home/atac2rna/anaconda3/envs/atac2rna/lib/python3.9/site-packages/scvi/distributions/_negative_binomial.py:482: The value argument must be within the support of the distribution\n"
     ]
    },
    {
     "name": "stdout",
     "output_type": "stream",
     "text": [
      "Epoch 374/500:  75%|███████████████████████████████████████████████████████████████████████████████████████████████████▉                                  | 373/500 [07:06<02:26,  1.15s/it, loss=3.13e+03, v_num=1]"
     ]
    },
    {
     "name": "stderr",
     "output_type": "stream",
     "text": [
      " UserWarning:/home/atac2rna/anaconda3/envs/atac2rna/lib/python3.9/site-packages/scvi/distributions/_negative_binomial.py:482: The value argument must be within the support of the distribution\n",
      " UserWarning:/home/atac2rna/anaconda3/envs/atac2rna/lib/python3.9/site-packages/scvi/distributions/_negative_binomial.py:482: The value argument must be within the support of the distribution\n"
     ]
    },
    {
     "name": "stdout",
     "output_type": "stream",
     "text": [
      "Epoch 375/500:  75%|████████████████████████████████████████████████████████████████████████████████████████████████████▏                                 | 374/500 [07:07<02:24,  1.15s/it, loss=3.14e+03, v_num=1]"
     ]
    },
    {
     "name": "stderr",
     "output_type": "stream",
     "text": [
      " UserWarning:/home/atac2rna/anaconda3/envs/atac2rna/lib/python3.9/site-packages/scvi/distributions/_negative_binomial.py:482: The value argument must be within the support of the distribution\n",
      " UserWarning:/home/atac2rna/anaconda3/envs/atac2rna/lib/python3.9/site-packages/scvi/distributions/_negative_binomial.py:482: The value argument must be within the support of the distribution\n"
     ]
    },
    {
     "name": "stdout",
     "output_type": "stream",
     "text": [
      "Epoch 376/500:  75%|████████████████████████████████████████████████████████████████████████████████████████████████████▌                                 | 375/500 [07:08<02:23,  1.15s/it, loss=3.11e+03, v_num=1]"
     ]
    },
    {
     "name": "stderr",
     "output_type": "stream",
     "text": [
      " UserWarning:/home/atac2rna/anaconda3/envs/atac2rna/lib/python3.9/site-packages/scvi/distributions/_negative_binomial.py:482: The value argument must be within the support of the distribution\n",
      " UserWarning:/home/atac2rna/anaconda3/envs/atac2rna/lib/python3.9/site-packages/scvi/distributions/_negative_binomial.py:482: The value argument must be within the support of the distribution\n"
     ]
    },
    {
     "name": "stdout",
     "output_type": "stream",
     "text": [
      "Epoch 377/500:  75%|████████████████████████████████████████████████████████████████████████████████████████████████████▊                                 | 376/500 [07:09<02:22,  1.15s/it, loss=3.13e+03, v_num=1]"
     ]
    },
    {
     "name": "stderr",
     "output_type": "stream",
     "text": [
      " UserWarning:/home/atac2rna/anaconda3/envs/atac2rna/lib/python3.9/site-packages/scvi/distributions/_negative_binomial.py:482: The value argument must be within the support of the distribution\n",
      " UserWarning:/home/atac2rna/anaconda3/envs/atac2rna/lib/python3.9/site-packages/scvi/distributions/_negative_binomial.py:482: The value argument must be within the support of the distribution\n"
     ]
    },
    {
     "name": "stdout",
     "output_type": "stream",
     "text": [
      "Epoch 378/500:  75%|█████████████████████████████████████████████████████████████████████████████████████████████████████▊                                 | 377/500 [07:11<02:21,  1.15s/it, loss=3.1e+03, v_num=1]"
     ]
    },
    {
     "name": "stderr",
     "output_type": "stream",
     "text": [
      " UserWarning:/home/atac2rna/anaconda3/envs/atac2rna/lib/python3.9/site-packages/scvi/distributions/_negative_binomial.py:482: The value argument must be within the support of the distribution\n",
      " UserWarning:/home/atac2rna/anaconda3/envs/atac2rna/lib/python3.9/site-packages/scvi/distributions/_negative_binomial.py:482: The value argument must be within the support of the distribution\n"
     ]
    },
    {
     "name": "stdout",
     "output_type": "stream",
     "text": [
      "Epoch 379/500:  76%|█████████████████████████████████████████████████████████████████████████████████████████████████████▎                                | 378/500 [07:12<02:20,  1.15s/it, loss=3.13e+03, v_num=1]"
     ]
    },
    {
     "name": "stderr",
     "output_type": "stream",
     "text": [
      " UserWarning:/home/atac2rna/anaconda3/envs/atac2rna/lib/python3.9/site-packages/scvi/distributions/_negative_binomial.py:482: The value argument must be within the support of the distribution\n",
      " UserWarning:/home/atac2rna/anaconda3/envs/atac2rna/lib/python3.9/site-packages/scvi/distributions/_negative_binomial.py:482: The value argument must be within the support of the distribution\n"
     ]
    },
    {
     "name": "stdout",
     "output_type": "stream",
     "text": [
      "Epoch 380/500:  76%|█████████████████████████████████████████████████████████████████████████████████████████████████████▌                                | 379/500 [07:13<02:19,  1.16s/it, loss=3.11e+03, v_num=1]"
     ]
    },
    {
     "name": "stderr",
     "output_type": "stream",
     "text": [
      " UserWarning:/home/atac2rna/anaconda3/envs/atac2rna/lib/python3.9/site-packages/scvi/distributions/_negative_binomial.py:482: The value argument must be within the support of the distribution\n",
      " UserWarning:/home/atac2rna/anaconda3/envs/atac2rna/lib/python3.9/site-packages/scvi/distributions/_negative_binomial.py:482: The value argument must be within the support of the distribution\n"
     ]
    },
    {
     "name": "stdout",
     "output_type": "stream",
     "text": [
      "Epoch 381/500:  76%|█████████████████████████████████████████████████████████████████████████████████████████████████████▊                                | 380/500 [07:14<02:19,  1.16s/it, loss=3.11e+03, v_num=1]"
     ]
    },
    {
     "name": "stderr",
     "output_type": "stream",
     "text": [
      " UserWarning:/home/atac2rna/anaconda3/envs/atac2rna/lib/python3.9/site-packages/scvi/distributions/_negative_binomial.py:482: The value argument must be within the support of the distribution\n",
      " UserWarning:/home/atac2rna/anaconda3/envs/atac2rna/lib/python3.9/site-packages/scvi/distributions/_negative_binomial.py:482: The value argument must be within the support of the distribution\n"
     ]
    },
    {
     "name": "stdout",
     "output_type": "stream",
     "text": [
      "Epoch 382/500:  76%|██████████████████████████████████████████████████████████████████████████████████████████████████████                                | 381/500 [07:15<02:17,  1.15s/it, loss=3.09e+03, v_num=1]"
     ]
    },
    {
     "name": "stderr",
     "output_type": "stream",
     "text": [
      " UserWarning:/home/atac2rna/anaconda3/envs/atac2rna/lib/python3.9/site-packages/scvi/distributions/_negative_binomial.py:482: The value argument must be within the support of the distribution\n",
      " UserWarning:/home/atac2rna/anaconda3/envs/atac2rna/lib/python3.9/site-packages/scvi/distributions/_negative_binomial.py:482: The value argument must be within the support of the distribution\n"
     ]
    },
    {
     "name": "stdout",
     "output_type": "stream",
     "text": [
      "Epoch 383/500:  76%|██████████████████████████████████████████████████████████████████████████████████████████████████████▍                               | 382/500 [07:16<02:15,  1.15s/it, loss=3.07e+03, v_num=1]"
     ]
    },
    {
     "name": "stderr",
     "output_type": "stream",
     "text": [
      " UserWarning:/home/atac2rna/anaconda3/envs/atac2rna/lib/python3.9/site-packages/scvi/distributions/_negative_binomial.py:482: The value argument must be within the support of the distribution\n",
      " UserWarning:/home/atac2rna/anaconda3/envs/atac2rna/lib/python3.9/site-packages/scvi/distributions/_negative_binomial.py:482: The value argument must be within the support of the distribution\n"
     ]
    },
    {
     "name": "stdout",
     "output_type": "stream",
     "text": [
      "Epoch 384/500:  77%|██████████████████████████████████████████████████████████████████████████████████████████████████████▋                               | 383/500 [07:18<02:14,  1.15s/it, loss=3.09e+03, v_num=1]"
     ]
    },
    {
     "name": "stderr",
     "output_type": "stream",
     "text": [
      " UserWarning:/home/atac2rna/anaconda3/envs/atac2rna/lib/python3.9/site-packages/scvi/distributions/_negative_binomial.py:482: The value argument must be within the support of the distribution\n",
      " UserWarning:/home/atac2rna/anaconda3/envs/atac2rna/lib/python3.9/site-packages/scvi/distributions/_negative_binomial.py:482: The value argument must be within the support of the distribution\n"
     ]
    },
    {
     "name": "stdout",
     "output_type": "stream",
     "text": [
      "Epoch 385/500:  77%|███████████████████████████████████████████████████████████████████████████████████████████████████████▋                               | 384/500 [07:19<02:13,  1.15s/it, loss=3.1e+03, v_num=1]"
     ]
    },
    {
     "name": "stderr",
     "output_type": "stream",
     "text": [
      " UserWarning:/home/atac2rna/anaconda3/envs/atac2rna/lib/python3.9/site-packages/scvi/distributions/_negative_binomial.py:482: The value argument must be within the support of the distribution\n",
      " UserWarning:/home/atac2rna/anaconda3/envs/atac2rna/lib/python3.9/site-packages/scvi/distributions/_negative_binomial.py:482: The value argument must be within the support of the distribution\n"
     ]
    },
    {
     "name": "stdout",
     "output_type": "stream",
     "text": [
      "Epoch 386/500:  77%|███████████████████████████████████████████████████████████████████████████████████████████████████████▏                              | 385/500 [07:20<02:12,  1.15s/it, loss=3.08e+03, v_num=1]"
     ]
    },
    {
     "name": "stderr",
     "output_type": "stream",
     "text": [
      " UserWarning:/home/atac2rna/anaconda3/envs/atac2rna/lib/python3.9/site-packages/scvi/distributions/_negative_binomial.py:482: The value argument must be within the support of the distribution\n",
      " UserWarning:/home/atac2rna/anaconda3/envs/atac2rna/lib/python3.9/site-packages/scvi/distributions/_negative_binomial.py:482: The value argument must be within the support of the distribution\n"
     ]
    },
    {
     "name": "stdout",
     "output_type": "stream",
     "text": [
      "Epoch 387/500:  77%|███████████████████████████████████████████████████████████████████████████████████████████████████████▍                              | 386/500 [07:21<02:11,  1.15s/it, loss=3.07e+03, v_num=1]"
     ]
    },
    {
     "name": "stderr",
     "output_type": "stream",
     "text": [
      " UserWarning:/home/atac2rna/anaconda3/envs/atac2rna/lib/python3.9/site-packages/scvi/distributions/_negative_binomial.py:482: The value argument must be within the support of the distribution\n",
      " UserWarning:/home/atac2rna/anaconda3/envs/atac2rna/lib/python3.9/site-packages/scvi/distributions/_negative_binomial.py:482: The value argument must be within the support of the distribution\n"
     ]
    },
    {
     "name": "stdout",
     "output_type": "stream",
     "text": [
      "Epoch 388/500:  77%|███████████████████████████████████████████████████████████████████████████████████████████████████████▋                              | 387/500 [07:22<02:09,  1.15s/it, loss=3.06e+03, v_num=1]"
     ]
    },
    {
     "name": "stderr",
     "output_type": "stream",
     "text": [
      " UserWarning:/home/atac2rna/anaconda3/envs/atac2rna/lib/python3.9/site-packages/scvi/distributions/_negative_binomial.py:482: The value argument must be within the support of the distribution\n",
      " UserWarning:/home/atac2rna/anaconda3/envs/atac2rna/lib/python3.9/site-packages/scvi/distributions/_negative_binomial.py:482: The value argument must be within the support of the distribution\n"
     ]
    },
    {
     "name": "stdout",
     "output_type": "stream",
     "text": [
      "Epoch 389/500:  78%|███████████████████████████████████████████████████████████████████████████████████████████████████████▉                              | 388/500 [07:23<02:07,  1.14s/it, loss=3.06e+03, v_num=1]"
     ]
    },
    {
     "name": "stderr",
     "output_type": "stream",
     "text": [
      " UserWarning:/home/atac2rna/anaconda3/envs/atac2rna/lib/python3.9/site-packages/scvi/distributions/_negative_binomial.py:482: The value argument must be within the support of the distribution\n",
      " UserWarning:/home/atac2rna/anaconda3/envs/atac2rna/lib/python3.9/site-packages/scvi/distributions/_negative_binomial.py:482: The value argument must be within the support of the distribution\n"
     ]
    },
    {
     "name": "stdout",
     "output_type": "stream",
     "text": [
      "Epoch 390/500:  78%|████████████████████████████████████████████████████████████████████████████████████████████████████████▎                             | 389/500 [07:24<02:06,  1.14s/it, loss=3.05e+03, v_num=1]"
     ]
    },
    {
     "name": "stderr",
     "output_type": "stream",
     "text": [
      " UserWarning:/home/atac2rna/anaconda3/envs/atac2rna/lib/python3.9/site-packages/scvi/distributions/_negative_binomial.py:482: The value argument must be within the support of the distribution\n",
      " UserWarning:/home/atac2rna/anaconda3/envs/atac2rna/lib/python3.9/site-packages/scvi/distributions/_negative_binomial.py:482: The value argument must be within the support of the distribution\n"
     ]
    },
    {
     "name": "stdout",
     "output_type": "stream",
     "text": [
      "Epoch 391/500:  78%|████████████████████████████████████████████████████████████████████████████████████████████████████████▌                             | 390/500 [07:26<02:06,  1.15s/it, loss=3.05e+03, v_num=1]"
     ]
    },
    {
     "name": "stderr",
     "output_type": "stream",
     "text": [
      " UserWarning:/home/atac2rna/anaconda3/envs/atac2rna/lib/python3.9/site-packages/scvi/distributions/_negative_binomial.py:482: The value argument must be within the support of the distribution\n",
      " UserWarning:/home/atac2rna/anaconda3/envs/atac2rna/lib/python3.9/site-packages/scvi/distributions/_negative_binomial.py:482: The value argument must be within the support of the distribution\n"
     ]
    },
    {
     "name": "stdout",
     "output_type": "stream",
     "text": [
      "Epoch 392/500:  78%|████████████████████████████████████████████████████████████████████████████████████████████████████████▊                             | 391/500 [07:27<02:04,  1.15s/it, loss=3.04e+03, v_num=1]"
     ]
    },
    {
     "name": "stderr",
     "output_type": "stream",
     "text": [
      " UserWarning:/home/atac2rna/anaconda3/envs/atac2rna/lib/python3.9/site-packages/scvi/distributions/_negative_binomial.py:482: The value argument must be within the support of the distribution\n",
      " UserWarning:/home/atac2rna/anaconda3/envs/atac2rna/lib/python3.9/site-packages/scvi/distributions/_negative_binomial.py:482: The value argument must be within the support of the distribution\n"
     ]
    },
    {
     "name": "stdout",
     "output_type": "stream",
     "text": [
      "Epoch 393/500:  78%|█████████████████████████████████████████████████████████████████████████████████████████████████████████                             | 392/500 [07:28<02:04,  1.15s/it, loss=3.06e+03, v_num=1]"
     ]
    },
    {
     "name": "stderr",
     "output_type": "stream",
     "text": [
      " UserWarning:/home/atac2rna/anaconda3/envs/atac2rna/lib/python3.9/site-packages/scvi/distributions/_negative_binomial.py:482: The value argument must be within the support of the distribution\n",
      " UserWarning:/home/atac2rna/anaconda3/envs/atac2rna/lib/python3.9/site-packages/scvi/distributions/_negative_binomial.py:482: The value argument must be within the support of the distribution\n"
     ]
    },
    {
     "name": "stdout",
     "output_type": "stream",
     "text": [
      "Epoch 394/500:  79%|█████████████████████████████████████████████████████████████████████████████████████████████████████████▎                            | 393/500 [07:29<02:03,  1.15s/it, loss=3.05e+03, v_num=1]"
     ]
    },
    {
     "name": "stderr",
     "output_type": "stream",
     "text": [
      " UserWarning:/home/atac2rna/anaconda3/envs/atac2rna/lib/python3.9/site-packages/scvi/distributions/_negative_binomial.py:482: The value argument must be within the support of the distribution\n",
      " UserWarning:/home/atac2rna/anaconda3/envs/atac2rna/lib/python3.9/site-packages/scvi/distributions/_negative_binomial.py:482: The value argument must be within the support of the distribution\n"
     ]
    },
    {
     "name": "stdout",
     "output_type": "stream",
     "text": [
      "Epoch 395/500:  79%|█████████████████████████████████████████████████████████████████████████████████████████████████████████▌                            | 394/500 [07:30<02:01,  1.14s/it, loss=3.02e+03, v_num=1]"
     ]
    },
    {
     "name": "stderr",
     "output_type": "stream",
     "text": [
      " UserWarning:/home/atac2rna/anaconda3/envs/atac2rna/lib/python3.9/site-packages/scvi/distributions/_negative_binomial.py:482: The value argument must be within the support of the distribution\n",
      " UserWarning:/home/atac2rna/anaconda3/envs/atac2rna/lib/python3.9/site-packages/scvi/distributions/_negative_binomial.py:482: The value argument must be within the support of the distribution\n"
     ]
    },
    {
     "name": "stdout",
     "output_type": "stream",
     "text": [
      "Epoch 396/500:  79%|█████████████████████████████████████████████████████████████████████████████████████████████████████████▊                            | 395/500 [07:31<01:59,  1.14s/it, loss=3.02e+03, v_num=1]"
     ]
    },
    {
     "name": "stderr",
     "output_type": "stream",
     "text": [
      " UserWarning:/home/atac2rna/anaconda3/envs/atac2rna/lib/python3.9/site-packages/scvi/distributions/_negative_binomial.py:482: The value argument must be within the support of the distribution\n",
      " UserWarning:/home/atac2rna/anaconda3/envs/atac2rna/lib/python3.9/site-packages/scvi/distributions/_negative_binomial.py:482: The value argument must be within the support of the distribution\n"
     ]
    },
    {
     "name": "stdout",
     "output_type": "stream",
     "text": [
      "Epoch 397/500:  79%|██████████████████████████████████████████████████████████████████████████████████████████████████████████▏                           | 396/500 [07:32<01:59,  1.15s/it, loss=3.01e+03, v_num=1]"
     ]
    },
    {
     "name": "stderr",
     "output_type": "stream",
     "text": [
      " UserWarning:/home/atac2rna/anaconda3/envs/atac2rna/lib/python3.9/site-packages/scvi/distributions/_negative_binomial.py:482: The value argument must be within the support of the distribution\n",
      " UserWarning:/home/atac2rna/anaconda3/envs/atac2rna/lib/python3.9/site-packages/scvi/distributions/_negative_binomial.py:482: The value argument must be within the support of the distribution\n"
     ]
    },
    {
     "name": "stdout",
     "output_type": "stream",
     "text": [
      "Epoch 398/500:  79%|██████████████████████████████████████████████████████████████████████████████████████████████████████████▍                           | 397/500 [07:34<01:59,  1.16s/it, loss=3.02e+03, v_num=1]"
     ]
    },
    {
     "name": "stderr",
     "output_type": "stream",
     "text": [
      " UserWarning:/home/atac2rna/anaconda3/envs/atac2rna/lib/python3.9/site-packages/scvi/distributions/_negative_binomial.py:482: The value argument must be within the support of the distribution\n",
      " UserWarning:/home/atac2rna/anaconda3/envs/atac2rna/lib/python3.9/site-packages/scvi/distributions/_negative_binomial.py:482: The value argument must be within the support of the distribution\n"
     ]
    },
    {
     "name": "stdout",
     "output_type": "stream",
     "text": [
      "Epoch 399/500:  80%|██████████████████████████████████████████████████████████████████████████████████████████████████████████▋                           | 398/500 [07:35<01:56,  1.14s/it, loss=3.01e+03, v_num=1]"
     ]
    },
    {
     "name": "stderr",
     "output_type": "stream",
     "text": [
      " UserWarning:/home/atac2rna/anaconda3/envs/atac2rna/lib/python3.9/site-packages/scvi/distributions/_negative_binomial.py:482: The value argument must be within the support of the distribution\n",
      " UserWarning:/home/atac2rna/anaconda3/envs/atac2rna/lib/python3.9/site-packages/scvi/distributions/_negative_binomial.py:482: The value argument must be within the support of the distribution\n"
     ]
    },
    {
     "name": "stdout",
     "output_type": "stream",
     "text": [
      "Epoch 400/500:  80%|██████████████████████████████████████████████████████████████████████████████████████████████████████████▉                           | 399/500 [07:36<01:55,  1.14s/it, loss=3.02e+03, v_num=1]"
     ]
    },
    {
     "name": "stderr",
     "output_type": "stream",
     "text": [
      " UserWarning:/home/atac2rna/anaconda3/envs/atac2rna/lib/python3.9/site-packages/scvi/distributions/_negative_binomial.py:482: The value argument must be within the support of the distribution\n",
      " UserWarning:/home/atac2rna/anaconda3/envs/atac2rna/lib/python3.9/site-packages/scvi/distributions/_negative_binomial.py:482: The value argument must be within the support of the distribution\n"
     ]
    },
    {
     "name": "stdout",
     "output_type": "stream",
     "text": [
      "Epoch 401/500:  80%|███████████████████████████████████████████████████████████████████████████████████████████████████████████▏                          | 400/500 [07:37<01:54,  1.15s/it, loss=3.02e+03, v_num=1]"
     ]
    },
    {
     "name": "stderr",
     "output_type": "stream",
     "text": [
      " UserWarning:/home/atac2rna/anaconda3/envs/atac2rna/lib/python3.9/site-packages/scvi/distributions/_negative_binomial.py:482: The value argument must be within the support of the distribution\n",
      " UserWarning:/home/atac2rna/anaconda3/envs/atac2rna/lib/python3.9/site-packages/scvi/distributions/_negative_binomial.py:482: The value argument must be within the support of the distribution\n"
     ]
    },
    {
     "name": "stdout",
     "output_type": "stream",
     "text": [
      "Epoch 402/500:  80%|█████████████████████████████████████████████████████████████████████████████████████████████████████████████▊                           | 401/500 [07:38<01:53,  1.15s/it, loss=3e+03, v_num=1]"
     ]
    },
    {
     "name": "stderr",
     "output_type": "stream",
     "text": [
      " UserWarning:/home/atac2rna/anaconda3/envs/atac2rna/lib/python3.9/site-packages/scvi/distributions/_negative_binomial.py:482: The value argument must be within the support of the distribution\n",
      " UserWarning:/home/atac2rna/anaconda3/envs/atac2rna/lib/python3.9/site-packages/scvi/distributions/_negative_binomial.py:482: The value argument must be within the support of the distribution\n"
     ]
    },
    {
     "name": "stdout",
     "output_type": "stream",
     "text": [
      "Epoch 403/500:  80%|███████████████████████████████████████████████████████████████████████████████████████████████████████████▋                          | 402/500 [07:39<01:51,  1.14s/it, loss=3.01e+03, v_num=1]"
     ]
    },
    {
     "name": "stderr",
     "output_type": "stream",
     "text": [
      " UserWarning:/home/atac2rna/anaconda3/envs/atac2rna/lib/python3.9/site-packages/scvi/distributions/_negative_binomial.py:482: The value argument must be within the support of the distribution\n",
      " UserWarning:/home/atac2rna/anaconda3/envs/atac2rna/lib/python3.9/site-packages/scvi/distributions/_negative_binomial.py:482: The value argument must be within the support of the distribution\n"
     ]
    },
    {
     "name": "stdout",
     "output_type": "stream",
     "text": [
      "Epoch 404/500:  81%|████████████████████████████████████████████████████████████████████████████████████████████████████████████                          | 403/500 [07:40<01:51,  1.14s/it, loss=2.97e+03, v_num=1]"
     ]
    },
    {
     "name": "stderr",
     "output_type": "stream",
     "text": [
      " UserWarning:/home/atac2rna/anaconda3/envs/atac2rna/lib/python3.9/site-packages/scvi/distributions/_negative_binomial.py:482: The value argument must be within the support of the distribution\n",
      " UserWarning:/home/atac2rna/anaconda3/envs/atac2rna/lib/python3.9/site-packages/scvi/distributions/_negative_binomial.py:482: The value argument must be within the support of the distribution\n"
     ]
    },
    {
     "name": "stdout",
     "output_type": "stream",
     "text": [
      "Epoch 405/500:  81%|████████████████████████████████████████████████████████████████████████████████████████████████████████████▎                         | 404/500 [07:42<01:49,  1.14s/it, loss=2.99e+03, v_num=1]"
     ]
    },
    {
     "name": "stderr",
     "output_type": "stream",
     "text": [
      " UserWarning:/home/atac2rna/anaconda3/envs/atac2rna/lib/python3.9/site-packages/scvi/distributions/_negative_binomial.py:482: The value argument must be within the support of the distribution\n",
      " UserWarning:/home/atac2rna/anaconda3/envs/atac2rna/lib/python3.9/site-packages/scvi/distributions/_negative_binomial.py:482: The value argument must be within the support of the distribution\n"
     ]
    },
    {
     "name": "stdout",
     "output_type": "stream",
     "text": [
      "Epoch 406/500:  81%|████████████████████████████████████████████████████████████████████████████████████████████████████████████▌                         | 405/500 [07:43<01:47,  1.14s/it, loss=2.99e+03, v_num=1]"
     ]
    },
    {
     "name": "stderr",
     "output_type": "stream",
     "text": [
      " UserWarning:/home/atac2rna/anaconda3/envs/atac2rna/lib/python3.9/site-packages/scvi/distributions/_negative_binomial.py:482: The value argument must be within the support of the distribution\n",
      " UserWarning:/home/atac2rna/anaconda3/envs/atac2rna/lib/python3.9/site-packages/scvi/distributions/_negative_binomial.py:482: The value argument must be within the support of the distribution\n"
     ]
    },
    {
     "name": "stdout",
     "output_type": "stream",
     "text": [
      "Epoch 407/500:  81%|████████████████████████████████████████████████████████████████████████████████████████████████████████████▊                         | 406/500 [07:44<01:47,  1.14s/it, loss=2.98e+03, v_num=1]"
     ]
    },
    {
     "name": "stderr",
     "output_type": "stream",
     "text": [
      " UserWarning:/home/atac2rna/anaconda3/envs/atac2rna/lib/python3.9/site-packages/scvi/distributions/_negative_binomial.py:482: The value argument must be within the support of the distribution\n",
      " UserWarning:/home/atac2rna/anaconda3/envs/atac2rna/lib/python3.9/site-packages/scvi/distributions/_negative_binomial.py:482: The value argument must be within the support of the distribution\n"
     ]
    },
    {
     "name": "stdout",
     "output_type": "stream",
     "text": [
      "Epoch 408/500:  81%|█████████████████████████████████████████████████████████████████████████████████████████████████████████████                         | 407/500 [07:45<01:46,  1.15s/it, loss=2.97e+03, v_num=1]"
     ]
    },
    {
     "name": "stderr",
     "output_type": "stream",
     "text": [
      " UserWarning:/home/atac2rna/anaconda3/envs/atac2rna/lib/python3.9/site-packages/scvi/distributions/_negative_binomial.py:482: The value argument must be within the support of the distribution\n",
      " UserWarning:/home/atac2rna/anaconda3/envs/atac2rna/lib/python3.9/site-packages/scvi/distributions/_negative_binomial.py:482: The value argument must be within the support of the distribution\n"
     ]
    },
    {
     "name": "stdout",
     "output_type": "stream",
     "text": [
      "Epoch 409/500:  82%|█████████████████████████████████████████████████████████████████████████████████████████████████████████████▎                        | 408/500 [07:46<01:44,  1.14s/it, loss=2.98e+03, v_num=1]"
     ]
    },
    {
     "name": "stderr",
     "output_type": "stream",
     "text": [
      " UserWarning:/home/atac2rna/anaconda3/envs/atac2rna/lib/python3.9/site-packages/scvi/distributions/_negative_binomial.py:482: The value argument must be within the support of the distribution\n",
      " UserWarning:/home/atac2rna/anaconda3/envs/atac2rna/lib/python3.9/site-packages/scvi/distributions/_negative_binomial.py:482: The value argument must be within the support of the distribution\n"
     ]
    },
    {
     "name": "stdout",
     "output_type": "stream",
     "text": [
      "Epoch 410/500:  82%|█████████████████████████████████████████████████████████████████████████████████████████████████████████████▌                        | 409/500 [07:47<01:43,  1.14s/it, loss=2.95e+03, v_num=1]"
     ]
    },
    {
     "name": "stderr",
     "output_type": "stream",
     "text": [
      " UserWarning:/home/atac2rna/anaconda3/envs/atac2rna/lib/python3.9/site-packages/scvi/distributions/_negative_binomial.py:482: The value argument must be within the support of the distribution\n",
      " UserWarning:/home/atac2rna/anaconda3/envs/atac2rna/lib/python3.9/site-packages/scvi/distributions/_negative_binomial.py:482: The value argument must be within the support of the distribution\n"
     ]
    },
    {
     "name": "stdout",
     "output_type": "stream",
     "text": [
      "Epoch 411/500:  82%|█████████████████████████████████████████████████████████████████████████████████████████████████████████████▉                        | 410/500 [07:48<01:43,  1.15s/it, loss=2.96e+03, v_num=1]"
     ]
    },
    {
     "name": "stderr",
     "output_type": "stream",
     "text": [
      " UserWarning:/home/atac2rna/anaconda3/envs/atac2rna/lib/python3.9/site-packages/scvi/distributions/_negative_binomial.py:482: The value argument must be within the support of the distribution\n",
      " UserWarning:/home/atac2rna/anaconda3/envs/atac2rna/lib/python3.9/site-packages/scvi/distributions/_negative_binomial.py:482: The value argument must be within the support of the distribution\n"
     ]
    },
    {
     "name": "stdout",
     "output_type": "stream",
     "text": [
      "Epoch 412/500:  82%|██████████████████████████████████████████████████████████████████████████████████████████████████████████████▏                       | 411/500 [07:50<01:42,  1.15s/it, loss=2.96e+03, v_num=1]"
     ]
    },
    {
     "name": "stderr",
     "output_type": "stream",
     "text": [
      " UserWarning:/home/atac2rna/anaconda3/envs/atac2rna/lib/python3.9/site-packages/scvi/distributions/_negative_binomial.py:482: The value argument must be within the support of the distribution\n",
      " UserWarning:/home/atac2rna/anaconda3/envs/atac2rna/lib/python3.9/site-packages/scvi/distributions/_negative_binomial.py:482: The value argument must be within the support of the distribution\n"
     ]
    },
    {
     "name": "stdout",
     "output_type": "stream",
     "text": [
      "Epoch 413/500:  82%|██████████████████████████████████████████████████████████████████████████████████████████████████████████████▍                       | 412/500 [07:51<01:41,  1.15s/it, loss=2.95e+03, v_num=1]"
     ]
    },
    {
     "name": "stderr",
     "output_type": "stream",
     "text": [
      " UserWarning:/home/atac2rna/anaconda3/envs/atac2rna/lib/python3.9/site-packages/scvi/distributions/_negative_binomial.py:482: The value argument must be within the support of the distribution\n",
      " UserWarning:/home/atac2rna/anaconda3/envs/atac2rna/lib/python3.9/site-packages/scvi/distributions/_negative_binomial.py:482: The value argument must be within the support of the distribution\n"
     ]
    },
    {
     "name": "stdout",
     "output_type": "stream",
     "text": [
      "Epoch 414/500:  83%|██████████████████████████████████████████████████████████████████████████████████████████████████████████████▋                       | 413/500 [07:52<01:40,  1.15s/it, loss=2.95e+03, v_num=1]"
     ]
    },
    {
     "name": "stderr",
     "output_type": "stream",
     "text": [
      " UserWarning:/home/atac2rna/anaconda3/envs/atac2rna/lib/python3.9/site-packages/scvi/distributions/_negative_binomial.py:482: The value argument must be within the support of the distribution\n",
      " UserWarning:/home/atac2rna/anaconda3/envs/atac2rna/lib/python3.9/site-packages/scvi/distributions/_negative_binomial.py:482: The value argument must be within the support of the distribution\n"
     ]
    },
    {
     "name": "stdout",
     "output_type": "stream",
     "text": [
      "Epoch 415/500:  83%|██████████████████████████████████████████████████████████████████████████████████████████████████████████████▉                       | 414/500 [07:53<01:39,  1.16s/it, loss=2.95e+03, v_num=1]"
     ]
    },
    {
     "name": "stderr",
     "output_type": "stream",
     "text": [
      " UserWarning:/home/atac2rna/anaconda3/envs/atac2rna/lib/python3.9/site-packages/scvi/distributions/_negative_binomial.py:482: The value argument must be within the support of the distribution\n",
      " UserWarning:/home/atac2rna/anaconda3/envs/atac2rna/lib/python3.9/site-packages/scvi/distributions/_negative_binomial.py:482: The value argument must be within the support of the distribution\n"
     ]
    },
    {
     "name": "stdout",
     "output_type": "stream",
     "text": [
      "Epoch 416/500:  83%|███████████████████████████████████████████████████████████████████████████████████████████████████████████████▏                      | 415/500 [07:54<01:38,  1.15s/it, loss=2.92e+03, v_num=1]"
     ]
    },
    {
     "name": "stderr",
     "output_type": "stream",
     "text": [
      " UserWarning:/home/atac2rna/anaconda3/envs/atac2rna/lib/python3.9/site-packages/scvi/distributions/_negative_binomial.py:482: The value argument must be within the support of the distribution\n",
      " UserWarning:/home/atac2rna/anaconda3/envs/atac2rna/lib/python3.9/site-packages/scvi/distributions/_negative_binomial.py:482: The value argument must be within the support of the distribution\n"
     ]
    },
    {
     "name": "stdout",
     "output_type": "stream",
     "text": [
      "Epoch 417/500:  83%|███████████████████████████████████████████████████████████████████████████████████████████████████████████████▍                      | 416/500 [07:55<01:36,  1.15s/it, loss=2.92e+03, v_num=1]"
     ]
    },
    {
     "name": "stderr",
     "output_type": "stream",
     "text": [
      " UserWarning:/home/atac2rna/anaconda3/envs/atac2rna/lib/python3.9/site-packages/scvi/distributions/_negative_binomial.py:482: The value argument must be within the support of the distribution\n",
      " UserWarning:/home/atac2rna/anaconda3/envs/atac2rna/lib/python3.9/site-packages/scvi/distributions/_negative_binomial.py:482: The value argument must be within the support of the distribution\n"
     ]
    },
    {
     "name": "stdout",
     "output_type": "stream",
     "text": [
      "Epoch 418/500:  83%|███████████████████████████████████████████████████████████████████████████████████████████████████████████████▊                      | 417/500 [07:57<01:35,  1.15s/it, loss=2.94e+03, v_num=1]"
     ]
    },
    {
     "name": "stderr",
     "output_type": "stream",
     "text": [
      " UserWarning:/home/atac2rna/anaconda3/envs/atac2rna/lib/python3.9/site-packages/scvi/distributions/_negative_binomial.py:482: The value argument must be within the support of the distribution\n",
      " UserWarning:/home/atac2rna/anaconda3/envs/atac2rna/lib/python3.9/site-packages/scvi/distributions/_negative_binomial.py:482: The value argument must be within the support of the distribution\n"
     ]
    },
    {
     "name": "stdout",
     "output_type": "stream",
     "text": [
      "Epoch 419/500:  84%|████████████████████████████████████████████████████████████████████████████████████████████████████████████████                      | 418/500 [07:58<01:34,  1.16s/it, loss=2.92e+03, v_num=1]"
     ]
    },
    {
     "name": "stderr",
     "output_type": "stream",
     "text": [
      " UserWarning:/home/atac2rna/anaconda3/envs/atac2rna/lib/python3.9/site-packages/scvi/distributions/_negative_binomial.py:482: The value argument must be within the support of the distribution\n",
      " UserWarning:/home/atac2rna/anaconda3/envs/atac2rna/lib/python3.9/site-packages/scvi/distributions/_negative_binomial.py:482: The value argument must be within the support of the distribution\n"
     ]
    },
    {
     "name": "stdout",
     "output_type": "stream",
     "text": [
      "Epoch 420/500:  84%|████████████████████████████████████████████████████████████████████████████████████████████████████████████████▎                     | 419/500 [07:59<01:33,  1.15s/it, loss=2.92e+03, v_num=1]"
     ]
    },
    {
     "name": "stderr",
     "output_type": "stream",
     "text": [
      " UserWarning:/home/atac2rna/anaconda3/envs/atac2rna/lib/python3.9/site-packages/scvi/distributions/_negative_binomial.py:482: The value argument must be within the support of the distribution\n",
      " UserWarning:/home/atac2rna/anaconda3/envs/atac2rna/lib/python3.9/site-packages/scvi/distributions/_negative_binomial.py:482: The value argument must be within the support of the distribution\n"
     ]
    },
    {
     "name": "stdout",
     "output_type": "stream",
     "text": [
      "Epoch 421/500:  84%|█████████████████████████████████████████████████████████████████████████████████████████████████████████████████▍                     | 420/500 [08:00<01:32,  1.16s/it, loss=2.9e+03, v_num=1]"
     ]
    },
    {
     "name": "stderr",
     "output_type": "stream",
     "text": [
      " UserWarning:/home/atac2rna/anaconda3/envs/atac2rna/lib/python3.9/site-packages/scvi/distributions/_negative_binomial.py:482: The value argument must be within the support of the distribution\n",
      " UserWarning:/home/atac2rna/anaconda3/envs/atac2rna/lib/python3.9/site-packages/scvi/distributions/_negative_binomial.py:482: The value argument must be within the support of the distribution\n"
     ]
    },
    {
     "name": "stdout",
     "output_type": "stream",
     "text": [
      "Epoch 422/500:  84%|████████████████████████████████████████████████████████████████████████████████████████████████████████████████▊                     | 421/500 [08:01<01:32,  1.17s/it, loss=2.91e+03, v_num=1]"
     ]
    },
    {
     "name": "stderr",
     "output_type": "stream",
     "text": [
      " UserWarning:/home/atac2rna/anaconda3/envs/atac2rna/lib/python3.9/site-packages/scvi/distributions/_negative_binomial.py:482: The value argument must be within the support of the distribution\n",
      " UserWarning:/home/atac2rna/anaconda3/envs/atac2rna/lib/python3.9/site-packages/scvi/distributions/_negative_binomial.py:482: The value argument must be within the support of the distribution\n"
     ]
    },
    {
     "name": "stdout",
     "output_type": "stream",
     "text": [
      "Epoch 423/500:  84%|█████████████████████████████████████████████████████████████████████████████████████████████████████████████████▉                     | 422/500 [08:02<01:29,  1.15s/it, loss=2.9e+03, v_num=1]"
     ]
    },
    {
     "name": "stderr",
     "output_type": "stream",
     "text": [
      " UserWarning:/home/atac2rna/anaconda3/envs/atac2rna/lib/python3.9/site-packages/scvi/distributions/_negative_binomial.py:482: The value argument must be within the support of the distribution\n",
      " UserWarning:/home/atac2rna/anaconda3/envs/atac2rna/lib/python3.9/site-packages/scvi/distributions/_negative_binomial.py:482: The value argument must be within the support of the distribution\n"
     ]
    },
    {
     "name": "stdout",
     "output_type": "stream",
     "text": [
      "Epoch 424/500:  85%|█████████████████████████████████████████████████████████████████████████████████████████████████████████████████▎                    | 423/500 [08:03<01:28,  1.15s/it, loss=2.89e+03, v_num=1]"
     ]
    },
    {
     "name": "stderr",
     "output_type": "stream",
     "text": [
      " UserWarning:/home/atac2rna/anaconda3/envs/atac2rna/lib/python3.9/site-packages/scvi/distributions/_negative_binomial.py:482: The value argument must be within the support of the distribution\n",
      " UserWarning:/home/atac2rna/anaconda3/envs/atac2rna/lib/python3.9/site-packages/scvi/distributions/_negative_binomial.py:482: The value argument must be within the support of the distribution\n"
     ]
    },
    {
     "name": "stdout",
     "output_type": "stream",
     "text": [
      "Epoch 425/500:  85%|██████████████████████████████████████████████████████████████████████████████████████████████████████████████████▍                    | 424/500 [08:05<01:25,  1.13s/it, loss=2.9e+03, v_num=1]"
     ]
    },
    {
     "name": "stderr",
     "output_type": "stream",
     "text": [
      " UserWarning:/home/atac2rna/anaconda3/envs/atac2rna/lib/python3.9/site-packages/scvi/distributions/_negative_binomial.py:482: The value argument must be within the support of the distribution\n",
      " UserWarning:/home/atac2rna/anaconda3/envs/atac2rna/lib/python3.9/site-packages/scvi/distributions/_negative_binomial.py:482: The value argument must be within the support of the distribution\n"
     ]
    },
    {
     "name": "stdout",
     "output_type": "stream",
     "text": [
      "Epoch 426/500:  85%|█████████████████████████████████████████████████████████████████████████████████████████████████████████████████▉                    | 425/500 [08:06<01:24,  1.12s/it, loss=2.91e+03, v_num=1]"
     ]
    },
    {
     "name": "stderr",
     "output_type": "stream",
     "text": [
      " UserWarning:/home/atac2rna/anaconda3/envs/atac2rna/lib/python3.9/site-packages/scvi/distributions/_negative_binomial.py:482: The value argument must be within the support of the distribution\n",
      " UserWarning:/home/atac2rna/anaconda3/envs/atac2rna/lib/python3.9/site-packages/scvi/distributions/_negative_binomial.py:482: The value argument must be within the support of the distribution\n"
     ]
    },
    {
     "name": "stdout",
     "output_type": "stream",
     "text": [
      "Epoch 427/500:  85%|██████████████████████████████████████████████████████████████████████████████████████████████████████████████████▏                   | 426/500 [08:07<01:22,  1.12s/it, loss=2.89e+03, v_num=1]"
     ]
    },
    {
     "name": "stderr",
     "output_type": "stream",
     "text": [
      " UserWarning:/home/atac2rna/anaconda3/envs/atac2rna/lib/python3.9/site-packages/scvi/distributions/_negative_binomial.py:482: The value argument must be within the support of the distribution\n",
      " UserWarning:/home/atac2rna/anaconda3/envs/atac2rna/lib/python3.9/site-packages/scvi/distributions/_negative_binomial.py:482: The value argument must be within the support of the distribution\n"
     ]
    },
    {
     "name": "stdout",
     "output_type": "stream",
     "text": [
      "Epoch 428/500:  85%|██████████████████████████████████████████████████████████████████████████████████████████████████████████████████▍                   | 427/500 [08:08<01:20,  1.11s/it, loss=2.86e+03, v_num=1]"
     ]
    },
    {
     "name": "stderr",
     "output_type": "stream",
     "text": [
      " UserWarning:/home/atac2rna/anaconda3/envs/atac2rna/lib/python3.9/site-packages/scvi/distributions/_negative_binomial.py:482: The value argument must be within the support of the distribution\n",
      " UserWarning:/home/atac2rna/anaconda3/envs/atac2rna/lib/python3.9/site-packages/scvi/distributions/_negative_binomial.py:482: The value argument must be within the support of the distribution\n"
     ]
    },
    {
     "name": "stdout",
     "output_type": "stream",
     "text": [
      "Epoch 429/500:  86%|██████████████████████████████████████████████████████████████████████████████████████████████████████████████████▋                   | 428/500 [08:09<01:19,  1.11s/it, loss=2.89e+03, v_num=1]"
     ]
    },
    {
     "name": "stderr",
     "output_type": "stream",
     "text": [
      " UserWarning:/home/atac2rna/anaconda3/envs/atac2rna/lib/python3.9/site-packages/scvi/distributions/_negative_binomial.py:482: The value argument must be within the support of the distribution\n",
      " UserWarning:/home/atac2rna/anaconda3/envs/atac2rna/lib/python3.9/site-packages/scvi/distributions/_negative_binomial.py:482: The value argument must be within the support of the distribution\n"
     ]
    },
    {
     "name": "stdout",
     "output_type": "stream",
     "text": [
      "Epoch 430/500:  86%|██████████████████████████████████████████████████████████████████████████████████████████████████████████████████▉                   | 429/500 [08:10<01:17,  1.09s/it, loss=2.87e+03, v_num=1]"
     ]
    },
    {
     "name": "stderr",
     "output_type": "stream",
     "text": [
      " UserWarning:/home/atac2rna/anaconda3/envs/atac2rna/lib/python3.9/site-packages/scvi/distributions/_negative_binomial.py:482: The value argument must be within the support of the distribution\n",
      " UserWarning:/home/atac2rna/anaconda3/envs/atac2rna/lib/python3.9/site-packages/scvi/distributions/_negative_binomial.py:482: The value argument must be within the support of the distribution\n"
     ]
    },
    {
     "name": "stdout",
     "output_type": "stream",
     "text": [
      "Epoch 431/500:  86%|███████████████████████████████████████████████████████████████████████████████████████████████████████████████████▏                  | 430/500 [08:11<01:17,  1.11s/it, loss=2.86e+03, v_num=1]"
     ]
    },
    {
     "name": "stderr",
     "output_type": "stream",
     "text": [
      " UserWarning:/home/atac2rna/anaconda3/envs/atac2rna/lib/python3.9/site-packages/scvi/distributions/_negative_binomial.py:482: The value argument must be within the support of the distribution\n",
      " UserWarning:/home/atac2rna/anaconda3/envs/atac2rna/lib/python3.9/site-packages/scvi/distributions/_negative_binomial.py:482: The value argument must be within the support of the distribution\n"
     ]
    },
    {
     "name": "stdout",
     "output_type": "stream",
     "text": [
      "Epoch 432/500:  86%|███████████████████████████████████████████████████████████████████████████████████████████████████████████████████▌                  | 431/500 [08:12<01:17,  1.12s/it, loss=2.84e+03, v_num=1]"
     ]
    },
    {
     "name": "stderr",
     "output_type": "stream",
     "text": [
      " UserWarning:/home/atac2rna/anaconda3/envs/atac2rna/lib/python3.9/site-packages/scvi/distributions/_negative_binomial.py:482: The value argument must be within the support of the distribution\n",
      " UserWarning:/home/atac2rna/anaconda3/envs/atac2rna/lib/python3.9/site-packages/scvi/distributions/_negative_binomial.py:482: The value argument must be within the support of the distribution\n"
     ]
    },
    {
     "name": "stdout",
     "output_type": "stream",
     "text": [
      "Epoch 433/500:  86%|███████████████████████████████████████████████████████████████████████████████████████████████████████████████████▊                  | 432/500 [08:13<01:15,  1.11s/it, loss=2.86e+03, v_num=1]"
     ]
    },
    {
     "name": "stderr",
     "output_type": "stream",
     "text": [
      " UserWarning:/home/atac2rna/anaconda3/envs/atac2rna/lib/python3.9/site-packages/scvi/distributions/_negative_binomial.py:482: The value argument must be within the support of the distribution\n",
      " UserWarning:/home/atac2rna/anaconda3/envs/atac2rna/lib/python3.9/site-packages/scvi/distributions/_negative_binomial.py:482: The value argument must be within the support of the distribution\n"
     ]
    },
    {
     "name": "stdout",
     "output_type": "stream",
     "text": [
      "Epoch 434/500:  87%|████████████████████████████████████████████████████████████████████████████████████████████████████████████████████                  | 433/500 [08:15<01:14,  1.11s/it, loss=2.84e+03, v_num=1]"
     ]
    },
    {
     "name": "stderr",
     "output_type": "stream",
     "text": [
      " UserWarning:/home/atac2rna/anaconda3/envs/atac2rna/lib/python3.9/site-packages/scvi/distributions/_negative_binomial.py:482: The value argument must be within the support of the distribution\n",
      " UserWarning:/home/atac2rna/anaconda3/envs/atac2rna/lib/python3.9/site-packages/scvi/distributions/_negative_binomial.py:482: The value argument must be within the support of the distribution\n"
     ]
    },
    {
     "name": "stdout",
     "output_type": "stream",
     "text": [
      "Epoch 435/500:  87%|████████████████████████████████████████████████████████████████████████████████████████████████████████████████████▎                 | 434/500 [08:16<01:13,  1.12s/it, loss=2.84e+03, v_num=1]"
     ]
    },
    {
     "name": "stderr",
     "output_type": "stream",
     "text": [
      " UserWarning:/home/atac2rna/anaconda3/envs/atac2rna/lib/python3.9/site-packages/scvi/distributions/_negative_binomial.py:482: The value argument must be within the support of the distribution\n",
      " UserWarning:/home/atac2rna/anaconda3/envs/atac2rna/lib/python3.9/site-packages/scvi/distributions/_negative_binomial.py:482: The value argument must be within the support of the distribution\n"
     ]
    },
    {
     "name": "stdout",
     "output_type": "stream",
     "text": [
      "Epoch 436/500:  87%|████████████████████████████████████████████████████████████████████████████████████████████████████████████████████▌                 | 435/500 [08:17<01:12,  1.12s/it, loss=2.86e+03, v_num=1]"
     ]
    },
    {
     "name": "stderr",
     "output_type": "stream",
     "text": [
      " UserWarning:/home/atac2rna/anaconda3/envs/atac2rna/lib/python3.9/site-packages/scvi/distributions/_negative_binomial.py:482: The value argument must be within the support of the distribution\n",
      " UserWarning:/home/atac2rna/anaconda3/envs/atac2rna/lib/python3.9/site-packages/scvi/distributions/_negative_binomial.py:482: The value argument must be within the support of the distribution\n"
     ]
    },
    {
     "name": "stdout",
     "output_type": "stream",
     "text": [
      "Epoch 437/500:  87%|████████████████████████████████████████████████████████████████████████████████████████████████████████████████████▊                 | 436/500 [08:18<01:10,  1.10s/it, loss=2.85e+03, v_num=1]"
     ]
    },
    {
     "name": "stderr",
     "output_type": "stream",
     "text": [
      " UserWarning:/home/atac2rna/anaconda3/envs/atac2rna/lib/python3.9/site-packages/scvi/distributions/_negative_binomial.py:482: The value argument must be within the support of the distribution\n",
      " UserWarning:/home/atac2rna/anaconda3/envs/atac2rna/lib/python3.9/site-packages/scvi/distributions/_negative_binomial.py:482: The value argument must be within the support of the distribution\n"
     ]
    },
    {
     "name": "stdout",
     "output_type": "stream",
     "text": [
      "Epoch 438/500:  87%|█████████████████████████████████████████████████████████████████████████████████████████████████████████████████████                 | 437/500 [08:19<01:10,  1.11s/it, loss=2.86e+03, v_num=1]"
     ]
    },
    {
     "name": "stderr",
     "output_type": "stream",
     "text": [
      " UserWarning:/home/atac2rna/anaconda3/envs/atac2rna/lib/python3.9/site-packages/scvi/distributions/_negative_binomial.py:482: The value argument must be within the support of the distribution\n",
      " UserWarning:/home/atac2rna/anaconda3/envs/atac2rna/lib/python3.9/site-packages/scvi/distributions/_negative_binomial.py:482: The value argument must be within the support of the distribution\n"
     ]
    },
    {
     "name": "stdout",
     "output_type": "stream",
     "text": [
      "Epoch 439/500:  88%|█████████████████████████████████████████████████████████████████████████████████████████████████████████████████████▍                | 438/500 [08:20<01:08,  1.11s/it, loss=2.84e+03, v_num=1]"
     ]
    },
    {
     "name": "stderr",
     "output_type": "stream",
     "text": [
      " UserWarning:/home/atac2rna/anaconda3/envs/atac2rna/lib/python3.9/site-packages/scvi/distributions/_negative_binomial.py:482: The value argument must be within the support of the distribution\n",
      " UserWarning:/home/atac2rna/anaconda3/envs/atac2rna/lib/python3.9/site-packages/scvi/distributions/_negative_binomial.py:482: The value argument must be within the support of the distribution\n"
     ]
    },
    {
     "name": "stdout",
     "output_type": "stream",
     "text": [
      "Epoch 440/500:  88%|█████████████████████████████████████████████████████████████████████████████████████████████████████████████████████▋                | 439/500 [08:21<01:07,  1.11s/it, loss=2.83e+03, v_num=1]"
     ]
    },
    {
     "name": "stderr",
     "output_type": "stream",
     "text": [
      " UserWarning:/home/atac2rna/anaconda3/envs/atac2rna/lib/python3.9/site-packages/scvi/distributions/_negative_binomial.py:482: The value argument must be within the support of the distribution\n",
      " UserWarning:/home/atac2rna/anaconda3/envs/atac2rna/lib/python3.9/site-packages/scvi/distributions/_negative_binomial.py:482: The value argument must be within the support of the distribution\n"
     ]
    },
    {
     "name": "stdout",
     "output_type": "stream",
     "text": [
      "Epoch 441/500:  88%|█████████████████████████████████████████████████████████████████████████████████████████████████████████████████████▉                | 440/500 [08:22<01:06,  1.11s/it, loss=2.82e+03, v_num=1]"
     ]
    },
    {
     "name": "stderr",
     "output_type": "stream",
     "text": [
      " UserWarning:/home/atac2rna/anaconda3/envs/atac2rna/lib/python3.9/site-packages/scvi/distributions/_negative_binomial.py:482: The value argument must be within the support of the distribution\n",
      " UserWarning:/home/atac2rna/anaconda3/envs/atac2rna/lib/python3.9/site-packages/scvi/distributions/_negative_binomial.py:482: The value argument must be within the support of the distribution\n"
     ]
    },
    {
     "name": "stdout",
     "output_type": "stream",
     "text": [
      "Epoch 442/500:  88%|██████████████████████████████████████████████████████████████████████████████████████████████████████████████████████▏               | 441/500 [08:23<01:05,  1.11s/it, loss=2.84e+03, v_num=1]"
     ]
    },
    {
     "name": "stderr",
     "output_type": "stream",
     "text": [
      " UserWarning:/home/atac2rna/anaconda3/envs/atac2rna/lib/python3.9/site-packages/scvi/distributions/_negative_binomial.py:482: The value argument must be within the support of the distribution\n",
      " UserWarning:/home/atac2rna/anaconda3/envs/atac2rna/lib/python3.9/site-packages/scvi/distributions/_negative_binomial.py:482: The value argument must be within the support of the distribution\n"
     ]
    },
    {
     "name": "stdout",
     "output_type": "stream",
     "text": [
      "Epoch 443/500:  88%|██████████████████████████████████████████████████████████████████████████████████████████████████████████████████████▍               | 442/500 [08:25<01:04,  1.11s/it, loss=2.82e+03, v_num=1]"
     ]
    },
    {
     "name": "stderr",
     "output_type": "stream",
     "text": [
      " UserWarning:/home/atac2rna/anaconda3/envs/atac2rna/lib/python3.9/site-packages/scvi/distributions/_negative_binomial.py:482: The value argument must be within the support of the distribution\n",
      " UserWarning:/home/atac2rna/anaconda3/envs/atac2rna/lib/python3.9/site-packages/scvi/distributions/_negative_binomial.py:482: The value argument must be within the support of the distribution\n"
     ]
    },
    {
     "name": "stdout",
     "output_type": "stream",
     "text": [
      "Epoch 444/500:  89%|██████████████████████████████████████████████████████████████████████████████████████████████████████████████████████▋               | 443/500 [08:26<01:03,  1.11s/it, loss=2.83e+03, v_num=1]"
     ]
    },
    {
     "name": "stderr",
     "output_type": "stream",
     "text": [
      " UserWarning:/home/atac2rna/anaconda3/envs/atac2rna/lib/python3.9/site-packages/scvi/distributions/_negative_binomial.py:482: The value argument must be within the support of the distribution\n",
      " UserWarning:/home/atac2rna/anaconda3/envs/atac2rna/lib/python3.9/site-packages/scvi/distributions/_negative_binomial.py:482: The value argument must be within the support of the distribution\n"
     ]
    },
    {
     "name": "stdout",
     "output_type": "stream",
     "text": [
      "Epoch 445/500:  89%|██████████████████████████████████████████████████████████████████████████████████████████████████████████████████████▉               | 444/500 [08:27<01:02,  1.12s/it, loss=2.81e+03, v_num=1]"
     ]
    },
    {
     "name": "stderr",
     "output_type": "stream",
     "text": [
      " UserWarning:/home/atac2rna/anaconda3/envs/atac2rna/lib/python3.9/site-packages/scvi/distributions/_negative_binomial.py:482: The value argument must be within the support of the distribution\n",
      " UserWarning:/home/atac2rna/anaconda3/envs/atac2rna/lib/python3.9/site-packages/scvi/distributions/_negative_binomial.py:482: The value argument must be within the support of the distribution\n"
     ]
    },
    {
     "name": "stdout",
     "output_type": "stream",
     "text": [
      "Epoch 446/500:  89%|████████████████████████████████████████████████████████████████████████████████████████████████████████████████████████▏              | 445/500 [08:28<01:02,  1.13s/it, loss=2.8e+03, v_num=1]"
     ]
    },
    {
     "name": "stderr",
     "output_type": "stream",
     "text": [
      " UserWarning:/home/atac2rna/anaconda3/envs/atac2rna/lib/python3.9/site-packages/scvi/distributions/_negative_binomial.py:482: The value argument must be within the support of the distribution\n",
      " UserWarning:/home/atac2rna/anaconda3/envs/atac2rna/lib/python3.9/site-packages/scvi/distributions/_negative_binomial.py:482: The value argument must be within the support of the distribution\n"
     ]
    },
    {
     "name": "stdout",
     "output_type": "stream",
     "text": [
      "Epoch 447/500:  89%|███████████████████████████████████████████████████████████████████████████████████████████████████████████████████████▌              | 446/500 [08:29<01:01,  1.13s/it, loss=2.82e+03, v_num=1]"
     ]
    },
    {
     "name": "stderr",
     "output_type": "stream",
     "text": [
      " UserWarning:/home/atac2rna/anaconda3/envs/atac2rna/lib/python3.9/site-packages/scvi/distributions/_negative_binomial.py:482: The value argument must be within the support of the distribution\n",
      " UserWarning:/home/atac2rna/anaconda3/envs/atac2rna/lib/python3.9/site-packages/scvi/distributions/_negative_binomial.py:482: The value argument must be within the support of the distribution\n"
     ]
    },
    {
     "name": "stdout",
     "output_type": "stream",
     "text": [
      "Epoch 448/500:  89%|███████████████████████████████████████████████████████████████████████████████████████████████████████████████████████▊              | 447/500 [08:30<00:59,  1.13s/it, loss=2.79e+03, v_num=1]"
     ]
    },
    {
     "name": "stderr",
     "output_type": "stream",
     "text": [
      " UserWarning:/home/atac2rna/anaconda3/envs/atac2rna/lib/python3.9/site-packages/scvi/distributions/_negative_binomial.py:482: The value argument must be within the support of the distribution\n",
      " UserWarning:/home/atac2rna/anaconda3/envs/atac2rna/lib/python3.9/site-packages/scvi/distributions/_negative_binomial.py:482: The value argument must be within the support of the distribution\n"
     ]
    },
    {
     "name": "stdout",
     "output_type": "stream",
     "text": [
      "Epoch 449/500:  90%|████████████████████████████████████████████████████████████████████████████████████████████████████████████████████████              | 448/500 [08:31<00:59,  1.14s/it, loss=2.81e+03, v_num=1]"
     ]
    },
    {
     "name": "stderr",
     "output_type": "stream",
     "text": [
      " UserWarning:/home/atac2rna/anaconda3/envs/atac2rna/lib/python3.9/site-packages/scvi/distributions/_negative_binomial.py:482: The value argument must be within the support of the distribution\n",
      " UserWarning:/home/atac2rna/anaconda3/envs/atac2rna/lib/python3.9/site-packages/scvi/distributions/_negative_binomial.py:482: The value argument must be within the support of the distribution\n"
     ]
    },
    {
     "name": "stdout",
     "output_type": "stream",
     "text": [
      "Epoch 450/500:  90%|████████████████████████████████████████████████████████████████████████████████████████████████████████████████████████▎             | 449/500 [08:32<00:58,  1.14s/it, loss=2.78e+03, v_num=1]"
     ]
    },
    {
     "name": "stderr",
     "output_type": "stream",
     "text": [
      " UserWarning:/home/atac2rna/anaconda3/envs/atac2rna/lib/python3.9/site-packages/scvi/distributions/_negative_binomial.py:482: The value argument must be within the support of the distribution\n",
      " UserWarning:/home/atac2rna/anaconda3/envs/atac2rna/lib/python3.9/site-packages/scvi/distributions/_negative_binomial.py:482: The value argument must be within the support of the distribution\n"
     ]
    },
    {
     "name": "stdout",
     "output_type": "stream",
     "text": [
      "Epoch 451/500:  90%|█████████████████████████████████████████████████████████████████████████████████████████████████████████████████████████▌             | 450/500 [08:34<00:56,  1.13s/it, loss=2.8e+03, v_num=1]"
     ]
    },
    {
     "name": "stderr",
     "output_type": "stream",
     "text": [
      " UserWarning:/home/atac2rna/anaconda3/envs/atac2rna/lib/python3.9/site-packages/scvi/distributions/_negative_binomial.py:482: The value argument must be within the support of the distribution\n",
      " UserWarning:/home/atac2rna/anaconda3/envs/atac2rna/lib/python3.9/site-packages/scvi/distributions/_negative_binomial.py:482: The value argument must be within the support of the distribution\n"
     ]
    },
    {
     "name": "stdout",
     "output_type": "stream",
     "text": [
      "Epoch 452/500:  90%|█████████████████████████████████████████████████████████████████████████████████████████████████████████████████████████▊             | 451/500 [08:35<00:55,  1.14s/it, loss=2.8e+03, v_num=1]"
     ]
    },
    {
     "name": "stderr",
     "output_type": "stream",
     "text": [
      " UserWarning:/home/atac2rna/anaconda3/envs/atac2rna/lib/python3.9/site-packages/scvi/distributions/_negative_binomial.py:482: The value argument must be within the support of the distribution\n",
      " UserWarning:/home/atac2rna/anaconda3/envs/atac2rna/lib/python3.9/site-packages/scvi/distributions/_negative_binomial.py:482: The value argument must be within the support of the distribution\n"
     ]
    },
    {
     "name": "stdout",
     "output_type": "stream",
     "text": [
      "Epoch 453/500:  90%|█████████████████████████████████████████████████████████████████████████████████████████████████████████████████████████▏            | 452/500 [08:36<00:54,  1.14s/it, loss=2.77e+03, v_num=1]"
     ]
    },
    {
     "name": "stderr",
     "output_type": "stream",
     "text": [
      " UserWarning:/home/atac2rna/anaconda3/envs/atac2rna/lib/python3.9/site-packages/scvi/distributions/_negative_binomial.py:482: The value argument must be within the support of the distribution\n",
      " UserWarning:/home/atac2rna/anaconda3/envs/atac2rna/lib/python3.9/site-packages/scvi/distributions/_negative_binomial.py:482: The value argument must be within the support of the distribution\n"
     ]
    },
    {
     "name": "stdout",
     "output_type": "stream",
     "text": [
      "Epoch 454/500:  91%|█████████████████████████████████████████████████████████████████████████████████████████████████████████████████████████▍            | 453/500 [08:37<00:53,  1.15s/it, loss=2.79e+03, v_num=1]"
     ]
    },
    {
     "name": "stderr",
     "output_type": "stream",
     "text": [
      " UserWarning:/home/atac2rna/anaconda3/envs/atac2rna/lib/python3.9/site-packages/scvi/distributions/_negative_binomial.py:482: The value argument must be within the support of the distribution\n",
      " UserWarning:/home/atac2rna/anaconda3/envs/atac2rna/lib/python3.9/site-packages/scvi/distributions/_negative_binomial.py:482: The value argument must be within the support of the distribution\n"
     ]
    },
    {
     "name": "stdout",
     "output_type": "stream",
     "text": [
      "Epoch 455/500:  91%|█████████████████████████████████████████████████████████████████████████████████████████████████████████████████████████▋            | 454/500 [08:38<00:52,  1.14s/it, loss=2.78e+03, v_num=1]"
     ]
    },
    {
     "name": "stderr",
     "output_type": "stream",
     "text": [
      " UserWarning:/home/atac2rna/anaconda3/envs/atac2rna/lib/python3.9/site-packages/scvi/distributions/_negative_binomial.py:482: The value argument must be within the support of the distribution\n",
      " UserWarning:/home/atac2rna/anaconda3/envs/atac2rna/lib/python3.9/site-packages/scvi/distributions/_negative_binomial.py:482: The value argument must be within the support of the distribution\n"
     ]
    },
    {
     "name": "stdout",
     "output_type": "stream",
     "text": [
      "Epoch 456/500:  91%|█████████████████████████████████████████████████████████████████████████████████████████████████████████████████████████▉            | 455/500 [08:39<00:51,  1.15s/it, loss=2.78e+03, v_num=1]"
     ]
    },
    {
     "name": "stderr",
     "output_type": "stream",
     "text": [
      " UserWarning:/home/atac2rna/anaconda3/envs/atac2rna/lib/python3.9/site-packages/scvi/distributions/_negative_binomial.py:482: The value argument must be within the support of the distribution\n",
      " UserWarning:/home/atac2rna/anaconda3/envs/atac2rna/lib/python3.9/site-packages/scvi/distributions/_negative_binomial.py:482: The value argument must be within the support of the distribution\n"
     ]
    },
    {
     "name": "stdout",
     "output_type": "stream",
     "text": [
      "Epoch 457/500:  91%|██████████████████████████████████████████████████████████████████████████████████████████████████████████████████████████▏           | 456/500 [08:41<00:50,  1.16s/it, loss=2.77e+03, v_num=1]"
     ]
    },
    {
     "name": "stderr",
     "output_type": "stream",
     "text": [
      " UserWarning:/home/atac2rna/anaconda3/envs/atac2rna/lib/python3.9/site-packages/scvi/distributions/_negative_binomial.py:482: The value argument must be within the support of the distribution\n",
      " UserWarning:/home/atac2rna/anaconda3/envs/atac2rna/lib/python3.9/site-packages/scvi/distributions/_negative_binomial.py:482: The value argument must be within the support of the distribution\n"
     ]
    },
    {
     "name": "stdout",
     "output_type": "stream",
     "text": [
      "Epoch 458/500:  91%|██████████████████████████████████████████████████████████████████████████████████████████████████████████████████████████▍           | 457/500 [08:42<00:49,  1.15s/it, loss=2.75e+03, v_num=1]"
     ]
    },
    {
     "name": "stderr",
     "output_type": "stream",
     "text": [
      " UserWarning:/home/atac2rna/anaconda3/envs/atac2rna/lib/python3.9/site-packages/scvi/distributions/_negative_binomial.py:482: The value argument must be within the support of the distribution\n",
      " UserWarning:/home/atac2rna/anaconda3/envs/atac2rna/lib/python3.9/site-packages/scvi/distributions/_negative_binomial.py:482: The value argument must be within the support of the distribution\n"
     ]
    },
    {
     "name": "stdout",
     "output_type": "stream",
     "text": [
      "Epoch 459/500:  92%|██████████████████████████████████████████████████████████████████████████████████████████████████████████████████████████▋           | 458/500 [08:43<00:48,  1.15s/it, loss=2.77e+03, v_num=1]"
     ]
    },
    {
     "name": "stderr",
     "output_type": "stream",
     "text": [
      " UserWarning:/home/atac2rna/anaconda3/envs/atac2rna/lib/python3.9/site-packages/scvi/distributions/_negative_binomial.py:482: The value argument must be within the support of the distribution\n",
      " UserWarning:/home/atac2rna/anaconda3/envs/atac2rna/lib/python3.9/site-packages/scvi/distributions/_negative_binomial.py:482: The value argument must be within the support of the distribution\n"
     ]
    },
    {
     "name": "stdout",
     "output_type": "stream",
     "text": [
      "Epoch 460/500:  92%|███████████████████████████████████████████████████████████████████████████████████████████████████████████████████████████           | 459/500 [08:44<00:46,  1.15s/it, loss=2.75e+03, v_num=1]"
     ]
    },
    {
     "name": "stderr",
     "output_type": "stream",
     "text": [
      " UserWarning:/home/atac2rna/anaconda3/envs/atac2rna/lib/python3.9/site-packages/scvi/distributions/_negative_binomial.py:482: The value argument must be within the support of the distribution\n",
      " UserWarning:/home/atac2rna/anaconda3/envs/atac2rna/lib/python3.9/site-packages/scvi/distributions/_negative_binomial.py:482: The value argument must be within the support of the distribution\n"
     ]
    },
    {
     "name": "stdout",
     "output_type": "stream",
     "text": [
      "Epoch 461/500:  92%|███████████████████████████████████████████████████████████████████████████████████████████████████████████████████████████▎          | 460/500 [08:45<00:44,  1.12s/it, loss=2.74e+03, v_num=1]"
     ]
    },
    {
     "name": "stderr",
     "output_type": "stream",
     "text": [
      " UserWarning:/home/atac2rna/anaconda3/envs/atac2rna/lib/python3.9/site-packages/scvi/distributions/_negative_binomial.py:482: The value argument must be within the support of the distribution\n",
      " UserWarning:/home/atac2rna/anaconda3/envs/atac2rna/lib/python3.9/site-packages/scvi/distributions/_negative_binomial.py:482: The value argument must be within the support of the distribution\n"
     ]
    },
    {
     "name": "stdout",
     "output_type": "stream",
     "text": [
      "Epoch 462/500:  92%|███████████████████████████████████████████████████████████████████████████████████████████████████████████████████████████▌          | 461/500 [08:46<00:42,  1.10s/it, loss=2.74e+03, v_num=1]"
     ]
    },
    {
     "name": "stderr",
     "output_type": "stream",
     "text": [
      " UserWarning:/home/atac2rna/anaconda3/envs/atac2rna/lib/python3.9/site-packages/scvi/distributions/_negative_binomial.py:482: The value argument must be within the support of the distribution\n",
      " UserWarning:/home/atac2rna/anaconda3/envs/atac2rna/lib/python3.9/site-packages/scvi/distributions/_negative_binomial.py:482: The value argument must be within the support of the distribution\n"
     ]
    },
    {
     "name": "stdout",
     "output_type": "stream",
     "text": [
      "Epoch 463/500:  92%|███████████████████████████████████████████████████████████████████████████████████████████████████████████████████████████▊          | 462/500 [08:47<00:42,  1.11s/it, loss=2.74e+03, v_num=1]"
     ]
    },
    {
     "name": "stderr",
     "output_type": "stream",
     "text": [
      " UserWarning:/home/atac2rna/anaconda3/envs/atac2rna/lib/python3.9/site-packages/scvi/distributions/_negative_binomial.py:482: The value argument must be within the support of the distribution\n",
      " UserWarning:/home/atac2rna/anaconda3/envs/atac2rna/lib/python3.9/site-packages/scvi/distributions/_negative_binomial.py:482: The value argument must be within the support of the distribution\n"
     ]
    },
    {
     "name": "stdout",
     "output_type": "stream",
     "text": [
      "Epoch 464/500:  93%|████████████████████████████████████████████████████████████████████████████████████████████████████████████████████████████          | 463/500 [08:48<00:41,  1.11s/it, loss=2.73e+03, v_num=1]"
     ]
    },
    {
     "name": "stderr",
     "output_type": "stream",
     "text": [
      " UserWarning:/home/atac2rna/anaconda3/envs/atac2rna/lib/python3.9/site-packages/scvi/distributions/_negative_binomial.py:482: The value argument must be within the support of the distribution\n",
      " UserWarning:/home/atac2rna/anaconda3/envs/atac2rna/lib/python3.9/site-packages/scvi/distributions/_negative_binomial.py:482: The value argument must be within the support of the distribution\n"
     ]
    },
    {
     "name": "stdout",
     "output_type": "stream",
     "text": [
      "Epoch 465/500:  93%|████████████████████████████████████████████████████████████████████████████████████████████████████████████████████████████▎         | 464/500 [08:49<00:39,  1.10s/it, loss=2.73e+03, v_num=1]"
     ]
    },
    {
     "name": "stderr",
     "output_type": "stream",
     "text": [
      " UserWarning:/home/atac2rna/anaconda3/envs/atac2rna/lib/python3.9/site-packages/scvi/distributions/_negative_binomial.py:482: The value argument must be within the support of the distribution\n",
      " UserWarning:/home/atac2rna/anaconda3/envs/atac2rna/lib/python3.9/site-packages/scvi/distributions/_negative_binomial.py:482: The value argument must be within the support of the distribution\n"
     ]
    },
    {
     "name": "stdout",
     "output_type": "stream",
     "text": [
      "Epoch 466/500:  93%|████████████████████████████████████████████████████████████████████████████████████████████████████████████████████████████▌         | 465/500 [08:50<00:38,  1.10s/it, loss=2.72e+03, v_num=1]"
     ]
    },
    {
     "name": "stderr",
     "output_type": "stream",
     "text": [
      " UserWarning:/home/atac2rna/anaconda3/envs/atac2rna/lib/python3.9/site-packages/scvi/distributions/_negative_binomial.py:482: The value argument must be within the support of the distribution\n",
      " UserWarning:/home/atac2rna/anaconda3/envs/atac2rna/lib/python3.9/site-packages/scvi/distributions/_negative_binomial.py:482: The value argument must be within the support of the distribution\n"
     ]
    },
    {
     "name": "stdout",
     "output_type": "stream",
     "text": [
      "Epoch 467/500:  93%|████████████████████████████████████████████████████████████████████████████████████████████████████████████████████████████▉         | 466/500 [08:52<00:37,  1.11s/it, loss=2.73e+03, v_num=1]"
     ]
    },
    {
     "name": "stderr",
     "output_type": "stream",
     "text": [
      " UserWarning:/home/atac2rna/anaconda3/envs/atac2rna/lib/python3.9/site-packages/scvi/distributions/_negative_binomial.py:482: The value argument must be within the support of the distribution\n",
      " UserWarning:/home/atac2rna/anaconda3/envs/atac2rna/lib/python3.9/site-packages/scvi/distributions/_negative_binomial.py:482: The value argument must be within the support of the distribution\n"
     ]
    },
    {
     "name": "stdout",
     "output_type": "stream",
     "text": [
      "Epoch 468/500:  93%|█████████████████████████████████████████████████████████████████████████████████████████████████████████████████████████████▏        | 467/500 [08:53<00:36,  1.10s/it, loss=2.72e+03, v_num=1]"
     ]
    },
    {
     "name": "stderr",
     "output_type": "stream",
     "text": [
      " UserWarning:/home/atac2rna/anaconda3/envs/atac2rna/lib/python3.9/site-packages/scvi/distributions/_negative_binomial.py:482: The value argument must be within the support of the distribution\n",
      " UserWarning:/home/atac2rna/anaconda3/envs/atac2rna/lib/python3.9/site-packages/scvi/distributions/_negative_binomial.py:482: The value argument must be within the support of the distribution\n"
     ]
    },
    {
     "name": "stdout",
     "output_type": "stream",
     "text": [
      "Epoch 469/500:  94%|█████████████████████████████████████████████████████████████████████████████████████████████████████████████████████████████▍        | 468/500 [08:54<00:35,  1.09s/it, loss=2.72e+03, v_num=1]"
     ]
    },
    {
     "name": "stderr",
     "output_type": "stream",
     "text": [
      " UserWarning:/home/atac2rna/anaconda3/envs/atac2rna/lib/python3.9/site-packages/scvi/distributions/_negative_binomial.py:482: The value argument must be within the support of the distribution\n",
      " UserWarning:/home/atac2rna/anaconda3/envs/atac2rna/lib/python3.9/site-packages/scvi/distributions/_negative_binomial.py:482: The value argument must be within the support of the distribution\n"
     ]
    },
    {
     "name": "stdout",
     "output_type": "stream",
     "text": [
      "Epoch 470/500:  94%|█████████████████████████████████████████████████████████████████████████████████████████████████████████████████████████████▋        | 469/500 [08:55<00:34,  1.11s/it, loss=2.72e+03, v_num=1]"
     ]
    },
    {
     "name": "stderr",
     "output_type": "stream",
     "text": [
      " UserWarning:/home/atac2rna/anaconda3/envs/atac2rna/lib/python3.9/site-packages/scvi/distributions/_negative_binomial.py:482: The value argument must be within the support of the distribution\n",
      " UserWarning:/home/atac2rna/anaconda3/envs/atac2rna/lib/python3.9/site-packages/scvi/distributions/_negative_binomial.py:482: The value argument must be within the support of the distribution\n"
     ]
    },
    {
     "name": "stdout",
     "output_type": "stream",
     "text": [
      "Epoch 471/500:  94%|█████████████████████████████████████████████████████████████████████████████████████████████████████████████████████████████▉        | 470/500 [08:56<00:33,  1.11s/it, loss=2.69e+03, v_num=1]"
     ]
    },
    {
     "name": "stderr",
     "output_type": "stream",
     "text": [
      " UserWarning:/home/atac2rna/anaconda3/envs/atac2rna/lib/python3.9/site-packages/scvi/distributions/_negative_binomial.py:482: The value argument must be within the support of the distribution\n",
      " UserWarning:/home/atac2rna/anaconda3/envs/atac2rna/lib/python3.9/site-packages/scvi/distributions/_negative_binomial.py:482: The value argument must be within the support of the distribution\n"
     ]
    },
    {
     "name": "stdout",
     "output_type": "stream",
     "text": [
      "Epoch 472/500:  94%|██████████████████████████████████████████████████████████████████████████████████████████████████████████████████████████████▏       | 471/500 [08:57<00:31,  1.10s/it, loss=2.71e+03, v_num=1]"
     ]
    },
    {
     "name": "stderr",
     "output_type": "stream",
     "text": [
      " UserWarning:/home/atac2rna/anaconda3/envs/atac2rna/lib/python3.9/site-packages/scvi/distributions/_negative_binomial.py:482: The value argument must be within the support of the distribution\n",
      " UserWarning:/home/atac2rna/anaconda3/envs/atac2rna/lib/python3.9/site-packages/scvi/distributions/_negative_binomial.py:482: The value argument must be within the support of the distribution\n"
     ]
    },
    {
     "name": "stdout",
     "output_type": "stream",
     "text": [
      "Epoch 473/500:  94%|██████████████████████████████████████████████████████████████████████████████████████████████████████████████████████████████▍       | 472/500 [08:58<00:30,  1.11s/it, loss=2.69e+03, v_num=1]"
     ]
    },
    {
     "name": "stderr",
     "output_type": "stream",
     "text": [
      " UserWarning:/home/atac2rna/anaconda3/envs/atac2rna/lib/python3.9/site-packages/scvi/distributions/_negative_binomial.py:482: The value argument must be within the support of the distribution\n",
      " UserWarning:/home/atac2rna/anaconda3/envs/atac2rna/lib/python3.9/site-packages/scvi/distributions/_negative_binomial.py:482: The value argument must be within the support of the distribution\n"
     ]
    },
    {
     "name": "stdout",
     "output_type": "stream",
     "text": [
      "Epoch 474/500:  95%|███████████████████████████████████████████████████████████████████████████████████████████████████████████████████████████████▋       | 473/500 [08:59<00:29,  1.11s/it, loss=2.7e+03, v_num=1]"
     ]
    },
    {
     "name": "stderr",
     "output_type": "stream",
     "text": [
      " UserWarning:/home/atac2rna/anaconda3/envs/atac2rna/lib/python3.9/site-packages/scvi/distributions/_negative_binomial.py:482: The value argument must be within the support of the distribution\n",
      " UserWarning:/home/atac2rna/anaconda3/envs/atac2rna/lib/python3.9/site-packages/scvi/distributions/_negative_binomial.py:482: The value argument must be within the support of the distribution\n"
     ]
    },
    {
     "name": "stdout",
     "output_type": "stream",
     "text": [
      "Epoch 475/500:  95%|███████████████████████████████████████████████████████████████████████████████████████████████████████████████████████████████▉       | 474/500 [09:00<00:28,  1.10s/it, loss=2.7e+03, v_num=1]"
     ]
    },
    {
     "name": "stderr",
     "output_type": "stream",
     "text": [
      " UserWarning:/home/atac2rna/anaconda3/envs/atac2rna/lib/python3.9/site-packages/scvi/distributions/_negative_binomial.py:482: The value argument must be within the support of the distribution\n",
      " UserWarning:/home/atac2rna/anaconda3/envs/atac2rna/lib/python3.9/site-packages/scvi/distributions/_negative_binomial.py:482: The value argument must be within the support of the distribution\n"
     ]
    },
    {
     "name": "stdout",
     "output_type": "stream",
     "text": [
      "Epoch 476/500:  95%|███████████████████████████████████████████████████████████████████████████████████████████████████████████████████████████████▎      | 475/500 [09:01<00:27,  1.09s/it, loss=2.69e+03, v_num=1]"
     ]
    },
    {
     "name": "stderr",
     "output_type": "stream",
     "text": [
      " UserWarning:/home/atac2rna/anaconda3/envs/atac2rna/lib/python3.9/site-packages/scvi/distributions/_negative_binomial.py:482: The value argument must be within the support of the distribution\n",
      " UserWarning:/home/atac2rna/anaconda3/envs/atac2rna/lib/python3.9/site-packages/scvi/distributions/_negative_binomial.py:482: The value argument must be within the support of the distribution\n"
     ]
    },
    {
     "name": "stdout",
     "output_type": "stream",
     "text": [
      "Epoch 477/500:  95%|████████████████████████████████████████████████████████████████████████████████████████████████████████████████████████████████▌      | 476/500 [09:03<00:26,  1.10s/it, loss=2.7e+03, v_num=1]"
     ]
    },
    {
     "name": "stderr",
     "output_type": "stream",
     "text": [
      " UserWarning:/home/atac2rna/anaconda3/envs/atac2rna/lib/python3.9/site-packages/scvi/distributions/_negative_binomial.py:482: The value argument must be within the support of the distribution\n",
      " UserWarning:/home/atac2rna/anaconda3/envs/atac2rna/lib/python3.9/site-packages/scvi/distributions/_negative_binomial.py:482: The value argument must be within the support of the distribution\n"
     ]
    },
    {
     "name": "stdout",
     "output_type": "stream",
     "text": [
      "Epoch 478/500:  95%|████████████████████████████████████████████████████████████████████████████████████████████████████████████████████████████████▊      | 477/500 [09:04<00:25,  1.10s/it, loss=2.7e+03, v_num=1]"
     ]
    },
    {
     "name": "stderr",
     "output_type": "stream",
     "text": [
      " UserWarning:/home/atac2rna/anaconda3/envs/atac2rna/lib/python3.9/site-packages/scvi/distributions/_negative_binomial.py:482: The value argument must be within the support of the distribution\n",
      " UserWarning:/home/atac2rna/anaconda3/envs/atac2rna/lib/python3.9/site-packages/scvi/distributions/_negative_binomial.py:482: The value argument must be within the support of the distribution\n"
     ]
    },
    {
     "name": "stdout",
     "output_type": "stream",
     "text": [
      "Epoch 479/500:  96%|████████████████████████████████████████████████████████████████████████████████████████████████████████████████████████████████      | 478/500 [09:05<00:24,  1.10s/it, loss=2.67e+03, v_num=1]"
     ]
    },
    {
     "name": "stderr",
     "output_type": "stream",
     "text": [
      " UserWarning:/home/atac2rna/anaconda3/envs/atac2rna/lib/python3.9/site-packages/scvi/distributions/_negative_binomial.py:482: The value argument must be within the support of the distribution\n",
      " UserWarning:/home/atac2rna/anaconda3/envs/atac2rna/lib/python3.9/site-packages/scvi/distributions/_negative_binomial.py:482: The value argument must be within the support of the distribution\n"
     ]
    },
    {
     "name": "stdout",
     "output_type": "stream",
     "text": [
      "Epoch 480/500:  96%|████████████████████████████████████████████████████████████████████████████████████████████████████████████████████████████████▎     | 479/500 [09:06<00:23,  1.10s/it, loss=2.65e+03, v_num=1]"
     ]
    },
    {
     "name": "stderr",
     "output_type": "stream",
     "text": [
      " UserWarning:/home/atac2rna/anaconda3/envs/atac2rna/lib/python3.9/site-packages/scvi/distributions/_negative_binomial.py:482: The value argument must be within the support of the distribution\n",
      " UserWarning:/home/atac2rna/anaconda3/envs/atac2rna/lib/python3.9/site-packages/scvi/distributions/_negative_binomial.py:482: The value argument must be within the support of the distribution\n"
     ]
    },
    {
     "name": "stdout",
     "output_type": "stream",
     "text": [
      "Epoch 481/500:  96%|████████████████████████████████████████████████████████████████████████████████████████████████████████████████████████████████▋     | 480/500 [09:07<00:22,  1.11s/it, loss=2.68e+03, v_num=1]"
     ]
    },
    {
     "name": "stderr",
     "output_type": "stream",
     "text": [
      " UserWarning:/home/atac2rna/anaconda3/envs/atac2rna/lib/python3.9/site-packages/scvi/distributions/_negative_binomial.py:482: The value argument must be within the support of the distribution\n",
      " UserWarning:/home/atac2rna/anaconda3/envs/atac2rna/lib/python3.9/site-packages/scvi/distributions/_negative_binomial.py:482: The value argument must be within the support of the distribution\n"
     ]
    },
    {
     "name": "stdout",
     "output_type": "stream",
     "text": [
      "Epoch 482/500:  96%|████████████████████████████████████████████████████████████████████████████████████████████████████████████████████████████████▉     | 481/500 [09:08<00:21,  1.11s/it, loss=2.66e+03, v_num=1]"
     ]
    },
    {
     "name": "stderr",
     "output_type": "stream",
     "text": [
      " UserWarning:/home/atac2rna/anaconda3/envs/atac2rna/lib/python3.9/site-packages/scvi/distributions/_negative_binomial.py:482: The value argument must be within the support of the distribution\n",
      " UserWarning:/home/atac2rna/anaconda3/envs/atac2rna/lib/python3.9/site-packages/scvi/distributions/_negative_binomial.py:482: The value argument must be within the support of the distribution\n"
     ]
    },
    {
     "name": "stdout",
     "output_type": "stream",
     "text": [
      "Epoch 483/500:  96%|█████████████████████████████████████████████████████████████████████████████████████████████████████████████████████████████████▏    | 482/500 [09:09<00:20,  1.12s/it, loss=2.65e+03, v_num=1]"
     ]
    },
    {
     "name": "stderr",
     "output_type": "stream",
     "text": [
      " UserWarning:/home/atac2rna/anaconda3/envs/atac2rna/lib/python3.9/site-packages/scvi/distributions/_negative_binomial.py:482: The value argument must be within the support of the distribution\n",
      " UserWarning:/home/atac2rna/anaconda3/envs/atac2rna/lib/python3.9/site-packages/scvi/distributions/_negative_binomial.py:482: The value argument must be within the support of the distribution\n"
     ]
    },
    {
     "name": "stdout",
     "output_type": "stream",
     "text": [
      "Epoch 484/500:  97%|█████████████████████████████████████████████████████████████████████████████████████████████████████████████████████████████████▍    | 483/500 [09:10<00:19,  1.13s/it, loss=2.64e+03, v_num=1]"
     ]
    },
    {
     "name": "stderr",
     "output_type": "stream",
     "text": [
      " UserWarning:/home/atac2rna/anaconda3/envs/atac2rna/lib/python3.9/site-packages/scvi/distributions/_negative_binomial.py:482: The value argument must be within the support of the distribution\n",
      " UserWarning:/home/atac2rna/anaconda3/envs/atac2rna/lib/python3.9/site-packages/scvi/distributions/_negative_binomial.py:482: The value argument must be within the support of the distribution\n"
     ]
    },
    {
     "name": "stdout",
     "output_type": "stream",
     "text": [
      "Epoch 485/500:  97%|█████████████████████████████████████████████████████████████████████████████████████████████████████████████████████████████████▋    | 484/500 [09:12<00:18,  1.13s/it, loss=2.64e+03, v_num=1]"
     ]
    },
    {
     "name": "stderr",
     "output_type": "stream",
     "text": [
      " UserWarning:/home/atac2rna/anaconda3/envs/atac2rna/lib/python3.9/site-packages/scvi/distributions/_negative_binomial.py:482: The value argument must be within the support of the distribution\n",
      " UserWarning:/home/atac2rna/anaconda3/envs/atac2rna/lib/python3.9/site-packages/scvi/distributions/_negative_binomial.py:482: The value argument must be within the support of the distribution\n"
     ]
    },
    {
     "name": "stdout",
     "output_type": "stream",
     "text": [
      "Epoch 486/500:  97%|█████████████████████████████████████████████████████████████████████████████████████████████████████████████████████████████████▉    | 485/500 [09:13<00:16,  1.13s/it, loss=2.66e+03, v_num=1]"
     ]
    },
    {
     "name": "stderr",
     "output_type": "stream",
     "text": [
      " UserWarning:/home/atac2rna/anaconda3/envs/atac2rna/lib/python3.9/site-packages/scvi/distributions/_negative_binomial.py:482: The value argument must be within the support of the distribution\n",
      " UserWarning:/home/atac2rna/anaconda3/envs/atac2rna/lib/python3.9/site-packages/scvi/distributions/_negative_binomial.py:482: The value argument must be within the support of the distribution\n"
     ]
    },
    {
     "name": "stdout",
     "output_type": "stream",
     "text": [
      "Epoch 487/500:  97%|██████████████████████████████████████████████████████████████████████████████████████████████████████████████████████████████████▏   | 486/500 [09:14<00:15,  1.13s/it, loss=2.64e+03, v_num=1]"
     ]
    },
    {
     "name": "stderr",
     "output_type": "stream",
     "text": [
      " UserWarning:/home/atac2rna/anaconda3/envs/atac2rna/lib/python3.9/site-packages/scvi/distributions/_negative_binomial.py:482: The value argument must be within the support of the distribution\n",
      " UserWarning:/home/atac2rna/anaconda3/envs/atac2rna/lib/python3.9/site-packages/scvi/distributions/_negative_binomial.py:482: The value argument must be within the support of the distribution\n"
     ]
    },
    {
     "name": "stdout",
     "output_type": "stream",
     "text": [
      "Epoch 488/500:  97%|██████████████████████████████████████████████████████████████████████████████████████████████████████████████████████████████████▌   | 487/500 [09:15<00:14,  1.14s/it, loss=2.65e+03, v_num=1]"
     ]
    },
    {
     "name": "stderr",
     "output_type": "stream",
     "text": [
      " UserWarning:/home/atac2rna/anaconda3/envs/atac2rna/lib/python3.9/site-packages/scvi/distributions/_negative_binomial.py:482: The value argument must be within the support of the distribution\n",
      " UserWarning:/home/atac2rna/anaconda3/envs/atac2rna/lib/python3.9/site-packages/scvi/distributions/_negative_binomial.py:482: The value argument must be within the support of the distribution\n"
     ]
    },
    {
     "name": "stdout",
     "output_type": "stream",
     "text": [
      "Epoch 489/500:  98%|██████████████████████████████████████████████████████████████████████████████████████████████████████████████████████████████████▊   | 488/500 [09:16<00:14,  1.21s/it, loss=2.64e+03, v_num=1]"
     ]
    },
    {
     "name": "stderr",
     "output_type": "stream",
     "text": [
      " UserWarning:/home/atac2rna/anaconda3/envs/atac2rna/lib/python3.9/site-packages/scvi/distributions/_negative_binomial.py:482: The value argument must be within the support of the distribution\n",
      " UserWarning:/home/atac2rna/anaconda3/envs/atac2rna/lib/python3.9/site-packages/scvi/distributions/_negative_binomial.py:482: The value argument must be within the support of the distribution\n"
     ]
    },
    {
     "name": "stdout",
     "output_type": "stream",
     "text": [
      "Epoch 490/500:  98%|███████████████████████████████████████████████████████████████████████████████████████████████████████████████████████████████████   | 489/500 [09:18<00:14,  1.29s/it, loss=2.63e+03, v_num=1]"
     ]
    },
    {
     "name": "stderr",
     "output_type": "stream",
     "text": [
      " UserWarning:/home/atac2rna/anaconda3/envs/atac2rna/lib/python3.9/site-packages/scvi/distributions/_negative_binomial.py:482: The value argument must be within the support of the distribution\n",
      " UserWarning:/home/atac2rna/anaconda3/envs/atac2rna/lib/python3.9/site-packages/scvi/distributions/_negative_binomial.py:482: The value argument must be within the support of the distribution\n"
     ]
    },
    {
     "name": "stdout",
     "output_type": "stream",
     "text": [
      "Epoch 491/500:  98%|███████████████████████████████████████████████████████████████████████████████████████████████████████████████████████████████████▎  | 490/500 [09:19<00:13,  1.31s/it, loss=2.64e+03, v_num=1]"
     ]
    },
    {
     "name": "stderr",
     "output_type": "stream",
     "text": [
      " UserWarning:/home/atac2rna/anaconda3/envs/atac2rna/lib/python3.9/site-packages/scvi/distributions/_negative_binomial.py:482: The value argument must be within the support of the distribution\n",
      " UserWarning:/home/atac2rna/anaconda3/envs/atac2rna/lib/python3.9/site-packages/scvi/distributions/_negative_binomial.py:482: The value argument must be within the support of the distribution\n"
     ]
    },
    {
     "name": "stdout",
     "output_type": "stream",
     "text": [
      "Epoch 492/500:  98%|███████████████████████████████████████████████████████████████████████████████████████████████████████████████████████████████████▌  | 491/500 [09:21<00:12,  1.34s/it, loss=2.65e+03, v_num=1]"
     ]
    },
    {
     "name": "stderr",
     "output_type": "stream",
     "text": [
      " UserWarning:/home/atac2rna/anaconda3/envs/atac2rna/lib/python3.9/site-packages/scvi/distributions/_negative_binomial.py:482: The value argument must be within the support of the distribution\n",
      " UserWarning:/home/atac2rna/anaconda3/envs/atac2rna/lib/python3.9/site-packages/scvi/distributions/_negative_binomial.py:482: The value argument must be within the support of the distribution\n"
     ]
    },
    {
     "name": "stdout",
     "output_type": "stream",
     "text": [
      "Epoch 493/500:  98%|███████████████████████████████████████████████████████████████████████████████████████████████████████████████████████████████████▊  | 492/500 [09:22<00:10,  1.32s/it, loss=2.61e+03, v_num=1]"
     ]
    },
    {
     "name": "stderr",
     "output_type": "stream",
     "text": [
      " UserWarning:/home/atac2rna/anaconda3/envs/atac2rna/lib/python3.9/site-packages/scvi/distributions/_negative_binomial.py:482: The value argument must be within the support of the distribution\n",
      " UserWarning:/home/atac2rna/anaconda3/envs/atac2rna/lib/python3.9/site-packages/scvi/distributions/_negative_binomial.py:482: The value argument must be within the support of the distribution\n"
     ]
    },
    {
     "name": "stdout",
     "output_type": "stream",
     "text": [
      "Epoch 494/500:  99%|████████████████████████████████████████████████████████████████████████████████████████████████████████████████████████████████████  | 493/500 [09:23<00:08,  1.28s/it, loss=2.62e+03, v_num=1]"
     ]
    },
    {
     "name": "stderr",
     "output_type": "stream",
     "text": [
      " UserWarning:/home/atac2rna/anaconda3/envs/atac2rna/lib/python3.9/site-packages/scvi/distributions/_negative_binomial.py:482: The value argument must be within the support of the distribution\n",
      " UserWarning:/home/atac2rna/anaconda3/envs/atac2rna/lib/python3.9/site-packages/scvi/distributions/_negative_binomial.py:482: The value argument must be within the support of the distribution\n"
     ]
    },
    {
     "name": "stdout",
     "output_type": "stream",
     "text": [
      "Epoch 495/500:  99%|████████████████████████████████████████████████████████████████████████████████████████████████████████████████████████████████████▍ | 494/500 [09:24<00:07,  1.25s/it, loss=2.63e+03, v_num=1]"
     ]
    },
    {
     "name": "stderr",
     "output_type": "stream",
     "text": [
      " UserWarning:/home/atac2rna/anaconda3/envs/atac2rna/lib/python3.9/site-packages/scvi/distributions/_negative_binomial.py:482: The value argument must be within the support of the distribution\n",
      " UserWarning:/home/atac2rna/anaconda3/envs/atac2rna/lib/python3.9/site-packages/scvi/distributions/_negative_binomial.py:482: The value argument must be within the support of the distribution\n"
     ]
    },
    {
     "name": "stdout",
     "output_type": "stream",
     "text": [
      "Epoch 496/500:  99%|████████████████████████████████████████████████████████████████████████████████████████████████████████████████████████████████████▋ | 495/500 [09:26<00:06,  1.26s/it, loss=2.62e+03, v_num=1]"
     ]
    },
    {
     "name": "stderr",
     "output_type": "stream",
     "text": [
      " UserWarning:/home/atac2rna/anaconda3/envs/atac2rna/lib/python3.9/site-packages/scvi/distributions/_negative_binomial.py:482: The value argument must be within the support of the distribution\n",
      " UserWarning:/home/atac2rna/anaconda3/envs/atac2rna/lib/python3.9/site-packages/scvi/distributions/_negative_binomial.py:482: The value argument must be within the support of the distribution\n"
     ]
    },
    {
     "name": "stdout",
     "output_type": "stream",
     "text": [
      "Epoch 497/500:  99%|████████████████████████████████████████████████████████████████████████████████████████████████████████████████████████████████████▉ | 496/500 [09:27<00:05,  1.38s/it, loss=2.62e+03, v_num=1]"
     ]
    },
    {
     "name": "stderr",
     "output_type": "stream",
     "text": [
      " UserWarning:/home/atac2rna/anaconda3/envs/atac2rna/lib/python3.9/site-packages/scvi/distributions/_negative_binomial.py:482: The value argument must be within the support of the distribution\n",
      " UserWarning:/home/atac2rna/anaconda3/envs/atac2rna/lib/python3.9/site-packages/scvi/distributions/_negative_binomial.py:482: The value argument must be within the support of the distribution\n"
     ]
    },
    {
     "name": "stdout",
     "output_type": "stream",
     "text": [
      "Epoch 498/500:  99%|██████████████████████████████████████████████████████████████████████████████████████████████████████████████████████████████████████▏| 497/500 [09:29<00:04,  1.39s/it, loss=2.6e+03, v_num=1]"
     ]
    },
    {
     "name": "stderr",
     "output_type": "stream",
     "text": [
      " UserWarning:/home/atac2rna/anaconda3/envs/atac2rna/lib/python3.9/site-packages/scvi/distributions/_negative_binomial.py:482: The value argument must be within the support of the distribution\n",
      " UserWarning:/home/atac2rna/anaconda3/envs/atac2rna/lib/python3.9/site-packages/scvi/distributions/_negative_binomial.py:482: The value argument must be within the support of the distribution\n"
     ]
    },
    {
     "name": "stdout",
     "output_type": "stream",
     "text": [
      "Epoch 499/500: 100%|█████████████████████████████████████████████████████████████████████████████████████████████████████████████████████████████████████▍| 498/500 [09:30<00:02,  1.41s/it, loss=2.63e+03, v_num=1]"
     ]
    },
    {
     "name": "stderr",
     "output_type": "stream",
     "text": [
      " UserWarning:/home/atac2rna/anaconda3/envs/atac2rna/lib/python3.9/site-packages/scvi/distributions/_negative_binomial.py:482: The value argument must be within the support of the distribution\n",
      " UserWarning:/home/atac2rna/anaconda3/envs/atac2rna/lib/python3.9/site-packages/scvi/distributions/_negative_binomial.py:482: The value argument must be within the support of the distribution\n"
     ]
    },
    {
     "name": "stdout",
     "output_type": "stream",
     "text": [
      "Epoch 500/500: 100%|██████████████████████████████████████████████████████████████████████████████████████████████████████████████████████████████████████▋| 499/500 [09:32<00:01,  1.46s/it, loss=2.6e+03, v_num=1]"
     ]
    },
    {
     "name": "stderr",
     "output_type": "stream",
     "text": [
      " UserWarning:/home/atac2rna/anaconda3/envs/atac2rna/lib/python3.9/site-packages/scvi/distributions/_negative_binomial.py:482: The value argument must be within the support of the distribution\n",
      " UserWarning:/home/atac2rna/anaconda3/envs/atac2rna/lib/python3.9/site-packages/scvi/distributions/_negative_binomial.py:482: The value argument must be within the support of the distribution\n"
     ]
    },
    {
     "name": "stdout",
     "output_type": "stream",
     "text": [
      "Epoch 500/500: 100%|███████████████████████████████████████████████████████████████████████████████████████████████████████████████████████████████████████| 500/500 [09:33<00:00,  1.38s/it, loss=2.6e+03, v_num=1]"
     ]
    },
    {
     "name": "stderr",
     "output_type": "stream",
     "text": [
      "`Trainer.fit` stopped: `max_epochs=500` reached.\n"
     ]
    },
    {
     "name": "stdout",
     "output_type": "stream",
     "text": [
      "Epoch 500/500: 100%|███████████████████████████████████████████████████████████████████████████████████████████████████████████████████████████████████████| 500/500 [09:33<00:00,  1.15s/it, loss=2.6e+03, v_num=1]\n"
     ]
    }
   ],
   "source": [
    "mvi.train()"
   ]
  },
  {
   "cell_type": "code",
   "execution_count": 13,
   "id": "b08cd4f0",
   "metadata": {
    "ExecuteTime": {
     "end_time": "2022-12-29T00:16:05.418606Z",
     "start_time": "2022-12-29T00:15:53.985531Z"
    }
   },
   "outputs": [
    {
     "name": "stderr",
     "output_type": "stream",
     "text": [
      " UserWarning:/home/atac2rna/anaconda3/envs/atac2rna/lib/python3.9/site-packages/scanpy/plotting/_tools/scatterplots.py:392: No data for colormapping provided via 'c'. Parameters 'cmap' will be ignored\n"
     ]
    },
    {
     "data": {
      "image/png": "[encoded data removed]",
      "text/plain": [
       "<Figure size 640x480 with 1 Axes>"
      ]
     },
     "metadata": {},
     "output_type": "display_data"
    }
   ],
   "source": [
    "adata.obsm[\"MultiVI_latent\"] = mvi.get_latent_representation()\n",
    "sc.pp.neighbors(adata, use_rep=\"MultiVI_latent\")\n",
    "sc.tl.umap(adata, min_dist=0.2)\n",
    "sc.pl.umap(adata, color='cell_type', title='cell_type')"
   ]
  },
  {
   "cell_type": "code",
   "execution_count": 14,
   "id": "31e6ddb5",
   "metadata": {
    "ExecuteTime": {
     "end_time": "2022-12-29T00:16:06.030979Z",
     "start_time": "2022-12-29T00:16:05.420040Z"
    }
   },
   "outputs": [
    {
     "name": "stderr",
     "output_type": "stream",
     "text": [
      " UserWarning:/home/atac2rna/anaconda3/envs/atac2rna/lib/python3.9/site-packages/scanpy/plotting/_tools/scatterplots.py:392: No data for colormapping provided via 'c'. Parameters 'cmap' will be ignored\n"
     ]
    },
    {
     "data": {
      "image/png": "[encoded data removed]",
      "text/plain": [
       "<Figure size 640x480 with 1 Axes>"
      ]
     },
     "metadata": {},
     "output_type": "display_data"
    }
   ],
   "source": [
    "sc.tl.leiden(adata)\n",
    "sc.pl.umap(adata, color='leiden', title='leiden')"
   ]
  },
  {
   "cell_type": "code",
   "execution_count": 15,
   "id": "4ed88911",
   "metadata": {
    "ExecuteTime": {
     "end_time": "2022-12-29T00:16:06.321822Z",
     "start_time": "2022-12-29T00:16:06.033579Z"
    }
   },
   "outputs": [
    {
     "data": {
      "text/plain": [
       "(0.4096722572573664,\n",
       " 0.6735728393654856,\n",
       " 0.6842336148995934,\n",
       " 0.7652979513710915,\n",
       " 0.6186979160858888,\n",
       " 0.6842336148995936)"
      ]
     },
     "execution_count": 15,
     "metadata": {},
     "output_type": "execute_result"
    }
   ],
   "source": [
    "calculate_cluster_index(adata)"
   ]
  },
  {
   "cell_type": "code",
   "execution_count": null,
   "id": "0af7e232",
   "metadata": {},
   "outputs": [],
   "source": []
  }
 ],
 "metadata": {
  "kernelspec": {
   "display_name": "Python [conda env:atac2rna]",
   "language": "python",
   "name": "conda-env-atac2rna-py"
  },
  "language_info": {
   "codemirror_mode": {
    "name": "ipython",
    "version": 3
   },
   "file_extension": ".py",
   "mimetype": "text/x-python",
   "name": "python",
   "nbconvert_exporter": "python",
   "pygments_lexer": "ipython3",
   "version": "3.9.0"
  },
  "toc": {
   "base_numbering": 1,
   "nav_menu": {},
   "number_sections": true,
   "sideBar": true,
   "skip_h1_title": false,
   "title_cell": "Table of Contents",
   "title_sidebar": "Contents",
   "toc_cell": false,
   "toc_position": {},
   "toc_section_display": true,
   "toc_window_display": true
  }
 },
 "nbformat": 4,
 "nbformat_minor": 5
}
