{
 "cells": [
  {
   "cell_type": "code",
   "execution_count": 61,
   "id": "8b2bcb10",
   "metadata": {
    "ExecuteTime": {
     "end_time": "2024-01-25T12:29:38.362256Z",
     "start_time": "2024-01-25T12:29:40.597Z"
    },
    "scrolled": true
   },
   "outputs": [],
   "source": [
    "options(warn=-1)\n",
    "library(ggplot2)\n",
    "\n",
    "library(motifmatchr)\n",
    "\n",
    "library(SummarizedExperiment)\n",
    "library(Matrix)\n",
    "\n",
    "library(BiocParallel)\n",
    "library(BSgenome.Hsapiens.UCSC.hg19)\n",
    "\n",
    "library(data.table)\n",
    "library(parallel)\n",
    "library(scABC)\n",
    "\n",
    "library(chromVAR)\n",
    "library(JASPAR2016)\n",
    "\n",
    "set.seed(1234)"
   ]
  },
  {
   "cell_type": "markdown",
   "id": "971b2228",
   "metadata": {},
   "source": [
    "# Load data"
   ]
  },
  {
   "cell_type": "code",
   "execution_count": 62,
   "id": "b6703ba4",
   "metadata": {
    "ExecuteTime": {
     "end_time": "2024-01-25T12:30:48.650826Z",
     "start_time": "2024-01-25T12:29:43.982Z"
    }
   },
   "outputs": [],
   "source": [
    "# Load data\n",
    "data_path <- \"/home/sccasimp/data/DownStreamAnalysis/\"\n",
    "for(chr in 1:22){\n",
    "  if(chr==1){\n",
    "    # https://doi.org/10.5281/zenodo.7768714 -> 1000G_Phase3_plinkfiles.tgz\n",
    "    bim <- fread(paste0(data_path, '1000G_EUR_Phase3_plink/1000G.EUR.QC.1.bim'))\n",
    "  }else{\n",
    "    bim <- rbind(bim,fread(paste0(data_path, '1000G_EUR_Phase3_plink/1000G.EUR.QC.',chr,'.bim')))\n",
    "  }\n",
    "} ## 1000G bim file\n",
    "bim$V1 <- paste0('chr',bim$V1)"
   ]
  },
  {
   "cell_type": "code",
   "execution_count": null,
   "id": "b9ff1faa",
   "metadata": {
    "ExecuteTime": {
     "end_time": "2024-01-25T12:30:48.822850Z",
     "start_time": "2024-01-25T12:29:44.427Z"
    }
   },
   "outputs": [],
   "source": [
    "bim[1:5]"
   ]
  },
  {
   "cell_type": "code",
   "execution_count": 38,
   "id": "fedf0d6b",
   "metadata": {
    "ExecuteTime": {
     "end_time": "2024-01-17T08:45:37.213818Z",
     "start_time": "2024-01-17T08:45:37.472Z"
    }
   },
   "outputs": [],
   "source": [
    "find.index <- function(df1,df2,type='reg'){\n",
    "  #colnames(df1) <- colnames(df2) <- c('V1','V2','V3')\n",
    "  library(GenomicRanges)\n",
    "  df1.gr = GRanges (IRanges(start = df1$V2, end = df1$V3), seqnames=df1$V1) \n",
    "  if(type=='reg'){\n",
    "    df2.gr = GRanges(IRanges(start=df2$V2, end = df2$V3), seqnames = df2$V1) \n",
    "  }\n",
    "  if(type=='pos'){\n",
    "    df2.gr = GRanges(IRanges(start=df2$V4, end = df2$V4), seqnames = df2$V1) \n",
    "  }\n",
    "  df1.git  = GNCList(df1.gr)\n",
    "  df2.git  = GNCList(df2.gr)\n",
    "  overlap_git = findOverlaps(df2.git, df1.git)\n",
    "  overlap_git\n",
    "  temp <- as.data.frame(overlap_git)\n",
    "  colnames(temp) <- c('df2','df1')\n",
    "  return(temp)\n",
    "}"
   ]
  },
  {
   "cell_type": "markdown",
   "id": "83796b33",
   "metadata": {
    "ExecuteTime": {
     "end_time": "2023-04-28T05:58:36.991913Z",
     "start_time": "2023-04-28T05:58:36.307Z"
    }
   },
   "source": [
    "# Expression enrichment analysis"
   ]
  },
  {
   "cell_type": "code",
   "execution_count": 63,
   "id": "b9e79be9",
   "metadata": {
    "ExecuteTime": {
     "end_time": "2024-01-25T12:41:36.809772Z",
     "start_time": "2024-01-25T12:41:36.730Z"
    }
   },
   "outputs": [],
   "source": [
    "inputpath <- \"./ATAC2RNA/pred/\"\n",
    "outputpath <- \"./ATAC2RNA/snpsea/\""
   ]
  },
  {
   "cell_type": "code",
   "execution_count": 64,
   "id": "1ef569d4",
   "metadata": {
    "ExecuteTime": {
     "end_time": "2024-01-25T12:41:44.633657Z",
     "start_time": "2024-01-25T12:41:37.976Z"
    }
   },
   "outputs": [
    {
     "name": "stdout",
     "output_type": "stream",
     "text": [
      "[1] \"bg3\"\n",
      "[1] 4390    3\n"
     ]
    }
   ],
   "source": [
    "## 1. bg\n",
    "name <- c('bg3')\n",
    "for(k in 1:1){\n",
    "  print(name[k])\n",
    "  peak <- fread(paste0(inputpath,name[k],'.bed'))\n",
    "  ind.temp <- find.index(peak,bim,type='pos')\n",
    "  bim1 <- bim[ind.temp$df2,c(1,4,2)]\n",
    "  colnames(bim1) <- c(\"CHR\",\"POS\",\"SNP\")\n",
    "  print(dim(bim1))\n",
    "  write.table(bim1,paste0(outputpath,'anno/',gsub(\" \",\"_\",name[k]),'.anno'),sep=\"\\t\",quote=F,col.names=T,row.names=F)\n",
    "}"
   ]
  },
  {
   "cell_type": "code",
   "execution_count": 65,
   "id": "a66a99eb",
   "metadata": {
    "ExecuteTime": {
     "end_time": "2024-01-25T13:32:16.818843Z",
     "start_time": "2024-01-25T13:29:34.254Z"
    },
    "scrolled": false
   },
   "outputs": [
    {
     "name": "stdout",
     "output_type": "stream",
     "text": [
      "[1] \"CD14_Mono\"\n",
      "[1] 3384    3\n",
      "[1] \"NK\"\n",
      "[1] 6198    3\n",
      "[1] \"Treg\"\n",
      "[1] 10606     3\n",
      "[1] \"CD8_Naive\"\n",
      "[1] 3046    3\n",
      "[1] \"MAIT\"\n",
      "[1] 8734    3\n",
      "[1] \"CD16_Mono\"\n",
      "[1] 2638    3\n",
      "[1] \"CD4_Naive\"\n",
      "[1] 3333    3\n",
      "[1] \"CD4_TCM\"\n",
      "[1] 5599    3\n",
      "[1] \"CD8_TEM_2\"\n",
      "[1] 6037    3\n",
      "[1] \"CD8_TEM_1\"\n",
      "[1] 11914     3\n",
      "[1] \"Intermediate_B\"\n",
      "[1] 4781    3\n",
      "[1] \"cDC\"\n",
      "[1] 4252    3\n",
      "[1] \"gdT\"\n",
      "[1] 8585    3\n",
      "[1] \"CD4_TEM\"\n",
      "[1] 7203    3\n",
      "[1] \"HSPC\"\n",
      "[1] 5426    3\n",
      "[1] \"Memory_B\"\n",
      "[1] 3748    3\n",
      "[1] \"Naive_B\"\n",
      "[1] 5159    3\n",
      "[1] \"pDC\"\n",
      "[1] 4808    3\n",
      "[1] \"Plasma\"\n",
      "[1] 5895    3\n",
      "[1] NA\n"
     ]
    },
    {
     "ename": "ERROR",
     "evalue": "Error in fread(paste0(inputpath, name[k], \".bed\")): File './ATAC2RNA/pred/NA.bed' does not exist or is non-readable. getwd()=='/work/cabins/sccasimp/software'\n",
     "output_type": "error",
     "traceback": [
      "Error in fread(paste0(inputpath, name[k], \".bed\")): File './ATAC2RNA/pred/NA.bed' does not exist or is non-readable. getwd()=='/work/cabins/sccasimp/software'\nTraceback:\n",
      "1. fread(paste0(inputpath, name[k], \".bed\"))",
      "2. stop(\"File '\", file, \"' does not exist or is non-readable. getwd()=='\", \n .     getwd(), \"'\")"
     ]
    }
   ],
   "source": [
    "## 2. specific annotations\n",
    "name <- c('CD14_Mono',\n",
    " 'NK',\n",
    " 'Treg',\n",
    " 'CD8_Naive',\n",
    " 'MAIT',\n",
    " 'CD16_Mono',\n",
    " 'CD4_Naive',\n",
    " 'CD4_TCM',\n",
    " 'CD8_TEM_2',\n",
    " 'CD8_TEM_1',\n",
    " 'Intermediate_B',\n",
    " 'cDC',\n",
    " 'gdT',\n",
    " 'CD4_TEM',\n",
    " 'HSPC',\n",
    " 'Memory_B',\n",
    " 'Naive_B',\n",
    " 'pDC',\n",
    " 'Plasma')\n",
    "for(k in 1:22){\n",
    "  print(name[k])\n",
    "  peak <- fread(paste0(inputpath,name[k],'.bed'))\n",
    "  ind.temp <- find.index(peak,bim,type='pos')\n",
    "  bim1 <- bim[ind.temp$df2,c(1,4,2)]\n",
    "  colnames(bim1) <- c(\"CHR\",\"POS\",\"SNP\")\n",
    "  print(dim(bim1))\n",
    "  write.table(bim1,paste0(outputpath,'anno/',gsub(\" \",\"_\",name[k]),'.anno'),sep=\"\\t\",quote=F,col.names=T,row.names=F)\n",
    "}"
   ]
  },
  {
   "cell_type": "code",
   "execution_count": null,
   "id": "406678fd",
   "metadata": {},
   "outputs": [],
   "source": [
    "## perform snpsea\n",
    "## download necessary files from: \n",
    "# **Home Page:** <http://www.broadinstitute.org/mpg/snpsea\n",
    "\n",
    ">\n",
    "# **Executable:** [snpsea-v1.0.3.tar.gz][exec]\n",
    "# **Data:** [SNPsea_data_20140520.zip][data]"
   ]
  },
  {
   "cell_type": "code",
   "execution_count": 17,
   "id": "2be11351",
   "metadata": {
    "ExecuteTime": {
     "end_time": "2023-11-01T05:17:16.466224Z",
     "start_time": "2023-11-01T05:17:16.448Z"
    }
   },
   "outputs": [
    {
     "ename": "ERROR",
     "evalue": "Error in parse(text = x, srcfile = src): <text>:9:25: unexpected numeric constant\n8:     --out               /home/sccasimp/program/sccasimp/revision/DA/anno/bg.anno.out\n9:     --slop              10e3\n                           ^\n",
     "output_type": "error",
     "traceback": [
      "Error in parse(text = x, srcfile = src): <text>:9:25: unexpected numeric constant\n8:     --out               /home/sccasimp/program/sccasimp/revision/DA/anno/bg.anno.out\n9:     --slop              10e3\n                           ^\nTraceback:\n"
     ]
    }
   ],
   "source": [
    "# # shell\n",
    "# options=(\n",
    "#     --snps              /home/sccasimp/program/sccasimp/revision/DA/anno/bg2.anno\n",
    "#     --gene-matrix       /home/sccasimp/data/DownStreamAnalysis/GeneAtlas2004.gct.gz\n",
    "#     --gene-intervals    /home/sccasimp/data/DownStreamAnalysis/NCBIgenes2013.bed.gz\n",
    "#     --snp-intervals     /home/sccasimp/data/DownStreamAnalysis/TGP2011.bed.gz\n",
    "#     --null-snps         /home/sccasimp/data/DownStreamAnalysis/Lango2010.txt.gz\n",
    "#     --out               /home/sccasimp/program/sccasimp/revision/DA/anno/bg2.anno.out\n",
    "#     --slop              10e3\n",
    "#     --threads           4\n",
    "#     --null-snpsets      0\n",
    "#     --min-observations  100\n",
    "#     --max-iterations    1e7\n",
    "# )\n",
    "# /home/sccasimp/software/snpsea_v1.0.2/bin/snpsea ${options[*]}\n",
    "# /home/sccasimp/software/snpsea_v1.0.2/bin/snpsea-barplot_modified /home/sccasimp/program/sccasimp/revision/DA/anno/bg2.anno.out --top 30 --fontsize 10"
   ]
  },
  {
   "cell_type": "markdown",
   "id": "dd97edc8",
   "metadata": {},
   "source": [
    "# Partitioned heritability analysis"
   ]
  },
  {
   "cell_type": "code",
   "execution_count": 7,
   "id": "103acd99",
   "metadata": {
    "ExecuteTime": {
     "end_time": "2023-11-12T09:13:00.556178Z",
     "start_time": "2023-11-12T09:12:59.746Z"
    }
   },
   "outputs": [
    {
     "ename": "ERROR",
     "evalue": "Error in parse(text = x, srcfile = src): <text>:2:9: unexpected symbol\n1: # data example\n2: SNP     A1\n           ^\n",
     "output_type": "error",
     "traceback": [
      "Error in parse(text = x, srcfile = src): <text>:2:9: unexpected symbol\n1: # data example\n2: SNP     A1\n           ^\nTraceback:\n"
     ]
    }
   ],
   "source": [
    "# # data example\n",
    "# SNP\tA1\tA2\tN\tCHISQ\tZ\n",
    "# rs3094315\tG\tA\t443940\t0.0138\t0.1174\n",
    "# rs3131972\tA\tG\t443940\t0.0142\t0.1192\n",
    "# rs3131969\tA\tG\t443940\t0.8643\t0.9297\n",
    "# rs1048488\tC\tT\t443940\t0.0434\t0.2084\n",
    "# rs3115850\tT\tC\t443940\t0.0417\t0.2043\n",
    "# rs2286139\tC\tT\t443940\t0.4812\t0.6937\n",
    "# rs12562034\tG\tA\t443940\t0.0546\t0.2336\n",
    "# rs4040617\tA\tG\t443940\t0.5676\t-0.7534\n",
    "# rs2980300\tT\tC\t443940\t0.4392\t0.6627"
   ]
  },
  {
   "cell_type": "code",
   "execution_count": 66,
   "id": "0d601a73",
   "metadata": {
    "ExecuteTime": {
     "end_time": "2024-01-25T13:37:40.850921Z",
     "start_time": "2024-01-25T13:37:40.903Z"
    }
   },
   "outputs": [],
   "source": [
    "inputpath <- \"./ATAC2RNA/pred/\"\n",
    "outputpath <- \"./ATAC2RNA/\""
   ]
  },
  {
   "cell_type": "code",
   "execution_count": 67,
   "id": "16e5c7a2",
   "metadata": {
    "ExecuteTime": {
     "end_time": "2024-01-25T13:37:48.923658Z",
     "start_time": "2024-01-25T13:37:42.069Z"
    }
   },
   "outputs": [],
   "source": [
    " ## 1000G bim file\n",
    "bg_name <- 'bg3'\n",
    "bg1 <- fread(paste0(inputpath,bg_name,'.bed'))\n",
    "ind.bg <- find.index(bg1,bim,type='pos')\n",
    "snpset <- list()\n",
    "snpset[[1]] <- bim$V2[ind.bg$df2]"
   ]
  },
  {
   "cell_type": "code",
   "execution_count": 68,
   "id": "d468273a",
   "metadata": {
    "ExecuteTime": {
     "end_time": "2024-01-25T13:40:30.557550Z",
     "start_time": "2024-01-25T13:37:50.175Z"
    }
   },
   "outputs": [],
   "source": [
    "peak <- list()\n",
    "name <-c('CD14_Mono',\n",
    " 'NK',\n",
    " 'Treg',\n",
    " 'CD8_Naive',\n",
    " 'MAIT',\n",
    " 'CD16_Mono',\n",
    " 'CD4_Naive',\n",
    " 'CD4_TCM',\n",
    " 'CD8_TEM_2',\n",
    " 'CD8_TEM_1',\n",
    " 'Intermediate_B',\n",
    " 'cDC',\n",
    " 'gdT',\n",
    " 'CD4_TEM',\n",
    " 'HSPC',\n",
    " 'Memory_B',\n",
    " 'Naive_B',\n",
    " 'pDC',\n",
    " 'Plasma')\n",
    "for(k in 1:length(name)){\n",
    "  peak[[k]] <- fread(paste0(inputpath,name[k],'.bed'))\n",
    "  ind.temp <- find.index(peak[[k]],bim,type='pos')\n",
    "  snpset[[k+1]] <- bim$V2[ind.temp$df2]\n",
    "}"
   ]
  },
  {
   "cell_type": "code",
   "execution_count": 69,
   "id": "b78b734c",
   "metadata": {
    "ExecuteTime": {
     "end_time": "2024-01-25T13:50:28.763109Z",
     "start_time": "2024-01-25T13:44:52.287Z"
    },
    "scrolled": true
   },
   "outputs": [
    {
     "name": "stdout",
     "output_type": "stream",
     "text": [
      "[1] 1\n",
      "[1] 2\n",
      "[1] 3\n",
      "[1] 4\n",
      "[1] 5\n",
      "[1] 6\n",
      "[1] 7\n",
      "[1] 8\n",
      "[1] 9\n",
      "[1] 10\n",
      "[1] 11\n",
      "[1] 12\n",
      "[1] 13\n",
      "[1] 14\n",
      "[1] 15\n",
      "[1] 16\n",
      "[1] 17\n",
      "[1] 18\n",
      "[1] 19\n",
      "[1] 20\n",
      "[1] 21\n",
      "[1] 22\n"
     ]
    }
   ],
   "source": [
    "for(chr in 1:22){\n",
    "  print(chr)\n",
    "  bim2 <- fread(paste0(data_path, '1000G_EUR_Phase3_plink/1000G.EUR.QC.',chr,'.bim')) ## 1000G bim file for each chromosome\n",
    "  for(j in 1:(length(name)+1)){\n",
    "    index <- which(bim2$V2%in%snpset[[j]])\n",
    "    anno <- rep(0,nrow(bim2))\n",
    "    anno[index] <- 1\n",
    "    if(j==1){\n",
    "      anno1 <- cbind(rep(1,nrow(bim2)),anno)\n",
    "    }else{\n",
    "      anno1 <- cbind(anno1,anno)\n",
    "    }\n",
    "  }\n",
    "  colnames(anno1) <- c('base',bg_name,name)\n",
    "  write.table(anno1,paste0(outputpath,'LDSC/epi.mm',chr,'.annot'),quote=F,row.names=F,col.names=T,sep='\\t')\n",
    "}"
   ]
  },
  {
   "cell_type": "code",
   "execution_count": 39,
   "id": "2c9e0b41",
   "metadata": {
    "ExecuteTime": {
     "end_time": "2023-11-01T09:21:59.838776Z",
     "start_time": "2023-11-01T09:21:59.976Z"
    }
   },
   "outputs": [
    {
     "ename": "ERROR",
     "evalue": "Error in parse(text = x, srcfile = src): <text>:3:5: unexpected symbol\n2: # summarystats\n3: for name\n       ^\n",
     "output_type": "error",
     "traceback": [
      "Error in parse(text = x, srcfile = src): <text>:3:5: unexpected symbol\n2: # summarystats\n3: for name\n       ^\nTraceback:\n"
     ]
    }
   ],
   "source": [
    "# shell\n",
    "# summarystats\n",
    "\n",
    "for i in {1..22}\n",
    "do python /home/sccasimp/software/ldsc/ldsc.py --l2 --bfile /home/sccasimp/data/DownStreamAnalysis/1000G_EUR_Phase3_plink/1000G.EUR.QC.$i --ld-wind-cm 1 --annot /home/sccasimp/software/ATAC2RNA/LDSC/epi.mm$i.annot --thin-annot --out /home/sccasimp/software/ATAC2RNA/LDSC/epi.mm$i\n",
    "done\n",
    "\n",
    "\n",
    "for name in `ls /home/sccasimp/data/DownStreamAnalysis/sumstats/*.gz`;\n",
    "do \n",
    "echo ${name}\n",
    "python /home/sccasimp/software/ldsc/ldsc.py --h2 ${name} --ref-ld-chr /home/sccasimp/software/ATAC2RNA/LDSC/epi.mm --w-ld-chr /home/sccasimp/software/ldsc/eur_w_ld_chr/weights.hm3_noMHC. --overlap-annot --not-M-5-50 --out /home/sccasimp/software/ATAC2RNA/LDSC/${name#*sumstats/}\n",
    "done"
   ]
  }
 ],
 "metadata": {
  "kernelspec": {
   "display_name": "R [conda env:DownStreamAnalysis]",
   "language": "R",
   "name": "conda-env-DownStreamAnalysis-r"
  },
  "language_info": {
   "codemirror_mode": "r",
   "file_extension": ".r",
   "mimetype": "text/x-r-source",
   "name": "R",
   "pygments_lexer": "r",
   "version": "4.2.3"
  },
  "toc": {
   "base_numbering": 1,
   "nav_menu": {},
   "number_sections": true,
   "sideBar": true,
   "skip_h1_title": false,
   "title_cell": "Table of Contents",
   "title_sidebar": "Contents",
   "toc_cell": false,
   "toc_position": {},
   "toc_section_display": true,
   "toc_window_display": false
  },
  "varInspector": {
   "cols": {
    "lenName": 16,
    "lenType": 16,
    "lenVar": 40
   },
   "kernels_config": {
    "python": {
     "delete_cmd_postfix": "",
     "delete_cmd_prefix": "del ",
     "library": "var_list.py",
     "varRefreshCmd": "print(var_dic_list())"
    },
    "r": {
     "delete_cmd_postfix": ") ",
     "delete_cmd_prefix": "rm(",
     "library": "var_list.r",
     "varRefreshCmd": "cat(var_dic_list()) "
    }
   },
   "types_to_exclude": [
    "module",
    "function",
    "builtin_function_or_method",
    "instance",
    "_Feature"
   ],
   "window_display": false
  }
 },
 "nbformat": 4,
 "nbformat_minor": 5
}
