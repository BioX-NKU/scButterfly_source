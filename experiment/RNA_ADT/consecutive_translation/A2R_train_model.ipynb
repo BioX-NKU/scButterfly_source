{
 "cells": [
  {
   "cell_type": "code",
   "execution_count": 1,
   "id": "591501ab",
   "metadata": {
    "ExecuteTime": {
     "end_time": "2022-12-15T04:13:15.160349Z",
     "start_time": "2022-12-15T04:12:58.191433Z"
    }
   },
   "outputs": [],
   "source": [
    "import getopt\n",
    "import sys\n",
    "import gc\n",
    "import os\n",
    "import random\n",
    "sys.path.append('/home/atac2rna/program/atac2rna/Model/butterfly/Butterfly')\n",
    "sys.path.append('/home/atac2rna/program/atac2rna/Model/butterfly/experiment/RNA_ADT')\n",
    "from data_processing import RNA_data_preprocessing, ATAC_data_preprocessing\n",
    "import scanpy as sc\n",
    "import anndata as ad\n",
    "\n",
    "sc_data = sc.read_h5ad('/home/atac2rna/data/atac2rna/data/openproblems_neurips2021/GSE194122_openproblems_neurips2021_multiome_BMMC_count.h5ad')\n",
    "RNA_data_test = sc_data[:, 0:13431]\n",
    "ATAC_data_test = sc_data[:, 13431:]\n",
    "del sc_data\n",
    "gc.collect()\n",
    "\n",
    "RNA_data_train = sc.read_h5ad('/home/atac2rna/data/atac2rna/data/openproblems_neurips2021/bmmc_RNA_cnt.h5ad')\n",
    "ADT_data_train = sc.read_h5ad('/home/atac2rna/data/atac2rna/data/openproblems_neurips2021/bmmc_ADT_CLRed.h5ad')"
   ]
  },
  {
   "cell_type": "code",
   "execution_count": null,
   "id": "6c1cc753",
   "metadata": {
    "ExecuteTime": {
     "start_time": "2022-12-15T04:12:58.977Z"
    }
   },
   "outputs": [],
   "source": [
    "rna_atac_gene = RNA_data_test.var.index\n",
    "rna_adt_gene = RNA_data_train.var.index\n",
    "gene_list_rna_atac = []\n",
    "gene_list_rna_adt = []\n",
    "for i in range(len(rna_atac_gene)):\n",
    "    for j in range(len(rna_adt_gene)):\n",
    "        if rna_adt_gene[j] == rna_atac_gene[i]:\n",
    "            gene_list_rna_atac.append(i)\n",
    "            gene_list_rna_adt.append(j)\n",
    "            break"
   ]
  },
  {
   "cell_type": "code",
   "execution_count": null,
   "id": "465b8b41",
   "metadata": {
    "ExecuteTime": {
     "start_time": "2022-12-15T04:13:07.104Z"
    }
   },
   "outputs": [],
   "source": [
    "import scipy.sparse as sp"
   ]
  },
  {
   "cell_type": "code",
   "execution_count": null,
   "id": "0d7f1fb8",
   "metadata": {
    "ExecuteTime": {
     "start_time": "2022-12-15T04:13:08.017Z"
    }
   },
   "outputs": [],
   "source": [
    "big_RNA = ad.AnnData(X = sp.vstack((RNA_data_train.X[:, gene_list_rna_adt], RNA_data_test.X[:, gene_list_rna_atac])))"
   ]
  },
  {
   "cell_type": "code",
   "execution_count": null,
   "id": "0400135c",
   "metadata": {
    "ExecuteTime": {
     "start_time": "2022-12-15T04:13:17.897Z"
    }
   },
   "outputs": [],
   "source": [
    "big_RNA.var = RNA_data_test.var.iloc[gene_list_rna_atac, :]"
   ]
  },
  {
   "cell_type": "code",
   "execution_count": null,
   "id": "df521cbc",
   "metadata": {
    "ExecuteTime": {
     "start_time": "2022-12-15T04:13:19.962Z"
    }
   },
   "outputs": [],
   "source": [
    "big_RNA.var"
   ]
  },
  {
   "cell_type": "code",
   "execution_count": null,
   "id": "745dc6fb",
   "metadata": {
    "ExecuteTime": {
     "start_time": "2022-12-15T04:13:21.699Z"
    }
   },
   "outputs": [],
   "source": [
    "file_path = '/home/atac2rna/data/atac2rna/model_output/22_10_12/Cite_test/A2R2A/A2R_batch_4'"
   ]
  },
  {
   "cell_type": "code",
   "execution_count": 8,
   "id": "ae6cfdf8",
   "metadata": {
    "ExecuteTime": {
     "end_time": "2022-12-14T13:50:45.682696Z",
     "start_time": "2022-12-14T13:50:42.076766Z"
    }
   },
   "outputs": [
    {
     "name": "stderr",
     "output_type": "stream",
     "text": [
      " SettingWithCopyWarning:/home/atac2rna/anaconda3/envs/atac2rna/lib/python3.9/site-packages/scanpy/preprocessing/_highly_variable_genes.py:541: \n",
      "A value is trying to be set on a copy of a slice from a DataFrame.\n",
      "Try using .loc[row_indexer,col_indexer] = value instead\n",
      "\n",
      "See the caveats in the documentation: https://pandas.pydata.org/pandas-docs/stable/user_guide/indexing.html#returning-a-view-versus-a-copy\n",
      " SettingWithCopyWarning:/home/atac2rna/anaconda3/envs/atac2rna/lib/python3.9/site-packages/scanpy/preprocessing/_highly_variable_genes.py:542: \n",
      "A value is trying to be set on a copy of a slice from a DataFrame.\n",
      "Try using .loc[row_indexer,col_indexer] = value instead\n",
      "\n",
      "See the caveats in the documentation: https://pandas.pydata.org/pandas-docs/stable/user_guide/indexing.html#returning-a-view-versus-a-copy\n",
      " SettingWithCopyWarning:/home/atac2rna/anaconda3/envs/atac2rna/lib/python3.9/site-packages/scanpy/preprocessing/_highly_variable_genes.py:543: \n",
      "A value is trying to be set on a copy of a slice from a DataFrame.\n",
      "Try using .loc[row_indexer,col_indexer] = value instead\n",
      "\n",
      "See the caveats in the documentation: https://pandas.pydata.org/pandas-docs/stable/user_guide/indexing.html#returning-a-view-versus-a-copy\n",
      " SettingWithCopyWarning:/home/atac2rna/anaconda3/envs/atac2rna/lib/python3.9/site-packages/scanpy/preprocessing/_highly_variable_genes.py:544: \n",
      "A value is trying to be set on a copy of a slice from a DataFrame.\n",
      "Try using .loc[row_indexer,col_indexer] = value instead\n",
      "\n",
      "See the caveats in the documentation: https://pandas.pydata.org/pandas-docs/stable/user_guide/indexing.html#returning-a-view-versus-a-copy\n"
     ]
    }
   ],
   "source": [
    "############################################################\n",
    "# Part 1 data processing\n",
    "big_RNA = RNA_data_preprocessing(\n",
    "    big_RNA,\n",
    "    normalize_total=True,\n",
    "    log1p=True,\n",
    "    use_hvg=True,\n",
    "    n_top_genes=3000,\n",
    "    save_data=False,\n",
    "    file_path=file_path,\n",
    "    logging_path=file_path\n",
    "    )"
   ]
  },
  {
   "cell_type": "code",
   "execution_count": 9,
   "id": "a153d48e",
   "metadata": {
    "ExecuteTime": {
     "end_time": "2022-12-14T13:55:59.901075Z",
     "start_time": "2022-12-14T13:50:45.684794Z"
    }
   },
   "outputs": [
    {
     "name": "stdout",
     "output_type": "stream",
     "text": [
      "1\n"
     ]
    },
    {
     "name": "stderr",
     "output_type": "stream",
     "text": [
      " ImplicitModificationWarning:/home/atac2rna/anaconda3/envs/atac2rna/lib/python3.9/site-packages/episcanpy/preprocessing/_quality_control.py:135: Trying to modify attribute `.X` of view, initializing view as actual.\n"
     ]
    },
    {
     "name": "stdout",
     "output_type": "stream",
     "text": [
      "2\n",
      "3\n"
     ]
    }
   ],
   "source": [
    "ATAC_data_test = ATAC_data_preprocessing(\n",
    "    ATAC_data_test,\n",
    "    binary_data=True,\n",
    "    filter_features=True,\n",
    "    fpeaks=0.005,\n",
    "    tfidf=True,\n",
    "    normalize=True,\n",
    "    save_data=False,\n",
    "    file_path=file_path,\n",
    "    logging_path=file_path\n",
    ")[0]"
   ]
  },
  {
   "cell_type": "code",
   "execution_count": null,
   "id": "c7b9a572",
   "metadata": {
    "ExecuteTime": {
     "start_time": "2022-12-15T04:13:34.300Z"
    }
   },
   "outputs": [],
   "source": [
    "RNA_data_train = ad.AnnData(X=big_RNA.X[0:90261, :], obs=RNA_data_train.obs, var=big_RNA.var)"
   ]
  },
  {
   "cell_type": "code",
   "execution_count": null,
   "id": "8e1c4ab9",
   "metadata": {
    "ExecuteTime": {
     "start_time": "2022-12-15T04:13:35.844Z"
    }
   },
   "outputs": [],
   "source": [
    "RNA_data_test = ad.AnnData(X=big_RNA.X[90261:, :], obs=RNA_data_test.obs, var=big_RNA.var)"
   ]
  },
  {
   "cell_type": "code",
   "execution_count": null,
   "id": "9d45effd",
   "metadata": {
    "ExecuteTime": {
     "start_time": "2022-12-15T04:13:41.023Z"
    }
   },
   "outputs": [],
   "source": [
    "RNA_data_test"
   ]
  },
  {
   "cell_type": "code",
   "execution_count": null,
   "id": "91714abe",
   "metadata": {
    "ExecuteTime": {
     "start_time": "2022-12-15T04:13:48.316Z"
    }
   },
   "outputs": [],
   "source": [
    "number = 4"
   ]
  },
  {
   "cell_type": "code",
   "execution_count": null,
   "id": "e7c0726b",
   "metadata": {
    "ExecuteTime": {
     "start_time": "2022-12-15T04:13:49.793Z"
    }
   },
   "outputs": [],
   "source": [
    "############################################################\n",
    "# Part 2 split datasets\n",
    "from split_datasets import *\n",
    "id_list = bmmc_batch_split_dataset(RNA_data_test, ATAC_data_test)\n",
    "train_id, validation_id, test_id = id_list[int(number) - 1]\n",
    "train_id_r = train_id.copy()\n",
    "train_id_a = train_id.copy()\n",
    "validation_id_r = validation_id.copy()\n",
    "validation_id_a = validation_id.copy()\n",
    "test_id_r = test_id.copy()\n",
    "test_id_a = test_id.copy()"
   ]
  },
  {
   "cell_type": "code",
   "execution_count": null,
   "id": "002e22b0",
   "metadata": {},
   "outputs": [],
   "source": [
    "from scvi_colab import install\n",
    "import pandas as pd\n",
    "install()\n",
    "import scvi\n",
    "import sys\n",
    "from calculate_cluster import *\n",
    "import scipy.sparse as sp\n",
    "from split_datasets import *\n",
    "import gc\n",
    "\n",
    "sc_data = sc.read_h5ad('/home/atac2rna/data/atac2rna/data/openproblems_neurips2021/GSE194122_openproblems_neurips2021_multiome_BMMC_count.h5ad')\n",
    "ATAC_data = sc_data[:, 13431:]\n",
    "RNA_data = sc_data[:, 0:13431]\n",
    "del sc_data\n",
    "gc.collect()\n",
    "\n",
    "adata = ad.AnnData(sp.hstack((RNA_data.X, ATAC_data.X)))\n",
    "adata.X = adata.X.tocsr()\n",
    "adata.obs = RNA_data.obs\n",
    "\n",
    "m = len(RNA_data.var.index)\n",
    "n = len(ATAC_data.var.index)\n",
    "adata.var.index = pd.Series([RNA_data.var.index[i] if i<m else ATAC_data.var.index[i-m] for i in range(m+n)], dtype='object')\n",
    "adata.var['modality'] = pd.Series(['Gene Expression' if i<m else 'Peaks' for i in range(m+n)], dtype='object').values\n",
    "\n",
    "adata.var_names_make_unique()\n",
    "\n",
    "adata_mvi = scvi.data.organize_multiome_anndatas(adata)\n",
    "\n",
    "adata_mvi = adata_mvi[:, adata_mvi.var[\"modality\"].argsort()].copy()\n",
    "\n",
    "sc.pp.filter_genes(adata_mvi, min_cells=int(adata_mvi.shape[0] * 0.01))\n",
    "\n",
    "\n",
    "id_list = bmmc_batch_split_dataset(RNA_data, ATAC_data, seed = 19193)\n",
    "\n",
    "\n",
    "train_id, validation_id, test_id = id_list[int(number) - 1]\n",
    "\n",
    "train_adata = idx2adata_multiVI(adata_mvi, train_id, validation_id, test_id)[0]\n",
    "\n",
    "scvi.model.MULTIVI.setup_anndata(train_adata, batch_key='modality')\n",
    "\n",
    "mvi = scvi.model.MULTIVI(\n",
    "    train_adata,\n",
    "    n_genes=(adata_mvi.var['modality']=='Gene Expression').sum(),\n",
    "    n_regions=(adata_mvi.var['modality']=='Peaks').sum(),\n",
    ")\n",
    "\n",
    "mvi.train()\n",
    "\n",
    "train_adata.obsm[\"MultiVI_latent\"] = mvi.get_latent_representation()\n",
    "leiden_adata = ad.AnnData(train_adata.obsm[\"MultiVI_latent\"])\n",
    "sc.pp.neighbors(leiden_adata)\n",
    "sc.tl.leiden(leiden_adata, resolution=3)\n",
    "\n",
    "del train_adata, adata_mvi\n",
    "gc.collect()"
   ]
  },
  {
   "cell_type": "code",
   "execution_count": null,
   "id": "f7add32b",
   "metadata": {},
   "outputs": [],
   "source": [
    "import random\n",
    "copy_count = 3\n",
    "random.seed(19193)\n",
    "cell_type = leiden_adata.obs.leiden\n",
    "for i in range(len(cell_type.cat.categories)):\n",
    "    cell_type_name = cell_type.cat.categories[i]\n",
    "    idx_temp = list(cell_type[cell_type == cell_type_name].index.astype(int))\n",
    "    for j in range(copy_count - 1):\n",
    "        random.shuffle(idx_temp)\n",
    "        for each in idx_temp:\n",
    "            train_id_r.append(train_id[each])\n",
    "        random.shuffle(idx_temp)\n",
    "        for each in idx_temp:\n",
    "            train_id_a.append(train_id[each])"
   ]
  },
  {
   "cell_type": "code",
   "execution_count": 16,
   "id": "f7a41f68",
   "metadata": {
    "ExecuteTime": {
     "end_time": "2022-12-14T13:56:00.532620Z",
     "start_time": "2022-12-14T13:56:00.528243Z"
    }
   },
   "outputs": [
    {
     "data": {
      "text/plain": [
       "95397"
      ]
     },
     "execution_count": 16,
     "metadata": {},
     "output_type": "execute_result"
    }
   ],
   "source": [
    "len(train_id_r)"
   ]
  },
  {
   "cell_type": "code",
   "execution_count": 17,
   "id": "0eb3eec0",
   "metadata": {
    "ExecuteTime": {
     "end_time": "2022-12-14T13:56:01.030204Z",
     "start_time": "2022-12-14T13:56:00.533892Z"
    }
   },
   "outputs": [],
   "source": [
    "chrom_list = []\n",
    "last_one = ''\n",
    "for i in range(len(ATAC_data_test.var.gene_id.index)):\n",
    "    temp = ATAC_data_test.var.gene_id.index[i].split('-')[0]\n",
    "    if temp[0 : 3] == 'chr':\n",
    "        if not temp == last_one:\n",
    "            chrom_list.append(1)\n",
    "            last_one = temp\n",
    "        else:\n",
    "            chrom_list[-1] += 1\n",
    "    else:\n",
    "        chrom_list[-1] += 1"
   ]
  },
  {
   "cell_type": "code",
   "execution_count": 18,
   "id": "f750b8d9",
   "metadata": {
    "ExecuteTime": {
     "end_time": "2022-12-14T13:56:41.472643Z",
     "start_time": "2022-12-14T13:56:01.031611Z"
    }
   },
   "outputs": [],
   "source": [
    "from train_model import Model\n",
    "import torch\n",
    "import torch.nn as nn\n",
    "\n",
    "RNA_input_dim = len([i for i in RNA_data_test.var['highly_variable'] if i])\n",
    "ATAC_input_dim = ATAC_data_test.X.shape[1]\n",
    "\n",
    "R_kl_div = 1 / RNA_input_dim * 20\n",
    "A_kl_div = 1 / ATAC_input_dim * 20\n",
    "kl_div = R_kl_div + A_kl_div\n",
    "\n",
    "############################################################\n",
    "# Part 4 construct model\n",
    "model = Model(\n",
    "    R_encoder_nlayer = 2, \n",
    "    A_encoder_nlayer = 2,\n",
    "    R_decoder_nlayer = 2, \n",
    "    A_decoder_nlayer = 2,\n",
    "    R_encoder_dim_list = [RNA_input_dim, 256, 128],\n",
    "    A_encoder_dim_list = [ATAC_input_dim, 32 * len(chrom_list), 128],\n",
    "    R_decoder_dim_list = [128, 256, RNA_input_dim],\n",
    "    A_decoder_dim_list = [128, 32 * len(chrom_list), ATAC_input_dim],\n",
    "    R_encoder_act_list = [nn.LeakyReLU(), nn.LeakyReLU()],\n",
    "    A_encoder_act_list = [nn.LeakyReLU(), nn.LeakyReLU()],\n",
    "    R_decoder_act_list = [nn.LeakyReLU(), nn.LeakyReLU()],\n",
    "    A_decoder_act_list = [nn.LeakyReLU(), nn.Sigmoid()],\n",
    "    translator_embed_dim = 128, \n",
    "    translator_input_dim_r = 128,\n",
    "    translator_input_dim_a = 128,\n",
    "    translator_embed_act_list = [nn.LeakyReLU(), nn.LeakyReLU(), nn.LeakyReLU()],\n",
    "    discriminator_nlayer = 1,\n",
    "    discriminator_dim_list_R = [128],\n",
    "    discriminator_dim_list_A = [128],\n",
    "    discriminator_act_list = [nn.Sigmoid()],\n",
    "    dropout_rate = 0.1,\n",
    "    R_noise_rate = 0.5,\n",
    "    A_noise_rate = 0.3,\n",
    "    chrom_list = chrom_list,\n",
    "    logging_path = file_path,\n",
    "    RNA_data = RNA_data,\n",
    "    ATAC_data = ATAC_data\n",
    ")"
   ]
  },
  {
   "cell_type": "code",
   "execution_count": null,
   "id": "c4acc9bd",
   "metadata": {
    "ExecuteTime": {
     "start_time": "2022-12-14T13:48:37.365Z"
    }
   },
   "outputs": [
    {
     "name": "stderr",
     "output_type": "stream",
     "text": [
      " UserWarning:/home/atac2rna/anaconda3/envs/atac2rna/lib/python3.9/site-packages/torch/nn/_reduction.py:42: size_average and reduce args will be deprecated, please use reduction='mean' instead.\n",
      "RNA pretrain:   1%|▏                   | 1/100 [03:45<6:11:26, 225.12s/it, train=0.1062, val=0.1206]"
     ]
    }
   ],
   "source": [
    "model.train(\n",
    "    R_encoder_lr = 0.001,\n",
    "    A_encoder_lr = 0.001,\n",
    "    R_decoder_lr = 0.001,\n",
    "    A_decoder_lr = 0.001,\n",
    "    R_translator_lr = 0.001,\n",
    "    A_translator_lr = 0.001,\n",
    "    translator_lr = 0.001,\n",
    "    discriminator_lr = 0.005,\n",
    "    R2R_pretrain_epoch = 100,\n",
    "    A2A_pretrain_epoch = 100,\n",
    "    lock_encoder_and_decoder = False,\n",
    "    translator_epoch = 200,\n",
    "    patience = 50,\n",
    "    batch_size = 64,\n",
    "    r_loss = nn.MSELoss(size_average=True),\n",
    "    a_loss = nn.BCELoss(size_average=True),\n",
    "    d_loss = nn.BCELoss(size_average=True),\n",
    "    loss_weight = [1, 2, 1, R_kl_div, A_kl_div, kl_div],\n",
    "    train_id_r = train_id_r,\n",
    "    train_id_a = train_id_a,\n",
    "    validation_id_r = validation_id_r, \n",
    "    validation_id_a = validation_id_a, \n",
    "    output_path = file_path,\n",
    "    seed = 19193,\n",
    "    kl_mean = True,\n",
    "    R_pretrain_kl_warmup = 50,\n",
    "    A_pretrain_kl_warmup = 50,\n",
    "    translation_kl_warmup = 50,\n",
    "    load_model = None,\n",
    "    logging_path = file_path\n",
    ")"
   ]
  },
  {
   "cell_type": "code",
   "execution_count": 21,
   "id": "726f0db9",
   "metadata": {
    "ExecuteTime": {
     "end_time": "2022-12-15T03:47:58.537347Z",
     "start_time": "2022-12-15T03:47:58.494041Z"
    }
   },
   "outputs": [
    {
     "data": {
      "text/plain": [
       "True"
      ]
     },
     "execution_count": 21,
     "metadata": {},
     "output_type": "execute_result"
    }
   ],
   "source": [
    "model.is_train_finished"
   ]
  },
  {
   "cell_type": "code",
   "execution_count": null,
   "id": "8738420e",
   "metadata": {},
   "outputs": [],
   "source": []
  }
 ],
 "metadata": {
  "kernelspec": {
   "display_name": "Python [conda env:atac2rna]",
   "language": "python",
   "name": "conda-env-atac2rna-py"
  },
  "language_info": {
   "codemirror_mode": {
    "name": "ipython",
    "version": 3
   },
   "file_extension": ".py",
   "mimetype": "text/x-python",
   "name": "python",
   "nbconvert_exporter": "python",
   "pygments_lexer": "ipython3",
   "version": "3.9.0"
  },
  "toc": {
   "base_numbering": 1,
   "nav_menu": {},
   "number_sections": true,
   "sideBar": true,
   "skip_h1_title": false,
   "title_cell": "Table of Contents",
   "title_sidebar": "Contents",
   "toc_cell": false,
   "toc_position": {},
   "toc_section_display": true,
   "toc_window_display": false
  }
 },
 "nbformat": 4,
 "nbformat_minor": 5
}
