{
 "cells": [
  {
   "cell_type": "code",
   "execution_count": 1,
   "id": "591501ab",
   "metadata": {
    "ExecuteTime": {
     "end_time": "2022-12-14T13:48:53.195669Z",
     "start_time": "2022-12-14T13:48:37.432921Z"
    }
   },
   "outputs": [],
   "source": [
    "import getopt\n",
    "import sys\n",
    "import gc\n",
    "import os\n",
    "import random\n",
    "sys.path.append('/home/atac2rna/program/atac2rna/Model/butterfly/Butterfly')\n",
    "sys.path.append('/home/atac2rna/program/atac2rna/Model/butterfly/experiment/RNA_ADT')\n",
    "from data_processing import RNA_data_preprocessing, ATAC_data_preprocessing\n",
    "import scanpy as sc\n",
    "import anndata as ad\n",
    "    \n",
    "sc_data = sc.read_h5ad('/home/atac2rna/data/atac2rna/data/openproblems_neurips2021/GSE194122_openproblems_neurips2021_multiome_BMMC_count.h5ad')\n",
    "RNA_data_test = sc_data[:, 0:13431]\n",
    "ATAC_data_test = sc_data[:, 13431:]\n",
    "del sc_data\n",
    "gc.collect()\n",
    "\n",
    "RNA_data_train = sc.read_h5ad('/home/atac2rna/data/atac2rna/data/openproblems_neurips2021/bmmc_RNA_cnt.h5ad')\n",
    "ADT_data_train = sc.read_h5ad('/home/atac2rna/data/atac2rna/data/openproblems_neurips2021/bmmc_ADT_CLRed.h5ad')"
   ]
  },
  {
   "cell_type": "code",
   "execution_count": 2,
   "id": "41f7ba84",
   "metadata": {
    "ExecuteTime": {
     "end_time": "2022-12-14T13:50:32.964066Z",
     "start_time": "2022-12-14T13:48:53.198086Z"
    }
   },
   "outputs": [],
   "source": [
    "rna_atac_gene = RNA_data_test.var.index\n",
    "rna_adt_gene = RNA_data_train.var.index\n",
    "gene_list_rna_atac = []\n",
    "gene_list_rna_adt = []\n",
    "for i in range(len(rna_atac_gene)):\n",
    "    for j in range(len(rna_adt_gene)):\n",
    "        if rna_adt_gene[j] == rna_atac_gene[i]:\n",
    "            gene_list_rna_atac.append(i)\n",
    "            gene_list_rna_adt.append(j)\n",
    "            break"
   ]
  },
  {
   "cell_type": "code",
   "execution_count": 3,
   "id": "387e629b",
   "metadata": {
    "ExecuteTime": {
     "end_time": "2022-12-14T13:50:32.970004Z",
     "start_time": "2022-12-14T13:50:32.966470Z"
    }
   },
   "outputs": [],
   "source": [
    "import scipy.sparse as sp"
   ]
  },
  {
   "cell_type": "code",
   "execution_count": 4,
   "id": "149bebbf",
   "metadata": {
    "ExecuteTime": {
     "end_time": "2022-12-14T13:50:38.528689Z",
     "start_time": "2022-12-14T13:50:32.972261Z"
    }
   },
   "outputs": [],
   "source": [
    "big_RNA = ad.AnnData(X = sp.vstack((RNA_data_train.X[:, gene_list_rna_adt], RNA_data_test.X[:, gene_list_rna_atac])))"
   ]
  },
  {
   "cell_type": "code",
   "execution_count": 5,
   "id": "892b5198",
   "metadata": {
    "ExecuteTime": {
     "end_time": "2022-12-14T13:50:38.539449Z",
     "start_time": "2022-12-14T13:50:38.531050Z"
    }
   },
   "outputs": [],
   "source": [
    "big_RNA.var = RNA_data_test.var.iloc[gene_list_rna_atac, :]"
   ]
  },
  {
   "cell_type": "code",
   "execution_count": 6,
   "id": "128b633f",
   "metadata": {
    "ExecuteTime": {
     "end_time": "2022-12-14T13:50:38.578279Z",
     "start_time": "2022-12-14T13:50:38.541135Z"
    }
   },
   "outputs": [
    {
     "data": {
      "text/html": [
       "<div>\n",
       "<style scoped>\n",
       "    .dataframe tbody tr th:only-of-type {\n",
       "        vertical-align: middle;\n",
       "    }\n",
       "\n",
       "    .dataframe tbody tr th {\n",
       "        vertical-align: top;\n",
       "    }\n",
       "\n",
       "    .dataframe thead th {\n",
       "        text-align: right;\n",
       "    }\n",
       "</style>\n",
       "<table border=\"1\" class=\"dataframe\">\n",
       "  <thead>\n",
       "    <tr style=\"text-align: right;\">\n",
       "      <th></th>\n",
       "      <th>feature_types</th>\n",
       "      <th>gene_id</th>\n",
       "    </tr>\n",
       "  </thead>\n",
       "  <tbody>\n",
       "    <tr>\n",
       "      <th>AL627309.5</th>\n",
       "      <td>GEX</td>\n",
       "      <td>ENSG00000241860</td>\n",
       "    </tr>\n",
       "    <tr>\n",
       "      <th>LINC01409</th>\n",
       "      <td>GEX</td>\n",
       "      <td>ENSG00000237491</td>\n",
       "    </tr>\n",
       "    <tr>\n",
       "      <th>LINC01128</th>\n",
       "      <td>GEX</td>\n",
       "      <td>ENSG00000228794</td>\n",
       "    </tr>\n",
       "    <tr>\n",
       "      <th>NOC2L</th>\n",
       "      <td>GEX</td>\n",
       "      <td>ENSG00000188976</td>\n",
       "    </tr>\n",
       "    <tr>\n",
       "      <th>KLHL17</th>\n",
       "      <td>GEX</td>\n",
       "      <td>ENSG00000187961</td>\n",
       "    </tr>\n",
       "    <tr>\n",
       "      <th>...</th>\n",
       "      <td>...</td>\n",
       "      <td>...</td>\n",
       "    </tr>\n",
       "    <tr>\n",
       "      <th>MT-ND5</th>\n",
       "      <td>GEX</td>\n",
       "      <td>ENSG00000198786</td>\n",
       "    </tr>\n",
       "    <tr>\n",
       "      <th>MT-ND6</th>\n",
       "      <td>GEX</td>\n",
       "      <td>ENSG00000198695</td>\n",
       "    </tr>\n",
       "    <tr>\n",
       "      <th>MT-CYB</th>\n",
       "      <td>GEX</td>\n",
       "      <td>ENSG00000198727</td>\n",
       "    </tr>\n",
       "    <tr>\n",
       "      <th>AL592183.1</th>\n",
       "      <td>GEX</td>\n",
       "      <td>ENSG00000273748</td>\n",
       "    </tr>\n",
       "    <tr>\n",
       "      <th>AC240274.1</th>\n",
       "      <td>GEX</td>\n",
       "      <td>ENSG00000271254</td>\n",
       "    </tr>\n",
       "  </tbody>\n",
       "</table>\n",
       "<p>12059 rows × 2 columns</p>\n",
       "</div>"
      ],
      "text/plain": [
       "           feature_types          gene_id\n",
       "AL627309.5           GEX  ENSG00000241860\n",
       "LINC01409            GEX  ENSG00000237491\n",
       "LINC01128            GEX  ENSG00000228794\n",
       "NOC2L                GEX  ENSG00000188976\n",
       "KLHL17               GEX  ENSG00000187961\n",
       "...                  ...              ...\n",
       "MT-ND5               GEX  ENSG00000198786\n",
       "MT-ND6               GEX  ENSG00000198695\n",
       "MT-CYB               GEX  ENSG00000198727\n",
       "AL592183.1           GEX  ENSG00000273748\n",
       "AC240274.1           GEX  ENSG00000271254\n",
       "\n",
       "[12059 rows x 2 columns]"
      ]
     },
     "execution_count": 6,
     "metadata": {},
     "output_type": "execute_result"
    }
   ],
   "source": [
    "big_RNA.var"
   ]
  },
  {
   "cell_type": "code",
   "execution_count": 7,
   "id": "ac6baade",
   "metadata": {
    "ExecuteTime": {
     "end_time": "2022-12-14T13:50:38.583927Z",
     "start_time": "2022-12-14T13:50:38.581042Z"
    }
   },
   "outputs": [],
   "source": [
    "file_path = '/home/atac2rna/data/atac2rna/model_output/22_10_12/Cite_test/A2R2A/R2A'"
   ]
  },
  {
   "cell_type": "code",
   "execution_count": 8,
   "id": "c110ed2a",
   "metadata": {
    "ExecuteTime": {
     "end_time": "2022-12-14T13:50:42.851578Z",
     "start_time": "2022-12-14T13:50:38.586973Z"
    }
   },
   "outputs": [
    {
     "name": "stderr",
     "output_type": "stream",
     "text": [
      " SettingWithCopyWarning:/home/atac2rna/anaconda3/envs/atac2rna/lib/python3.9/site-packages/scanpy/preprocessing/_highly_variable_genes.py:541: \n",
      "A value is trying to be set on a copy of a slice from a DataFrame.\n",
      "Try using .loc[row_indexer,col_indexer] = value instead\n",
      "\n",
      "See the caveats in the documentation: https://pandas.pydata.org/pandas-docs/stable/user_guide/indexing.html#returning-a-view-versus-a-copy\n",
      " SettingWithCopyWarning:/home/atac2rna/anaconda3/envs/atac2rna/lib/python3.9/site-packages/scanpy/preprocessing/_highly_variable_genes.py:542: \n",
      "A value is trying to be set on a copy of a slice from a DataFrame.\n",
      "Try using .loc[row_indexer,col_indexer] = value instead\n",
      "\n",
      "See the caveats in the documentation: https://pandas.pydata.org/pandas-docs/stable/user_guide/indexing.html#returning-a-view-versus-a-copy\n",
      " SettingWithCopyWarning:/home/atac2rna/anaconda3/envs/atac2rna/lib/python3.9/site-packages/scanpy/preprocessing/_highly_variable_genes.py:543: \n",
      "A value is trying to be set on a copy of a slice from a DataFrame.\n",
      "Try using .loc[row_indexer,col_indexer] = value instead\n",
      "\n",
      "See the caveats in the documentation: https://pandas.pydata.org/pandas-docs/stable/user_guide/indexing.html#returning-a-view-versus-a-copy\n",
      " SettingWithCopyWarning:/home/atac2rna/anaconda3/envs/atac2rna/lib/python3.9/site-packages/scanpy/preprocessing/_highly_variable_genes.py:544: \n",
      "A value is trying to be set on a copy of a slice from a DataFrame.\n",
      "Try using .loc[row_indexer,col_indexer] = value instead\n",
      "\n",
      "See the caveats in the documentation: https://pandas.pydata.org/pandas-docs/stable/user_guide/indexing.html#returning-a-view-versus-a-copy\n"
     ]
    }
   ],
   "source": [
    "############################################################\n",
    "# Part 1 data processing\n",
    "big_RNA = RNA_data_preprocessing(\n",
    "    big_RNA,\n",
    "    normalize_total=True,\n",
    "    log1p=True,\n",
    "    use_hvg=True,\n",
    "    n_top_genes=3000,\n",
    "    save_data=False,\n",
    "    file_path=file_path,\n",
    "    logging_path=file_path\n",
    "    )"
   ]
  },
  {
   "cell_type": "code",
   "execution_count": 9,
   "id": "c9b1de14",
   "metadata": {
    "ExecuteTime": {
     "end_time": "2022-12-14T13:50:43.003138Z",
     "start_time": "2022-12-14T13:50:42.853639Z"
    }
   },
   "outputs": [],
   "source": [
    "RNA_data_train = ad.AnnData(X=big_RNA.X[0:90261, :], obs=RNA_data_train.obs, var=big_RNA.var)"
   ]
  },
  {
   "cell_type": "code",
   "execution_count": 10,
   "id": "ab6893d4",
   "metadata": {
    "ExecuteTime": {
     "end_time": "2022-12-14T13:50:43.202595Z",
     "start_time": "2022-12-14T13:50:43.005949Z"
    }
   },
   "outputs": [],
   "source": [
    "RNA_data_test = ad.AnnData(X=big_RNA.X[90261:, :], obs=RNA_data_test.obs, var=big_RNA.var)"
   ]
  },
  {
   "cell_type": "code",
   "execution_count": 11,
   "id": "4f9c42ab",
   "metadata": {
    "ExecuteTime": {
     "end_time": "2022-12-14T13:50:43.210487Z",
     "start_time": "2022-12-14T13:50:43.204338Z"
    }
   },
   "outputs": [],
   "source": [
    "id_list = [i for i in range(90261)]"
   ]
  },
  {
   "cell_type": "code",
   "execution_count": 12,
   "id": "5ce498a2",
   "metadata": {
    "ExecuteTime": {
     "end_time": "2022-12-14T13:50:43.266394Z",
     "start_time": "2022-12-14T13:50:43.212195Z"
    }
   },
   "outputs": [],
   "source": [
    "random.seed(19193)\n",
    "random.shuffle(id_list)\n",
    "train_id = id_list[0:int(len(id_list) * 0.8)].copy()\n",
    "validation_id = id_list[int(len(id_list) * 0.8):].copy()"
   ]
  },
  {
   "cell_type": "code",
   "execution_count": 13,
   "id": "8b95f7e3",
   "metadata": {
    "ExecuteTime": {
     "end_time": "2022-12-14T13:50:43.276641Z",
     "start_time": "2022-12-14T13:50:43.268218Z"
    }
   },
   "outputs": [],
   "source": [
    "############################################################\n",
    "# Part 2 split datasets\n",
    "from split_datasets import *\n",
    "train_id_r = train_id.copy()\n",
    "train_id_a = train_id.copy()\n",
    "validation_id_r = validation_id.copy()\n",
    "validation_id_a = validation_id.copy()"
   ]
  },
  {
   "cell_type": "code",
   "execution_count": null,
   "id": "da837548",
   "metadata": {},
   "outputs": [],
   "source": [
    "from scvi_colab import install\n",
    "install()\n",
    "import matplotlib.pyplot as plt\n",
    "import numpy as np\n",
    "import pandas as pd\n",
    "import scanpy as sc\n",
    "import scvi\n",
    "import sys\n",
    "from calculate_cluster import *\n",
    "import scipy.sparse as sp\n",
    "from split_datasets import *\n",
    "\n",
    "\n",
    "sc_data = sc.read_h5ad('/home/atac2rna/data/atac2rna/data/openproblems_neurips2021/GSE194122_openproblems_neurips2021_cite_BMMC_count.h5ad')\n",
    "adata_gene = sc_data[:, 0:13953]\n",
    "adata_protein = sc_data[:, 13953:]\n",
    "\n",
    "sc.pp.highly_variable_genes(adata_gene, batch_key=\"Site\", flavor=\"seurat_v3\", n_top_genes=4000, subset=True)\n",
    "\n",
    "sys.path.append('/home/atac2rna/program/atac2rna/Model/22_10_10')\n",
    "\n",
    "adata_gene_train = adata_gene[train_id].copy()\n",
    "adata_protein_train = adata_protein[train_id].copy()\n",
    "\n",
    "adata_gene_train.obsm['protein_expression'] = adata_protein_train.to_df()\n",
    "\n",
    "scvi.model.TOTALVI.setup_anndata(adata_gene_train, batch_key=\"Site\", protein_expression_obsm_key=\"protein_expression\")\n",
    "\n",
    "model = scvi.model.TOTALVI(adata_gene_train, latent_distribution=\"normal\", n_layers_decoder=2)\n",
    "\n",
    "model.train()\n",
    "\n",
    "adata_gene_train.obsm[\"X_totalVI\"] = model.get_latent_representation()\n",
    "\n",
    "leiden_adata = ad.AnnData(adata_gene_train.obsm[\"X_totalVI\"])\n",
    "sc.pp.neighbors(leiden_adata)\n",
    "sc.tl.leiden(leiden_adata, resolution=3)\n"
   ]
  },
  {
   "cell_type": "code",
   "execution_count": null,
   "id": "da7edca7",
   "metadata": {},
   "outputs": [],
   "source": [
    "import random\n",
    "copy_count = 3\n",
    "random.seed(19193)\n",
    "cell_type = leiden_adata.obs.leiden\n",
    "for i in range(len(cell_type.cat.categories)):\n",
    "    cell_type_name = cell_type.cat.categories[i]\n",
    "    idx_temp = list(cell_type[cell_type == cell_type_name].index.astype(int))\n",
    "    for j in range(copy_count - 1):\n",
    "        random.shuffle(idx_temp)\n",
    "        for each in idx_temp:\n",
    "            train_id_r.append(train_id[each])\n",
    "        random.shuffle(idx_temp)\n",
    "        for each in idx_temp:\n",
    "            train_id_a.append(train_id[each])"
   ]
  },
  {
   "cell_type": "code",
   "execution_count": 15,
   "id": "ac483862",
   "metadata": {
    "ExecuteTime": {
     "end_time": "2022-12-14T13:50:43.552241Z",
     "start_time": "2022-12-14T13:50:43.447212Z"
    }
   },
   "outputs": [],
   "source": [
    "from train_model_cite import Model\n",
    "import torch\n",
    "import torch.nn as nn\n",
    "\n",
    "RNA_input_dim = 3000\n",
    "ATAC_input_dim = ADT_data_train.X.shape[1]\n",
    "\n",
    "R_kl_div = 1 / RNA_input_dim * 20\n",
    "A_kl_div = R_kl_div\n",
    "kl_div = R_kl_div + A_kl_div"
   ]
  },
  {
   "cell_type": "code",
   "execution_count": 16,
   "id": "deb760a6",
   "metadata": {
    "ExecuteTime": {
     "end_time": "2022-12-14T13:50:45.646022Z",
     "start_time": "2022-12-14T13:50:43.554182Z"
    }
   },
   "outputs": [],
   "source": [
    "############################################################\n",
    "# Part 4 construct model\n",
    "model = Model(\n",
    "    R_encoder_nlayer = 2, \n",
    "    A_encoder_nlayer = 2,\n",
    "    R_decoder_nlayer = 2, \n",
    "    A_decoder_nlayer = 2,\n",
    "    R_encoder_dim_list = [RNA_input_dim, 256, 128],\n",
    "    A_encoder_dim_list = [ATAC_input_dim, 128, 128],\n",
    "    R_decoder_dim_list = [128, 256, RNA_input_dim],\n",
    "    A_decoder_dim_list = [128, 128, ATAC_input_dim],\n",
    "    R_encoder_act_list = [nn.LeakyReLU(), nn.LeakyReLU()],\n",
    "    A_encoder_act_list = [nn.LeakyReLU(), nn.LeakyReLU()],\n",
    "    R_decoder_act_list = [nn.LeakyReLU(), nn.LeakyReLU()],\n",
    "    A_decoder_act_list = [nn.LeakyReLU(), nn.Identity()],\n",
    "    translator_embed_dim = 128, \n",
    "    translator_input_dim_r = 128,\n",
    "    translator_input_dim_a = 128,\n",
    "    translator_embed_act_list = [nn.LeakyReLU(), nn.LeakyReLU(), nn.LeakyReLU()],\n",
    "    discriminator_nlayer = 1,\n",
    "    discriminator_dim_list_R = [128],\n",
    "    discriminator_dim_list_A = [128],\n",
    "    discriminator_act_list = [nn.Sigmoid()],\n",
    "    dropout_rate = 0.1,\n",
    "    R_noise_rate = 0.5,\n",
    "    A_noise_rate = 0,\n",
    "    chrom_list = [],\n",
    "    output_path = file_path,\n",
    "    RNA_data = RNA_data_train,\n",
    "    ATAC_data = ADT_data_train\n",
    ")"
   ]
  },
  {
   "cell_type": "code",
   "execution_count": null,
   "id": "9c1640ed",
   "metadata": {
    "ExecuteTime": {
     "start_time": "2022-12-14T13:48:36.261Z"
    }
   },
   "outputs": [
    {
     "name": "stderr",
     "output_type": "stream",
     "text": [
      " UserWarning:/home/atac2rna/anaconda3/envs/atac2rna/lib/python3.9/site-packages/torch/nn/_reduction.py:42: size_average and reduce args will be deprecated, please use reduction='mean' instead.\n",
      "RNA pretrain:  20%|████▍                 | 20/100 [10:45<47:45, 35.82s/it, train=0.0176, val=0.0184]"
     ]
    }
   ],
   "source": [
    "############################################################\n",
    "# Part 5 train model    \n",
    "model.train(\n",
    "    R_encoder_lr = 0.001,\n",
    "    A_encoder_lr = 0.001,\n",
    "    R_decoder_lr = 0.001,\n",
    "    A_decoder_lr = 0.001,\n",
    "    R_translator_lr = 0.001,\n",
    "    A_translator_lr = 0.001,\n",
    "    translator_lr = 0.001,\n",
    "    discriminator_lr = 0.005,\n",
    "    R2R_pretrain_epoch = 100,\n",
    "    A2A_pretrain_epoch = 100,\n",
    "    lock_encoder_and_decoder = False,\n",
    "    translator_epoch = 200,\n",
    "    patience = 50,\n",
    "    batch_size = 64,\n",
    "    r_loss = nn.MSELoss(size_average=True),\n",
    "    a_loss = nn.MSELoss(size_average=True),\n",
    "    d_loss = nn.BCELoss(size_average=True),\n",
    "    loss_weight = [1, 2, 1, R_kl_div, A_kl_div, kl_div],\n",
    "    train_id_r = train_id_r,\n",
    "    train_id_a = train_id_a,\n",
    "    validation_id_r = validation_id_r, \n",
    "    validation_id_a = validation_id_a, \n",
    "    save_model = True,\n",
    "    output_path = file_path,\n",
    "    seed = 19193,\n",
    "    kl_mean = True,\n",
    "    R_pretrain_kl_warmup = 50,\n",
    "    A_pretrain_kl_warmup = 50,\n",
    "    translation_kl_warmup = 50,\n",
    "    load_model = None\n",
    ")"
   ]
  },
  {
   "cell_type": "code",
   "execution_count": 19,
   "id": "9809f221",
   "metadata": {
    "ExecuteTime": {
     "end_time": "2022-12-14T23:43:37.159331Z",
     "start_time": "2022-12-14T23:43:37.151338Z"
    }
   },
   "outputs": [
    {
     "data": {
      "text/plain": [
       "True"
      ]
     },
     "execution_count": 19,
     "metadata": {},
     "output_type": "execute_result"
    }
   ],
   "source": [
    "model.is_train_finished"
   ]
  },
  {
   "cell_type": "code",
   "execution_count": null,
   "id": "28a32fc7",
   "metadata": {},
   "outputs": [],
   "source": []
  }
 ],
 "metadata": {
  "kernelspec": {
   "display_name": "Python [conda env:atac2rna]",
   "language": "python",
   "name": "conda-env-atac2rna-py"
  },
  "language_info": {
   "codemirror_mode": {
    "name": "ipython",
    "version": 3
   },
   "file_extension": ".py",
   "mimetype": "text/x-python",
   "name": "python",
   "nbconvert_exporter": "python",
   "pygments_lexer": "ipython3",
   "version": "3.9.0"
  },
  "toc": {
   "base_numbering": 1,
   "nav_menu": {},
   "number_sections": true,
   "sideBar": true,
   "skip_h1_title": false,
   "title_cell": "Table of Contents",
   "title_sidebar": "Contents",
   "toc_cell": false,
   "toc_position": {},
   "toc_section_display": true,
   "toc_window_display": false
  }
 },
 "nbformat": 4,
 "nbformat_minor": 5
}
